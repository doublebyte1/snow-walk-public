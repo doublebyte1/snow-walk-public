{
 "cells": [
  {
   "cell_type": "markdown",
   "metadata": {
    "id": "eLq7d9YCpLt7"
   },
   "source": [
    "# Disease Mapping: John Snow and Cholera"
   ]
  },
  {
   "cell_type": "markdown",
   "metadata": {
    "id": "JYQoj0qupLuD"
   },
   "source": [
    "## Introduction"
   ]
  },
  {
   "cell_type": "markdown",
   "metadata": {
    "id": "Ct2vaLTKpLuE"
   },
   "source": [
    "*What's So Special about Spatial?*\n",
    "\n",
    "*Everything is related to everything else, but near things are more related than distant things.* Waldo tobler"
   ]
  },
  {
   "cell_type": "code",
   "execution_count": null,
   "metadata": {
    "id": "QFRyB9bEpLuG"
   },
   "outputs": [],
   "source": [
    "# Install the required packages\n",
    "\n",
    "# We are going to use geopandas, an open source project to make working with geospatial data in python easier.\n",
    "# --> https://geopandas.org/\n",
    "\n",
    "!pip install geopandas\n",
    "!pip install descartes\n",
    "\n",
    "# Rasterio reads and writes raster formats\n",
    "# --> https://rasterio.readthedocs.io/en/latest/\n",
    "\n",
    "!pip install rasterio"
   ]
  },
  {
   "cell_type": "markdown",
   "metadata": {
    "id": "JqGraom8pLuJ"
   },
   "source": [
    "![](https://www.fastprint.co.uk/Assets/User/17-1-vector-vs-raster.jpg)"
   ]
  },
  {
   "cell_type": "markdown",
   "metadata": {
    "id": "P75JG2gxpLuL"
   },
   "source": [
    "*Can you tell the difference between these two data representations?*"
   ]
  },
  {
   "cell_type": "markdown",
   "metadata": {
    "id": "MmgdJurxpLuL"
   },
   "source": [
    "## Recreating the John Snow Map"
   ]
  },
  {
   "cell_type": "code",
   "execution_count": null,
   "metadata": {
    "id": "jIUj55-wpLuM"
   },
   "outputs": [],
   "source": [
    "import geopandas\n",
    "import descartes"
   ]
  },
  {
   "cell_type": "code",
   "execution_count": null,
   "metadata": {
    "id": "YesZsX8IpLuN"
   },
   "outputs": [],
   "source": [
    "# Read data files\n",
    "pumps = geopandas.read_file(\"https://data-deposit.s3.eu-central-1.amazonaws.com/snow-walk/Pumps.shp\")\n",
    "Cholera_Deaths = geopandas.read_file(\"https://data-deposit.s3.eu-central-1.amazonaws.com/snow-walk/Cholera_Deaths.shp\")"
   ]
  },
  {
   "cell_type": "code",
   "execution_count": null,
   "metadata": {
    "id": "64Dt5CfDpLuO"
   },
   "outputs": [],
   "source": [
    "# Check head\n",
    "pumps.head()"
   ]
  },
  {
   "cell_type": "code",
   "execution_count": null,
   "metadata": {
    "id": "BsusL7d7pLuS"
   },
   "outputs": [],
   "source": [
    "# Check CRS\n",
    "pumps.crs"
   ]
  },
  {
   "cell_type": "code",
   "execution_count": null,
   "metadata": {
    "id": "1rvwMPQmpLuT"
   },
   "outputs": [],
   "source": [
    "pumps.shape"
   ]
  },
  {
   "cell_type": "code",
   "execution_count": null,
   "metadata": {
    "id": "faxgbtVypLuU"
   },
   "outputs": [],
   "source": [
    "pumps.plot();"
   ]
  },
  {
   "cell_type": "code",
   "execution_count": null,
   "metadata": {
    "id": "LogLXPs9pLuW"
   },
   "outputs": [],
   "source": [
    "# Now let's look at the colera_deaths dataset\n",
    "Cholera_Deaths.head()"
   ]
  },
  {
   "cell_type": "code",
   "execution_count": null,
   "metadata": {
    "id": "L9D7hw7LpLuX"
   },
   "outputs": [],
   "source": [
    "Cholera_Deaths.plot(marker='o', color='red', markersize=5);"
   ]
  },
  {
   "cell_type": "code",
   "execution_count": null,
   "metadata": {
    "id": "D2z9PgKCpLuY",
    "scrolled": true
   },
   "outputs": [],
   "source": [
    "# Let's have a look at a Snow's original map\n",
    "import rasterio\n",
    "from rasterio.plot import show\n",
    "\n",
    "import matplotlib.pyplot as plt\n",
    "from matplotlib.pyplot import figure\n",
    "\n",
    "figure(num=None, figsize=(10, 10), dpi=80, facecolor='w', edgecolor='k')\n",
    "# matplotlib colors: https://matplotlib.org/stable/gallery/color/named_colors.html#base-colors\n",
    "\n",
    "src = rasterio.open(\"https://data-deposit.s3.eu-central-1.amazonaws.com/snow-walk/SnowMap.tif\")\n",
    "plt.imshow(src.read(1), cmap='pink')\n",
    "plt.show()\n",
    "\n",
    "\n"
   ]
  },
  {
   "cell_type": "markdown",
   "metadata": {
    "id": "xGfwAMlKpLuY"
   },
   "source": [
    "*Do you notice something different about this map?*"
   ]
  },
  {
   "cell_type": "code",
   "execution_count": null,
   "metadata": {
    "id": "qHVmRX0BpLuZ"
   },
   "outputs": [],
   "source": [
    "# Let's overlay everything in a single map\n",
    "\n",
    "fig, ax = plt.subplots(figsize=(40, 20))\n",
    "ax.set_aspect('equal')\n",
    "\n",
    "pumps.plot(ax=ax, marker='o', color='blue', markersize=100)\n",
    "Cholera_Deaths.plot(ax=ax, marker='o', color='red', markersize=10)\n",
    "show(src, cmap='Greys', ax=ax)\n",
    "\n",
    "plt.show()\n",
    "\n"
   ]
  },
  {
   "cell_type": "markdown",
   "metadata": {
    "id": "2khMDIGnpLua"
   },
   "source": [
    "Choosing a colormap:\n",
    "https://matplotlib.org/tutorials/colors/colormaps.html"
   ]
  },
  {
   "cell_type": "markdown",
   "metadata": {
    "id": "NSn5F7xapLub"
   },
   "source": [
    "We want to relate the cholera deaths with the water pumps, so let's check all the deaths in the surroundings of a water pump.\n",
    "*How can we do this?*"
   ]
  },
  {
   "cell_type": "markdown",
   "metadata": {
    "id": "bXbSL1tBl-xK"
   },
   "source": [
    "## Heatmap"
   ]
  },
  {
   "cell_type": "code",
   "execution_count": null,
   "metadata": {
    "id": "OAlvJTSmmF6u"
   },
   "outputs": [],
   "source": [
    "Cholera_Deaths['x'] = Cholera_Deaths['geometry'].x\n",
    "Cholera_Deaths['y'] = Cholera_Deaths['geometry'].y"
   ]
  },
  {
   "cell_type": "code",
   "execution_count": null,
   "metadata": {
    "id": "dvYr5L_qmVr_"
   },
   "outputs": [],
   "source": [
    "Cholera_Deaths"
   ]
  },
  {
   "cell_type": "code",
   "execution_count": null,
   "metadata": {
    "id": "9TMwQ8jomccO"
   },
   "outputs": [],
   "source": [
    "!pip install seaborn\n",
    "import seaborn as sns"
   ]
  },
  {
   "cell_type": "code",
   "execution_count": null,
   "metadata": {
    "id": "Blc1RCn7mrUT"
   },
   "outputs": [],
   "source": [
    "# Plot a heatmap, using a Kernel Density estimation (KDE), to estimate the probability density function\n",
    "sns.kdeplot(x=Cholera_Deaths['x'],\n",
    "            y=Cholera_Deaths['y'],\n",
    "            color='r', shade=True,\n",
    "            cmap=\"Reds\", shade_lowest=False)"
   ]
  },
  {
   "cell_type": "code",
   "execution_count": null,
   "metadata": {
    "id": "WWPpFVnqmyO6"
   },
   "outputs": [],
   "source": [
    "# Now, let's overlay the heatmap to the map we previously done.\n",
    "# Note that you can use the alpha channel, to tweak the transparency!\n",
    "fig, ax = plt.subplots(figsize=(40, 20))\n",
    "ax.set_aspect('equal')\n",
    "pumps.plot(ax=ax, marker='o', color='blue', markersize=100)\n",
    "sns.kdeplot(x=Cholera_Deaths['x'],\n",
    "            y=Cholera_Deaths['y'],\n",
    "            color='r', shade=True, Label='Cholera Deaths',\n",
    "            cmap=\"Reds\", shade_lowest=False, alpha  = 0.7)\n",
    "show(src, cmap='Greys', ax=ax)\n",
    "plt.show();"
   ]
  },
  {
   "cell_type": "markdown",
   "metadata": {
    "id": "HAKLWQ8epLuj"
   },
   "source": [
    "## Raster"
   ]
  },
  {
   "cell_type": "code",
   "execution_count": null,
   "metadata": {
    "id": "xWO4ewN1pLuk"
   },
   "outputs": [],
   "source": [
    "#Let's have a look at raster data with more detail\n",
    "\n",
    "src = rasterio.open(\"https://data-deposit.s3.eu-central-1.amazonaws.com/snow-walk/SnowDSM50CM.tif\")\n",
    "array = src.read(1)\n",
    "\n",
    "array.shape\n",
    "\n"
   ]
  },
  {
   "cell_type": "code",
   "execution_count": null,
   "metadata": {
    "id": "SKCWTFOGpLuk"
   },
   "outputs": [],
   "source": [
    "array"
   ]
  },
  {
   "cell_type": "code",
   "execution_count": null,
   "metadata": {
    "id": "aj2xp2V-pLul"
   },
   "outputs": [],
   "source": [
    "from matplotlib.pyplot import figure\n",
    "figure(num=None, figsize=(25, 25), dpi=80, facecolor='w', edgecolor='k')\n",
    "plt.imshow(src.read(1), cmap='viridis')\n",
    "plt.show()\n"
   ]
  },
  {
   "cell_type": "markdown",
   "metadata": {
    "id": "GpzVlq6upLum"
   },
   "source": [
    "## Buffers"
   ]
  },
  {
   "cell_type": "markdown",
   "metadata": {
    "id": "Lu-UolTupLun"
   },
   "source": [
    "A buffer in GIS is a zone around a map feature measured in units of distance or time. A buffer is useful for **proximity analysis**."
   ]
  },
  {
   "cell_type": "markdown",
   "metadata": {
    "id": "vGViDI6rpLun"
   },
   "source": [
    "![](https://desktop.arcgis.com/en/arcmap/10.3/tools/analysis-toolbox/GUID-267CF0D1-DB92-456F-A8FE-F819981F5467-web.png)"
   ]
  },
  {
   "cell_type": "code",
   "execution_count": null,
   "metadata": {
    "id": "wbhPRiGmpLun"
   },
   "outputs": [],
   "source": [
    "# Create some buffers\n",
    "\n",
    "buffers=pumps.buffer(50)\n",
    "fig, ax = plt.subplots(figsize=(40, 20))\n",
    "ax.set_aspect('equal')\n",
    "\n",
    "buffers.plot(ax=ax, marker='o', color='yellow', alpha=0.5, markersize=100)\n",
    "pumps.plot(ax=ax, marker='o', color='blue', markersize=100)\n",
    "\n",
    "Cholera_Deaths.plot(ax=ax, marker='o', color='red', markersize=10)\n",
    "show(src, cmap='Greys', ax=ax)\n",
    "\n",
    "plt.show()\n"
   ]
  },
  {
   "cell_type": "markdown",
   "metadata": {
    "id": "q1JG7duvpLuo"
   },
   "source": [
    "*Try to change the radius of the buffer. What happens?*"
   ]
  },
  {
   "cell_type": "code",
   "execution_count": null,
   "metadata": {
    "id": "EclpBIaKpLuo"
   },
   "outputs": [],
   "source": [
    "buffers"
   ]
  },
  {
   "cell_type": "markdown",
   "metadata": {
    "id": "ibJxLMzspLuo"
   },
   "source": [
    "We can see that many points lie within a particular buffer, but now we want to see ony the points that fall whithin the buffer. For that we need to transform the buffers into a data frame."
   ]
  },
  {
   "cell_type": "code",
   "execution_count": null,
   "metadata": {
    "id": "P03qgFkkpLup"
   },
   "outputs": [],
   "source": [
    "pumps2 = pumps\n",
    "pumps2['geometry']=pumps.buffer(50)\n",
    "pumps2.plot()\n"
   ]
  },
  {
   "cell_type": "markdown",
   "metadata": {
    "id": "uDZ_mmgHpLuq"
   },
   "source": [
    "## Spatial Overlays"
   ]
  },
  {
   "cell_type": "code",
   "execution_count": null,
   "metadata": {
    "id": "t6FxyQryCp-1"
   },
   "outputs": [],
   "source": [
    "!pkexec apt-get install -qq curl g++ make\n"
   ]
  },
  {
   "cell_type": "code",
   "execution_count": null,
   "metadata": {
    "id": "hnZs-xbrC1PS"
   },
   "outputs": [],
   "source": [
    "!curl -L http://download.osgeo.org/libspatialindex/spatialindex-src-1.8.5.tar.gz | tar xz"
   ]
  },
  {
   "cell_type": "code",
   "execution_count": null,
   "metadata": {
    "id": "5rX6Svr2C5uQ"
   },
   "outputs": [],
   "source": [
    "import os\n",
    "os.chdir('spatialindex-src-1.8.5')"
   ]
  },
  {
   "cell_type": "code",
   "execution_count": null,
   "metadata": {
    "id": "XOuAD4tpC-ea"
   },
   "outputs": [],
   "source": [
    "!./configure"
   ]
  },
  {
   "cell_type": "code",
   "execution_count": 36,
   "metadata": {
    "id": "yerz7xPwDDoC"
   },
   "outputs": [
    {
     "name": "stdout",
     "output_type": "stream",
     "text": [
      "libtool: compile:  g++ -DPACKAGE_NAME=\\\"spatialindex\\\" -DPACKAGE_TARNAME=\\\"spatialindex-src\\\" -DPACKAGE_VERSION=\\\"1.8.5\\\" \"-DPACKAGE_STRING=\\\"spatialindex 1.8.5\\\"\" -DPACKAGE_BUGREPORT=\\\"mhadji@gmail.com\\\" -DPACKAGE_URL=\\\"\\\" -DSTDC_HEADERS=1 -DHAVE_SYS_TYPES_H=1 -DHAVE_SYS_STAT_H=1 -DHAVE_STDLIB_H=1 -DHAVE_STRING_H=1 -DHAVE_MEMORY_H=1 -DHAVE_STRINGS_H=1 -DHAVE_INTTYPES_H=1 -DHAVE_STDINT_H=1 -DHAVE_UNISTD_H=1 -DHAVE_DLFCN_H=1 -DLT_OBJDIR=\\\".libs/\\\" -DPACKAGE=\\\"spatialindex-src\\\" -DVERSION=\\\"1.8.5\\\" -DHAVE_FCNTL_H=1 -DHAVE_UNISTD_H=1 -DHAVE_SYS_TYPES_H=1 -DHAVE_SYS_STAT_H=1 -DHAVE_PTHREAD_H=1 -DHAVE_SYS_RESOURCE_H=1 -DHAVE_SYS_TIME_H=1 -DHAVE_STDINT_H=1 -DHAVE_FEATURES_H=1 -DHAVE_GETTIMEOFDAY=1 -DHAVE_MEMSET=1 -DHAVE_MEMCPY=1 -DHAVE_BCOPY=1 -DHAVE_SRAND48=1 -I. -I../../include -Wall -Wno-long-long -pedantic -std=c++98 -O2 -DNDEBUG -MT TPRTree.lo -MD -MP -MF .deps/TPRTree.Tpo -c TPRTree.cc -o TPRTree.o >/dev/null 2>&1\n",
      "depbase=`echo Statistics.lo | sed 's|[^/]*$|.deps/&|;s|\\.lo$||'`;\\\n",
      "/bin/bash ../../libtool  --tag=CXX   --mode=compile g++ -DPACKAGE_NAME=\\\"spatialindex\\\" -DPACKAGE_TARNAME=\\\"spatialindex-src\\\" -DPACKAGE_VERSION=\\\"1.8.5\\\" -DPACKAGE_STRING=\\\"spatialindex\\ 1.8.5\\\" -DPACKAGE_BUGREPORT=\\\"mhadji@gmail.com\\\" -DPACKAGE_URL=\\\"\\\" -DSTDC_HEADERS=1 -DHAVE_SYS_TYPES_H=1 -DHAVE_SYS_STAT_H=1 -DHAVE_STDLIB_H=1 -DHAVE_STRING_H=1 -DHAVE_MEMORY_H=1 -DHAVE_STRINGS_H=1 -DHAVE_INTTYPES_H=1 -DHAVE_STDINT_H=1 -DHAVE_UNISTD_H=1 -DHAVE_DLFCN_H=1 -DLT_OBJDIR=\\\".libs/\\\" -DPACKAGE=\\\"spatialindex-src\\\" -DVERSION=\\\"1.8.5\\\" -DHAVE_FCNTL_H=1 -DHAVE_UNISTD_H=1 -DHAVE_SYS_TYPES_H=1 -DHAVE_SYS_STAT_H=1 -DHAVE_PTHREAD_H=1 -DHAVE_SYS_RESOURCE_H=1 -DHAVE_SYS_TIME_H=1 -DHAVE_STDINT_H=1 -DHAVE_FEATURES_H=1 -DHAVE_GETTIMEOFDAY=1 -DHAVE_MEMSET=1 -DHAVE_MEMCPY=1 -DHAVE_BCOPY=1 -DHAVE_SRAND48=1 -I. -I../../include     -Wall -Wno-long-long -pedantic -std=c++98  -O2 -DNDEBUG -MT Statistics.lo -MD -MP -MF $depbase.Tpo -c -o Statistics.lo Statistics.cc &&\\\n",
      "mv -f $depbase.Tpo $depbase.Plo\n",
      "libtool: compile:  g++ -DPACKAGE_NAME=\\\"spatialindex\\\" -DPACKAGE_TARNAME=\\\"spatialindex-src\\\" -DPACKAGE_VERSION=\\\"1.8.5\\\" \"-DPACKAGE_STRING=\\\"spatialindex 1.8.5\\\"\" -DPACKAGE_BUGREPORT=\\\"mhadji@gmail.com\\\" -DPACKAGE_URL=\\\"\\\" -DSTDC_HEADERS=1 -DHAVE_SYS_TYPES_H=1 -DHAVE_SYS_STAT_H=1 -DHAVE_STDLIB_H=1 -DHAVE_STRING_H=1 -DHAVE_MEMORY_H=1 -DHAVE_STRINGS_H=1 -DHAVE_INTTYPES_H=1 -DHAVE_STDINT_H=1 -DHAVE_UNISTD_H=1 -DHAVE_DLFCN_H=1 -DLT_OBJDIR=\\\".libs/\\\" -DPACKAGE=\\\"spatialindex-src\\\" -DVERSION=\\\"1.8.5\\\" -DHAVE_FCNTL_H=1 -DHAVE_UNISTD_H=1 -DHAVE_SYS_TYPES_H=1 -DHAVE_SYS_STAT_H=1 -DHAVE_PTHREAD_H=1 -DHAVE_SYS_RESOURCE_H=1 -DHAVE_SYS_TIME_H=1 -DHAVE_STDINT_H=1 -DHAVE_FEATURES_H=1 -DHAVE_GETTIMEOFDAY=1 -DHAVE_MEMSET=1 -DHAVE_MEMCPY=1 -DHAVE_BCOPY=1 -DHAVE_SRAND48=1 -I. -I../../include -Wall -Wno-long-long -pedantic -std=c++98 -O2 -DNDEBUG -MT Statistics.lo -MD -MP -MF .deps/Statistics.Tpo -c Statistics.cc  -fPIC -DPIC -o .libs/Statistics.o\n",
      "libtool: compile:  g++ -DPACKAGE_NAME=\\\"spatialindex\\\" -DPACKAGE_TARNAME=\\\"spatialindex-src\\\" -DPACKAGE_VERSION=\\\"1.8.5\\\" \"-DPACKAGE_STRING=\\\"spatialindex 1.8.5\\\"\" -DPACKAGE_BUGREPORT=\\\"mhadji@gmail.com\\\" -DPACKAGE_URL=\\\"\\\" -DSTDC_HEADERS=1 -DHAVE_SYS_TYPES_H=1 -DHAVE_SYS_STAT_H=1 -DHAVE_STDLIB_H=1 -DHAVE_STRING_H=1 -DHAVE_MEMORY_H=1 -DHAVE_STRINGS_H=1 -DHAVE_INTTYPES_H=1 -DHAVE_STDINT_H=1 -DHAVE_UNISTD_H=1 -DHAVE_DLFCN_H=1 -DLT_OBJDIR=\\\".libs/\\\" -DPACKAGE=\\\"spatialindex-src\\\" -DVERSION=\\\"1.8.5\\\" -DHAVE_FCNTL_H=1 -DHAVE_UNISTD_H=1 -DHAVE_SYS_TYPES_H=1 -DHAVE_SYS_STAT_H=1 -DHAVE_PTHREAD_H=1 -DHAVE_SYS_RESOURCE_H=1 -DHAVE_SYS_TIME_H=1 -DHAVE_STDINT_H=1 -DHAVE_FEATURES_H=1 -DHAVE_GETTIMEOFDAY=1 -DHAVE_MEMSET=1 -DHAVE_MEMCPY=1 -DHAVE_BCOPY=1 -DHAVE_SRAND48=1 -I. -I../../include -Wall -Wno-long-long -pedantic -std=c++98 -O2 -DNDEBUG -MT Statistics.lo -MD -MP -MF .deps/Statistics.Tpo -c Statistics.cc -o Statistics.o >/dev/null 2>&1\n",
      "/bin/bash ../../libtool  --tag=CXX   --mode=link g++  -Wall -Wno-long-long -pedantic -std=c++98  -O2 -DNDEBUG   -o libtprtree.la  Index.lo Leaf.lo Node.lo TPRTree.lo Statistics.lo  -lpthread\n",
      "libtool: link: ar cru .libs/libtprtree.a .libs/Index.o .libs/Leaf.o .libs/Node.o .libs/TPRTree.o .libs/Statistics.o \n",
      "ar: `u' modifier ignored since `D' is the default (see `U')\n",
      "libtool: link: ranlib .libs/libtprtree.a\n",
      "libtool: link: ( cd \".libs\" && rm -f \"libtprtree.la\" && ln -s \"../libtprtree.la\" \"libtprtree.la\" )\n",
      "make[2]: Leaving directory '/home/joana/git/snow-walk-public/snow-walk-public/spatialindex-src-1.8.5/spatialindex-src-1.8.5/src/tprtree'\n",
      "Making all in tools\n",
      "make[2]: Entering directory '/home/joana/git/snow-walk-public/snow-walk-public/spatialindex-src-1.8.5/spatialindex-src-1.8.5/src/tools'\n",
      "depbase=`echo Tools.lo | sed 's|[^/]*$|.deps/&|;s|\\.lo$||'`;\\\n",
      "/bin/bash ../../libtool  --tag=CXX   --mode=compile g++ -DPACKAGE_NAME=\\\"spatialindex\\\" -DPACKAGE_TARNAME=\\\"spatialindex-src\\\" -DPACKAGE_VERSION=\\\"1.8.5\\\" -DPACKAGE_STRING=\\\"spatialindex\\ 1.8.5\\\" -DPACKAGE_BUGREPORT=\\\"mhadji@gmail.com\\\" -DPACKAGE_URL=\\\"\\\" -DSTDC_HEADERS=1 -DHAVE_SYS_TYPES_H=1 -DHAVE_SYS_STAT_H=1 -DHAVE_STDLIB_H=1 -DHAVE_STRING_H=1 -DHAVE_MEMORY_H=1 -DHAVE_STRINGS_H=1 -DHAVE_INTTYPES_H=1 -DHAVE_STDINT_H=1 -DHAVE_UNISTD_H=1 -DHAVE_DLFCN_H=1 -DLT_OBJDIR=\\\".libs/\\\" -DPACKAGE=\\\"spatialindex-src\\\" -DVERSION=\\\"1.8.5\\\" -DHAVE_FCNTL_H=1 -DHAVE_UNISTD_H=1 -DHAVE_SYS_TYPES_H=1 -DHAVE_SYS_STAT_H=1 -DHAVE_PTHREAD_H=1 -DHAVE_SYS_RESOURCE_H=1 -DHAVE_SYS_TIME_H=1 -DHAVE_STDINT_H=1 -DHAVE_FEATURES_H=1 -DHAVE_GETTIMEOFDAY=1 -DHAVE_MEMSET=1 -DHAVE_MEMCPY=1 -DHAVE_BCOPY=1 -DHAVE_SRAND48=1 -I. -I../../include    -Wall -Wno-long-long -pedantic -std=c++98  -O2 -DNDEBUG -MT Tools.lo -MD -MP -MF $depbase.Tpo -c -o Tools.lo Tools.cc &&\\\n",
      "mv -f $depbase.Tpo $depbase.Plo\n",
      "libtool: compile:  g++ -DPACKAGE_NAME=\\\"spatialindex\\\" -DPACKAGE_TARNAME=\\\"spatialindex-src\\\" -DPACKAGE_VERSION=\\\"1.8.5\\\" \"-DPACKAGE_STRING=\\\"spatialindex 1.8.5\\\"\" -DPACKAGE_BUGREPORT=\\\"mhadji@gmail.com\\\" -DPACKAGE_URL=\\\"\\\" -DSTDC_HEADERS=1 -DHAVE_SYS_TYPES_H=1 -DHAVE_SYS_STAT_H=1 -DHAVE_STDLIB_H=1 -DHAVE_STRING_H=1 -DHAVE_MEMORY_H=1 -DHAVE_STRINGS_H=1 -DHAVE_INTTYPES_H=1 -DHAVE_STDINT_H=1 -DHAVE_UNISTD_H=1 -DHAVE_DLFCN_H=1 -DLT_OBJDIR=\\\".libs/\\\" -DPACKAGE=\\\"spatialindex-src\\\" -DVERSION=\\\"1.8.5\\\" -DHAVE_FCNTL_H=1 -DHAVE_UNISTD_H=1 -DHAVE_SYS_TYPES_H=1 -DHAVE_SYS_STAT_H=1 -DHAVE_PTHREAD_H=1 -DHAVE_SYS_RESOURCE_H=1 -DHAVE_SYS_TIME_H=1 -DHAVE_STDINT_H=1 -DHAVE_FEATURES_H=1 -DHAVE_GETTIMEOFDAY=1 -DHAVE_MEMSET=1 -DHAVE_MEMCPY=1 -DHAVE_BCOPY=1 -DHAVE_SRAND48=1 -I. -I../../include -Wall -Wno-long-long -pedantic -std=c++98 -O2 -DNDEBUG -MT Tools.lo -MD -MP -MF .deps/Tools.Tpo -c Tools.cc  -fPIC -DPIC -o .libs/Tools.o\n",
      "libtool: compile:  g++ -DPACKAGE_NAME=\\\"spatialindex\\\" -DPACKAGE_TARNAME=\\\"spatialindex-src\\\" -DPACKAGE_VERSION=\\\"1.8.5\\\" \"-DPACKAGE_STRING=\\\"spatialindex 1.8.5\\\"\" -DPACKAGE_BUGREPORT=\\\"mhadji@gmail.com\\\" -DPACKAGE_URL=\\\"\\\" -DSTDC_HEADERS=1 -DHAVE_SYS_TYPES_H=1 -DHAVE_SYS_STAT_H=1 -DHAVE_STDLIB_H=1 -DHAVE_STRING_H=1 -DHAVE_MEMORY_H=1 -DHAVE_STRINGS_H=1 -DHAVE_INTTYPES_H=1 -DHAVE_STDINT_H=1 -DHAVE_UNISTD_H=1 -DHAVE_DLFCN_H=1 -DLT_OBJDIR=\\\".libs/\\\" -DPACKAGE=\\\"spatialindex-src\\\" -DVERSION=\\\"1.8.5\\\" -DHAVE_FCNTL_H=1 -DHAVE_UNISTD_H=1 -DHAVE_SYS_TYPES_H=1 -DHAVE_SYS_STAT_H=1 -DHAVE_PTHREAD_H=1 -DHAVE_SYS_RESOURCE_H=1 -DHAVE_SYS_TIME_H=1 -DHAVE_STDINT_H=1 -DHAVE_FEATURES_H=1 -DHAVE_GETTIMEOFDAY=1 -DHAVE_MEMSET=1 -DHAVE_MEMCPY=1 -DHAVE_BCOPY=1 -DHAVE_SRAND48=1 -I. -I../../include -Wall -Wno-long-long -pedantic -std=c++98 -O2 -DNDEBUG -MT Tools.lo -MD -MP -MF .deps/Tools.Tpo -c Tools.cc -o Tools.o >/dev/null 2>&1\n",
      "depbase=`echo rand48.lo | sed 's|[^/]*$|.deps/&|;s|\\.lo$||'`;\\\n",
      "/bin/bash ../../libtool  --tag=CXX   --mode=compile g++ -DPACKAGE_NAME=\\\"spatialindex\\\" -DPACKAGE_TARNAME=\\\"spatialindex-src\\\" -DPACKAGE_VERSION=\\\"1.8.5\\\" -DPACKAGE_STRING=\\\"spatialindex\\ 1.8.5\\\" -DPACKAGE_BUGREPORT=\\\"mhadji@gmail.com\\\" -DPACKAGE_URL=\\\"\\\" -DSTDC_HEADERS=1 -DHAVE_SYS_TYPES_H=1 -DHAVE_SYS_STAT_H=1 -DHAVE_STDLIB_H=1 -DHAVE_STRING_H=1 -DHAVE_MEMORY_H=1 -DHAVE_STRINGS_H=1 -DHAVE_INTTYPES_H=1 -DHAVE_STDINT_H=1 -DHAVE_UNISTD_H=1 -DHAVE_DLFCN_H=1 -DLT_OBJDIR=\\\".libs/\\\" -DPACKAGE=\\\"spatialindex-src\\\" -DVERSION=\\\"1.8.5\\\" -DHAVE_FCNTL_H=1 -DHAVE_UNISTD_H=1 -DHAVE_SYS_TYPES_H=1 -DHAVE_SYS_STAT_H=1 -DHAVE_PTHREAD_H=1 -DHAVE_SYS_RESOURCE_H=1 -DHAVE_SYS_TIME_H=1 -DHAVE_STDINT_H=1 -DHAVE_FEATURES_H=1 -DHAVE_GETTIMEOFDAY=1 -DHAVE_MEMSET=1 -DHAVE_MEMCPY=1 -DHAVE_BCOPY=1 -DHAVE_SRAND48=1 -I. -I../../include    -Wall -Wno-long-long -pedantic -std=c++98  -O2 -DNDEBUG -MT rand48.lo -MD -MP -MF $depbase.Tpo -c -o rand48.lo rand48.cc &&\\\n",
      "mv -f $depbase.Tpo $depbase.Plo\n",
      "libtool: compile:  g++ -DPACKAGE_NAME=\\\"spatialindex\\\" -DPACKAGE_TARNAME=\\\"spatialindex-src\\\" -DPACKAGE_VERSION=\\\"1.8.5\\\" \"-DPACKAGE_STRING=\\\"spatialindex 1.8.5\\\"\" -DPACKAGE_BUGREPORT=\\\"mhadji@gmail.com\\\" -DPACKAGE_URL=\\\"\\\" -DSTDC_HEADERS=1 -DHAVE_SYS_TYPES_H=1 -DHAVE_SYS_STAT_H=1 -DHAVE_STDLIB_H=1 -DHAVE_STRING_H=1 -DHAVE_MEMORY_H=1 -DHAVE_STRINGS_H=1 -DHAVE_INTTYPES_H=1 -DHAVE_STDINT_H=1 -DHAVE_UNISTD_H=1 -DHAVE_DLFCN_H=1 -DLT_OBJDIR=\\\".libs/\\\" -DPACKAGE=\\\"spatialindex-src\\\" -DVERSION=\\\"1.8.5\\\" -DHAVE_FCNTL_H=1 -DHAVE_UNISTD_H=1 -DHAVE_SYS_TYPES_H=1 -DHAVE_SYS_STAT_H=1 -DHAVE_PTHREAD_H=1 -DHAVE_SYS_RESOURCE_H=1 -DHAVE_SYS_TIME_H=1 -DHAVE_STDINT_H=1 -DHAVE_FEATURES_H=1 -DHAVE_GETTIMEOFDAY=1 -DHAVE_MEMSET=1 -DHAVE_MEMCPY=1 -DHAVE_BCOPY=1 -DHAVE_SRAND48=1 -I. -I../../include -Wall -Wno-long-long -pedantic -std=c++98 -O2 -DNDEBUG -MT rand48.lo -MD -MP -MF .deps/rand48.Tpo -c rand48.cc  -fPIC -DPIC -o .libs/rand48.o\n",
      "libtool: compile:  g++ -DPACKAGE_NAME=\\\"spatialindex\\\" -DPACKAGE_TARNAME=\\\"spatialindex-src\\\" -DPACKAGE_VERSION=\\\"1.8.5\\\" \"-DPACKAGE_STRING=\\\"spatialindex 1.8.5\\\"\" -DPACKAGE_BUGREPORT=\\\"mhadji@gmail.com\\\" -DPACKAGE_URL=\\\"\\\" -DSTDC_HEADERS=1 -DHAVE_SYS_TYPES_H=1 -DHAVE_SYS_STAT_H=1 -DHAVE_STDLIB_H=1 -DHAVE_STRING_H=1 -DHAVE_MEMORY_H=1 -DHAVE_STRINGS_H=1 -DHAVE_INTTYPES_H=1 -DHAVE_STDINT_H=1 -DHAVE_UNISTD_H=1 -DHAVE_DLFCN_H=1 -DLT_OBJDIR=\\\".libs/\\\" -DPACKAGE=\\\"spatialindex-src\\\" -DVERSION=\\\"1.8.5\\\" -DHAVE_FCNTL_H=1 -DHAVE_UNISTD_H=1 -DHAVE_SYS_TYPES_H=1 -DHAVE_SYS_STAT_H=1 -DHAVE_PTHREAD_H=1 -DHAVE_SYS_RESOURCE_H=1 -DHAVE_SYS_TIME_H=1 -DHAVE_STDINT_H=1 -DHAVE_FEATURES_H=1 -DHAVE_GETTIMEOFDAY=1 -DHAVE_MEMSET=1 -DHAVE_MEMCPY=1 -DHAVE_BCOPY=1 -DHAVE_SRAND48=1 -I. -I../../include -Wall -Wno-long-long -pedantic -std=c++98 -O2 -DNDEBUG -MT rand48.lo -MD -MP -MF .deps/rand48.Tpo -c rand48.cc -o rand48.o >/dev/null 2>&1\n",
      "/bin/bash ../../libtool  --tag=CXX   --mode=link g++  -Wall -Wno-long-long -pedantic -std=c++98  -O2 -DNDEBUG   -o libtools.la  Tools.lo rand48.lo  -lpthread\n",
      "libtool: link: ar cru .libs/libtools.a .libs/Tools.o .libs/rand48.o \n",
      "ar: `u' modifier ignored since `D' is the default (see `U')\n",
      "libtool: link: ranlib .libs/libtools.a\n",
      "libtool: link: ( cd \".libs\" && rm -f \"libtools.la\" && ln -s \"../libtools.la\" \"libtools.la\" )\n",
      "make[2]: Leaving directory '/home/joana/git/snow-walk-public/snow-walk-public/spatialindex-src-1.8.5/spatialindex-src-1.8.5/src/tools'\n",
      "Making all in capi\n",
      "make[2]: Entering directory '/home/joana/git/snow-walk-public/snow-walk-public/spatialindex-src-1.8.5/spatialindex-src-1.8.5/src/capi'\n",
      "depbase=`echo BoundsQuery.lo | sed 's|[^/]*$|.deps/&|;s|\\.lo$||'`;\\\n",
      "/bin/bash ../../libtool  --tag=CXX   --mode=compile g++ -DPACKAGE_NAME=\\\"spatialindex\\\" -DPACKAGE_TARNAME=\\\"spatialindex-src\\\" -DPACKAGE_VERSION=\\\"1.8.5\\\" -DPACKAGE_STRING=\\\"spatialindex\\ 1.8.5\\\" -DPACKAGE_BUGREPORT=\\\"mhadji@gmail.com\\\" -DPACKAGE_URL=\\\"\\\" -DSTDC_HEADERS=1 -DHAVE_SYS_TYPES_H=1 -DHAVE_SYS_STAT_H=1 -DHAVE_STDLIB_H=1 -DHAVE_STRING_H=1 -DHAVE_MEMORY_H=1 -DHAVE_STRINGS_H=1 -DHAVE_INTTYPES_H=1 -DHAVE_STDINT_H=1 -DHAVE_UNISTD_H=1 -DHAVE_DLFCN_H=1 -DLT_OBJDIR=\\\".libs/\\\" -DPACKAGE=\\\"spatialindex-src\\\" -DVERSION=\\\"1.8.5\\\" -DHAVE_FCNTL_H=1 -DHAVE_UNISTD_H=1 -DHAVE_SYS_TYPES_H=1 -DHAVE_SYS_STAT_H=1 -DHAVE_PTHREAD_H=1 -DHAVE_SYS_RESOURCE_H=1 -DHAVE_SYS_TIME_H=1 -DHAVE_STDINT_H=1 -DHAVE_FEATURES_H=1 -DHAVE_GETTIMEOFDAY=1 -DHAVE_MEMSET=1 -DHAVE_MEMCPY=1 -DHAVE_BCOPY=1 -DHAVE_SRAND48=1 -I. -I../../include -I../../include/capi    -Wall -Wno-long-long -pedantic -std=c++98  -O2 -DNDEBUG -MT BoundsQuery.lo -MD -MP -MF $depbase.Tpo -c -o BoundsQuery.lo BoundsQuery.cc &&\\\n",
      "mv -f $depbase.Tpo $depbase.Plo\n",
      "libtool: compile:  g++ -DPACKAGE_NAME=\\\"spatialindex\\\" -DPACKAGE_TARNAME=\\\"spatialindex-src\\\" -DPACKAGE_VERSION=\\\"1.8.5\\\" \"-DPACKAGE_STRING=\\\"spatialindex 1.8.5\\\"\" -DPACKAGE_BUGREPORT=\\\"mhadji@gmail.com\\\" -DPACKAGE_URL=\\\"\\\" -DSTDC_HEADERS=1 -DHAVE_SYS_TYPES_H=1 -DHAVE_SYS_STAT_H=1 -DHAVE_STDLIB_H=1 -DHAVE_STRING_H=1 -DHAVE_MEMORY_H=1 -DHAVE_STRINGS_H=1 -DHAVE_INTTYPES_H=1 -DHAVE_STDINT_H=1 -DHAVE_UNISTD_H=1 -DHAVE_DLFCN_H=1 -DLT_OBJDIR=\\\".libs/\\\" -DPACKAGE=\\\"spatialindex-src\\\" -DVERSION=\\\"1.8.5\\\" -DHAVE_FCNTL_H=1 -DHAVE_UNISTD_H=1 -DHAVE_SYS_TYPES_H=1 -DHAVE_SYS_STAT_H=1 -DHAVE_PTHREAD_H=1 -DHAVE_SYS_RESOURCE_H=1 -DHAVE_SYS_TIME_H=1 -DHAVE_STDINT_H=1 -DHAVE_FEATURES_H=1 -DHAVE_GETTIMEOFDAY=1 -DHAVE_MEMSET=1 -DHAVE_MEMCPY=1 -DHAVE_BCOPY=1 -DHAVE_SRAND48=1 -I. -I../../include -I../../include/capi -Wall -Wno-long-long -pedantic -std=c++98 -O2 -DNDEBUG -MT BoundsQuery.lo -MD -MP -MF .deps/BoundsQuery.Tpo -c BoundsQuery.cc  -fPIC -DPIC -o .libs/BoundsQuery.o\n",
      "In file included from \u001b[01m\u001b[K../../include/spatialindex/SpatialIndex.h:245\u001b[m\u001b[K,\n",
      "                 from \u001b[01m\u001b[K../../include/spatialindex/capi/sidx_config.h:56\u001b[m\u001b[K,\n",
      "                 from \u001b[01m\u001b[K../../include/spatialindex/capi/sidx_impl.h:36\u001b[m\u001b[K,\n",
      "                 from \u001b[01m\u001b[KBoundsQuery.cc:29\u001b[m\u001b[K:\n",
      "\u001b[01m\u001b[K../../include/spatialindex/Point.h:42:32:\u001b[m\u001b[K \u001b[01;35m\u001b[Kwarning: \u001b[m\u001b[K'\u001b[01m\u001b[Kvirtual SpatialIndex::Point& SpatialIndex::Point::\u001b[01;32m\u001b[Koperator=\u001b[m\u001b[K(const SpatialIndex::Point&)\u001b[m\u001b[K' was hidden [\u001b[01;35m\u001b[K\u001b]8;;https://gcc.gnu.org/onlinedocs/gcc/Warning-Options.html#index-Woverloaded-virtual=\u0007-Woverloaded-virtual=\u001b]8;;\u0007\u001b[m\u001b[K]\n",
      "   42 |                 virtual Point& \u001b[01;35m\u001b[Koperator\u001b[m\u001b[K=(const Point& p);\n",
      "      |                                \u001b[01;35m\u001b[K^~~~~~~~\u001b[m\u001b[K\n",
      "In file included from \u001b[01m\u001b[K../../include/spatialindex/SpatialIndex.h:248\u001b[m\u001b[K:\n",
      "\u001b[01m\u001b[K../../include/spatialindex/TimePoint.h:75:43:\u001b[m\u001b[K \u001b[01;36m\u001b[Knote: \u001b[m\u001b[K  by '\u001b[01m\u001b[KSpatialIndex::TimePoint::operator=\u001b[m\u001b[K'\n",
      "   75 |                 virtual Tools::IInterval& \u001b[01;36m\u001b[Koperator\u001b[m\u001b[K=(const Tools::IInterval&);\n",
      "      |                                           \u001b[01;36m\u001b[K^~~~~~~~\u001b[m\u001b[K\n",
      "\u001b[01m\u001b[K../../include/spatialindex/Point.h:43:30:\u001b[m\u001b[K \u001b[01;35m\u001b[Kwarning: \u001b[m\u001b[K'\u001b[01m\u001b[Kvirtual bool SpatialIndex::Point::\u001b[01;32m\u001b[Koperator==\u001b[m\u001b[K(const SpatialIndex::Point&) const\u001b[m\u001b[K' was hidden [\u001b[01;35m\u001b[K\u001b]8;;https://gcc.gnu.org/onlinedocs/gcc/Warning-Options.html#index-Woverloaded-virtual=\u0007-Woverloaded-virtual=\u001b]8;;\u0007\u001b[m\u001b[K]\n",
      "   43 |                 virtual bool \u001b[01;35m\u001b[Koperator\u001b[m\u001b[K==(const Point& p) const;\n",
      "      |                              \u001b[01;35m\u001b[K^~~~~~~~\u001b[m\u001b[K\n",
      "\u001b[01m\u001b[K../../include/spatialindex/TimePoint.h:44:30:\u001b[m\u001b[K \u001b[01;36m\u001b[Knote: \u001b[m\u001b[K  by '\u001b[01m\u001b[Kvirtual bool SpatialIndex::TimePoint::\u001b[01;32m\u001b[Koperator==\u001b[m\u001b[K(const SpatialIndex::TimePoint&) const\u001b[m\u001b[K'\n",
      "   44 |                 virtual bool \u001b[01;36m\u001b[Koperator\u001b[m\u001b[K==(const TimePoint& p) const;\n",
      "      |                              \u001b[01;36m\u001b[K^~~~~~~~\u001b[m\u001b[K\n",
      "In file included from \u001b[01m\u001b[K../../include/spatialindex/SpatialIndex.h:246\u001b[m\u001b[K:\n",
      "\u001b[01m\u001b[K../../include/spatialindex/Region.h:41:33:\u001b[m\u001b[K \u001b[01;35m\u001b[Kwarning: \u001b[m\u001b[K'\u001b[01m\u001b[Kvirtual SpatialIndex::Region& SpatialIndex::Region::\u001b[01;32m\u001b[Koperator=\u001b[m\u001b[K(const SpatialIndex::Region&)\u001b[m\u001b[K' was hidden [\u001b[01;35m\u001b[K\u001b]8;;https://gcc.gnu.org/onlinedocs/gcc/Warning-Options.html#index-Woverloaded-virtual=\u0007-Woverloaded-virtual=\u001b]8;;\u0007\u001b[m\u001b[K]\n",
      "   41 |                 virtual Region& \u001b[01;35m\u001b[Koperator\u001b[m\u001b[K=(const Region& r);\n",
      "      |                                 \u001b[01;35m\u001b[K^~~~~~~~\u001b[m\u001b[K\n",
      "In file included from \u001b[01m\u001b[K../../include/spatialindex/SpatialIndex.h:249\u001b[m\u001b[K:\n",
      "\u001b[01m\u001b[K../../include/spatialindex/TimeRegion.h:88:43:\u001b[m\u001b[K \u001b[01;36m\u001b[Knote: \u001b[m\u001b[K  by '\u001b[01m\u001b[KSpatialIndex::TimeRegion::operator=\u001b[m\u001b[K'\n",
      "   88 |                 virtual Tools::IInterval& \u001b[01;36m\u001b[Koperator\u001b[m\u001b[K=(const Tools::IInterval&);\n",
      "      |                                           \u001b[01;36m\u001b[K^~~~~~~~\u001b[m\u001b[K\n",
      "\u001b[01m\u001b[K../../include/spatialindex/Region.h:42:30:\u001b[m\u001b[K \u001b[01;35m\u001b[Kwarning: \u001b[m\u001b[K'\u001b[01m\u001b[Kvirtual bool SpatialIndex::Region::\u001b[01;32m\u001b[Koperator==\u001b[m\u001b[K(const SpatialIndex::Region&) const\u001b[m\u001b[K' was hidden [\u001b[01;35m\u001b[K\u001b]8;;https://gcc.gnu.org/onlinedocs/gcc/Warning-Options.html#index-Woverloaded-virtual=\u0007-Woverloaded-virtual=\u001b]8;;\u0007\u001b[m\u001b[K]\n",
      "   42 |                 virtual bool \u001b[01;35m\u001b[Koperator\u001b[m\u001b[K==(const Region&) const;\n",
      "      |                              \u001b[01;35m\u001b[K^~~~~~~~\u001b[m\u001b[K\n",
      "\u001b[01m\u001b[K../../include/spatialindex/TimeRegion.h:47:30:\u001b[m\u001b[K \u001b[01;36m\u001b[Knote: \u001b[m\u001b[K  by '\u001b[01m\u001b[Kvirtual bool SpatialIndex::TimeRegion::\u001b[01;32m\u001b[Koperator==\u001b[m\u001b[K(const SpatialIndex::TimeRegion&) const\u001b[m\u001b[K'\n",
      "   47 |                 virtual bool \u001b[01;36m\u001b[Koperator\u001b[m\u001b[K==(const TimeRegion&) const;\n",
      "      |                              \u001b[01;36m\u001b[K^~~~~~~~\u001b[m\u001b[K\n",
      "\u001b[01m\u001b[K../../include/spatialindex/TimePoint.h:75:43:\u001b[m\u001b[K \u001b[01;35m\u001b[Kwarning: \u001b[m\u001b[K'\u001b[01m\u001b[Kvirtual Tools::IInterval& SpatialIndex::TimePoint::\u001b[01;32m\u001b[Koperator=\u001b[m\u001b[K(const Tools::IInterval&)\u001b[m\u001b[K' was hidden [\u001b[01;35m\u001b[K\u001b]8;;https://gcc.gnu.org/onlinedocs/gcc/Warning-Options.html#index-Woverloaded-virtual=\u0007-Woverloaded-virtual=\u001b]8;;\u0007\u001b[m\u001b[K]\n",
      "   75 |                 virtual Tools::IInterval& \u001b[01;35m\u001b[Koperator\u001b[m\u001b[K=(const Tools::IInterval&);\n",
      "      |                                           \u001b[01;35m\u001b[K^~~~~~~~\u001b[m\u001b[K\n",
      "In file included from \u001b[01m\u001b[K../../include/spatialindex/SpatialIndex.h:250\u001b[m\u001b[K:\n",
      "\u001b[01m\u001b[K../../include/spatialindex/MovingPoint.h:43:38:\u001b[m\u001b[K \u001b[01;36m\u001b[Knote: \u001b[m\u001b[K  by '\u001b[01m\u001b[Kvirtual SpatialIndex::MovingPoint& SpatialIndex::MovingPoint::\u001b[01;32m\u001b[Koperator=\u001b[m\u001b[K(const SpatialIndex::MovingPoint&)\u001b[m\u001b[K'\n",
      "   43 |                 virtual MovingPoint& \u001b[01;36m\u001b[Koperator\u001b[m\u001b[K=(const MovingPoint& p);\n",
      "      |                                      \u001b[01;36m\u001b[K^~~~~~~~\u001b[m\u001b[K\n",
      "\u001b[01m\u001b[K../../include/spatialindex/TimePoint.h:43:36:\u001b[m\u001b[K \u001b[01;35m\u001b[Kwarning: \u001b[m\u001b[K'\u001b[01m\u001b[Kvirtual SpatialIndex::TimePoint& SpatialIndex::TimePoint::\u001b[01;32m\u001b[Koperator=\u001b[m\u001b[K(const SpatialIndex::TimePoint&)\u001b[m\u001b[K' was hidden [\u001b[01;35m\u001b[K\u001b]8;;https://gcc.gnu.org/onlinedocs/gcc/Warning-Options.html#index-Woverloaded-virtual=\u0007-Woverloaded-virtual=\u001b]8;;\u0007\u001b[m\u001b[K]\n",
      "   43 |                 virtual TimePoint& \u001b[01;35m\u001b[Koperator\u001b[m\u001b[K=(const TimePoint& p);\n",
      "      |                                    \u001b[01;35m\u001b[K^~~~~~~~\u001b[m\u001b[K\n",
      "\u001b[01m\u001b[K../../include/spatialindex/MovingPoint.h:43:38:\u001b[m\u001b[K \u001b[01;36m\u001b[Knote: \u001b[m\u001b[K  by '\u001b[01m\u001b[Kvirtual SpatialIndex::MovingPoint& SpatialIndex::MovingPoint::\u001b[01;32m\u001b[Koperator=\u001b[m\u001b[K(const SpatialIndex::MovingPoint&)\u001b[m\u001b[K'\n",
      "   43 |                 virtual MovingPoint& \u001b[01;36m\u001b[Koperator\u001b[m\u001b[K=(const MovingPoint& p);\n",
      "      |                                      \u001b[01;36m\u001b[K^~~~~~~~\u001b[m\u001b[K\n",
      "\u001b[01m\u001b[K../../include/spatialindex/TimePoint.h:44:30:\u001b[m\u001b[K \u001b[01;35m\u001b[Kwarning: \u001b[m\u001b[K'\u001b[01m\u001b[Kvirtual bool SpatialIndex::TimePoint::\u001b[01;32m\u001b[Koperator==\u001b[m\u001b[K(const SpatialIndex::TimePoint&) const\u001b[m\u001b[K' was hidden [\u001b[01;35m\u001b[K\u001b]8;;https://gcc.gnu.org/onlinedocs/gcc/Warning-Options.html#index-Woverloaded-virtual=\u0007-Woverloaded-virtual=\u001b]8;;\u0007\u001b[m\u001b[K]\n",
      "   44 |                 virtual bool \u001b[01;35m\u001b[Koperator\u001b[m\u001b[K==(const TimePoint& p) const;\n",
      "      |                              \u001b[01;35m\u001b[K^~~~~~~~\u001b[m\u001b[K\n",
      "\u001b[01m\u001b[K../../include/spatialindex/MovingPoint.h:44:30:\u001b[m\u001b[K \u001b[01;36m\u001b[Knote: \u001b[m\u001b[K  by '\u001b[01m\u001b[Kvirtual bool SpatialIndex::MovingPoint::\u001b[01;32m\u001b[Koperator==\u001b[m\u001b[K(const SpatialIndex::MovingPoint&) const\u001b[m\u001b[K'\n",
      "   44 |                 virtual bool \u001b[01;36m\u001b[Koperator\u001b[m\u001b[K==(const MovingPoint& p) const;\n",
      "      |                              \u001b[01;36m\u001b[K^~~~~~~~\u001b[m\u001b[K\n",
      "\u001b[01m\u001b[K../../include/spatialindex/TimeRegion.h:88:43:\u001b[m\u001b[K \u001b[01;35m\u001b[Kwarning: \u001b[m\u001b[K'\u001b[01m\u001b[Kvirtual Tools::IInterval& SpatialIndex::TimeRegion::\u001b[01;32m\u001b[Koperator=\u001b[m\u001b[K(const Tools::IInterval&)\u001b[m\u001b[K' was hidden [\u001b[01;35m\u001b[K\u001b]8;;https://gcc.gnu.org/onlinedocs/gcc/Warning-Options.html#index-Woverloaded-virtual=\u0007-Woverloaded-virtual=\u001b]8;;\u0007\u001b[m\u001b[K]\n",
      "   88 |                 virtual Tools::IInterval& \u001b[01;35m\u001b[Koperator\u001b[m\u001b[K=(const Tools::IInterval&);\n",
      "      |                                           \u001b[01;35m\u001b[K^~~~~~~~\u001b[m\u001b[K\n",
      "In file included from \u001b[01m\u001b[K../../include/spatialindex/SpatialIndex.h:251\u001b[m\u001b[K:\n",
      "\u001b[01m\u001b[K../../include/spatialindex/MovingRegion.h:66:39:\u001b[m\u001b[K \u001b[01;36m\u001b[Knote: \u001b[m\u001b[K  by '\u001b[01m\u001b[Kvirtual SpatialIndex::MovingRegion& SpatialIndex::MovingRegion::\u001b[01;32m\u001b[Koperator=\u001b[m\u001b[K(const SpatialIndex::MovingRegion&)\u001b[m\u001b[K'\n",
      "   66 |                 virtual MovingRegion& \u001b[01;36m\u001b[Koperator\u001b[m\u001b[K=(const MovingRegion& r);\n",
      "      |                                       \u001b[01;36m\u001b[K^~~~~~~~\u001b[m\u001b[K\n",
      "\u001b[01m\u001b[K../../include/spatialindex/TimeRegion.h:46:37:\u001b[m\u001b[K \u001b[01;35m\u001b[Kwarning: \u001b[m\u001b[K'\u001b[01m\u001b[Kvirtual SpatialIndex::TimeRegion& SpatialIndex::TimeRegion::\u001b[01;32m\u001b[Koperator=\u001b[m\u001b[K(const SpatialIndex::TimeRegion&)\u001b[m\u001b[K' was hidden [\u001b[01;35m\u001b[K\u001b]8;;https://gcc.gnu.org/onlinedocs/gcc/Warning-Options.html#index-Woverloaded-virtual=\u0007-Woverloaded-virtual=\u001b]8;;\u0007\u001b[m\u001b[K]\n",
      "   46 |                 virtual TimeRegion& \u001b[01;35m\u001b[Koperator\u001b[m\u001b[K=(const TimeRegion& r);\n",
      "      |                                     \u001b[01;35m\u001b[K^~~~~~~~\u001b[m\u001b[K\n",
      "\u001b[01m\u001b[K../../include/spatialindex/MovingRegion.h:66:39:\u001b[m\u001b[K \u001b[01;36m\u001b[Knote: \u001b[m\u001b[K  by '\u001b[01m\u001b[Kvirtual SpatialIndex::MovingRegion& SpatialIndex::MovingRegion::\u001b[01;32m\u001b[Koperator=\u001b[m\u001b[K(const SpatialIndex::MovingRegion&)\u001b[m\u001b[K'\n",
      "   66 |                 virtual MovingRegion& \u001b[01;36m\u001b[Koperator\u001b[m\u001b[K=(const MovingRegion& r);\n",
      "      |                                       \u001b[01;36m\u001b[K^~~~~~~~\u001b[m\u001b[K\n",
      "\u001b[01m\u001b[K../../include/spatialindex/TimeRegion.h:47:30:\u001b[m\u001b[K \u001b[01;35m\u001b[Kwarning: \u001b[m\u001b[K'\u001b[01m\u001b[Kvirtual bool SpatialIndex::TimeRegion::\u001b[01;32m\u001b[Koperator==\u001b[m\u001b[K(const SpatialIndex::TimeRegion&) const\u001b[m\u001b[K' was hidden [\u001b[01;35m\u001b[K\u001b]8;;https://gcc.gnu.org/onlinedocs/gcc/Warning-Options.html#index-Woverloaded-virtual=\u0007-Woverloaded-virtual=\u001b]8;;\u0007\u001b[m\u001b[K]\n",
      "   47 |                 virtual bool \u001b[01;35m\u001b[Koperator\u001b[m\u001b[K==(const TimeRegion&) const;\n",
      "      |                              \u001b[01;35m\u001b[K^~~~~~~~\u001b[m\u001b[K\n",
      "\u001b[01m\u001b[K../../include/spatialindex/MovingRegion.h:67:30:\u001b[m\u001b[K \u001b[01;36m\u001b[Knote: \u001b[m\u001b[K  by '\u001b[01m\u001b[Kvirtual bool SpatialIndex::MovingRegion::\u001b[01;32m\u001b[Koperator==\u001b[m\u001b[K(const SpatialIndex::MovingRegion&) const\u001b[m\u001b[K'\n",
      "   67 |                 virtual bool \u001b[01;36m\u001b[Koperator\u001b[m\u001b[K==(const MovingRegion&) const;\n",
      "      |                              \u001b[01;36m\u001b[K^~~~~~~~\u001b[m\u001b[K\n",
      "libtool: compile:  g++ -DPACKAGE_NAME=\\\"spatialindex\\\" -DPACKAGE_TARNAME=\\\"spatialindex-src\\\" -DPACKAGE_VERSION=\\\"1.8.5\\\" \"-DPACKAGE_STRING=\\\"spatialindex 1.8.5\\\"\" -DPACKAGE_BUGREPORT=\\\"mhadji@gmail.com\\\" -DPACKAGE_URL=\\\"\\\" -DSTDC_HEADERS=1 -DHAVE_SYS_TYPES_H=1 -DHAVE_SYS_STAT_H=1 -DHAVE_STDLIB_H=1 -DHAVE_STRING_H=1 -DHAVE_MEMORY_H=1 -DHAVE_STRINGS_H=1 -DHAVE_INTTYPES_H=1 -DHAVE_STDINT_H=1 -DHAVE_UNISTD_H=1 -DHAVE_DLFCN_H=1 -DLT_OBJDIR=\\\".libs/\\\" -DPACKAGE=\\\"spatialindex-src\\\" -DVERSION=\\\"1.8.5\\\" -DHAVE_FCNTL_H=1 -DHAVE_UNISTD_H=1 -DHAVE_SYS_TYPES_H=1 -DHAVE_SYS_STAT_H=1 -DHAVE_PTHREAD_H=1 -DHAVE_SYS_RESOURCE_H=1 -DHAVE_SYS_TIME_H=1 -DHAVE_STDINT_H=1 -DHAVE_FEATURES_H=1 -DHAVE_GETTIMEOFDAY=1 -DHAVE_MEMSET=1 -DHAVE_MEMCPY=1 -DHAVE_BCOPY=1 -DHAVE_SRAND48=1 -I. -I../../include -I../../include/capi -Wall -Wno-long-long -pedantic -std=c++98 -O2 -DNDEBUG -MT BoundsQuery.lo -MD -MP -MF .deps/BoundsQuery.Tpo -c BoundsQuery.cc -o BoundsQuery.o >/dev/null 2>&1\n",
      "depbase=`echo CountVisitor.lo | sed 's|[^/]*$|.deps/&|;s|\\.lo$||'`;\\\n",
      "/bin/bash ../../libtool  --tag=CXX   --mode=compile g++ -DPACKAGE_NAME=\\\"spatialindex\\\" -DPACKAGE_TARNAME=\\\"spatialindex-src\\\" -DPACKAGE_VERSION=\\\"1.8.5\\\" -DPACKAGE_STRING=\\\"spatialindex\\ 1.8.5\\\" -DPACKAGE_BUGREPORT=\\\"mhadji@gmail.com\\\" -DPACKAGE_URL=\\\"\\\" -DSTDC_HEADERS=1 -DHAVE_SYS_TYPES_H=1 -DHAVE_SYS_STAT_H=1 -DHAVE_STDLIB_H=1 -DHAVE_STRING_H=1 -DHAVE_MEMORY_H=1 -DHAVE_STRINGS_H=1 -DHAVE_INTTYPES_H=1 -DHAVE_STDINT_H=1 -DHAVE_UNISTD_H=1 -DHAVE_DLFCN_H=1 -DLT_OBJDIR=\\\".libs/\\\" -DPACKAGE=\\\"spatialindex-src\\\" -DVERSION=\\\"1.8.5\\\" -DHAVE_FCNTL_H=1 -DHAVE_UNISTD_H=1 -DHAVE_SYS_TYPES_H=1 -DHAVE_SYS_STAT_H=1 -DHAVE_PTHREAD_H=1 -DHAVE_SYS_RESOURCE_H=1 -DHAVE_SYS_TIME_H=1 -DHAVE_STDINT_H=1 -DHAVE_FEATURES_H=1 -DHAVE_GETTIMEOFDAY=1 -DHAVE_MEMSET=1 -DHAVE_MEMCPY=1 -DHAVE_BCOPY=1 -DHAVE_SRAND48=1 -I. -I../../include -I../../include/capi    -Wall -Wno-long-long -pedantic -std=c++98  -O2 -DNDEBUG -MT CountVisitor.lo -MD -MP -MF $depbase.Tpo -c -o CountVisitor.lo CountVisitor.cc &&\\\n",
      "mv -f $depbase.Tpo $depbase.Plo\n",
      "libtool: compile:  g++ -DPACKAGE_NAME=\\\"spatialindex\\\" -DPACKAGE_TARNAME=\\\"spatialindex-src\\\" -DPACKAGE_VERSION=\\\"1.8.5\\\" \"-DPACKAGE_STRING=\\\"spatialindex 1.8.5\\\"\" -DPACKAGE_BUGREPORT=\\\"mhadji@gmail.com\\\" -DPACKAGE_URL=\\\"\\\" -DSTDC_HEADERS=1 -DHAVE_SYS_TYPES_H=1 -DHAVE_SYS_STAT_H=1 -DHAVE_STDLIB_H=1 -DHAVE_STRING_H=1 -DHAVE_MEMORY_H=1 -DHAVE_STRINGS_H=1 -DHAVE_INTTYPES_H=1 -DHAVE_STDINT_H=1 -DHAVE_UNISTD_H=1 -DHAVE_DLFCN_H=1 -DLT_OBJDIR=\\\".libs/\\\" -DPACKAGE=\\\"spatialindex-src\\\" -DVERSION=\\\"1.8.5\\\" -DHAVE_FCNTL_H=1 -DHAVE_UNISTD_H=1 -DHAVE_SYS_TYPES_H=1 -DHAVE_SYS_STAT_H=1 -DHAVE_PTHREAD_H=1 -DHAVE_SYS_RESOURCE_H=1 -DHAVE_SYS_TIME_H=1 -DHAVE_STDINT_H=1 -DHAVE_FEATURES_H=1 -DHAVE_GETTIMEOFDAY=1 -DHAVE_MEMSET=1 -DHAVE_MEMCPY=1 -DHAVE_BCOPY=1 -DHAVE_SRAND48=1 -I. -I../../include -I../../include/capi -Wall -Wno-long-long -pedantic -std=c++98 -O2 -DNDEBUG -MT CountVisitor.lo -MD -MP -MF .deps/CountVisitor.Tpo -c CountVisitor.cc  -fPIC -DPIC -o .libs/CountVisitor.o\n",
      "In file included from \u001b[01m\u001b[K../../include/spatialindex/SpatialIndex.h:245\u001b[m\u001b[K,\n",
      "                 from \u001b[01m\u001b[K../../include/spatialindex/capi/sidx_config.h:56\u001b[m\u001b[K,\n",
      "                 from \u001b[01m\u001b[K../../include/spatialindex/capi/sidx_impl.h:36\u001b[m\u001b[K,\n",
      "                 from \u001b[01m\u001b[KCountVisitor.cc:29\u001b[m\u001b[K:\n",
      "\u001b[01m\u001b[K../../include/spatialindex/Point.h:42:32:\u001b[m\u001b[K \u001b[01;35m\u001b[Kwarning: \u001b[m\u001b[K'\u001b[01m\u001b[Kvirtual SpatialIndex::Point& SpatialIndex::Point::\u001b[01;32m\u001b[Koperator=\u001b[m\u001b[K(const SpatialIndex::Point&)\u001b[m\u001b[K' was hidden [\u001b[01;35m\u001b[K\u001b]8;;https://gcc.gnu.org/onlinedocs/gcc/Warning-Options.html#index-Woverloaded-virtual=\u0007-Woverloaded-virtual=\u001b]8;;\u0007\u001b[m\u001b[K]\n",
      "   42 |                 virtual Point& \u001b[01;35m\u001b[Koperator\u001b[m\u001b[K=(const Point& p);\n",
      "      |                                \u001b[01;35m\u001b[K^~~~~~~~\u001b[m\u001b[K\n",
      "In file included from \u001b[01m\u001b[K../../include/spatialindex/SpatialIndex.h:248\u001b[m\u001b[K:\n",
      "\u001b[01m\u001b[K../../include/spatialindex/TimePoint.h:75:43:\u001b[m\u001b[K \u001b[01;36m\u001b[Knote: \u001b[m\u001b[K  by '\u001b[01m\u001b[KSpatialIndex::TimePoint::operator=\u001b[m\u001b[K'\n",
      "   75 |                 virtual Tools::IInterval& \u001b[01;36m\u001b[Koperator\u001b[m\u001b[K=(const Tools::IInterval&);\n",
      "      |                                           \u001b[01;36m\u001b[K^~~~~~~~\u001b[m\u001b[K\n",
      "\u001b[01m\u001b[K../../include/spatialindex/Point.h:43:30:\u001b[m\u001b[K \u001b[01;35m\u001b[Kwarning: \u001b[m\u001b[K'\u001b[01m\u001b[Kvirtual bool SpatialIndex::Point::\u001b[01;32m\u001b[Koperator==\u001b[m\u001b[K(const SpatialIndex::Point&) const\u001b[m\u001b[K' was hidden [\u001b[01;35m\u001b[K\u001b]8;;https://gcc.gnu.org/onlinedocs/gcc/Warning-Options.html#index-Woverloaded-virtual=\u0007-Woverloaded-virtual=\u001b]8;;\u0007\u001b[m\u001b[K]\n",
      "   43 |                 virtual bool \u001b[01;35m\u001b[Koperator\u001b[m\u001b[K==(const Point& p) const;\n",
      "      |                              \u001b[01;35m\u001b[K^~~~~~~~\u001b[m\u001b[K\n",
      "\u001b[01m\u001b[K../../include/spatialindex/TimePoint.h:44:30:\u001b[m\u001b[K \u001b[01;36m\u001b[Knote: \u001b[m\u001b[K  by '\u001b[01m\u001b[Kvirtual bool SpatialIndex::TimePoint::\u001b[01;32m\u001b[Koperator==\u001b[m\u001b[K(const SpatialIndex::TimePoint&) const\u001b[m\u001b[K'\n",
      "   44 |                 virtual bool \u001b[01;36m\u001b[Koperator\u001b[m\u001b[K==(const TimePoint& p) const;\n",
      "      |                              \u001b[01;36m\u001b[K^~~~~~~~\u001b[m\u001b[K\n",
      "In file included from \u001b[01m\u001b[K../../include/spatialindex/SpatialIndex.h:246\u001b[m\u001b[K:\n",
      "\u001b[01m\u001b[K../../include/spatialindex/Region.h:41:33:\u001b[m\u001b[K \u001b[01;35m\u001b[Kwarning: \u001b[m\u001b[K'\u001b[01m\u001b[Kvirtual SpatialIndex::Region& SpatialIndex::Region::\u001b[01;32m\u001b[Koperator=\u001b[m\u001b[K(const SpatialIndex::Region&)\u001b[m\u001b[K' was hidden [\u001b[01;35m\u001b[K\u001b]8;;https://gcc.gnu.org/onlinedocs/gcc/Warning-Options.html#index-Woverloaded-virtual=\u0007-Woverloaded-virtual=\u001b]8;;\u0007\u001b[m\u001b[K]\n",
      "   41 |                 virtual Region& \u001b[01;35m\u001b[Koperator\u001b[m\u001b[K=(const Region& r);\n",
      "      |                                 \u001b[01;35m\u001b[K^~~~~~~~\u001b[m\u001b[K\n",
      "In file included from \u001b[01m\u001b[K../../include/spatialindex/SpatialIndex.h:249\u001b[m\u001b[K:\n",
      "\u001b[01m\u001b[K../../include/spatialindex/TimeRegion.h:88:43:\u001b[m\u001b[K \u001b[01;36m\u001b[Knote: \u001b[m\u001b[K  by '\u001b[01m\u001b[KSpatialIndex::TimeRegion::operator=\u001b[m\u001b[K'\n",
      "   88 |                 virtual Tools::IInterval& \u001b[01;36m\u001b[Koperator\u001b[m\u001b[K=(const Tools::IInterval&);\n",
      "      |                                           \u001b[01;36m\u001b[K^~~~~~~~\u001b[m\u001b[K\n",
      "\u001b[01m\u001b[K../../include/spatialindex/Region.h:42:30:\u001b[m\u001b[K \u001b[01;35m\u001b[Kwarning: \u001b[m\u001b[K'\u001b[01m\u001b[Kvirtual bool SpatialIndex::Region::\u001b[01;32m\u001b[Koperator==\u001b[m\u001b[K(const SpatialIndex::Region&) const\u001b[m\u001b[K' was hidden [\u001b[01;35m\u001b[K\u001b]8;;https://gcc.gnu.org/onlinedocs/gcc/Warning-Options.html#index-Woverloaded-virtual=\u0007-Woverloaded-virtual=\u001b]8;;\u0007\u001b[m\u001b[K]\n",
      "   42 |                 virtual bool \u001b[01;35m\u001b[Koperator\u001b[m\u001b[K==(const Region&) const;\n",
      "      |                              \u001b[01;35m\u001b[K^~~~~~~~\u001b[m\u001b[K\n",
      "\u001b[01m\u001b[K../../include/spatialindex/TimeRegion.h:47:30:\u001b[m\u001b[K \u001b[01;36m\u001b[Knote: \u001b[m\u001b[K  by '\u001b[01m\u001b[Kvirtual bool SpatialIndex::TimeRegion::\u001b[01;32m\u001b[Koperator==\u001b[m\u001b[K(const SpatialIndex::TimeRegion&) const\u001b[m\u001b[K'\n",
      "   47 |                 virtual bool \u001b[01;36m\u001b[Koperator\u001b[m\u001b[K==(const TimeRegion&) const;\n",
      "      |                              \u001b[01;36m\u001b[K^~~~~~~~\u001b[m\u001b[K\n",
      "\u001b[01m\u001b[K../../include/spatialindex/TimePoint.h:75:43:\u001b[m\u001b[K \u001b[01;35m\u001b[Kwarning: \u001b[m\u001b[K'\u001b[01m\u001b[Kvirtual Tools::IInterval& SpatialIndex::TimePoint::\u001b[01;32m\u001b[Koperator=\u001b[m\u001b[K(const Tools::IInterval&)\u001b[m\u001b[K' was hidden [\u001b[01;35m\u001b[K\u001b]8;;https://gcc.gnu.org/onlinedocs/gcc/Warning-Options.html#index-Woverloaded-virtual=\u0007-Woverloaded-virtual=\u001b]8;;\u0007\u001b[m\u001b[K]\n",
      "   75 |                 virtual Tools::IInterval& \u001b[01;35m\u001b[Koperator\u001b[m\u001b[K=(const Tools::IInterval&);\n",
      "      |                                           \u001b[01;35m\u001b[K^~~~~~~~\u001b[m\u001b[K\n",
      "In file included from \u001b[01m\u001b[K../../include/spatialindex/SpatialIndex.h:250\u001b[m\u001b[K:\n",
      "\u001b[01m\u001b[K../../include/spatialindex/MovingPoint.h:43:38:\u001b[m\u001b[K \u001b[01;36m\u001b[Knote: \u001b[m\u001b[K  by '\u001b[01m\u001b[Kvirtual SpatialIndex::MovingPoint& SpatialIndex::MovingPoint::\u001b[01;32m\u001b[Koperator=\u001b[m\u001b[K(const SpatialIndex::MovingPoint&)\u001b[m\u001b[K'\n",
      "   43 |                 virtual MovingPoint& \u001b[01;36m\u001b[Koperator\u001b[m\u001b[K=(const MovingPoint& p);\n",
      "      |                                      \u001b[01;36m\u001b[K^~~~~~~~\u001b[m\u001b[K\n",
      "\u001b[01m\u001b[K../../include/spatialindex/TimePoint.h:43:36:\u001b[m\u001b[K \u001b[01;35m\u001b[Kwarning: \u001b[m\u001b[K'\u001b[01m\u001b[Kvirtual SpatialIndex::TimePoint& SpatialIndex::TimePoint::\u001b[01;32m\u001b[Koperator=\u001b[m\u001b[K(const SpatialIndex::TimePoint&)\u001b[m\u001b[K' was hidden [\u001b[01;35m\u001b[K\u001b]8;;https://gcc.gnu.org/onlinedocs/gcc/Warning-Options.html#index-Woverloaded-virtual=\u0007-Woverloaded-virtual=\u001b]8;;\u0007\u001b[m\u001b[K]\n",
      "   43 |                 virtual TimePoint& \u001b[01;35m\u001b[Koperator\u001b[m\u001b[K=(const TimePoint& p);\n",
      "      |                                    \u001b[01;35m\u001b[K^~~~~~~~\u001b[m\u001b[K\n",
      "\u001b[01m\u001b[K../../include/spatialindex/MovingPoint.h:43:38:\u001b[m\u001b[K \u001b[01;36m\u001b[Knote: \u001b[m\u001b[K  by '\u001b[01m\u001b[Kvirtual SpatialIndex::MovingPoint& SpatialIndex::MovingPoint::\u001b[01;32m\u001b[Koperator=\u001b[m\u001b[K(const SpatialIndex::MovingPoint&)\u001b[m\u001b[K'\n",
      "   43 |                 virtual MovingPoint& \u001b[01;36m\u001b[Koperator\u001b[m\u001b[K=(const MovingPoint& p);\n",
      "      |                                      \u001b[01;36m\u001b[K^~~~~~~~\u001b[m\u001b[K\n",
      "\u001b[01m\u001b[K../../include/spatialindex/TimePoint.h:44:30:\u001b[m\u001b[K \u001b[01;35m\u001b[Kwarning: \u001b[m\u001b[K'\u001b[01m\u001b[Kvirtual bool SpatialIndex::TimePoint::\u001b[01;32m\u001b[Koperator==\u001b[m\u001b[K(const SpatialIndex::TimePoint&) const\u001b[m\u001b[K' was hidden [\u001b[01;35m\u001b[K\u001b]8;;https://gcc.gnu.org/onlinedocs/gcc/Warning-Options.html#index-Woverloaded-virtual=\u0007-Woverloaded-virtual=\u001b]8;;\u0007\u001b[m\u001b[K]\n",
      "   44 |                 virtual bool \u001b[01;35m\u001b[Koperator\u001b[m\u001b[K==(const TimePoint& p) const;\n",
      "      |                              \u001b[01;35m\u001b[K^~~~~~~~\u001b[m\u001b[K\n",
      "\u001b[01m\u001b[K../../include/spatialindex/MovingPoint.h:44:30:\u001b[m\u001b[K \u001b[01;36m\u001b[Knote: \u001b[m\u001b[K  by '\u001b[01m\u001b[Kvirtual bool SpatialIndex::MovingPoint::\u001b[01;32m\u001b[Koperator==\u001b[m\u001b[K(const SpatialIndex::MovingPoint&) const\u001b[m\u001b[K'\n",
      "   44 |                 virtual bool \u001b[01;36m\u001b[Koperator\u001b[m\u001b[K==(const MovingPoint& p) const;\n",
      "      |                              \u001b[01;36m\u001b[K^~~~~~~~\u001b[m\u001b[K\n",
      "\u001b[01m\u001b[K../../include/spatialindex/TimeRegion.h:88:43:\u001b[m\u001b[K \u001b[01;35m\u001b[Kwarning: \u001b[m\u001b[K'\u001b[01m\u001b[Kvirtual Tools::IInterval& SpatialIndex::TimeRegion::\u001b[01;32m\u001b[Koperator=\u001b[m\u001b[K(const Tools::IInterval&)\u001b[m\u001b[K' was hidden [\u001b[01;35m\u001b[K\u001b]8;;https://gcc.gnu.org/onlinedocs/gcc/Warning-Options.html#index-Woverloaded-virtual=\u0007-Woverloaded-virtual=\u001b]8;;\u0007\u001b[m\u001b[K]\n",
      "   88 |                 virtual Tools::IInterval& \u001b[01;35m\u001b[Koperator\u001b[m\u001b[K=(const Tools::IInterval&);\n",
      "      |                                           \u001b[01;35m\u001b[K^~~~~~~~\u001b[m\u001b[K\n",
      "In file included from \u001b[01m\u001b[K../../include/spatialindex/SpatialIndex.h:251\u001b[m\u001b[K:\n",
      "\u001b[01m\u001b[K../../include/spatialindex/MovingRegion.h:66:39:\u001b[m\u001b[K \u001b[01;36m\u001b[Knote: \u001b[m\u001b[K  by '\u001b[01m\u001b[Kvirtual SpatialIndex::MovingRegion& SpatialIndex::MovingRegion::\u001b[01;32m\u001b[Koperator=\u001b[m\u001b[K(const SpatialIndex::MovingRegion&)\u001b[m\u001b[K'\n",
      "   66 |                 virtual MovingRegion& \u001b[01;36m\u001b[Koperator\u001b[m\u001b[K=(const MovingRegion& r);\n",
      "      |                                       \u001b[01;36m\u001b[K^~~~~~~~\u001b[m\u001b[K\n",
      "\u001b[01m\u001b[K../../include/spatialindex/TimeRegion.h:46:37:\u001b[m\u001b[K \u001b[01;35m\u001b[Kwarning: \u001b[m\u001b[K'\u001b[01m\u001b[Kvirtual SpatialIndex::TimeRegion& SpatialIndex::TimeRegion::\u001b[01;32m\u001b[Koperator=\u001b[m\u001b[K(const SpatialIndex::TimeRegion&)\u001b[m\u001b[K' was hidden [\u001b[01;35m\u001b[K\u001b]8;;https://gcc.gnu.org/onlinedocs/gcc/Warning-Options.html#index-Woverloaded-virtual=\u0007-Woverloaded-virtual=\u001b]8;;\u0007\u001b[m\u001b[K]\n",
      "   46 |                 virtual TimeRegion& \u001b[01;35m\u001b[Koperator\u001b[m\u001b[K=(const TimeRegion& r);\n",
      "      |                                     \u001b[01;35m\u001b[K^~~~~~~~\u001b[m\u001b[K\n",
      "\u001b[01m\u001b[K../../include/spatialindex/MovingRegion.h:66:39:\u001b[m\u001b[K \u001b[01;36m\u001b[Knote: \u001b[m\u001b[K  by '\u001b[01m\u001b[Kvirtual SpatialIndex::MovingRegion& SpatialIndex::MovingRegion::\u001b[01;32m\u001b[Koperator=\u001b[m\u001b[K(const SpatialIndex::MovingRegion&)\u001b[m\u001b[K'\n",
      "   66 |                 virtual MovingRegion& \u001b[01;36m\u001b[Koperator\u001b[m\u001b[K=(const MovingRegion& r);\n",
      "      |                                       \u001b[01;36m\u001b[K^~~~~~~~\u001b[m\u001b[K\n",
      "\u001b[01m\u001b[K../../include/spatialindex/TimeRegion.h:47:30:\u001b[m\u001b[K \u001b[01;35m\u001b[Kwarning: \u001b[m\u001b[K'\u001b[01m\u001b[Kvirtual bool SpatialIndex::TimeRegion::\u001b[01;32m\u001b[Koperator==\u001b[m\u001b[K(const SpatialIndex::TimeRegion&) const\u001b[m\u001b[K' was hidden [\u001b[01;35m\u001b[K\u001b]8;;https://gcc.gnu.org/onlinedocs/gcc/Warning-Options.html#index-Woverloaded-virtual=\u0007-Woverloaded-virtual=\u001b]8;;\u0007\u001b[m\u001b[K]\n",
      "   47 |                 virtual bool \u001b[01;35m\u001b[Koperator\u001b[m\u001b[K==(const TimeRegion&) const;\n",
      "      |                              \u001b[01;35m\u001b[K^~~~~~~~\u001b[m\u001b[K\n",
      "\u001b[01m\u001b[K../../include/spatialindex/MovingRegion.h:67:30:\u001b[m\u001b[K \u001b[01;36m\u001b[Knote: \u001b[m\u001b[K  by '\u001b[01m\u001b[Kvirtual bool SpatialIndex::MovingRegion::\u001b[01;32m\u001b[Koperator==\u001b[m\u001b[K(const SpatialIndex::MovingRegion&) const\u001b[m\u001b[K'\n",
      "   67 |                 virtual bool \u001b[01;36m\u001b[Koperator\u001b[m\u001b[K==(const MovingRegion&) const;\n",
      "      |                              \u001b[01;36m\u001b[K^~~~~~~~\u001b[m\u001b[K\n",
      "libtool: compile:  g++ -DPACKAGE_NAME=\\\"spatialindex\\\" -DPACKAGE_TARNAME=\\\"spatialindex-src\\\" -DPACKAGE_VERSION=\\\"1.8.5\\\" \"-DPACKAGE_STRING=\\\"spatialindex 1.8.5\\\"\" -DPACKAGE_BUGREPORT=\\\"mhadji@gmail.com\\\" -DPACKAGE_URL=\\\"\\\" -DSTDC_HEADERS=1 -DHAVE_SYS_TYPES_H=1 -DHAVE_SYS_STAT_H=1 -DHAVE_STDLIB_H=1 -DHAVE_STRING_H=1 -DHAVE_MEMORY_H=1 -DHAVE_STRINGS_H=1 -DHAVE_INTTYPES_H=1 -DHAVE_STDINT_H=1 -DHAVE_UNISTD_H=1 -DHAVE_DLFCN_H=1 -DLT_OBJDIR=\\\".libs/\\\" -DPACKAGE=\\\"spatialindex-src\\\" -DVERSION=\\\"1.8.5\\\" -DHAVE_FCNTL_H=1 -DHAVE_UNISTD_H=1 -DHAVE_SYS_TYPES_H=1 -DHAVE_SYS_STAT_H=1 -DHAVE_PTHREAD_H=1 -DHAVE_SYS_RESOURCE_H=1 -DHAVE_SYS_TIME_H=1 -DHAVE_STDINT_H=1 -DHAVE_FEATURES_H=1 -DHAVE_GETTIMEOFDAY=1 -DHAVE_MEMSET=1 -DHAVE_MEMCPY=1 -DHAVE_BCOPY=1 -DHAVE_SRAND48=1 -I. -I../../include -I../../include/capi -Wall -Wno-long-long -pedantic -std=c++98 -O2 -DNDEBUG -MT CountVisitor.lo -MD -MP -MF .deps/CountVisitor.Tpo -c CountVisitor.cc -o CountVisitor.o >/dev/null 2>&1\n",
      "depbase=`echo CustomStorage.lo | sed 's|[^/]*$|.deps/&|;s|\\.lo$||'`;\\\n",
      "/bin/bash ../../libtool  --tag=CXX   --mode=compile g++ -DPACKAGE_NAME=\\\"spatialindex\\\" -DPACKAGE_TARNAME=\\\"spatialindex-src\\\" -DPACKAGE_VERSION=\\\"1.8.5\\\" -DPACKAGE_STRING=\\\"spatialindex\\ 1.8.5\\\" -DPACKAGE_BUGREPORT=\\\"mhadji@gmail.com\\\" -DPACKAGE_URL=\\\"\\\" -DSTDC_HEADERS=1 -DHAVE_SYS_TYPES_H=1 -DHAVE_SYS_STAT_H=1 -DHAVE_STDLIB_H=1 -DHAVE_STRING_H=1 -DHAVE_MEMORY_H=1 -DHAVE_STRINGS_H=1 -DHAVE_INTTYPES_H=1 -DHAVE_STDINT_H=1 -DHAVE_UNISTD_H=1 -DHAVE_DLFCN_H=1 -DLT_OBJDIR=\\\".libs/\\\" -DPACKAGE=\\\"spatialindex-src\\\" -DVERSION=\\\"1.8.5\\\" -DHAVE_FCNTL_H=1 -DHAVE_UNISTD_H=1 -DHAVE_SYS_TYPES_H=1 -DHAVE_SYS_STAT_H=1 -DHAVE_PTHREAD_H=1 -DHAVE_SYS_RESOURCE_H=1 -DHAVE_SYS_TIME_H=1 -DHAVE_STDINT_H=1 -DHAVE_FEATURES_H=1 -DHAVE_GETTIMEOFDAY=1 -DHAVE_MEMSET=1 -DHAVE_MEMCPY=1 -DHAVE_BCOPY=1 -DHAVE_SRAND48=1 -I. -I../../include -I../../include/capi    -Wall -Wno-long-long -pedantic -std=c++98  -O2 -DNDEBUG -MT CustomStorage.lo -MD -MP -MF $depbase.Tpo -c -o CustomStorage.lo CustomStorage.cc &&\\\n",
      "mv -f $depbase.Tpo $depbase.Plo\n",
      "libtool: compile:  g++ -DPACKAGE_NAME=\\\"spatialindex\\\" -DPACKAGE_TARNAME=\\\"spatialindex-src\\\" -DPACKAGE_VERSION=\\\"1.8.5\\\" \"-DPACKAGE_STRING=\\\"spatialindex 1.8.5\\\"\" -DPACKAGE_BUGREPORT=\\\"mhadji@gmail.com\\\" -DPACKAGE_URL=\\\"\\\" -DSTDC_HEADERS=1 -DHAVE_SYS_TYPES_H=1 -DHAVE_SYS_STAT_H=1 -DHAVE_STDLIB_H=1 -DHAVE_STRING_H=1 -DHAVE_MEMORY_H=1 -DHAVE_STRINGS_H=1 -DHAVE_INTTYPES_H=1 -DHAVE_STDINT_H=1 -DHAVE_UNISTD_H=1 -DHAVE_DLFCN_H=1 -DLT_OBJDIR=\\\".libs/\\\" -DPACKAGE=\\\"spatialindex-src\\\" -DVERSION=\\\"1.8.5\\\" -DHAVE_FCNTL_H=1 -DHAVE_UNISTD_H=1 -DHAVE_SYS_TYPES_H=1 -DHAVE_SYS_STAT_H=1 -DHAVE_PTHREAD_H=1 -DHAVE_SYS_RESOURCE_H=1 -DHAVE_SYS_TIME_H=1 -DHAVE_STDINT_H=1 -DHAVE_FEATURES_H=1 -DHAVE_GETTIMEOFDAY=1 -DHAVE_MEMSET=1 -DHAVE_MEMCPY=1 -DHAVE_BCOPY=1 -DHAVE_SRAND48=1 -I. -I../../include -I../../include/capi -Wall -Wno-long-long -pedantic -std=c++98 -O2 -DNDEBUG -MT CustomStorage.lo -MD -MP -MF .deps/CustomStorage.Tpo -c CustomStorage.cc  -fPIC -DPIC -o .libs/CustomStorage.o\n",
      "In file included from \u001b[01m\u001b[K../../include/spatialindex/SpatialIndex.h:245\u001b[m\u001b[K,\n",
      "                 from \u001b[01m\u001b[K../../include/spatialindex/capi/sidx_config.h:56\u001b[m\u001b[K,\n",
      "                 from \u001b[01m\u001b[K../../include/spatialindex/capi/sidx_impl.h:36\u001b[m\u001b[K,\n",
      "                 from \u001b[01m\u001b[KCustomStorage.cc:29\u001b[m\u001b[K:\n",
      "\u001b[01m\u001b[K../../include/spatialindex/Point.h:42:32:\u001b[m\u001b[K \u001b[01;35m\u001b[Kwarning: \u001b[m\u001b[K'\u001b[01m\u001b[Kvirtual SpatialIndex::Point& SpatialIndex::Point::\u001b[01;32m\u001b[Koperator=\u001b[m\u001b[K(const SpatialIndex::Point&)\u001b[m\u001b[K' was hidden [\u001b[01;35m\u001b[K\u001b]8;;https://gcc.gnu.org/onlinedocs/gcc/Warning-Options.html#index-Woverloaded-virtual=\u0007-Woverloaded-virtual=\u001b]8;;\u0007\u001b[m\u001b[K]\n",
      "   42 |                 virtual Point& \u001b[01;35m\u001b[Koperator\u001b[m\u001b[K=(const Point& p);\n",
      "      |                                \u001b[01;35m\u001b[K^~~~~~~~\u001b[m\u001b[K\n",
      "In file included from \u001b[01m\u001b[K../../include/spatialindex/SpatialIndex.h:248\u001b[m\u001b[K:\n",
      "\u001b[01m\u001b[K../../include/spatialindex/TimePoint.h:75:43:\u001b[m\u001b[K \u001b[01;36m\u001b[Knote: \u001b[m\u001b[K  by '\u001b[01m\u001b[KSpatialIndex::TimePoint::operator=\u001b[m\u001b[K'\n",
      "   75 |                 virtual Tools::IInterval& \u001b[01;36m\u001b[Koperator\u001b[m\u001b[K=(const Tools::IInterval&);\n",
      "      |                                           \u001b[01;36m\u001b[K^~~~~~~~\u001b[m\u001b[K\n",
      "\u001b[01m\u001b[K../../include/spatialindex/Point.h:43:30:\u001b[m\u001b[K \u001b[01;35m\u001b[Kwarning: \u001b[m\u001b[K'\u001b[01m\u001b[Kvirtual bool SpatialIndex::Point::\u001b[01;32m\u001b[Koperator==\u001b[m\u001b[K(const SpatialIndex::Point&) const\u001b[m\u001b[K' was hidden [\u001b[01;35m\u001b[K\u001b]8;;https://gcc.gnu.org/onlinedocs/gcc/Warning-Options.html#index-Woverloaded-virtual=\u0007-Woverloaded-virtual=\u001b]8;;\u0007\u001b[m\u001b[K]\n",
      "   43 |                 virtual bool \u001b[01;35m\u001b[Koperator\u001b[m\u001b[K==(const Point& p) const;\n",
      "      |                              \u001b[01;35m\u001b[K^~~~~~~~\u001b[m\u001b[K\n",
      "\u001b[01m\u001b[K../../include/spatialindex/TimePoint.h:44:30:\u001b[m\u001b[K \u001b[01;36m\u001b[Knote: \u001b[m\u001b[K  by '\u001b[01m\u001b[Kvirtual bool SpatialIndex::TimePoint::\u001b[01;32m\u001b[Koperator==\u001b[m\u001b[K(const SpatialIndex::TimePoint&) const\u001b[m\u001b[K'\n",
      "   44 |                 virtual bool \u001b[01;36m\u001b[Koperator\u001b[m\u001b[K==(const TimePoint& p) const;\n",
      "      |                              \u001b[01;36m\u001b[K^~~~~~~~\u001b[m\u001b[K\n",
      "In file included from \u001b[01m\u001b[K../../include/spatialindex/SpatialIndex.h:246\u001b[m\u001b[K:\n",
      "\u001b[01m\u001b[K../../include/spatialindex/Region.h:41:33:\u001b[m\u001b[K \u001b[01;35m\u001b[Kwarning: \u001b[m\u001b[K'\u001b[01m\u001b[Kvirtual SpatialIndex::Region& SpatialIndex::Region::\u001b[01;32m\u001b[Koperator=\u001b[m\u001b[K(const SpatialIndex::Region&)\u001b[m\u001b[K' was hidden [\u001b[01;35m\u001b[K\u001b]8;;https://gcc.gnu.org/onlinedocs/gcc/Warning-Options.html#index-Woverloaded-virtual=\u0007-Woverloaded-virtual=\u001b]8;;\u0007\u001b[m\u001b[K]\n",
      "   41 |                 virtual Region& \u001b[01;35m\u001b[Koperator\u001b[m\u001b[K=(const Region& r);\n",
      "      |                                 \u001b[01;35m\u001b[K^~~~~~~~\u001b[m\u001b[K\n",
      "In file included from \u001b[01m\u001b[K../../include/spatialindex/SpatialIndex.h:249\u001b[m\u001b[K:\n",
      "\u001b[01m\u001b[K../../include/spatialindex/TimeRegion.h:88:43:\u001b[m\u001b[K \u001b[01;36m\u001b[Knote: \u001b[m\u001b[K  by '\u001b[01m\u001b[KSpatialIndex::TimeRegion::operator=\u001b[m\u001b[K'\n",
      "   88 |                 virtual Tools::IInterval& \u001b[01;36m\u001b[Koperator\u001b[m\u001b[K=(const Tools::IInterval&);\n",
      "      |                                           \u001b[01;36m\u001b[K^~~~~~~~\u001b[m\u001b[K\n",
      "\u001b[01m\u001b[K../../include/spatialindex/Region.h:42:30:\u001b[m\u001b[K \u001b[01;35m\u001b[Kwarning: \u001b[m\u001b[K'\u001b[01m\u001b[Kvirtual bool SpatialIndex::Region::\u001b[01;32m\u001b[Koperator==\u001b[m\u001b[K(const SpatialIndex::Region&) const\u001b[m\u001b[K' was hidden [\u001b[01;35m\u001b[K\u001b]8;;https://gcc.gnu.org/onlinedocs/gcc/Warning-Options.html#index-Woverloaded-virtual=\u0007-Woverloaded-virtual=\u001b]8;;\u0007\u001b[m\u001b[K]\n",
      "   42 |                 virtual bool \u001b[01;35m\u001b[Koperator\u001b[m\u001b[K==(const Region&) const;\n",
      "      |                              \u001b[01;35m\u001b[K^~~~~~~~\u001b[m\u001b[K\n",
      "\u001b[01m\u001b[K../../include/spatialindex/TimeRegion.h:47:30:\u001b[m\u001b[K \u001b[01;36m\u001b[Knote: \u001b[m\u001b[K  by '\u001b[01m\u001b[Kvirtual bool SpatialIndex::TimeRegion::\u001b[01;32m\u001b[Koperator==\u001b[m\u001b[K(const SpatialIndex::TimeRegion&) const\u001b[m\u001b[K'\n",
      "   47 |                 virtual bool \u001b[01;36m\u001b[Koperator\u001b[m\u001b[K==(const TimeRegion&) const;\n",
      "      |                              \u001b[01;36m\u001b[K^~~~~~~~\u001b[m\u001b[K\n",
      "\u001b[01m\u001b[K../../include/spatialindex/TimePoint.h:75:43:\u001b[m\u001b[K \u001b[01;35m\u001b[Kwarning: \u001b[m\u001b[K'\u001b[01m\u001b[Kvirtual Tools::IInterval& SpatialIndex::TimePoint::\u001b[01;32m\u001b[Koperator=\u001b[m\u001b[K(const Tools::IInterval&)\u001b[m\u001b[K' was hidden [\u001b[01;35m\u001b[K\u001b]8;;https://gcc.gnu.org/onlinedocs/gcc/Warning-Options.html#index-Woverloaded-virtual=\u0007-Woverloaded-virtual=\u001b]8;;\u0007\u001b[m\u001b[K]\n",
      "   75 |                 virtual Tools::IInterval& \u001b[01;35m\u001b[Koperator\u001b[m\u001b[K=(const Tools::IInterval&);\n",
      "      |                                           \u001b[01;35m\u001b[K^~~~~~~~\u001b[m\u001b[K\n",
      "In file included from \u001b[01m\u001b[K../../include/spatialindex/SpatialIndex.h:250\u001b[m\u001b[K:\n",
      "\u001b[01m\u001b[K../../include/spatialindex/MovingPoint.h:43:38:\u001b[m\u001b[K \u001b[01;36m\u001b[Knote: \u001b[m\u001b[K  by '\u001b[01m\u001b[Kvirtual SpatialIndex::MovingPoint& SpatialIndex::MovingPoint::\u001b[01;32m\u001b[Koperator=\u001b[m\u001b[K(const SpatialIndex::MovingPoint&)\u001b[m\u001b[K'\n",
      "   43 |                 virtual MovingPoint& \u001b[01;36m\u001b[Koperator\u001b[m\u001b[K=(const MovingPoint& p);\n",
      "      |                                      \u001b[01;36m\u001b[K^~~~~~~~\u001b[m\u001b[K\n",
      "\u001b[01m\u001b[K../../include/spatialindex/TimePoint.h:43:36:\u001b[m\u001b[K \u001b[01;35m\u001b[Kwarning: \u001b[m\u001b[K'\u001b[01m\u001b[Kvirtual SpatialIndex::TimePoint& SpatialIndex::TimePoint::\u001b[01;32m\u001b[Koperator=\u001b[m\u001b[K(const SpatialIndex::TimePoint&)\u001b[m\u001b[K' was hidden [\u001b[01;35m\u001b[K\u001b]8;;https://gcc.gnu.org/onlinedocs/gcc/Warning-Options.html#index-Woverloaded-virtual=\u0007-Woverloaded-virtual=\u001b]8;;\u0007\u001b[m\u001b[K]\n",
      "   43 |                 virtual TimePoint& \u001b[01;35m\u001b[Koperator\u001b[m\u001b[K=(const TimePoint& p);\n",
      "      |                                    \u001b[01;35m\u001b[K^~~~~~~~\u001b[m\u001b[K\n",
      "\u001b[01m\u001b[K../../include/spatialindex/MovingPoint.h:43:38:\u001b[m\u001b[K \u001b[01;36m\u001b[Knote: \u001b[m\u001b[K  by '\u001b[01m\u001b[Kvirtual SpatialIndex::MovingPoint& SpatialIndex::MovingPoint::\u001b[01;32m\u001b[Koperator=\u001b[m\u001b[K(const SpatialIndex::MovingPoint&)\u001b[m\u001b[K'\n",
      "   43 |                 virtual MovingPoint& \u001b[01;36m\u001b[Koperator\u001b[m\u001b[K=(const MovingPoint& p);\n",
      "      |                                      \u001b[01;36m\u001b[K^~~~~~~~\u001b[m\u001b[K\n",
      "\u001b[01m\u001b[K../../include/spatialindex/TimePoint.h:44:30:\u001b[m\u001b[K \u001b[01;35m\u001b[Kwarning: \u001b[m\u001b[K'\u001b[01m\u001b[Kvirtual bool SpatialIndex::TimePoint::\u001b[01;32m\u001b[Koperator==\u001b[m\u001b[K(const SpatialIndex::TimePoint&) const\u001b[m\u001b[K' was hidden [\u001b[01;35m\u001b[K\u001b]8;;https://gcc.gnu.org/onlinedocs/gcc/Warning-Options.html#index-Woverloaded-virtual=\u0007-Woverloaded-virtual=\u001b]8;;\u0007\u001b[m\u001b[K]\n",
      "   44 |                 virtual bool \u001b[01;35m\u001b[Koperator\u001b[m\u001b[K==(const TimePoint& p) const;\n",
      "      |                              \u001b[01;35m\u001b[K^~~~~~~~\u001b[m\u001b[K\n",
      "\u001b[01m\u001b[K../../include/spatialindex/MovingPoint.h:44:30:\u001b[m\u001b[K \u001b[01;36m\u001b[Knote: \u001b[m\u001b[K  by '\u001b[01m\u001b[Kvirtual bool SpatialIndex::MovingPoint::\u001b[01;32m\u001b[Koperator==\u001b[m\u001b[K(const SpatialIndex::MovingPoint&) const\u001b[m\u001b[K'\n",
      "   44 |                 virtual bool \u001b[01;36m\u001b[Koperator\u001b[m\u001b[K==(const MovingPoint& p) const;\n",
      "      |                              \u001b[01;36m\u001b[K^~~~~~~~\u001b[m\u001b[K\n",
      "\u001b[01m\u001b[K../../include/spatialindex/TimeRegion.h:88:43:\u001b[m\u001b[K \u001b[01;35m\u001b[Kwarning: \u001b[m\u001b[K'\u001b[01m\u001b[Kvirtual Tools::IInterval& SpatialIndex::TimeRegion::\u001b[01;32m\u001b[Koperator=\u001b[m\u001b[K(const Tools::IInterval&)\u001b[m\u001b[K' was hidden [\u001b[01;35m\u001b[K\u001b]8;;https://gcc.gnu.org/onlinedocs/gcc/Warning-Options.html#index-Woverloaded-virtual=\u0007-Woverloaded-virtual=\u001b]8;;\u0007\u001b[m\u001b[K]\n",
      "   88 |                 virtual Tools::IInterval& \u001b[01;35m\u001b[Koperator\u001b[m\u001b[K=(const Tools::IInterval&);\n",
      "      |                                           \u001b[01;35m\u001b[K^~~~~~~~\u001b[m\u001b[K\n",
      "In file included from \u001b[01m\u001b[K../../include/spatialindex/SpatialIndex.h:251\u001b[m\u001b[K:\n",
      "\u001b[01m\u001b[K../../include/spatialindex/MovingRegion.h:66:39:\u001b[m\u001b[K \u001b[01;36m\u001b[Knote: \u001b[m\u001b[K  by '\u001b[01m\u001b[Kvirtual SpatialIndex::MovingRegion& SpatialIndex::MovingRegion::\u001b[01;32m\u001b[Koperator=\u001b[m\u001b[K(const SpatialIndex::MovingRegion&)\u001b[m\u001b[K'\n",
      "   66 |                 virtual MovingRegion& \u001b[01;36m\u001b[Koperator\u001b[m\u001b[K=(const MovingRegion& r);\n",
      "      |                                       \u001b[01;36m\u001b[K^~~~~~~~\u001b[m\u001b[K\n",
      "\u001b[01m\u001b[K../../include/spatialindex/TimeRegion.h:46:37:\u001b[m\u001b[K \u001b[01;35m\u001b[Kwarning: \u001b[m\u001b[K'\u001b[01m\u001b[Kvirtual SpatialIndex::TimeRegion& SpatialIndex::TimeRegion::\u001b[01;32m\u001b[Koperator=\u001b[m\u001b[K(const SpatialIndex::TimeRegion&)\u001b[m\u001b[K' was hidden [\u001b[01;35m\u001b[K\u001b]8;;https://gcc.gnu.org/onlinedocs/gcc/Warning-Options.html#index-Woverloaded-virtual=\u0007-Woverloaded-virtual=\u001b]8;;\u0007\u001b[m\u001b[K]\n",
      "   46 |                 virtual TimeRegion& \u001b[01;35m\u001b[Koperator\u001b[m\u001b[K=(const TimeRegion& r);\n",
      "      |                                     \u001b[01;35m\u001b[K^~~~~~~~\u001b[m\u001b[K\n",
      "\u001b[01m\u001b[K../../include/spatialindex/MovingRegion.h:66:39:\u001b[m\u001b[K \u001b[01;36m\u001b[Knote: \u001b[m\u001b[K  by '\u001b[01m\u001b[Kvirtual SpatialIndex::MovingRegion& SpatialIndex::MovingRegion::\u001b[01;32m\u001b[Koperator=\u001b[m\u001b[K(const SpatialIndex::MovingRegion&)\u001b[m\u001b[K'\n",
      "   66 |                 virtual MovingRegion& \u001b[01;36m\u001b[Koperator\u001b[m\u001b[K=(const MovingRegion& r);\n",
      "      |                                       \u001b[01;36m\u001b[K^~~~~~~~\u001b[m\u001b[K\n",
      "\u001b[01m\u001b[K../../include/spatialindex/TimeRegion.h:47:30:\u001b[m\u001b[K \u001b[01;35m\u001b[Kwarning: \u001b[m\u001b[K'\u001b[01m\u001b[Kvirtual bool SpatialIndex::TimeRegion::\u001b[01;32m\u001b[Koperator==\u001b[m\u001b[K(const SpatialIndex::TimeRegion&) const\u001b[m\u001b[K' was hidden [\u001b[01;35m\u001b[K\u001b]8;;https://gcc.gnu.org/onlinedocs/gcc/Warning-Options.html#index-Woverloaded-virtual=\u0007-Woverloaded-virtual=\u001b]8;;\u0007\u001b[m\u001b[K]\n",
      "   47 |                 virtual bool \u001b[01;35m\u001b[Koperator\u001b[m\u001b[K==(const TimeRegion&) const;\n",
      "      |                              \u001b[01;35m\u001b[K^~~~~~~~\u001b[m\u001b[K\n",
      "\u001b[01m\u001b[K../../include/spatialindex/MovingRegion.h:67:30:\u001b[m\u001b[K \u001b[01;36m\u001b[Knote: \u001b[m\u001b[K  by '\u001b[01m\u001b[Kvirtual bool SpatialIndex::MovingRegion::\u001b[01;32m\u001b[Koperator==\u001b[m\u001b[K(const SpatialIndex::MovingRegion&) const\u001b[m\u001b[K'\n",
      "   67 |                 virtual bool \u001b[01;36m\u001b[Koperator\u001b[m\u001b[K==(const MovingRegion&) const;\n",
      "      |                              \u001b[01;36m\u001b[K^~~~~~~~\u001b[m\u001b[K\n",
      "libtool: compile:  g++ -DPACKAGE_NAME=\\\"spatialindex\\\" -DPACKAGE_TARNAME=\\\"spatialindex-src\\\" -DPACKAGE_VERSION=\\\"1.8.5\\\" \"-DPACKAGE_STRING=\\\"spatialindex 1.8.5\\\"\" -DPACKAGE_BUGREPORT=\\\"mhadji@gmail.com\\\" -DPACKAGE_URL=\\\"\\\" -DSTDC_HEADERS=1 -DHAVE_SYS_TYPES_H=1 -DHAVE_SYS_STAT_H=1 -DHAVE_STDLIB_H=1 -DHAVE_STRING_H=1 -DHAVE_MEMORY_H=1 -DHAVE_STRINGS_H=1 -DHAVE_INTTYPES_H=1 -DHAVE_STDINT_H=1 -DHAVE_UNISTD_H=1 -DHAVE_DLFCN_H=1 -DLT_OBJDIR=\\\".libs/\\\" -DPACKAGE=\\\"spatialindex-src\\\" -DVERSION=\\\"1.8.5\\\" -DHAVE_FCNTL_H=1 -DHAVE_UNISTD_H=1 -DHAVE_SYS_TYPES_H=1 -DHAVE_SYS_STAT_H=1 -DHAVE_PTHREAD_H=1 -DHAVE_SYS_RESOURCE_H=1 -DHAVE_SYS_TIME_H=1 -DHAVE_STDINT_H=1 -DHAVE_FEATURES_H=1 -DHAVE_GETTIMEOFDAY=1 -DHAVE_MEMSET=1 -DHAVE_MEMCPY=1 -DHAVE_BCOPY=1 -DHAVE_SRAND48=1 -I. -I../../include -I../../include/capi -Wall -Wno-long-long -pedantic -std=c++98 -O2 -DNDEBUG -MT CustomStorage.lo -MD -MP -MF .deps/CustomStorage.Tpo -c CustomStorage.cc -o CustomStorage.o >/dev/null 2>&1\n",
      "depbase=`echo DataStream.lo | sed 's|[^/]*$|.deps/&|;s|\\.lo$||'`;\\\n",
      "/bin/bash ../../libtool  --tag=CXX   --mode=compile g++ -DPACKAGE_NAME=\\\"spatialindex\\\" -DPACKAGE_TARNAME=\\\"spatialindex-src\\\" -DPACKAGE_VERSION=\\\"1.8.5\\\" -DPACKAGE_STRING=\\\"spatialindex\\ 1.8.5\\\" -DPACKAGE_BUGREPORT=\\\"mhadji@gmail.com\\\" -DPACKAGE_URL=\\\"\\\" -DSTDC_HEADERS=1 -DHAVE_SYS_TYPES_H=1 -DHAVE_SYS_STAT_H=1 -DHAVE_STDLIB_H=1 -DHAVE_STRING_H=1 -DHAVE_MEMORY_H=1 -DHAVE_STRINGS_H=1 -DHAVE_INTTYPES_H=1 -DHAVE_STDINT_H=1 -DHAVE_UNISTD_H=1 -DHAVE_DLFCN_H=1 -DLT_OBJDIR=\\\".libs/\\\" -DPACKAGE=\\\"spatialindex-src\\\" -DVERSION=\\\"1.8.5\\\" -DHAVE_FCNTL_H=1 -DHAVE_UNISTD_H=1 -DHAVE_SYS_TYPES_H=1 -DHAVE_SYS_STAT_H=1 -DHAVE_PTHREAD_H=1 -DHAVE_SYS_RESOURCE_H=1 -DHAVE_SYS_TIME_H=1 -DHAVE_STDINT_H=1 -DHAVE_FEATURES_H=1 -DHAVE_GETTIMEOFDAY=1 -DHAVE_MEMSET=1 -DHAVE_MEMCPY=1 -DHAVE_BCOPY=1 -DHAVE_SRAND48=1 -I. -I../../include -I../../include/capi    -Wall -Wno-long-long -pedantic -std=c++98  -O2 -DNDEBUG -MT DataStream.lo -MD -MP -MF $depbase.Tpo -c -o DataStream.lo DataStream.cc &&\\\n",
      "mv -f $depbase.Tpo $depbase.Plo\n",
      "libtool: compile:  g++ -DPACKAGE_NAME=\\\"spatialindex\\\" -DPACKAGE_TARNAME=\\\"spatialindex-src\\\" -DPACKAGE_VERSION=\\\"1.8.5\\\" \"-DPACKAGE_STRING=\\\"spatialindex 1.8.5\\\"\" -DPACKAGE_BUGREPORT=\\\"mhadji@gmail.com\\\" -DPACKAGE_URL=\\\"\\\" -DSTDC_HEADERS=1 -DHAVE_SYS_TYPES_H=1 -DHAVE_SYS_STAT_H=1 -DHAVE_STDLIB_H=1 -DHAVE_STRING_H=1 -DHAVE_MEMORY_H=1 -DHAVE_STRINGS_H=1 -DHAVE_INTTYPES_H=1 -DHAVE_STDINT_H=1 -DHAVE_UNISTD_H=1 -DHAVE_DLFCN_H=1 -DLT_OBJDIR=\\\".libs/\\\" -DPACKAGE=\\\"spatialindex-src\\\" -DVERSION=\\\"1.8.5\\\" -DHAVE_FCNTL_H=1 -DHAVE_UNISTD_H=1 -DHAVE_SYS_TYPES_H=1 -DHAVE_SYS_STAT_H=1 -DHAVE_PTHREAD_H=1 -DHAVE_SYS_RESOURCE_H=1 -DHAVE_SYS_TIME_H=1 -DHAVE_STDINT_H=1 -DHAVE_FEATURES_H=1 -DHAVE_GETTIMEOFDAY=1 -DHAVE_MEMSET=1 -DHAVE_MEMCPY=1 -DHAVE_BCOPY=1 -DHAVE_SRAND48=1 -I. -I../../include -I../../include/capi -Wall -Wno-long-long -pedantic -std=c++98 -O2 -DNDEBUG -MT DataStream.lo -MD -MP -MF .deps/DataStream.Tpo -c DataStream.cc  -fPIC -DPIC -o .libs/DataStream.o\n",
      "In file included from \u001b[01m\u001b[K../../include/spatialindex/SpatialIndex.h:245\u001b[m\u001b[K,\n",
      "                 from \u001b[01m\u001b[K../../include/spatialindex/capi/sidx_config.h:56\u001b[m\u001b[K,\n",
      "                 from \u001b[01m\u001b[K../../include/spatialindex/capi/sidx_impl.h:36\u001b[m\u001b[K,\n",
      "                 from \u001b[01m\u001b[KDataStream.cc:29\u001b[m\u001b[K:\n",
      "\u001b[01m\u001b[K../../include/spatialindex/Point.h:42:32:\u001b[m\u001b[K \u001b[01;35m\u001b[Kwarning: \u001b[m\u001b[K'\u001b[01m\u001b[Kvirtual SpatialIndex::Point& SpatialIndex::Point::\u001b[01;32m\u001b[Koperator=\u001b[m\u001b[K(const SpatialIndex::Point&)\u001b[m\u001b[K' was hidden [\u001b[01;35m\u001b[K\u001b]8;;https://gcc.gnu.org/onlinedocs/gcc/Warning-Options.html#index-Woverloaded-virtual=\u0007-Woverloaded-virtual=\u001b]8;;\u0007\u001b[m\u001b[K]\n",
      "   42 |                 virtual Point& \u001b[01;35m\u001b[Koperator\u001b[m\u001b[K=(const Point& p);\n",
      "      |                                \u001b[01;35m\u001b[K^~~~~~~~\u001b[m\u001b[K\n",
      "In file included from \u001b[01m\u001b[K../../include/spatialindex/SpatialIndex.h:248\u001b[m\u001b[K:\n",
      "\u001b[01m\u001b[K../../include/spatialindex/TimePoint.h:75:43:\u001b[m\u001b[K \u001b[01;36m\u001b[Knote: \u001b[m\u001b[K  by '\u001b[01m\u001b[KSpatialIndex::TimePoint::operator=\u001b[m\u001b[K'\n",
      "   75 |                 virtual Tools::IInterval& \u001b[01;36m\u001b[Koperator\u001b[m\u001b[K=(const Tools::IInterval&);\n",
      "      |                                           \u001b[01;36m\u001b[K^~~~~~~~\u001b[m\u001b[K\n",
      "\u001b[01m\u001b[K../../include/spatialindex/Point.h:43:30:\u001b[m\u001b[K \u001b[01;35m\u001b[Kwarning: \u001b[m\u001b[K'\u001b[01m\u001b[Kvirtual bool SpatialIndex::Point::\u001b[01;32m\u001b[Koperator==\u001b[m\u001b[K(const SpatialIndex::Point&) const\u001b[m\u001b[K' was hidden [\u001b[01;35m\u001b[K\u001b]8;;https://gcc.gnu.org/onlinedocs/gcc/Warning-Options.html#index-Woverloaded-virtual=\u0007-Woverloaded-virtual=\u001b]8;;\u0007\u001b[m\u001b[K]\n",
      "   43 |                 virtual bool \u001b[01;35m\u001b[Koperator\u001b[m\u001b[K==(const Point& p) const;\n",
      "      |                              \u001b[01;35m\u001b[K^~~~~~~~\u001b[m\u001b[K\n",
      "\u001b[01m\u001b[K../../include/spatialindex/TimePoint.h:44:30:\u001b[m\u001b[K \u001b[01;36m\u001b[Knote: \u001b[m\u001b[K  by '\u001b[01m\u001b[Kvirtual bool SpatialIndex::TimePoint::\u001b[01;32m\u001b[Koperator==\u001b[m\u001b[K(const SpatialIndex::TimePoint&) const\u001b[m\u001b[K'\n",
      "   44 |                 virtual bool \u001b[01;36m\u001b[Koperator\u001b[m\u001b[K==(const TimePoint& p) const;\n",
      "      |                              \u001b[01;36m\u001b[K^~~~~~~~\u001b[m\u001b[K\n",
      "In file included from \u001b[01m\u001b[K../../include/spatialindex/SpatialIndex.h:246\u001b[m\u001b[K:\n",
      "\u001b[01m\u001b[K../../include/spatialindex/Region.h:41:33:\u001b[m\u001b[K \u001b[01;35m\u001b[Kwarning: \u001b[m\u001b[K'\u001b[01m\u001b[Kvirtual SpatialIndex::Region& SpatialIndex::Region::\u001b[01;32m\u001b[Koperator=\u001b[m\u001b[K(const SpatialIndex::Region&)\u001b[m\u001b[K' was hidden [\u001b[01;35m\u001b[K\u001b]8;;https://gcc.gnu.org/onlinedocs/gcc/Warning-Options.html#index-Woverloaded-virtual=\u0007-Woverloaded-virtual=\u001b]8;;\u0007\u001b[m\u001b[K]\n",
      "   41 |                 virtual Region& \u001b[01;35m\u001b[Koperator\u001b[m\u001b[K=(const Region& r);\n",
      "      |                                 \u001b[01;35m\u001b[K^~~~~~~~\u001b[m\u001b[K\n",
      "In file included from \u001b[01m\u001b[K../../include/spatialindex/SpatialIndex.h:249\u001b[m\u001b[K:\n",
      "\u001b[01m\u001b[K../../include/spatialindex/TimeRegion.h:88:43:\u001b[m\u001b[K \u001b[01;36m\u001b[Knote: \u001b[m\u001b[K  by '\u001b[01m\u001b[KSpatialIndex::TimeRegion::operator=\u001b[m\u001b[K'\n",
      "   88 |                 virtual Tools::IInterval& \u001b[01;36m\u001b[Koperator\u001b[m\u001b[K=(const Tools::IInterval&);\n",
      "      |                                           \u001b[01;36m\u001b[K^~~~~~~~\u001b[m\u001b[K\n",
      "\u001b[01m\u001b[K../../include/spatialindex/Region.h:42:30:\u001b[m\u001b[K \u001b[01;35m\u001b[Kwarning: \u001b[m\u001b[K'\u001b[01m\u001b[Kvirtual bool SpatialIndex::Region::\u001b[01;32m\u001b[Koperator==\u001b[m\u001b[K(const SpatialIndex::Region&) const\u001b[m\u001b[K' was hidden [\u001b[01;35m\u001b[K\u001b]8;;https://gcc.gnu.org/onlinedocs/gcc/Warning-Options.html#index-Woverloaded-virtual=\u0007-Woverloaded-virtual=\u001b]8;;\u0007\u001b[m\u001b[K]\n",
      "   42 |                 virtual bool \u001b[01;35m\u001b[Koperator\u001b[m\u001b[K==(const Region&) const;\n",
      "      |                              \u001b[01;35m\u001b[K^~~~~~~~\u001b[m\u001b[K\n",
      "\u001b[01m\u001b[K../../include/spatialindex/TimeRegion.h:47:30:\u001b[m\u001b[K \u001b[01;36m\u001b[Knote: \u001b[m\u001b[K  by '\u001b[01m\u001b[Kvirtual bool SpatialIndex::TimeRegion::\u001b[01;32m\u001b[Koperator==\u001b[m\u001b[K(const SpatialIndex::TimeRegion&) const\u001b[m\u001b[K'\n",
      "   47 |                 virtual bool \u001b[01;36m\u001b[Koperator\u001b[m\u001b[K==(const TimeRegion&) const;\n",
      "      |                              \u001b[01;36m\u001b[K^~~~~~~~\u001b[m\u001b[K\n",
      "\u001b[01m\u001b[K../../include/spatialindex/TimePoint.h:75:43:\u001b[m\u001b[K \u001b[01;35m\u001b[Kwarning: \u001b[m\u001b[K'\u001b[01m\u001b[Kvirtual Tools::IInterval& SpatialIndex::TimePoint::\u001b[01;32m\u001b[Koperator=\u001b[m\u001b[K(const Tools::IInterval&)\u001b[m\u001b[K' was hidden [\u001b[01;35m\u001b[K\u001b]8;;https://gcc.gnu.org/onlinedocs/gcc/Warning-Options.html#index-Woverloaded-virtual=\u0007-Woverloaded-virtual=\u001b]8;;\u0007\u001b[m\u001b[K]\n",
      "   75 |                 virtual Tools::IInterval& \u001b[01;35m\u001b[Koperator\u001b[m\u001b[K=(const Tools::IInterval&);\n",
      "      |                                           \u001b[01;35m\u001b[K^~~~~~~~\u001b[m\u001b[K\n",
      "In file included from \u001b[01m\u001b[K../../include/spatialindex/SpatialIndex.h:250\u001b[m\u001b[K:\n",
      "\u001b[01m\u001b[K../../include/spatialindex/MovingPoint.h:43:38:\u001b[m\u001b[K \u001b[01;36m\u001b[Knote: \u001b[m\u001b[K  by '\u001b[01m\u001b[Kvirtual SpatialIndex::MovingPoint& SpatialIndex::MovingPoint::\u001b[01;32m\u001b[Koperator=\u001b[m\u001b[K(const SpatialIndex::MovingPoint&)\u001b[m\u001b[K'\n",
      "   43 |                 virtual MovingPoint& \u001b[01;36m\u001b[Koperator\u001b[m\u001b[K=(const MovingPoint& p);\n",
      "      |                                      \u001b[01;36m\u001b[K^~~~~~~~\u001b[m\u001b[K\n",
      "\u001b[01m\u001b[K../../include/spatialindex/TimePoint.h:43:36:\u001b[m\u001b[K \u001b[01;35m\u001b[Kwarning: \u001b[m\u001b[K'\u001b[01m\u001b[Kvirtual SpatialIndex::TimePoint& SpatialIndex::TimePoint::\u001b[01;32m\u001b[Koperator=\u001b[m\u001b[K(const SpatialIndex::TimePoint&)\u001b[m\u001b[K' was hidden [\u001b[01;35m\u001b[K\u001b]8;;https://gcc.gnu.org/onlinedocs/gcc/Warning-Options.html#index-Woverloaded-virtual=\u0007-Woverloaded-virtual=\u001b]8;;\u0007\u001b[m\u001b[K]\n",
      "   43 |                 virtual TimePoint& \u001b[01;35m\u001b[Koperator\u001b[m\u001b[K=(const TimePoint& p);\n",
      "      |                                    \u001b[01;35m\u001b[K^~~~~~~~\u001b[m\u001b[K\n",
      "\u001b[01m\u001b[K../../include/spatialindex/MovingPoint.h:43:38:\u001b[m\u001b[K \u001b[01;36m\u001b[Knote: \u001b[m\u001b[K  by '\u001b[01m\u001b[Kvirtual SpatialIndex::MovingPoint& SpatialIndex::MovingPoint::\u001b[01;32m\u001b[Koperator=\u001b[m\u001b[K(const SpatialIndex::MovingPoint&)\u001b[m\u001b[K'\n",
      "   43 |                 virtual MovingPoint& \u001b[01;36m\u001b[Koperator\u001b[m\u001b[K=(const MovingPoint& p);\n",
      "      |                                      \u001b[01;36m\u001b[K^~~~~~~~\u001b[m\u001b[K\n",
      "\u001b[01m\u001b[K../../include/spatialindex/TimePoint.h:44:30:\u001b[m\u001b[K \u001b[01;35m\u001b[Kwarning: \u001b[m\u001b[K'\u001b[01m\u001b[Kvirtual bool SpatialIndex::TimePoint::\u001b[01;32m\u001b[Koperator==\u001b[m\u001b[K(const SpatialIndex::TimePoint&) const\u001b[m\u001b[K' was hidden [\u001b[01;35m\u001b[K\u001b]8;;https://gcc.gnu.org/onlinedocs/gcc/Warning-Options.html#index-Woverloaded-virtual=\u0007-Woverloaded-virtual=\u001b]8;;\u0007\u001b[m\u001b[K]\n",
      "   44 |                 virtual bool \u001b[01;35m\u001b[Koperator\u001b[m\u001b[K==(const TimePoint& p) const;\n",
      "      |                              \u001b[01;35m\u001b[K^~~~~~~~\u001b[m\u001b[K\n",
      "\u001b[01m\u001b[K../../include/spatialindex/MovingPoint.h:44:30:\u001b[m\u001b[K \u001b[01;36m\u001b[Knote: \u001b[m\u001b[K  by '\u001b[01m\u001b[Kvirtual bool SpatialIndex::MovingPoint::\u001b[01;32m\u001b[Koperator==\u001b[m\u001b[K(const SpatialIndex::MovingPoint&) const\u001b[m\u001b[K'\n",
      "   44 |                 virtual bool \u001b[01;36m\u001b[Koperator\u001b[m\u001b[K==(const MovingPoint& p) const;\n",
      "      |                              \u001b[01;36m\u001b[K^~~~~~~~\u001b[m\u001b[K\n",
      "\u001b[01m\u001b[K../../include/spatialindex/TimeRegion.h:88:43:\u001b[m\u001b[K \u001b[01;35m\u001b[Kwarning: \u001b[m\u001b[K'\u001b[01m\u001b[Kvirtual Tools::IInterval& SpatialIndex::TimeRegion::\u001b[01;32m\u001b[Koperator=\u001b[m\u001b[K(const Tools::IInterval&)\u001b[m\u001b[K' was hidden [\u001b[01;35m\u001b[K\u001b]8;;https://gcc.gnu.org/onlinedocs/gcc/Warning-Options.html#index-Woverloaded-virtual=\u0007-Woverloaded-virtual=\u001b]8;;\u0007\u001b[m\u001b[K]\n",
      "   88 |                 virtual Tools::IInterval& \u001b[01;35m\u001b[Koperator\u001b[m\u001b[K=(const Tools::IInterval&);\n",
      "      |                                           \u001b[01;35m\u001b[K^~~~~~~~\u001b[m\u001b[K\n",
      "In file included from \u001b[01m\u001b[K../../include/spatialindex/SpatialIndex.h:251\u001b[m\u001b[K:\n",
      "\u001b[01m\u001b[K../../include/spatialindex/MovingRegion.h:66:39:\u001b[m\u001b[K \u001b[01;36m\u001b[Knote: \u001b[m\u001b[K  by '\u001b[01m\u001b[Kvirtual SpatialIndex::MovingRegion& SpatialIndex::MovingRegion::\u001b[01;32m\u001b[Koperator=\u001b[m\u001b[K(const SpatialIndex::MovingRegion&)\u001b[m\u001b[K'\n",
      "   66 |                 virtual MovingRegion& \u001b[01;36m\u001b[Koperator\u001b[m\u001b[K=(const MovingRegion& r);\n",
      "      |                                       \u001b[01;36m\u001b[K^~~~~~~~\u001b[m\u001b[K\n",
      "\u001b[01m\u001b[K../../include/spatialindex/TimeRegion.h:46:37:\u001b[m\u001b[K \u001b[01;35m\u001b[Kwarning: \u001b[m\u001b[K'\u001b[01m\u001b[Kvirtual SpatialIndex::TimeRegion& SpatialIndex::TimeRegion::\u001b[01;32m\u001b[Koperator=\u001b[m\u001b[K(const SpatialIndex::TimeRegion&)\u001b[m\u001b[K' was hidden [\u001b[01;35m\u001b[K\u001b]8;;https://gcc.gnu.org/onlinedocs/gcc/Warning-Options.html#index-Woverloaded-virtual=\u0007-Woverloaded-virtual=\u001b]8;;\u0007\u001b[m\u001b[K]\n",
      "   46 |                 virtual TimeRegion& \u001b[01;35m\u001b[Koperator\u001b[m\u001b[K=(const TimeRegion& r);\n",
      "      |                                     \u001b[01;35m\u001b[K^~~~~~~~\u001b[m\u001b[K\n",
      "\u001b[01m\u001b[K../../include/spatialindex/MovingRegion.h:66:39:\u001b[m\u001b[K \u001b[01;36m\u001b[Knote: \u001b[m\u001b[K  by '\u001b[01m\u001b[Kvirtual SpatialIndex::MovingRegion& SpatialIndex::MovingRegion::\u001b[01;32m\u001b[Koperator=\u001b[m\u001b[K(const SpatialIndex::MovingRegion&)\u001b[m\u001b[K'\n",
      "   66 |                 virtual MovingRegion& \u001b[01;36m\u001b[Koperator\u001b[m\u001b[K=(const MovingRegion& r);\n",
      "      |                                       \u001b[01;36m\u001b[K^~~~~~~~\u001b[m\u001b[K\n",
      "\u001b[01m\u001b[K../../include/spatialindex/TimeRegion.h:47:30:\u001b[m\u001b[K \u001b[01;35m\u001b[Kwarning: \u001b[m\u001b[K'\u001b[01m\u001b[Kvirtual bool SpatialIndex::TimeRegion::\u001b[01;32m\u001b[Koperator==\u001b[m\u001b[K(const SpatialIndex::TimeRegion&) const\u001b[m\u001b[K' was hidden [\u001b[01;35m\u001b[K\u001b]8;;https://gcc.gnu.org/onlinedocs/gcc/Warning-Options.html#index-Woverloaded-virtual=\u0007-Woverloaded-virtual=\u001b]8;;\u0007\u001b[m\u001b[K]\n",
      "   47 |                 virtual bool \u001b[01;35m\u001b[Koperator\u001b[m\u001b[K==(const TimeRegion&) const;\n",
      "      |                              \u001b[01;35m\u001b[K^~~~~~~~\u001b[m\u001b[K\n",
      "\u001b[01m\u001b[K../../include/spatialindex/MovingRegion.h:67:30:\u001b[m\u001b[K \u001b[01;36m\u001b[Knote: \u001b[m\u001b[K  by '\u001b[01m\u001b[Kvirtual bool SpatialIndex::MovingRegion::\u001b[01;32m\u001b[Koperator==\u001b[m\u001b[K(const SpatialIndex::MovingRegion&) const\u001b[m\u001b[K'\n",
      "   67 |                 virtual bool \u001b[01;36m\u001b[Koperator\u001b[m\u001b[K==(const MovingRegion&) const;\n",
      "      |                              \u001b[01;36m\u001b[K^~~~~~~~\u001b[m\u001b[K\n",
      "libtool: compile:  g++ -DPACKAGE_NAME=\\\"spatialindex\\\" -DPACKAGE_TARNAME=\\\"spatialindex-src\\\" -DPACKAGE_VERSION=\\\"1.8.5\\\" \"-DPACKAGE_STRING=\\\"spatialindex 1.8.5\\\"\" -DPACKAGE_BUGREPORT=\\\"mhadji@gmail.com\\\" -DPACKAGE_URL=\\\"\\\" -DSTDC_HEADERS=1 -DHAVE_SYS_TYPES_H=1 -DHAVE_SYS_STAT_H=1 -DHAVE_STDLIB_H=1 -DHAVE_STRING_H=1 -DHAVE_MEMORY_H=1 -DHAVE_STRINGS_H=1 -DHAVE_INTTYPES_H=1 -DHAVE_STDINT_H=1 -DHAVE_UNISTD_H=1 -DHAVE_DLFCN_H=1 -DLT_OBJDIR=\\\".libs/\\\" -DPACKAGE=\\\"spatialindex-src\\\" -DVERSION=\\\"1.8.5\\\" -DHAVE_FCNTL_H=1 -DHAVE_UNISTD_H=1 -DHAVE_SYS_TYPES_H=1 -DHAVE_SYS_STAT_H=1 -DHAVE_PTHREAD_H=1 -DHAVE_SYS_RESOURCE_H=1 -DHAVE_SYS_TIME_H=1 -DHAVE_STDINT_H=1 -DHAVE_FEATURES_H=1 -DHAVE_GETTIMEOFDAY=1 -DHAVE_MEMSET=1 -DHAVE_MEMCPY=1 -DHAVE_BCOPY=1 -DHAVE_SRAND48=1 -I. -I../../include -I../../include/capi -Wall -Wno-long-long -pedantic -std=c++98 -O2 -DNDEBUG -MT DataStream.lo -MD -MP -MF .deps/DataStream.Tpo -c DataStream.cc -o DataStream.o >/dev/null 2>&1\n",
      "depbase=`echo Error.lo | sed 's|[^/]*$|.deps/&|;s|\\.lo$||'`;\\\n",
      "/bin/bash ../../libtool  --tag=CXX   --mode=compile g++ -DPACKAGE_NAME=\\\"spatialindex\\\" -DPACKAGE_TARNAME=\\\"spatialindex-src\\\" -DPACKAGE_VERSION=\\\"1.8.5\\\" -DPACKAGE_STRING=\\\"spatialindex\\ 1.8.5\\\" -DPACKAGE_BUGREPORT=\\\"mhadji@gmail.com\\\" -DPACKAGE_URL=\\\"\\\" -DSTDC_HEADERS=1 -DHAVE_SYS_TYPES_H=1 -DHAVE_SYS_STAT_H=1 -DHAVE_STDLIB_H=1 -DHAVE_STRING_H=1 -DHAVE_MEMORY_H=1 -DHAVE_STRINGS_H=1 -DHAVE_INTTYPES_H=1 -DHAVE_STDINT_H=1 -DHAVE_UNISTD_H=1 -DHAVE_DLFCN_H=1 -DLT_OBJDIR=\\\".libs/\\\" -DPACKAGE=\\\"spatialindex-src\\\" -DVERSION=\\\"1.8.5\\\" -DHAVE_FCNTL_H=1 -DHAVE_UNISTD_H=1 -DHAVE_SYS_TYPES_H=1 -DHAVE_SYS_STAT_H=1 -DHAVE_PTHREAD_H=1 -DHAVE_SYS_RESOURCE_H=1 -DHAVE_SYS_TIME_H=1 -DHAVE_STDINT_H=1 -DHAVE_FEATURES_H=1 -DHAVE_GETTIMEOFDAY=1 -DHAVE_MEMSET=1 -DHAVE_MEMCPY=1 -DHAVE_BCOPY=1 -DHAVE_SRAND48=1 -I. -I../../include -I../../include/capi    -Wall -Wno-long-long -pedantic -std=c++98  -O2 -DNDEBUG -MT Error.lo -MD -MP -MF $depbase.Tpo -c -o Error.lo Error.cc &&\\\n",
      "mv -f $depbase.Tpo $depbase.Plo\n",
      "libtool: compile:  g++ -DPACKAGE_NAME=\\\"spatialindex\\\" -DPACKAGE_TARNAME=\\\"spatialindex-src\\\" -DPACKAGE_VERSION=\\\"1.8.5\\\" \"-DPACKAGE_STRING=\\\"spatialindex 1.8.5\\\"\" -DPACKAGE_BUGREPORT=\\\"mhadji@gmail.com\\\" -DPACKAGE_URL=\\\"\\\" -DSTDC_HEADERS=1 -DHAVE_SYS_TYPES_H=1 -DHAVE_SYS_STAT_H=1 -DHAVE_STDLIB_H=1 -DHAVE_STRING_H=1 -DHAVE_MEMORY_H=1 -DHAVE_STRINGS_H=1 -DHAVE_INTTYPES_H=1 -DHAVE_STDINT_H=1 -DHAVE_UNISTD_H=1 -DHAVE_DLFCN_H=1 -DLT_OBJDIR=\\\".libs/\\\" -DPACKAGE=\\\"spatialindex-src\\\" -DVERSION=\\\"1.8.5\\\" -DHAVE_FCNTL_H=1 -DHAVE_UNISTD_H=1 -DHAVE_SYS_TYPES_H=1 -DHAVE_SYS_STAT_H=1 -DHAVE_PTHREAD_H=1 -DHAVE_SYS_RESOURCE_H=1 -DHAVE_SYS_TIME_H=1 -DHAVE_STDINT_H=1 -DHAVE_FEATURES_H=1 -DHAVE_GETTIMEOFDAY=1 -DHAVE_MEMSET=1 -DHAVE_MEMCPY=1 -DHAVE_BCOPY=1 -DHAVE_SRAND48=1 -I. -I../../include -I../../include/capi -Wall -Wno-long-long -pedantic -std=c++98 -O2 -DNDEBUG -MT Error.lo -MD -MP -MF .deps/Error.Tpo -c Error.cc  -fPIC -DPIC -o .libs/Error.o\n",
      "In file included from \u001b[01m\u001b[K../../include/spatialindex/SpatialIndex.h:245\u001b[m\u001b[K,\n",
      "                 from \u001b[01m\u001b[K../../include/spatialindex/capi/sidx_config.h:56\u001b[m\u001b[K,\n",
      "                 from \u001b[01m\u001b[K../../include/spatialindex/capi/sidx_impl.h:36\u001b[m\u001b[K,\n",
      "                 from \u001b[01m\u001b[KError.cc:29\u001b[m\u001b[K:\n",
      "\u001b[01m\u001b[K../../include/spatialindex/Point.h:42:32:\u001b[m\u001b[K \u001b[01;35m\u001b[Kwarning: \u001b[m\u001b[K'\u001b[01m\u001b[Kvirtual SpatialIndex::Point& SpatialIndex::Point::\u001b[01;32m\u001b[Koperator=\u001b[m\u001b[K(const SpatialIndex::Point&)\u001b[m\u001b[K' was hidden [\u001b[01;35m\u001b[K\u001b]8;;https://gcc.gnu.org/onlinedocs/gcc/Warning-Options.html#index-Woverloaded-virtual=\u0007-Woverloaded-virtual=\u001b]8;;\u0007\u001b[m\u001b[K]\n",
      "   42 |                 virtual Point& \u001b[01;35m\u001b[Koperator\u001b[m\u001b[K=(const Point& p);\n",
      "      |                                \u001b[01;35m\u001b[K^~~~~~~~\u001b[m\u001b[K\n",
      "In file included from \u001b[01m\u001b[K../../include/spatialindex/SpatialIndex.h:248\u001b[m\u001b[K:\n",
      "\u001b[01m\u001b[K../../include/spatialindex/TimePoint.h:75:43:\u001b[m\u001b[K \u001b[01;36m\u001b[Knote: \u001b[m\u001b[K  by '\u001b[01m\u001b[KSpatialIndex::TimePoint::operator=\u001b[m\u001b[K'\n",
      "   75 |                 virtual Tools::IInterval& \u001b[01;36m\u001b[Koperator\u001b[m\u001b[K=(const Tools::IInterval&);\n",
      "      |                                           \u001b[01;36m\u001b[K^~~~~~~~\u001b[m\u001b[K\n",
      "\u001b[01m\u001b[K../../include/spatialindex/Point.h:43:30:\u001b[m\u001b[K \u001b[01;35m\u001b[Kwarning: \u001b[m\u001b[K'\u001b[01m\u001b[Kvirtual bool SpatialIndex::Point::\u001b[01;32m\u001b[Koperator==\u001b[m\u001b[K(const SpatialIndex::Point&) const\u001b[m\u001b[K' was hidden [\u001b[01;35m\u001b[K\u001b]8;;https://gcc.gnu.org/onlinedocs/gcc/Warning-Options.html#index-Woverloaded-virtual=\u0007-Woverloaded-virtual=\u001b]8;;\u0007\u001b[m\u001b[K]\n",
      "   43 |                 virtual bool \u001b[01;35m\u001b[Koperator\u001b[m\u001b[K==(const Point& p) const;\n",
      "      |                              \u001b[01;35m\u001b[K^~~~~~~~\u001b[m\u001b[K\n",
      "\u001b[01m\u001b[K../../include/spatialindex/TimePoint.h:44:30:\u001b[m\u001b[K \u001b[01;36m\u001b[Knote: \u001b[m\u001b[K  by '\u001b[01m\u001b[Kvirtual bool SpatialIndex::TimePoint::\u001b[01;32m\u001b[Koperator==\u001b[m\u001b[K(const SpatialIndex::TimePoint&) const\u001b[m\u001b[K'\n",
      "   44 |                 virtual bool \u001b[01;36m\u001b[Koperator\u001b[m\u001b[K==(const TimePoint& p) const;\n",
      "      |                              \u001b[01;36m\u001b[K^~~~~~~~\u001b[m\u001b[K\n",
      "In file included from \u001b[01m\u001b[K../../include/spatialindex/SpatialIndex.h:246\u001b[m\u001b[K:\n",
      "\u001b[01m\u001b[K../../include/spatialindex/Region.h:41:33:\u001b[m\u001b[K \u001b[01;35m\u001b[Kwarning: \u001b[m\u001b[K'\u001b[01m\u001b[Kvirtual SpatialIndex::Region& SpatialIndex::Region::\u001b[01;32m\u001b[Koperator=\u001b[m\u001b[K(const SpatialIndex::Region&)\u001b[m\u001b[K' was hidden [\u001b[01;35m\u001b[K\u001b]8;;https://gcc.gnu.org/onlinedocs/gcc/Warning-Options.html#index-Woverloaded-virtual=\u0007-Woverloaded-virtual=\u001b]8;;\u0007\u001b[m\u001b[K]\n",
      "   41 |                 virtual Region& \u001b[01;35m\u001b[Koperator\u001b[m\u001b[K=(const Region& r);\n",
      "      |                                 \u001b[01;35m\u001b[K^~~~~~~~\u001b[m\u001b[K\n",
      "In file included from \u001b[01m\u001b[K../../include/spatialindex/SpatialIndex.h:249\u001b[m\u001b[K:\n",
      "\u001b[01m\u001b[K../../include/spatialindex/TimeRegion.h:88:43:\u001b[m\u001b[K \u001b[01;36m\u001b[Knote: \u001b[m\u001b[K  by '\u001b[01m\u001b[KSpatialIndex::TimeRegion::operator=\u001b[m\u001b[K'\n",
      "   88 |                 virtual Tools::IInterval& \u001b[01;36m\u001b[Koperator\u001b[m\u001b[K=(const Tools::IInterval&);\n",
      "      |                                           \u001b[01;36m\u001b[K^~~~~~~~\u001b[m\u001b[K\n",
      "\u001b[01m\u001b[K../../include/spatialindex/Region.h:42:30:\u001b[m\u001b[K \u001b[01;35m\u001b[Kwarning: \u001b[m\u001b[K'\u001b[01m\u001b[Kvirtual bool SpatialIndex::Region::\u001b[01;32m\u001b[Koperator==\u001b[m\u001b[K(const SpatialIndex::Region&) const\u001b[m\u001b[K' was hidden [\u001b[01;35m\u001b[K\u001b]8;;https://gcc.gnu.org/onlinedocs/gcc/Warning-Options.html#index-Woverloaded-virtual=\u0007-Woverloaded-virtual=\u001b]8;;\u0007\u001b[m\u001b[K]\n",
      "   42 |                 virtual bool \u001b[01;35m\u001b[Koperator\u001b[m\u001b[K==(const Region&) const;\n",
      "      |                              \u001b[01;35m\u001b[K^~~~~~~~\u001b[m\u001b[K\n",
      "\u001b[01m\u001b[K../../include/spatialindex/TimeRegion.h:47:30:\u001b[m\u001b[K \u001b[01;36m\u001b[Knote: \u001b[m\u001b[K  by '\u001b[01m\u001b[Kvirtual bool SpatialIndex::TimeRegion::\u001b[01;32m\u001b[Koperator==\u001b[m\u001b[K(const SpatialIndex::TimeRegion&) const\u001b[m\u001b[K'\n",
      "   47 |                 virtual bool \u001b[01;36m\u001b[Koperator\u001b[m\u001b[K==(const TimeRegion&) const;\n",
      "      |                              \u001b[01;36m\u001b[K^~~~~~~~\u001b[m\u001b[K\n",
      "\u001b[01m\u001b[K../../include/spatialindex/TimePoint.h:75:43:\u001b[m\u001b[K \u001b[01;35m\u001b[Kwarning: \u001b[m\u001b[K'\u001b[01m\u001b[Kvirtual Tools::IInterval& SpatialIndex::TimePoint::\u001b[01;32m\u001b[Koperator=\u001b[m\u001b[K(const Tools::IInterval&)\u001b[m\u001b[K' was hidden [\u001b[01;35m\u001b[K\u001b]8;;https://gcc.gnu.org/onlinedocs/gcc/Warning-Options.html#index-Woverloaded-virtual=\u0007-Woverloaded-virtual=\u001b]8;;\u0007\u001b[m\u001b[K]\n",
      "   75 |                 virtual Tools::IInterval& \u001b[01;35m\u001b[Koperator\u001b[m\u001b[K=(const Tools::IInterval&);\n",
      "      |                                           \u001b[01;35m\u001b[K^~~~~~~~\u001b[m\u001b[K\n",
      "In file included from \u001b[01m\u001b[K../../include/spatialindex/SpatialIndex.h:250\u001b[m\u001b[K:\n",
      "\u001b[01m\u001b[K../../include/spatialindex/MovingPoint.h:43:38:\u001b[m\u001b[K \u001b[01;36m\u001b[Knote: \u001b[m\u001b[K  by '\u001b[01m\u001b[Kvirtual SpatialIndex::MovingPoint& SpatialIndex::MovingPoint::\u001b[01;32m\u001b[Koperator=\u001b[m\u001b[K(const SpatialIndex::MovingPoint&)\u001b[m\u001b[K'\n",
      "   43 |                 virtual MovingPoint& \u001b[01;36m\u001b[Koperator\u001b[m\u001b[K=(const MovingPoint& p);\n",
      "      |                                      \u001b[01;36m\u001b[K^~~~~~~~\u001b[m\u001b[K\n",
      "\u001b[01m\u001b[K../../include/spatialindex/TimePoint.h:43:36:\u001b[m\u001b[K \u001b[01;35m\u001b[Kwarning: \u001b[m\u001b[K'\u001b[01m\u001b[Kvirtual SpatialIndex::TimePoint& SpatialIndex::TimePoint::\u001b[01;32m\u001b[Koperator=\u001b[m\u001b[K(const SpatialIndex::TimePoint&)\u001b[m\u001b[K' was hidden [\u001b[01;35m\u001b[K\u001b]8;;https://gcc.gnu.org/onlinedocs/gcc/Warning-Options.html#index-Woverloaded-virtual=\u0007-Woverloaded-virtual=\u001b]8;;\u0007\u001b[m\u001b[K]\n",
      "   43 |                 virtual TimePoint& \u001b[01;35m\u001b[Koperator\u001b[m\u001b[K=(const TimePoint& p);\n",
      "      |                                    \u001b[01;35m\u001b[K^~~~~~~~\u001b[m\u001b[K\n",
      "\u001b[01m\u001b[K../../include/spatialindex/MovingPoint.h:43:38:\u001b[m\u001b[K \u001b[01;36m\u001b[Knote: \u001b[m\u001b[K  by '\u001b[01m\u001b[Kvirtual SpatialIndex::MovingPoint& SpatialIndex::MovingPoint::\u001b[01;32m\u001b[Koperator=\u001b[m\u001b[K(const SpatialIndex::MovingPoint&)\u001b[m\u001b[K'\n",
      "   43 |                 virtual MovingPoint& \u001b[01;36m\u001b[Koperator\u001b[m\u001b[K=(const MovingPoint& p);\n",
      "      |                                      \u001b[01;36m\u001b[K^~~~~~~~\u001b[m\u001b[K\n",
      "\u001b[01m\u001b[K../../include/spatialindex/TimePoint.h:44:30:\u001b[m\u001b[K \u001b[01;35m\u001b[Kwarning: \u001b[m\u001b[K'\u001b[01m\u001b[Kvirtual bool SpatialIndex::TimePoint::\u001b[01;32m\u001b[Koperator==\u001b[m\u001b[K(const SpatialIndex::TimePoint&) const\u001b[m\u001b[K' was hidden [\u001b[01;35m\u001b[K\u001b]8;;https://gcc.gnu.org/onlinedocs/gcc/Warning-Options.html#index-Woverloaded-virtual=\u0007-Woverloaded-virtual=\u001b]8;;\u0007\u001b[m\u001b[K]\n",
      "   44 |                 virtual bool \u001b[01;35m\u001b[Koperator\u001b[m\u001b[K==(const TimePoint& p) const;\n",
      "      |                              \u001b[01;35m\u001b[K^~~~~~~~\u001b[m\u001b[K\n",
      "\u001b[01m\u001b[K../../include/spatialindex/MovingPoint.h:44:30:\u001b[m\u001b[K \u001b[01;36m\u001b[Knote: \u001b[m\u001b[K  by '\u001b[01m\u001b[Kvirtual bool SpatialIndex::MovingPoint::\u001b[01;32m\u001b[Koperator==\u001b[m\u001b[K(const SpatialIndex::MovingPoint&) const\u001b[m\u001b[K'\n",
      "   44 |                 virtual bool \u001b[01;36m\u001b[Koperator\u001b[m\u001b[K==(const MovingPoint& p) const;\n",
      "      |                              \u001b[01;36m\u001b[K^~~~~~~~\u001b[m\u001b[K\n",
      "\u001b[01m\u001b[K../../include/spatialindex/TimeRegion.h:88:43:\u001b[m\u001b[K \u001b[01;35m\u001b[Kwarning: \u001b[m\u001b[K'\u001b[01m\u001b[Kvirtual Tools::IInterval& SpatialIndex::TimeRegion::\u001b[01;32m\u001b[Koperator=\u001b[m\u001b[K(const Tools::IInterval&)\u001b[m\u001b[K' was hidden [\u001b[01;35m\u001b[K\u001b]8;;https://gcc.gnu.org/onlinedocs/gcc/Warning-Options.html#index-Woverloaded-virtual=\u0007-Woverloaded-virtual=\u001b]8;;\u0007\u001b[m\u001b[K]\n",
      "   88 |                 virtual Tools::IInterval& \u001b[01;35m\u001b[Koperator\u001b[m\u001b[K=(const Tools::IInterval&);\n",
      "      |                                           \u001b[01;35m\u001b[K^~~~~~~~\u001b[m\u001b[K\n",
      "In file included from \u001b[01m\u001b[K../../include/spatialindex/SpatialIndex.h:251\u001b[m\u001b[K:\n",
      "\u001b[01m\u001b[K../../include/spatialindex/MovingRegion.h:66:39:\u001b[m\u001b[K \u001b[01;36m\u001b[Knote: \u001b[m\u001b[K  by '\u001b[01m\u001b[Kvirtual SpatialIndex::MovingRegion& SpatialIndex::MovingRegion::\u001b[01;32m\u001b[Koperator=\u001b[m\u001b[K(const SpatialIndex::MovingRegion&)\u001b[m\u001b[K'\n",
      "   66 |                 virtual MovingRegion& \u001b[01;36m\u001b[Koperator\u001b[m\u001b[K=(const MovingRegion& r);\n",
      "      |                                       \u001b[01;36m\u001b[K^~~~~~~~\u001b[m\u001b[K\n",
      "\u001b[01m\u001b[K../../include/spatialindex/TimeRegion.h:46:37:\u001b[m\u001b[K \u001b[01;35m\u001b[Kwarning: \u001b[m\u001b[K'\u001b[01m\u001b[Kvirtual SpatialIndex::TimeRegion& SpatialIndex::TimeRegion::\u001b[01;32m\u001b[Koperator=\u001b[m\u001b[K(const SpatialIndex::TimeRegion&)\u001b[m\u001b[K' was hidden [\u001b[01;35m\u001b[K\u001b]8;;https://gcc.gnu.org/onlinedocs/gcc/Warning-Options.html#index-Woverloaded-virtual=\u0007-Woverloaded-virtual=\u001b]8;;\u0007\u001b[m\u001b[K]\n",
      "   46 |                 virtual TimeRegion& \u001b[01;35m\u001b[Koperator\u001b[m\u001b[K=(const TimeRegion& r);\n",
      "      |                                     \u001b[01;35m\u001b[K^~~~~~~~\u001b[m\u001b[K\n",
      "\u001b[01m\u001b[K../../include/spatialindex/MovingRegion.h:66:39:\u001b[m\u001b[K \u001b[01;36m\u001b[Knote: \u001b[m\u001b[K  by '\u001b[01m\u001b[Kvirtual SpatialIndex::MovingRegion& SpatialIndex::MovingRegion::\u001b[01;32m\u001b[Koperator=\u001b[m\u001b[K(const SpatialIndex::MovingRegion&)\u001b[m\u001b[K'\n",
      "   66 |                 virtual MovingRegion& \u001b[01;36m\u001b[Koperator\u001b[m\u001b[K=(const MovingRegion& r);\n",
      "      |                                       \u001b[01;36m\u001b[K^~~~~~~~\u001b[m\u001b[K\n",
      "\u001b[01m\u001b[K../../include/spatialindex/TimeRegion.h:47:30:\u001b[m\u001b[K \u001b[01;35m\u001b[Kwarning: \u001b[m\u001b[K'\u001b[01m\u001b[Kvirtual bool SpatialIndex::TimeRegion::\u001b[01;32m\u001b[Koperator==\u001b[m\u001b[K(const SpatialIndex::TimeRegion&) const\u001b[m\u001b[K' was hidden [\u001b[01;35m\u001b[K\u001b]8;;https://gcc.gnu.org/onlinedocs/gcc/Warning-Options.html#index-Woverloaded-virtual=\u0007-Woverloaded-virtual=\u001b]8;;\u0007\u001b[m\u001b[K]\n",
      "   47 |                 virtual bool \u001b[01;35m\u001b[Koperator\u001b[m\u001b[K==(const TimeRegion&) const;\n",
      "      |                              \u001b[01;35m\u001b[K^~~~~~~~\u001b[m\u001b[K\n",
      "\u001b[01m\u001b[K../../include/spatialindex/MovingRegion.h:67:30:\u001b[m\u001b[K \u001b[01;36m\u001b[Knote: \u001b[m\u001b[K  by '\u001b[01m\u001b[Kvirtual bool SpatialIndex::MovingRegion::\u001b[01;32m\u001b[Koperator==\u001b[m\u001b[K(const SpatialIndex::MovingRegion&) const\u001b[m\u001b[K'\n",
      "   67 |                 virtual bool \u001b[01;36m\u001b[Koperator\u001b[m\u001b[K==(const MovingRegion&) const;\n",
      "      |                              \u001b[01;36m\u001b[K^~~~~~~~\u001b[m\u001b[K\n",
      "libtool: compile:  g++ -DPACKAGE_NAME=\\\"spatialindex\\\" -DPACKAGE_TARNAME=\\\"spatialindex-src\\\" -DPACKAGE_VERSION=\\\"1.8.5\\\" \"-DPACKAGE_STRING=\\\"spatialindex 1.8.5\\\"\" -DPACKAGE_BUGREPORT=\\\"mhadji@gmail.com\\\" -DPACKAGE_URL=\\\"\\\" -DSTDC_HEADERS=1 -DHAVE_SYS_TYPES_H=1 -DHAVE_SYS_STAT_H=1 -DHAVE_STDLIB_H=1 -DHAVE_STRING_H=1 -DHAVE_MEMORY_H=1 -DHAVE_STRINGS_H=1 -DHAVE_INTTYPES_H=1 -DHAVE_STDINT_H=1 -DHAVE_UNISTD_H=1 -DHAVE_DLFCN_H=1 -DLT_OBJDIR=\\\".libs/\\\" -DPACKAGE=\\\"spatialindex-src\\\" -DVERSION=\\\"1.8.5\\\" -DHAVE_FCNTL_H=1 -DHAVE_UNISTD_H=1 -DHAVE_SYS_TYPES_H=1 -DHAVE_SYS_STAT_H=1 -DHAVE_PTHREAD_H=1 -DHAVE_SYS_RESOURCE_H=1 -DHAVE_SYS_TIME_H=1 -DHAVE_STDINT_H=1 -DHAVE_FEATURES_H=1 -DHAVE_GETTIMEOFDAY=1 -DHAVE_MEMSET=1 -DHAVE_MEMCPY=1 -DHAVE_BCOPY=1 -DHAVE_SRAND48=1 -I. -I../../include -I../../include/capi -Wall -Wno-long-long -pedantic -std=c++98 -O2 -DNDEBUG -MT Error.lo -MD -MP -MF .deps/Error.Tpo -c Error.cc -o Error.o >/dev/null 2>&1\n",
      "depbase=`echo IdVisitor.lo | sed 's|[^/]*$|.deps/&|;s|\\.lo$||'`;\\\n",
      "/bin/bash ../../libtool  --tag=CXX   --mode=compile g++ -DPACKAGE_NAME=\\\"spatialindex\\\" -DPACKAGE_TARNAME=\\\"spatialindex-src\\\" -DPACKAGE_VERSION=\\\"1.8.5\\\" -DPACKAGE_STRING=\\\"spatialindex\\ 1.8.5\\\" -DPACKAGE_BUGREPORT=\\\"mhadji@gmail.com\\\" -DPACKAGE_URL=\\\"\\\" -DSTDC_HEADERS=1 -DHAVE_SYS_TYPES_H=1 -DHAVE_SYS_STAT_H=1 -DHAVE_STDLIB_H=1 -DHAVE_STRING_H=1 -DHAVE_MEMORY_H=1 -DHAVE_STRINGS_H=1 -DHAVE_INTTYPES_H=1 -DHAVE_STDINT_H=1 -DHAVE_UNISTD_H=1 -DHAVE_DLFCN_H=1 -DLT_OBJDIR=\\\".libs/\\\" -DPACKAGE=\\\"spatialindex-src\\\" -DVERSION=\\\"1.8.5\\\" -DHAVE_FCNTL_H=1 -DHAVE_UNISTD_H=1 -DHAVE_SYS_TYPES_H=1 -DHAVE_SYS_STAT_H=1 -DHAVE_PTHREAD_H=1 -DHAVE_SYS_RESOURCE_H=1 -DHAVE_SYS_TIME_H=1 -DHAVE_STDINT_H=1 -DHAVE_FEATURES_H=1 -DHAVE_GETTIMEOFDAY=1 -DHAVE_MEMSET=1 -DHAVE_MEMCPY=1 -DHAVE_BCOPY=1 -DHAVE_SRAND48=1 -I. -I../../include -I../../include/capi    -Wall -Wno-long-long -pedantic -std=c++98  -O2 -DNDEBUG -MT IdVisitor.lo -MD -MP -MF $depbase.Tpo -c -o IdVisitor.lo IdVisitor.cc &&\\\n",
      "mv -f $depbase.Tpo $depbase.Plo\n",
      "libtool: compile:  g++ -DPACKAGE_NAME=\\\"spatialindex\\\" -DPACKAGE_TARNAME=\\\"spatialindex-src\\\" -DPACKAGE_VERSION=\\\"1.8.5\\\" \"-DPACKAGE_STRING=\\\"spatialindex 1.8.5\\\"\" -DPACKAGE_BUGREPORT=\\\"mhadji@gmail.com\\\" -DPACKAGE_URL=\\\"\\\" -DSTDC_HEADERS=1 -DHAVE_SYS_TYPES_H=1 -DHAVE_SYS_STAT_H=1 -DHAVE_STDLIB_H=1 -DHAVE_STRING_H=1 -DHAVE_MEMORY_H=1 -DHAVE_STRINGS_H=1 -DHAVE_INTTYPES_H=1 -DHAVE_STDINT_H=1 -DHAVE_UNISTD_H=1 -DHAVE_DLFCN_H=1 -DLT_OBJDIR=\\\".libs/\\\" -DPACKAGE=\\\"spatialindex-src\\\" -DVERSION=\\\"1.8.5\\\" -DHAVE_FCNTL_H=1 -DHAVE_UNISTD_H=1 -DHAVE_SYS_TYPES_H=1 -DHAVE_SYS_STAT_H=1 -DHAVE_PTHREAD_H=1 -DHAVE_SYS_RESOURCE_H=1 -DHAVE_SYS_TIME_H=1 -DHAVE_STDINT_H=1 -DHAVE_FEATURES_H=1 -DHAVE_GETTIMEOFDAY=1 -DHAVE_MEMSET=1 -DHAVE_MEMCPY=1 -DHAVE_BCOPY=1 -DHAVE_SRAND48=1 -I. -I../../include -I../../include/capi -Wall -Wno-long-long -pedantic -std=c++98 -O2 -DNDEBUG -MT IdVisitor.lo -MD -MP -MF .deps/IdVisitor.Tpo -c IdVisitor.cc  -fPIC -DPIC -o .libs/IdVisitor.o\n",
      "In file included from \u001b[01m\u001b[K../../include/spatialindex/SpatialIndex.h:245\u001b[m\u001b[K,\n",
      "                 from \u001b[01m\u001b[K../../include/spatialindex/capi/sidx_config.h:56\u001b[m\u001b[K,\n",
      "                 from \u001b[01m\u001b[K../../include/spatialindex/capi/sidx_impl.h:36\u001b[m\u001b[K,\n",
      "                 from \u001b[01m\u001b[KIdVisitor.cc:29\u001b[m\u001b[K:\n",
      "\u001b[01m\u001b[K../../include/spatialindex/Point.h:42:32:\u001b[m\u001b[K \u001b[01;35m\u001b[Kwarning: \u001b[m\u001b[K'\u001b[01m\u001b[Kvirtual SpatialIndex::Point& SpatialIndex::Point::\u001b[01;32m\u001b[Koperator=\u001b[m\u001b[K(const SpatialIndex::Point&)\u001b[m\u001b[K' was hidden [\u001b[01;35m\u001b[K\u001b]8;;https://gcc.gnu.org/onlinedocs/gcc/Warning-Options.html#index-Woverloaded-virtual=\u0007-Woverloaded-virtual=\u001b]8;;\u0007\u001b[m\u001b[K]\n",
      "   42 |                 virtual Point& \u001b[01;35m\u001b[Koperator\u001b[m\u001b[K=(const Point& p);\n",
      "      |                                \u001b[01;35m\u001b[K^~~~~~~~\u001b[m\u001b[K\n",
      "In file included from \u001b[01m\u001b[K../../include/spatialindex/SpatialIndex.h:248\u001b[m\u001b[K:\n",
      "\u001b[01m\u001b[K../../include/spatialindex/TimePoint.h:75:43:\u001b[m\u001b[K \u001b[01;36m\u001b[Knote: \u001b[m\u001b[K  by '\u001b[01m\u001b[KSpatialIndex::TimePoint::operator=\u001b[m\u001b[K'\n",
      "   75 |                 virtual Tools::IInterval& \u001b[01;36m\u001b[Koperator\u001b[m\u001b[K=(const Tools::IInterval&);\n",
      "      |                                           \u001b[01;36m\u001b[K^~~~~~~~\u001b[m\u001b[K\n",
      "\u001b[01m\u001b[K../../include/spatialindex/Point.h:43:30:\u001b[m\u001b[K \u001b[01;35m\u001b[Kwarning: \u001b[m\u001b[K'\u001b[01m\u001b[Kvirtual bool SpatialIndex::Point::\u001b[01;32m\u001b[Koperator==\u001b[m\u001b[K(const SpatialIndex::Point&) const\u001b[m\u001b[K' was hidden [\u001b[01;35m\u001b[K\u001b]8;;https://gcc.gnu.org/onlinedocs/gcc/Warning-Options.html#index-Woverloaded-virtual=\u0007-Woverloaded-virtual=\u001b]8;;\u0007\u001b[m\u001b[K]\n",
      "   43 |                 virtual bool \u001b[01;35m\u001b[Koperator\u001b[m\u001b[K==(const Point& p) const;\n",
      "      |                              \u001b[01;35m\u001b[K^~~~~~~~\u001b[m\u001b[K\n",
      "\u001b[01m\u001b[K../../include/spatialindex/TimePoint.h:44:30:\u001b[m\u001b[K \u001b[01;36m\u001b[Knote: \u001b[m\u001b[K  by '\u001b[01m\u001b[Kvirtual bool SpatialIndex::TimePoint::\u001b[01;32m\u001b[Koperator==\u001b[m\u001b[K(const SpatialIndex::TimePoint&) const\u001b[m\u001b[K'\n",
      "   44 |                 virtual bool \u001b[01;36m\u001b[Koperator\u001b[m\u001b[K==(const TimePoint& p) const;\n",
      "      |                              \u001b[01;36m\u001b[K^~~~~~~~\u001b[m\u001b[K\n",
      "In file included from \u001b[01m\u001b[K../../include/spatialindex/SpatialIndex.h:246\u001b[m\u001b[K:\n",
      "\u001b[01m\u001b[K../../include/spatialindex/Region.h:41:33:\u001b[m\u001b[K \u001b[01;35m\u001b[Kwarning: \u001b[m\u001b[K'\u001b[01m\u001b[Kvirtual SpatialIndex::Region& SpatialIndex::Region::\u001b[01;32m\u001b[Koperator=\u001b[m\u001b[K(const SpatialIndex::Region&)\u001b[m\u001b[K' was hidden [\u001b[01;35m\u001b[K\u001b]8;;https://gcc.gnu.org/onlinedocs/gcc/Warning-Options.html#index-Woverloaded-virtual=\u0007-Woverloaded-virtual=\u001b]8;;\u0007\u001b[m\u001b[K]\n",
      "   41 |                 virtual Region& \u001b[01;35m\u001b[Koperator\u001b[m\u001b[K=(const Region& r);\n",
      "      |                                 \u001b[01;35m\u001b[K^~~~~~~~\u001b[m\u001b[K\n",
      "In file included from \u001b[01m\u001b[K../../include/spatialindex/SpatialIndex.h:249\u001b[m\u001b[K:\n",
      "\u001b[01m\u001b[K../../include/spatialindex/TimeRegion.h:88:43:\u001b[m\u001b[K \u001b[01;36m\u001b[Knote: \u001b[m\u001b[K  by '\u001b[01m\u001b[KSpatialIndex::TimeRegion::operator=\u001b[m\u001b[K'\n",
      "   88 |                 virtual Tools::IInterval& \u001b[01;36m\u001b[Koperator\u001b[m\u001b[K=(const Tools::IInterval&);\n",
      "      |                                           \u001b[01;36m\u001b[K^~~~~~~~\u001b[m\u001b[K\n",
      "\u001b[01m\u001b[K../../include/spatialindex/Region.h:42:30:\u001b[m\u001b[K \u001b[01;35m\u001b[Kwarning: \u001b[m\u001b[K'\u001b[01m\u001b[Kvirtual bool SpatialIndex::Region::\u001b[01;32m\u001b[Koperator==\u001b[m\u001b[K(const SpatialIndex::Region&) const\u001b[m\u001b[K' was hidden [\u001b[01;35m\u001b[K\u001b]8;;https://gcc.gnu.org/onlinedocs/gcc/Warning-Options.html#index-Woverloaded-virtual=\u0007-Woverloaded-virtual=\u001b]8;;\u0007\u001b[m\u001b[K]\n",
      "   42 |                 virtual bool \u001b[01;35m\u001b[Koperator\u001b[m\u001b[K==(const Region&) const;\n",
      "      |                              \u001b[01;35m\u001b[K^~~~~~~~\u001b[m\u001b[K\n",
      "\u001b[01m\u001b[K../../include/spatialindex/TimeRegion.h:47:30:\u001b[m\u001b[K \u001b[01;36m\u001b[Knote: \u001b[m\u001b[K  by '\u001b[01m\u001b[Kvirtual bool SpatialIndex::TimeRegion::\u001b[01;32m\u001b[Koperator==\u001b[m\u001b[K(const SpatialIndex::TimeRegion&) const\u001b[m\u001b[K'\n",
      "   47 |                 virtual bool \u001b[01;36m\u001b[Koperator\u001b[m\u001b[K==(const TimeRegion&) const;\n",
      "      |                              \u001b[01;36m\u001b[K^~~~~~~~\u001b[m\u001b[K\n",
      "\u001b[01m\u001b[K../../include/spatialindex/TimePoint.h:75:43:\u001b[m\u001b[K \u001b[01;35m\u001b[Kwarning: \u001b[m\u001b[K'\u001b[01m\u001b[Kvirtual Tools::IInterval& SpatialIndex::TimePoint::\u001b[01;32m\u001b[Koperator=\u001b[m\u001b[K(const Tools::IInterval&)\u001b[m\u001b[K' was hidden [\u001b[01;35m\u001b[K\u001b]8;;https://gcc.gnu.org/onlinedocs/gcc/Warning-Options.html#index-Woverloaded-virtual=\u0007-Woverloaded-virtual=\u001b]8;;\u0007\u001b[m\u001b[K]\n",
      "   75 |                 virtual Tools::IInterval& \u001b[01;35m\u001b[Koperator\u001b[m\u001b[K=(const Tools::IInterval&);\n",
      "      |                                           \u001b[01;35m\u001b[K^~~~~~~~\u001b[m\u001b[K\n",
      "In file included from \u001b[01m\u001b[K../../include/spatialindex/SpatialIndex.h:250\u001b[m\u001b[K:\n",
      "\u001b[01m\u001b[K../../include/spatialindex/MovingPoint.h:43:38:\u001b[m\u001b[K \u001b[01;36m\u001b[Knote: \u001b[m\u001b[K  by '\u001b[01m\u001b[Kvirtual SpatialIndex::MovingPoint& SpatialIndex::MovingPoint::\u001b[01;32m\u001b[Koperator=\u001b[m\u001b[K(const SpatialIndex::MovingPoint&)\u001b[m\u001b[K'\n",
      "   43 |                 virtual MovingPoint& \u001b[01;36m\u001b[Koperator\u001b[m\u001b[K=(const MovingPoint& p);\n",
      "      |                                      \u001b[01;36m\u001b[K^~~~~~~~\u001b[m\u001b[K\n",
      "\u001b[01m\u001b[K../../include/spatialindex/TimePoint.h:43:36:\u001b[m\u001b[K \u001b[01;35m\u001b[Kwarning: \u001b[m\u001b[K'\u001b[01m\u001b[Kvirtual SpatialIndex::TimePoint& SpatialIndex::TimePoint::\u001b[01;32m\u001b[Koperator=\u001b[m\u001b[K(const SpatialIndex::TimePoint&)\u001b[m\u001b[K' was hidden [\u001b[01;35m\u001b[K\u001b]8;;https://gcc.gnu.org/onlinedocs/gcc/Warning-Options.html#index-Woverloaded-virtual=\u0007-Woverloaded-virtual=\u001b]8;;\u0007\u001b[m\u001b[K]\n",
      "   43 |                 virtual TimePoint& \u001b[01;35m\u001b[Koperator\u001b[m\u001b[K=(const TimePoint& p);\n",
      "      |                                    \u001b[01;35m\u001b[K^~~~~~~~\u001b[m\u001b[K\n",
      "\u001b[01m\u001b[K../../include/spatialindex/MovingPoint.h:43:38:\u001b[m\u001b[K \u001b[01;36m\u001b[Knote: \u001b[m\u001b[K  by '\u001b[01m\u001b[Kvirtual SpatialIndex::MovingPoint& SpatialIndex::MovingPoint::\u001b[01;32m\u001b[Koperator=\u001b[m\u001b[K(const SpatialIndex::MovingPoint&)\u001b[m\u001b[K'\n",
      "   43 |                 virtual MovingPoint& \u001b[01;36m\u001b[Koperator\u001b[m\u001b[K=(const MovingPoint& p);\n",
      "      |                                      \u001b[01;36m\u001b[K^~~~~~~~\u001b[m\u001b[K\n",
      "\u001b[01m\u001b[K../../include/spatialindex/TimePoint.h:44:30:\u001b[m\u001b[K \u001b[01;35m\u001b[Kwarning: \u001b[m\u001b[K'\u001b[01m\u001b[Kvirtual bool SpatialIndex::TimePoint::\u001b[01;32m\u001b[Koperator==\u001b[m\u001b[K(const SpatialIndex::TimePoint&) const\u001b[m\u001b[K' was hidden [\u001b[01;35m\u001b[K\u001b]8;;https://gcc.gnu.org/onlinedocs/gcc/Warning-Options.html#index-Woverloaded-virtual=\u0007-Woverloaded-virtual=\u001b]8;;\u0007\u001b[m\u001b[K]\n",
      "   44 |                 virtual bool \u001b[01;35m\u001b[Koperator\u001b[m\u001b[K==(const TimePoint& p) const;\n",
      "      |                              \u001b[01;35m\u001b[K^~~~~~~~\u001b[m\u001b[K\n",
      "\u001b[01m\u001b[K../../include/spatialindex/MovingPoint.h:44:30:\u001b[m\u001b[K \u001b[01;36m\u001b[Knote: \u001b[m\u001b[K  by '\u001b[01m\u001b[Kvirtual bool SpatialIndex::MovingPoint::\u001b[01;32m\u001b[Koperator==\u001b[m\u001b[K(const SpatialIndex::MovingPoint&) const\u001b[m\u001b[K'\n",
      "   44 |                 virtual bool \u001b[01;36m\u001b[Koperator\u001b[m\u001b[K==(const MovingPoint& p) const;\n",
      "      |                              \u001b[01;36m\u001b[K^~~~~~~~\u001b[m\u001b[K\n",
      "\u001b[01m\u001b[K../../include/spatialindex/TimeRegion.h:88:43:\u001b[m\u001b[K \u001b[01;35m\u001b[Kwarning: \u001b[m\u001b[K'\u001b[01m\u001b[Kvirtual Tools::IInterval& SpatialIndex::TimeRegion::\u001b[01;32m\u001b[Koperator=\u001b[m\u001b[K(const Tools::IInterval&)\u001b[m\u001b[K' was hidden [\u001b[01;35m\u001b[K\u001b]8;;https://gcc.gnu.org/onlinedocs/gcc/Warning-Options.html#index-Woverloaded-virtual=\u0007-Woverloaded-virtual=\u001b]8;;\u0007\u001b[m\u001b[K]\n",
      "   88 |                 virtual Tools::IInterval& \u001b[01;35m\u001b[Koperator\u001b[m\u001b[K=(const Tools::IInterval&);\n",
      "      |                                           \u001b[01;35m\u001b[K^~~~~~~~\u001b[m\u001b[K\n",
      "In file included from \u001b[01m\u001b[K../../include/spatialindex/SpatialIndex.h:251\u001b[m\u001b[K:\n",
      "\u001b[01m\u001b[K../../include/spatialindex/MovingRegion.h:66:39:\u001b[m\u001b[K \u001b[01;36m\u001b[Knote: \u001b[m\u001b[K  by '\u001b[01m\u001b[Kvirtual SpatialIndex::MovingRegion& SpatialIndex::MovingRegion::\u001b[01;32m\u001b[Koperator=\u001b[m\u001b[K(const SpatialIndex::MovingRegion&)\u001b[m\u001b[K'\n",
      "   66 |                 virtual MovingRegion& \u001b[01;36m\u001b[Koperator\u001b[m\u001b[K=(const MovingRegion& r);\n",
      "      |                                       \u001b[01;36m\u001b[K^~~~~~~~\u001b[m\u001b[K\n",
      "\u001b[01m\u001b[K../../include/spatialindex/TimeRegion.h:46:37:\u001b[m\u001b[K \u001b[01;35m\u001b[Kwarning: \u001b[m\u001b[K'\u001b[01m\u001b[Kvirtual SpatialIndex::TimeRegion& SpatialIndex::TimeRegion::\u001b[01;32m\u001b[Koperator=\u001b[m\u001b[K(const SpatialIndex::TimeRegion&)\u001b[m\u001b[K' was hidden [\u001b[01;35m\u001b[K\u001b]8;;https://gcc.gnu.org/onlinedocs/gcc/Warning-Options.html#index-Woverloaded-virtual=\u0007-Woverloaded-virtual=\u001b]8;;\u0007\u001b[m\u001b[K]\n",
      "   46 |                 virtual TimeRegion& \u001b[01;35m\u001b[Koperator\u001b[m\u001b[K=(const TimeRegion& r);\n",
      "      |                                     \u001b[01;35m\u001b[K^~~~~~~~\u001b[m\u001b[K\n",
      "\u001b[01m\u001b[K../../include/spatialindex/MovingRegion.h:66:39:\u001b[m\u001b[K \u001b[01;36m\u001b[Knote: \u001b[m\u001b[K  by '\u001b[01m\u001b[Kvirtual SpatialIndex::MovingRegion& SpatialIndex::MovingRegion::\u001b[01;32m\u001b[Koperator=\u001b[m\u001b[K(const SpatialIndex::MovingRegion&)\u001b[m\u001b[K'\n",
      "   66 |                 virtual MovingRegion& \u001b[01;36m\u001b[Koperator\u001b[m\u001b[K=(const MovingRegion& r);\n",
      "      |                                       \u001b[01;36m\u001b[K^~~~~~~~\u001b[m\u001b[K\n",
      "\u001b[01m\u001b[K../../include/spatialindex/TimeRegion.h:47:30:\u001b[m\u001b[K \u001b[01;35m\u001b[Kwarning: \u001b[m\u001b[K'\u001b[01m\u001b[Kvirtual bool SpatialIndex::TimeRegion::\u001b[01;32m\u001b[Koperator==\u001b[m\u001b[K(const SpatialIndex::TimeRegion&) const\u001b[m\u001b[K' was hidden [\u001b[01;35m\u001b[K\u001b]8;;https://gcc.gnu.org/onlinedocs/gcc/Warning-Options.html#index-Woverloaded-virtual=\u0007-Woverloaded-virtual=\u001b]8;;\u0007\u001b[m\u001b[K]\n",
      "   47 |                 virtual bool \u001b[01;35m\u001b[Koperator\u001b[m\u001b[K==(const TimeRegion&) const;\n",
      "      |                              \u001b[01;35m\u001b[K^~~~~~~~\u001b[m\u001b[K\n",
      "\u001b[01m\u001b[K../../include/spatialindex/MovingRegion.h:67:30:\u001b[m\u001b[K \u001b[01;36m\u001b[Knote: \u001b[m\u001b[K  by '\u001b[01m\u001b[Kvirtual bool SpatialIndex::MovingRegion::\u001b[01;32m\u001b[Koperator==\u001b[m\u001b[K(const SpatialIndex::MovingRegion&) const\u001b[m\u001b[K'\n",
      "   67 |                 virtual bool \u001b[01;36m\u001b[Koperator\u001b[m\u001b[K==(const MovingRegion&) const;\n",
      "      |                              \u001b[01;36m\u001b[K^~~~~~~~\u001b[m\u001b[K\n",
      "libtool: compile:  g++ -DPACKAGE_NAME=\\\"spatialindex\\\" -DPACKAGE_TARNAME=\\\"spatialindex-src\\\" -DPACKAGE_VERSION=\\\"1.8.5\\\" \"-DPACKAGE_STRING=\\\"spatialindex 1.8.5\\\"\" -DPACKAGE_BUGREPORT=\\\"mhadji@gmail.com\\\" -DPACKAGE_URL=\\\"\\\" -DSTDC_HEADERS=1 -DHAVE_SYS_TYPES_H=1 -DHAVE_SYS_STAT_H=1 -DHAVE_STDLIB_H=1 -DHAVE_STRING_H=1 -DHAVE_MEMORY_H=1 -DHAVE_STRINGS_H=1 -DHAVE_INTTYPES_H=1 -DHAVE_STDINT_H=1 -DHAVE_UNISTD_H=1 -DHAVE_DLFCN_H=1 -DLT_OBJDIR=\\\".libs/\\\" -DPACKAGE=\\\"spatialindex-src\\\" -DVERSION=\\\"1.8.5\\\" -DHAVE_FCNTL_H=1 -DHAVE_UNISTD_H=1 -DHAVE_SYS_TYPES_H=1 -DHAVE_SYS_STAT_H=1 -DHAVE_PTHREAD_H=1 -DHAVE_SYS_RESOURCE_H=1 -DHAVE_SYS_TIME_H=1 -DHAVE_STDINT_H=1 -DHAVE_FEATURES_H=1 -DHAVE_GETTIMEOFDAY=1 -DHAVE_MEMSET=1 -DHAVE_MEMCPY=1 -DHAVE_BCOPY=1 -DHAVE_SRAND48=1 -I. -I../../include -I../../include/capi -Wall -Wno-long-long -pedantic -std=c++98 -O2 -DNDEBUG -MT IdVisitor.lo -MD -MP -MF .deps/IdVisitor.Tpo -c IdVisitor.cc -o IdVisitor.o >/dev/null 2>&1\n",
      "depbase=`echo Index.lo | sed 's|[^/]*$|.deps/&|;s|\\.lo$||'`;\\\n",
      "/bin/bash ../../libtool  --tag=CXX   --mode=compile g++ -DPACKAGE_NAME=\\\"spatialindex\\\" -DPACKAGE_TARNAME=\\\"spatialindex-src\\\" -DPACKAGE_VERSION=\\\"1.8.5\\\" -DPACKAGE_STRING=\\\"spatialindex\\ 1.8.5\\\" -DPACKAGE_BUGREPORT=\\\"mhadji@gmail.com\\\" -DPACKAGE_URL=\\\"\\\" -DSTDC_HEADERS=1 -DHAVE_SYS_TYPES_H=1 -DHAVE_SYS_STAT_H=1 -DHAVE_STDLIB_H=1 -DHAVE_STRING_H=1 -DHAVE_MEMORY_H=1 -DHAVE_STRINGS_H=1 -DHAVE_INTTYPES_H=1 -DHAVE_STDINT_H=1 -DHAVE_UNISTD_H=1 -DHAVE_DLFCN_H=1 -DLT_OBJDIR=\\\".libs/\\\" -DPACKAGE=\\\"spatialindex-src\\\" -DVERSION=\\\"1.8.5\\\" -DHAVE_FCNTL_H=1 -DHAVE_UNISTD_H=1 -DHAVE_SYS_TYPES_H=1 -DHAVE_SYS_STAT_H=1 -DHAVE_PTHREAD_H=1 -DHAVE_SYS_RESOURCE_H=1 -DHAVE_SYS_TIME_H=1 -DHAVE_STDINT_H=1 -DHAVE_FEATURES_H=1 -DHAVE_GETTIMEOFDAY=1 -DHAVE_MEMSET=1 -DHAVE_MEMCPY=1 -DHAVE_BCOPY=1 -DHAVE_SRAND48=1 -I. -I../../include -I../../include/capi    -Wall -Wno-long-long -pedantic -std=c++98  -O2 -DNDEBUG -MT Index.lo -MD -MP -MF $depbase.Tpo -c -o Index.lo Index.cc &&\\\n",
      "mv -f $depbase.Tpo $depbase.Plo\n",
      "libtool: compile:  g++ -DPACKAGE_NAME=\\\"spatialindex\\\" -DPACKAGE_TARNAME=\\\"spatialindex-src\\\" -DPACKAGE_VERSION=\\\"1.8.5\\\" \"-DPACKAGE_STRING=\\\"spatialindex 1.8.5\\\"\" -DPACKAGE_BUGREPORT=\\\"mhadji@gmail.com\\\" -DPACKAGE_URL=\\\"\\\" -DSTDC_HEADERS=1 -DHAVE_SYS_TYPES_H=1 -DHAVE_SYS_STAT_H=1 -DHAVE_STDLIB_H=1 -DHAVE_STRING_H=1 -DHAVE_MEMORY_H=1 -DHAVE_STRINGS_H=1 -DHAVE_INTTYPES_H=1 -DHAVE_STDINT_H=1 -DHAVE_UNISTD_H=1 -DHAVE_DLFCN_H=1 -DLT_OBJDIR=\\\".libs/\\\" -DPACKAGE=\\\"spatialindex-src\\\" -DVERSION=\\\"1.8.5\\\" -DHAVE_FCNTL_H=1 -DHAVE_UNISTD_H=1 -DHAVE_SYS_TYPES_H=1 -DHAVE_SYS_STAT_H=1 -DHAVE_PTHREAD_H=1 -DHAVE_SYS_RESOURCE_H=1 -DHAVE_SYS_TIME_H=1 -DHAVE_STDINT_H=1 -DHAVE_FEATURES_H=1 -DHAVE_GETTIMEOFDAY=1 -DHAVE_MEMSET=1 -DHAVE_MEMCPY=1 -DHAVE_BCOPY=1 -DHAVE_SRAND48=1 -I. -I../../include -I../../include/capi -Wall -Wno-long-long -pedantic -std=c++98 -O2 -DNDEBUG -MT Index.lo -MD -MP -MF .deps/Index.Tpo -c Index.cc  -fPIC -DPIC -o .libs/Index.o\n",
      "In file included from \u001b[01m\u001b[K../../include/spatialindex/SpatialIndex.h:245\u001b[m\u001b[K,\n",
      "                 from \u001b[01m\u001b[K../../include/spatialindex/capi/sidx_config.h:56\u001b[m\u001b[K,\n",
      "                 from \u001b[01m\u001b[K../../include/spatialindex/capi/sidx_impl.h:36\u001b[m\u001b[K,\n",
      "                 from \u001b[01m\u001b[KIndex.cc:29\u001b[m\u001b[K:\n",
      "\u001b[01m\u001b[K../../include/spatialindex/Point.h:42:32:\u001b[m\u001b[K \u001b[01;35m\u001b[Kwarning: \u001b[m\u001b[K'\u001b[01m\u001b[Kvirtual SpatialIndex::Point& SpatialIndex::Point::\u001b[01;32m\u001b[Koperator=\u001b[m\u001b[K(const SpatialIndex::Point&)\u001b[m\u001b[K' was hidden [\u001b[01;35m\u001b[K\u001b]8;;https://gcc.gnu.org/onlinedocs/gcc/Warning-Options.html#index-Woverloaded-virtual=\u0007-Woverloaded-virtual=\u001b]8;;\u0007\u001b[m\u001b[K]\n",
      "   42 |                 virtual Point& \u001b[01;35m\u001b[Koperator\u001b[m\u001b[K=(const Point& p);\n",
      "      |                                \u001b[01;35m\u001b[K^~~~~~~~\u001b[m\u001b[K\n",
      "In file included from \u001b[01m\u001b[K../../include/spatialindex/SpatialIndex.h:248\u001b[m\u001b[K:\n",
      "\u001b[01m\u001b[K../../include/spatialindex/TimePoint.h:75:43:\u001b[m\u001b[K \u001b[01;36m\u001b[Knote: \u001b[m\u001b[K  by '\u001b[01m\u001b[KSpatialIndex::TimePoint::operator=\u001b[m\u001b[K'\n",
      "   75 |                 virtual Tools::IInterval& \u001b[01;36m\u001b[Koperator\u001b[m\u001b[K=(const Tools::IInterval&);\n",
      "      |                                           \u001b[01;36m\u001b[K^~~~~~~~\u001b[m\u001b[K\n",
      "\u001b[01m\u001b[K../../include/spatialindex/Point.h:43:30:\u001b[m\u001b[K \u001b[01;35m\u001b[Kwarning: \u001b[m\u001b[K'\u001b[01m\u001b[Kvirtual bool SpatialIndex::Point::\u001b[01;32m\u001b[Koperator==\u001b[m\u001b[K(const SpatialIndex::Point&) const\u001b[m\u001b[K' was hidden [\u001b[01;35m\u001b[K\u001b]8;;https://gcc.gnu.org/onlinedocs/gcc/Warning-Options.html#index-Woverloaded-virtual=\u0007-Woverloaded-virtual=\u001b]8;;\u0007\u001b[m\u001b[K]\n",
      "   43 |                 virtual bool \u001b[01;35m\u001b[Koperator\u001b[m\u001b[K==(const Point& p) const;\n",
      "      |                              \u001b[01;35m\u001b[K^~~~~~~~\u001b[m\u001b[K\n",
      "\u001b[01m\u001b[K../../include/spatialindex/TimePoint.h:44:30:\u001b[m\u001b[K \u001b[01;36m\u001b[Knote: \u001b[m\u001b[K  by '\u001b[01m\u001b[Kvirtual bool SpatialIndex::TimePoint::\u001b[01;32m\u001b[Koperator==\u001b[m\u001b[K(const SpatialIndex::TimePoint&) const\u001b[m\u001b[K'\n",
      "   44 |                 virtual bool \u001b[01;36m\u001b[Koperator\u001b[m\u001b[K==(const TimePoint& p) const;\n",
      "      |                              \u001b[01;36m\u001b[K^~~~~~~~\u001b[m\u001b[K\n",
      "In file included from \u001b[01m\u001b[K../../include/spatialindex/SpatialIndex.h:246\u001b[m\u001b[K:\n",
      "\u001b[01m\u001b[K../../include/spatialindex/Region.h:41:33:\u001b[m\u001b[K \u001b[01;35m\u001b[Kwarning: \u001b[m\u001b[K'\u001b[01m\u001b[Kvirtual SpatialIndex::Region& SpatialIndex::Region::\u001b[01;32m\u001b[Koperator=\u001b[m\u001b[K(const SpatialIndex::Region&)\u001b[m\u001b[K' was hidden [\u001b[01;35m\u001b[K\u001b]8;;https://gcc.gnu.org/onlinedocs/gcc/Warning-Options.html#index-Woverloaded-virtual=\u0007-Woverloaded-virtual=\u001b]8;;\u0007\u001b[m\u001b[K]\n",
      "   41 |                 virtual Region& \u001b[01;35m\u001b[Koperator\u001b[m\u001b[K=(const Region& r);\n",
      "      |                                 \u001b[01;35m\u001b[K^~~~~~~~\u001b[m\u001b[K\n",
      "In file included from \u001b[01m\u001b[K../../include/spatialindex/SpatialIndex.h:249\u001b[m\u001b[K:\n",
      "\u001b[01m\u001b[K../../include/spatialindex/TimeRegion.h:88:43:\u001b[m\u001b[K \u001b[01;36m\u001b[Knote: \u001b[m\u001b[K  by '\u001b[01m\u001b[KSpatialIndex::TimeRegion::operator=\u001b[m\u001b[K'\n",
      "   88 |                 virtual Tools::IInterval& \u001b[01;36m\u001b[Koperator\u001b[m\u001b[K=(const Tools::IInterval&);\n",
      "      |                                           \u001b[01;36m\u001b[K^~~~~~~~\u001b[m\u001b[K\n",
      "\u001b[01m\u001b[K../../include/spatialindex/Region.h:42:30:\u001b[m\u001b[K \u001b[01;35m\u001b[Kwarning: \u001b[m\u001b[K'\u001b[01m\u001b[Kvirtual bool SpatialIndex::Region::\u001b[01;32m\u001b[Koperator==\u001b[m\u001b[K(const SpatialIndex::Region&) const\u001b[m\u001b[K' was hidden [\u001b[01;35m\u001b[K\u001b]8;;https://gcc.gnu.org/onlinedocs/gcc/Warning-Options.html#index-Woverloaded-virtual=\u0007-Woverloaded-virtual=\u001b]8;;\u0007\u001b[m\u001b[K]\n",
      "   42 |                 virtual bool \u001b[01;35m\u001b[Koperator\u001b[m\u001b[K==(const Region&) const;\n",
      "      |                              \u001b[01;35m\u001b[K^~~~~~~~\u001b[m\u001b[K\n",
      "\u001b[01m\u001b[K../../include/spatialindex/TimeRegion.h:47:30:\u001b[m\u001b[K \u001b[01;36m\u001b[Knote: \u001b[m\u001b[K  by '\u001b[01m\u001b[Kvirtual bool SpatialIndex::TimeRegion::\u001b[01;32m\u001b[Koperator==\u001b[m\u001b[K(const SpatialIndex::TimeRegion&) const\u001b[m\u001b[K'\n",
      "   47 |                 virtual bool \u001b[01;36m\u001b[Koperator\u001b[m\u001b[K==(const TimeRegion&) const;\n",
      "      |                              \u001b[01;36m\u001b[K^~~~~~~~\u001b[m\u001b[K\n",
      "\u001b[01m\u001b[K../../include/spatialindex/TimePoint.h:75:43:\u001b[m\u001b[K \u001b[01;35m\u001b[Kwarning: \u001b[m\u001b[K'\u001b[01m\u001b[Kvirtual Tools::IInterval& SpatialIndex::TimePoint::\u001b[01;32m\u001b[Koperator=\u001b[m\u001b[K(const Tools::IInterval&)\u001b[m\u001b[K' was hidden [\u001b[01;35m\u001b[K\u001b]8;;https://gcc.gnu.org/onlinedocs/gcc/Warning-Options.html#index-Woverloaded-virtual=\u0007-Woverloaded-virtual=\u001b]8;;\u0007\u001b[m\u001b[K]\n",
      "   75 |                 virtual Tools::IInterval& \u001b[01;35m\u001b[Koperator\u001b[m\u001b[K=(const Tools::IInterval&);\n",
      "      |                                           \u001b[01;35m\u001b[K^~~~~~~~\u001b[m\u001b[K\n",
      "In file included from \u001b[01m\u001b[K../../include/spatialindex/SpatialIndex.h:250\u001b[m\u001b[K:\n",
      "\u001b[01m\u001b[K../../include/spatialindex/MovingPoint.h:43:38:\u001b[m\u001b[K \u001b[01;36m\u001b[Knote: \u001b[m\u001b[K  by '\u001b[01m\u001b[Kvirtual SpatialIndex::MovingPoint& SpatialIndex::MovingPoint::\u001b[01;32m\u001b[Koperator=\u001b[m\u001b[K(const SpatialIndex::MovingPoint&)\u001b[m\u001b[K'\n",
      "   43 |                 virtual MovingPoint& \u001b[01;36m\u001b[Koperator\u001b[m\u001b[K=(const MovingPoint& p);\n",
      "      |                                      \u001b[01;36m\u001b[K^~~~~~~~\u001b[m\u001b[K\n",
      "\u001b[01m\u001b[K../../include/spatialindex/TimePoint.h:43:36:\u001b[m\u001b[K \u001b[01;35m\u001b[Kwarning: \u001b[m\u001b[K'\u001b[01m\u001b[Kvirtual SpatialIndex::TimePoint& SpatialIndex::TimePoint::\u001b[01;32m\u001b[Koperator=\u001b[m\u001b[K(const SpatialIndex::TimePoint&)\u001b[m\u001b[K' was hidden [\u001b[01;35m\u001b[K\u001b]8;;https://gcc.gnu.org/onlinedocs/gcc/Warning-Options.html#index-Woverloaded-virtual=\u0007-Woverloaded-virtual=\u001b]8;;\u0007\u001b[m\u001b[K]\n",
      "   43 |                 virtual TimePoint& \u001b[01;35m\u001b[Koperator\u001b[m\u001b[K=(const TimePoint& p);\n",
      "      |                                    \u001b[01;35m\u001b[K^~~~~~~~\u001b[m\u001b[K\n",
      "\u001b[01m\u001b[K../../include/spatialindex/MovingPoint.h:43:38:\u001b[m\u001b[K \u001b[01;36m\u001b[Knote: \u001b[m\u001b[K  by '\u001b[01m\u001b[Kvirtual SpatialIndex::MovingPoint& SpatialIndex::MovingPoint::\u001b[01;32m\u001b[Koperator=\u001b[m\u001b[K(const SpatialIndex::MovingPoint&)\u001b[m\u001b[K'\n",
      "   43 |                 virtual MovingPoint& \u001b[01;36m\u001b[Koperator\u001b[m\u001b[K=(const MovingPoint& p);\n",
      "      |                                      \u001b[01;36m\u001b[K^~~~~~~~\u001b[m\u001b[K\n",
      "\u001b[01m\u001b[K../../include/spatialindex/TimePoint.h:44:30:\u001b[m\u001b[K \u001b[01;35m\u001b[Kwarning: \u001b[m\u001b[K'\u001b[01m\u001b[Kvirtual bool SpatialIndex::TimePoint::\u001b[01;32m\u001b[Koperator==\u001b[m\u001b[K(const SpatialIndex::TimePoint&) const\u001b[m\u001b[K' was hidden [\u001b[01;35m\u001b[K\u001b]8;;https://gcc.gnu.org/onlinedocs/gcc/Warning-Options.html#index-Woverloaded-virtual=\u0007-Woverloaded-virtual=\u001b]8;;\u0007\u001b[m\u001b[K]\n",
      "   44 |                 virtual bool \u001b[01;35m\u001b[Koperator\u001b[m\u001b[K==(const TimePoint& p) const;\n",
      "      |                              \u001b[01;35m\u001b[K^~~~~~~~\u001b[m\u001b[K\n",
      "\u001b[01m\u001b[K../../include/spatialindex/MovingPoint.h:44:30:\u001b[m\u001b[K \u001b[01;36m\u001b[Knote: \u001b[m\u001b[K  by '\u001b[01m\u001b[Kvirtual bool SpatialIndex::MovingPoint::\u001b[01;32m\u001b[Koperator==\u001b[m\u001b[K(const SpatialIndex::MovingPoint&) const\u001b[m\u001b[K'\n",
      "   44 |                 virtual bool \u001b[01;36m\u001b[Koperator\u001b[m\u001b[K==(const MovingPoint& p) const;\n",
      "      |                              \u001b[01;36m\u001b[K^~~~~~~~\u001b[m\u001b[K\n",
      "\u001b[01m\u001b[K../../include/spatialindex/TimeRegion.h:88:43:\u001b[m\u001b[K \u001b[01;35m\u001b[Kwarning: \u001b[m\u001b[K'\u001b[01m\u001b[Kvirtual Tools::IInterval& SpatialIndex::TimeRegion::\u001b[01;32m\u001b[Koperator=\u001b[m\u001b[K(const Tools::IInterval&)\u001b[m\u001b[K' was hidden [\u001b[01;35m\u001b[K\u001b]8;;https://gcc.gnu.org/onlinedocs/gcc/Warning-Options.html#index-Woverloaded-virtual=\u0007-Woverloaded-virtual=\u001b]8;;\u0007\u001b[m\u001b[K]\n",
      "   88 |                 virtual Tools::IInterval& \u001b[01;35m\u001b[Koperator\u001b[m\u001b[K=(const Tools::IInterval&);\n",
      "      |                                           \u001b[01;35m\u001b[K^~~~~~~~\u001b[m\u001b[K\n",
      "In file included from \u001b[01m\u001b[K../../include/spatialindex/SpatialIndex.h:251\u001b[m\u001b[K:\n",
      "\u001b[01m\u001b[K../../include/spatialindex/MovingRegion.h:66:39:\u001b[m\u001b[K \u001b[01;36m\u001b[Knote: \u001b[m\u001b[K  by '\u001b[01m\u001b[Kvirtual SpatialIndex::MovingRegion& SpatialIndex::MovingRegion::\u001b[01;32m\u001b[Koperator=\u001b[m\u001b[K(const SpatialIndex::MovingRegion&)\u001b[m\u001b[K'\n",
      "   66 |                 virtual MovingRegion& \u001b[01;36m\u001b[Koperator\u001b[m\u001b[K=(const MovingRegion& r);\n",
      "      |                                       \u001b[01;36m\u001b[K^~~~~~~~\u001b[m\u001b[K\n",
      "\u001b[01m\u001b[K../../include/spatialindex/TimeRegion.h:46:37:\u001b[m\u001b[K \u001b[01;35m\u001b[Kwarning: \u001b[m\u001b[K'\u001b[01m\u001b[Kvirtual SpatialIndex::TimeRegion& SpatialIndex::TimeRegion::\u001b[01;32m\u001b[Koperator=\u001b[m\u001b[K(const SpatialIndex::TimeRegion&)\u001b[m\u001b[K' was hidden [\u001b[01;35m\u001b[K\u001b]8;;https://gcc.gnu.org/onlinedocs/gcc/Warning-Options.html#index-Woverloaded-virtual=\u0007-Woverloaded-virtual=\u001b]8;;\u0007\u001b[m\u001b[K]\n",
      "   46 |                 virtual TimeRegion& \u001b[01;35m\u001b[Koperator\u001b[m\u001b[K=(const TimeRegion& r);\n",
      "      |                                     \u001b[01;35m\u001b[K^~~~~~~~\u001b[m\u001b[K\n",
      "\u001b[01m\u001b[K../../include/spatialindex/MovingRegion.h:66:39:\u001b[m\u001b[K \u001b[01;36m\u001b[Knote: \u001b[m\u001b[K  by '\u001b[01m\u001b[Kvirtual SpatialIndex::MovingRegion& SpatialIndex::MovingRegion::\u001b[01;32m\u001b[Koperator=\u001b[m\u001b[K(const SpatialIndex::MovingRegion&)\u001b[m\u001b[K'\n",
      "   66 |                 virtual MovingRegion& \u001b[01;36m\u001b[Koperator\u001b[m\u001b[K=(const MovingRegion& r);\n",
      "      |                                       \u001b[01;36m\u001b[K^~~~~~~~\u001b[m\u001b[K\n",
      "\u001b[01m\u001b[K../../include/spatialindex/TimeRegion.h:47:30:\u001b[m\u001b[K \u001b[01;35m\u001b[Kwarning: \u001b[m\u001b[K'\u001b[01m\u001b[Kvirtual bool SpatialIndex::TimeRegion::\u001b[01;32m\u001b[Koperator==\u001b[m\u001b[K(const SpatialIndex::TimeRegion&) const\u001b[m\u001b[K' was hidden [\u001b[01;35m\u001b[K\u001b]8;;https://gcc.gnu.org/onlinedocs/gcc/Warning-Options.html#index-Woverloaded-virtual=\u0007-Woverloaded-virtual=\u001b]8;;\u0007\u001b[m\u001b[K]\n",
      "   47 |                 virtual bool \u001b[01;35m\u001b[Koperator\u001b[m\u001b[K==(const TimeRegion&) const;\n",
      "      |                              \u001b[01;35m\u001b[K^~~~~~~~\u001b[m\u001b[K\n",
      "\u001b[01m\u001b[K../../include/spatialindex/MovingRegion.h:67:30:\u001b[m\u001b[K \u001b[01;36m\u001b[Knote: \u001b[m\u001b[K  by '\u001b[01m\u001b[Kvirtual bool SpatialIndex::MovingRegion::\u001b[01;32m\u001b[Koperator==\u001b[m\u001b[K(const SpatialIndex::MovingRegion&) const\u001b[m\u001b[K'\n",
      "   67 |                 virtual bool \u001b[01;36m\u001b[Koperator\u001b[m\u001b[K==(const MovingRegion&) const;\n",
      "      |                              \u001b[01;36m\u001b[K^~~~~~~~\u001b[m\u001b[K\n",
      "libtool: compile:  g++ -DPACKAGE_NAME=\\\"spatialindex\\\" -DPACKAGE_TARNAME=\\\"spatialindex-src\\\" -DPACKAGE_VERSION=\\\"1.8.5\\\" \"-DPACKAGE_STRING=\\\"spatialindex 1.8.5\\\"\" -DPACKAGE_BUGREPORT=\\\"mhadji@gmail.com\\\" -DPACKAGE_URL=\\\"\\\" -DSTDC_HEADERS=1 -DHAVE_SYS_TYPES_H=1 -DHAVE_SYS_STAT_H=1 -DHAVE_STDLIB_H=1 -DHAVE_STRING_H=1 -DHAVE_MEMORY_H=1 -DHAVE_STRINGS_H=1 -DHAVE_INTTYPES_H=1 -DHAVE_STDINT_H=1 -DHAVE_UNISTD_H=1 -DHAVE_DLFCN_H=1 -DLT_OBJDIR=\\\".libs/\\\" -DPACKAGE=\\\"spatialindex-src\\\" -DVERSION=\\\"1.8.5\\\" -DHAVE_FCNTL_H=1 -DHAVE_UNISTD_H=1 -DHAVE_SYS_TYPES_H=1 -DHAVE_SYS_STAT_H=1 -DHAVE_PTHREAD_H=1 -DHAVE_SYS_RESOURCE_H=1 -DHAVE_SYS_TIME_H=1 -DHAVE_STDINT_H=1 -DHAVE_FEATURES_H=1 -DHAVE_GETTIMEOFDAY=1 -DHAVE_MEMSET=1 -DHAVE_MEMCPY=1 -DHAVE_BCOPY=1 -DHAVE_SRAND48=1 -I. -I../../include -I../../include/capi -Wall -Wno-long-long -pedantic -std=c++98 -O2 -DNDEBUG -MT Index.lo -MD -MP -MF .deps/Index.Tpo -c Index.cc -o Index.o >/dev/null 2>&1\n",
      "depbase=`echo LeafQuery.lo | sed 's|[^/]*$|.deps/&|;s|\\.lo$||'`;\\\n",
      "/bin/bash ../../libtool  --tag=CXX   --mode=compile g++ -DPACKAGE_NAME=\\\"spatialindex\\\" -DPACKAGE_TARNAME=\\\"spatialindex-src\\\" -DPACKAGE_VERSION=\\\"1.8.5\\\" -DPACKAGE_STRING=\\\"spatialindex\\ 1.8.5\\\" -DPACKAGE_BUGREPORT=\\\"mhadji@gmail.com\\\" -DPACKAGE_URL=\\\"\\\" -DSTDC_HEADERS=1 -DHAVE_SYS_TYPES_H=1 -DHAVE_SYS_STAT_H=1 -DHAVE_STDLIB_H=1 -DHAVE_STRING_H=1 -DHAVE_MEMORY_H=1 -DHAVE_STRINGS_H=1 -DHAVE_INTTYPES_H=1 -DHAVE_STDINT_H=1 -DHAVE_UNISTD_H=1 -DHAVE_DLFCN_H=1 -DLT_OBJDIR=\\\".libs/\\\" -DPACKAGE=\\\"spatialindex-src\\\" -DVERSION=\\\"1.8.5\\\" -DHAVE_FCNTL_H=1 -DHAVE_UNISTD_H=1 -DHAVE_SYS_TYPES_H=1 -DHAVE_SYS_STAT_H=1 -DHAVE_PTHREAD_H=1 -DHAVE_SYS_RESOURCE_H=1 -DHAVE_SYS_TIME_H=1 -DHAVE_STDINT_H=1 -DHAVE_FEATURES_H=1 -DHAVE_GETTIMEOFDAY=1 -DHAVE_MEMSET=1 -DHAVE_MEMCPY=1 -DHAVE_BCOPY=1 -DHAVE_SRAND48=1 -I. -I../../include -I../../include/capi    -Wall -Wno-long-long -pedantic -std=c++98  -O2 -DNDEBUG -MT LeafQuery.lo -MD -MP -MF $depbase.Tpo -c -o LeafQuery.lo LeafQuery.cc &&\\\n",
      "mv -f $depbase.Tpo $depbase.Plo\n",
      "libtool: compile:  g++ -DPACKAGE_NAME=\\\"spatialindex\\\" -DPACKAGE_TARNAME=\\\"spatialindex-src\\\" -DPACKAGE_VERSION=\\\"1.8.5\\\" \"-DPACKAGE_STRING=\\\"spatialindex 1.8.5\\\"\" -DPACKAGE_BUGREPORT=\\\"mhadji@gmail.com\\\" -DPACKAGE_URL=\\\"\\\" -DSTDC_HEADERS=1 -DHAVE_SYS_TYPES_H=1 -DHAVE_SYS_STAT_H=1 -DHAVE_STDLIB_H=1 -DHAVE_STRING_H=1 -DHAVE_MEMORY_H=1 -DHAVE_STRINGS_H=1 -DHAVE_INTTYPES_H=1 -DHAVE_STDINT_H=1 -DHAVE_UNISTD_H=1 -DHAVE_DLFCN_H=1 -DLT_OBJDIR=\\\".libs/\\\" -DPACKAGE=\\\"spatialindex-src\\\" -DVERSION=\\\"1.8.5\\\" -DHAVE_FCNTL_H=1 -DHAVE_UNISTD_H=1 -DHAVE_SYS_TYPES_H=1 -DHAVE_SYS_STAT_H=1 -DHAVE_PTHREAD_H=1 -DHAVE_SYS_RESOURCE_H=1 -DHAVE_SYS_TIME_H=1 -DHAVE_STDINT_H=1 -DHAVE_FEATURES_H=1 -DHAVE_GETTIMEOFDAY=1 -DHAVE_MEMSET=1 -DHAVE_MEMCPY=1 -DHAVE_BCOPY=1 -DHAVE_SRAND48=1 -I. -I../../include -I../../include/capi -Wall -Wno-long-long -pedantic -std=c++98 -O2 -DNDEBUG -MT LeafQuery.lo -MD -MP -MF .deps/LeafQuery.Tpo -c LeafQuery.cc  -fPIC -DPIC -o .libs/LeafQuery.o\n",
      "In file included from \u001b[01m\u001b[K../../include/spatialindex/SpatialIndex.h:245\u001b[m\u001b[K,\n",
      "                 from \u001b[01m\u001b[K../../include/spatialindex/capi/sidx_config.h:56\u001b[m\u001b[K,\n",
      "                 from \u001b[01m\u001b[K../../include/spatialindex/capi/sidx_impl.h:36\u001b[m\u001b[K,\n",
      "                 from \u001b[01m\u001b[KLeafQuery.cc:29\u001b[m\u001b[K:\n",
      "\u001b[01m\u001b[K../../include/spatialindex/Point.h:42:32:\u001b[m\u001b[K \u001b[01;35m\u001b[Kwarning: \u001b[m\u001b[K'\u001b[01m\u001b[Kvirtual SpatialIndex::Point& SpatialIndex::Point::\u001b[01;32m\u001b[Koperator=\u001b[m\u001b[K(const SpatialIndex::Point&)\u001b[m\u001b[K' was hidden [\u001b[01;35m\u001b[K\u001b]8;;https://gcc.gnu.org/onlinedocs/gcc/Warning-Options.html#index-Woverloaded-virtual=\u0007-Woverloaded-virtual=\u001b]8;;\u0007\u001b[m\u001b[K]\n",
      "   42 |                 virtual Point& \u001b[01;35m\u001b[Koperator\u001b[m\u001b[K=(const Point& p);\n",
      "      |                                \u001b[01;35m\u001b[K^~~~~~~~\u001b[m\u001b[K\n",
      "In file included from \u001b[01m\u001b[K../../include/spatialindex/SpatialIndex.h:248\u001b[m\u001b[K:\n",
      "\u001b[01m\u001b[K../../include/spatialindex/TimePoint.h:75:43:\u001b[m\u001b[K \u001b[01;36m\u001b[Knote: \u001b[m\u001b[K  by '\u001b[01m\u001b[KSpatialIndex::TimePoint::operator=\u001b[m\u001b[K'\n",
      "   75 |                 virtual Tools::IInterval& \u001b[01;36m\u001b[Koperator\u001b[m\u001b[K=(const Tools::IInterval&);\n",
      "      |                                           \u001b[01;36m\u001b[K^~~~~~~~\u001b[m\u001b[K\n",
      "\u001b[01m\u001b[K../../include/spatialindex/Point.h:43:30:\u001b[m\u001b[K \u001b[01;35m\u001b[Kwarning: \u001b[m\u001b[K'\u001b[01m\u001b[Kvirtual bool SpatialIndex::Point::\u001b[01;32m\u001b[Koperator==\u001b[m\u001b[K(const SpatialIndex::Point&) const\u001b[m\u001b[K' was hidden [\u001b[01;35m\u001b[K\u001b]8;;https://gcc.gnu.org/onlinedocs/gcc/Warning-Options.html#index-Woverloaded-virtual=\u0007-Woverloaded-virtual=\u001b]8;;\u0007\u001b[m\u001b[K]\n",
      "   43 |                 virtual bool \u001b[01;35m\u001b[Koperator\u001b[m\u001b[K==(const Point& p) const;\n",
      "      |                              \u001b[01;35m\u001b[K^~~~~~~~\u001b[m\u001b[K\n",
      "\u001b[01m\u001b[K../../include/spatialindex/TimePoint.h:44:30:\u001b[m\u001b[K \u001b[01;36m\u001b[Knote: \u001b[m\u001b[K  by '\u001b[01m\u001b[Kvirtual bool SpatialIndex::TimePoint::\u001b[01;32m\u001b[Koperator==\u001b[m\u001b[K(const SpatialIndex::TimePoint&) const\u001b[m\u001b[K'\n",
      "   44 |                 virtual bool \u001b[01;36m\u001b[Koperator\u001b[m\u001b[K==(const TimePoint& p) const;\n",
      "      |                              \u001b[01;36m\u001b[K^~~~~~~~\u001b[m\u001b[K\n",
      "In file included from \u001b[01m\u001b[K../../include/spatialindex/SpatialIndex.h:246\u001b[m\u001b[K:\n",
      "\u001b[01m\u001b[K../../include/spatialindex/Region.h:41:33:\u001b[m\u001b[K \u001b[01;35m\u001b[Kwarning: \u001b[m\u001b[K'\u001b[01m\u001b[Kvirtual SpatialIndex::Region& SpatialIndex::Region::\u001b[01;32m\u001b[Koperator=\u001b[m\u001b[K(const SpatialIndex::Region&)\u001b[m\u001b[K' was hidden [\u001b[01;35m\u001b[K\u001b]8;;https://gcc.gnu.org/onlinedocs/gcc/Warning-Options.html#index-Woverloaded-virtual=\u0007-Woverloaded-virtual=\u001b]8;;\u0007\u001b[m\u001b[K]\n",
      "   41 |                 virtual Region& \u001b[01;35m\u001b[Koperator\u001b[m\u001b[K=(const Region& r);\n",
      "      |                                 \u001b[01;35m\u001b[K^~~~~~~~\u001b[m\u001b[K\n",
      "In file included from \u001b[01m\u001b[K../../include/spatialindex/SpatialIndex.h:249\u001b[m\u001b[K:\n",
      "\u001b[01m\u001b[K../../include/spatialindex/TimeRegion.h:88:43:\u001b[m\u001b[K \u001b[01;36m\u001b[Knote: \u001b[m\u001b[K  by '\u001b[01m\u001b[KSpatialIndex::TimeRegion::operator=\u001b[m\u001b[K'\n",
      "   88 |                 virtual Tools::IInterval& \u001b[01;36m\u001b[Koperator\u001b[m\u001b[K=(const Tools::IInterval&);\n",
      "      |                                           \u001b[01;36m\u001b[K^~~~~~~~\u001b[m\u001b[K\n",
      "\u001b[01m\u001b[K../../include/spatialindex/Region.h:42:30:\u001b[m\u001b[K \u001b[01;35m\u001b[Kwarning: \u001b[m\u001b[K'\u001b[01m\u001b[Kvirtual bool SpatialIndex::Region::\u001b[01;32m\u001b[Koperator==\u001b[m\u001b[K(const SpatialIndex::Region&) const\u001b[m\u001b[K' was hidden [\u001b[01;35m\u001b[K\u001b]8;;https://gcc.gnu.org/onlinedocs/gcc/Warning-Options.html#index-Woverloaded-virtual=\u0007-Woverloaded-virtual=\u001b]8;;\u0007\u001b[m\u001b[K]\n",
      "   42 |                 virtual bool \u001b[01;35m\u001b[Koperator\u001b[m\u001b[K==(const Region&) const;\n",
      "      |                              \u001b[01;35m\u001b[K^~~~~~~~\u001b[m\u001b[K\n",
      "\u001b[01m\u001b[K../../include/spatialindex/TimeRegion.h:47:30:\u001b[m\u001b[K \u001b[01;36m\u001b[Knote: \u001b[m\u001b[K  by '\u001b[01m\u001b[Kvirtual bool SpatialIndex::TimeRegion::\u001b[01;32m\u001b[Koperator==\u001b[m\u001b[K(const SpatialIndex::TimeRegion&) const\u001b[m\u001b[K'\n",
      "   47 |                 virtual bool \u001b[01;36m\u001b[Koperator\u001b[m\u001b[K==(const TimeRegion&) const;\n",
      "      |                              \u001b[01;36m\u001b[K^~~~~~~~\u001b[m\u001b[K\n",
      "\u001b[01m\u001b[K../../include/spatialindex/TimePoint.h:75:43:\u001b[m\u001b[K \u001b[01;35m\u001b[Kwarning: \u001b[m\u001b[K'\u001b[01m\u001b[Kvirtual Tools::IInterval& SpatialIndex::TimePoint::\u001b[01;32m\u001b[Koperator=\u001b[m\u001b[K(const Tools::IInterval&)\u001b[m\u001b[K' was hidden [\u001b[01;35m\u001b[K\u001b]8;;https://gcc.gnu.org/onlinedocs/gcc/Warning-Options.html#index-Woverloaded-virtual=\u0007-Woverloaded-virtual=\u001b]8;;\u0007\u001b[m\u001b[K]\n",
      "   75 |                 virtual Tools::IInterval& \u001b[01;35m\u001b[Koperator\u001b[m\u001b[K=(const Tools::IInterval&);\n",
      "      |                                           \u001b[01;35m\u001b[K^~~~~~~~\u001b[m\u001b[K\n",
      "In file included from \u001b[01m\u001b[K../../include/spatialindex/SpatialIndex.h:250\u001b[m\u001b[K:\n",
      "\u001b[01m\u001b[K../../include/spatialindex/MovingPoint.h:43:38:\u001b[m\u001b[K \u001b[01;36m\u001b[Knote: \u001b[m\u001b[K  by '\u001b[01m\u001b[Kvirtual SpatialIndex::MovingPoint& SpatialIndex::MovingPoint::\u001b[01;32m\u001b[Koperator=\u001b[m\u001b[K(const SpatialIndex::MovingPoint&)\u001b[m\u001b[K'\n",
      "   43 |                 virtual MovingPoint& \u001b[01;36m\u001b[Koperator\u001b[m\u001b[K=(const MovingPoint& p);\n",
      "      |                                      \u001b[01;36m\u001b[K^~~~~~~~\u001b[m\u001b[K\n",
      "\u001b[01m\u001b[K../../include/spatialindex/TimePoint.h:43:36:\u001b[m\u001b[K \u001b[01;35m\u001b[Kwarning: \u001b[m\u001b[K'\u001b[01m\u001b[Kvirtual SpatialIndex::TimePoint& SpatialIndex::TimePoint::\u001b[01;32m\u001b[Koperator=\u001b[m\u001b[K(const SpatialIndex::TimePoint&)\u001b[m\u001b[K' was hidden [\u001b[01;35m\u001b[K\u001b]8;;https://gcc.gnu.org/onlinedocs/gcc/Warning-Options.html#index-Woverloaded-virtual=\u0007-Woverloaded-virtual=\u001b]8;;\u0007\u001b[m\u001b[K]\n",
      "   43 |                 virtual TimePoint& \u001b[01;35m\u001b[Koperator\u001b[m\u001b[K=(const TimePoint& p);\n",
      "      |                                    \u001b[01;35m\u001b[K^~~~~~~~\u001b[m\u001b[K\n",
      "\u001b[01m\u001b[K../../include/spatialindex/MovingPoint.h:43:38:\u001b[m\u001b[K \u001b[01;36m\u001b[Knote: \u001b[m\u001b[K  by '\u001b[01m\u001b[Kvirtual SpatialIndex::MovingPoint& SpatialIndex::MovingPoint::\u001b[01;32m\u001b[Koperator=\u001b[m\u001b[K(const SpatialIndex::MovingPoint&)\u001b[m\u001b[K'\n",
      "   43 |                 virtual MovingPoint& \u001b[01;36m\u001b[Koperator\u001b[m\u001b[K=(const MovingPoint& p);\n",
      "      |                                      \u001b[01;36m\u001b[K^~~~~~~~\u001b[m\u001b[K\n",
      "\u001b[01m\u001b[K../../include/spatialindex/TimePoint.h:44:30:\u001b[m\u001b[K \u001b[01;35m\u001b[Kwarning: \u001b[m\u001b[K'\u001b[01m\u001b[Kvirtual bool SpatialIndex::TimePoint::\u001b[01;32m\u001b[Koperator==\u001b[m\u001b[K(const SpatialIndex::TimePoint&) const\u001b[m\u001b[K' was hidden [\u001b[01;35m\u001b[K\u001b]8;;https://gcc.gnu.org/onlinedocs/gcc/Warning-Options.html#index-Woverloaded-virtual=\u0007-Woverloaded-virtual=\u001b]8;;\u0007\u001b[m\u001b[K]\n",
      "   44 |                 virtual bool \u001b[01;35m\u001b[Koperator\u001b[m\u001b[K==(const TimePoint& p) const;\n",
      "      |                              \u001b[01;35m\u001b[K^~~~~~~~\u001b[m\u001b[K\n",
      "\u001b[01m\u001b[K../../include/spatialindex/MovingPoint.h:44:30:\u001b[m\u001b[K \u001b[01;36m\u001b[Knote: \u001b[m\u001b[K  by '\u001b[01m\u001b[Kvirtual bool SpatialIndex::MovingPoint::\u001b[01;32m\u001b[Koperator==\u001b[m\u001b[K(const SpatialIndex::MovingPoint&) const\u001b[m\u001b[K'\n",
      "   44 |                 virtual bool \u001b[01;36m\u001b[Koperator\u001b[m\u001b[K==(const MovingPoint& p) const;\n",
      "      |                              \u001b[01;36m\u001b[K^~~~~~~~\u001b[m\u001b[K\n",
      "\u001b[01m\u001b[K../../include/spatialindex/TimeRegion.h:88:43:\u001b[m\u001b[K \u001b[01;35m\u001b[Kwarning: \u001b[m\u001b[K'\u001b[01m\u001b[Kvirtual Tools::IInterval& SpatialIndex::TimeRegion::\u001b[01;32m\u001b[Koperator=\u001b[m\u001b[K(const Tools::IInterval&)\u001b[m\u001b[K' was hidden [\u001b[01;35m\u001b[K\u001b]8;;https://gcc.gnu.org/onlinedocs/gcc/Warning-Options.html#index-Woverloaded-virtual=\u0007-Woverloaded-virtual=\u001b]8;;\u0007\u001b[m\u001b[K]\n",
      "   88 |                 virtual Tools::IInterval& \u001b[01;35m\u001b[Koperator\u001b[m\u001b[K=(const Tools::IInterval&);\n",
      "      |                                           \u001b[01;35m\u001b[K^~~~~~~~\u001b[m\u001b[K\n",
      "In file included from \u001b[01m\u001b[K../../include/spatialindex/SpatialIndex.h:251\u001b[m\u001b[K:\n",
      "\u001b[01m\u001b[K../../include/spatialindex/MovingRegion.h:66:39:\u001b[m\u001b[K \u001b[01;36m\u001b[Knote: \u001b[m\u001b[K  by '\u001b[01m\u001b[Kvirtual SpatialIndex::MovingRegion& SpatialIndex::MovingRegion::\u001b[01;32m\u001b[Koperator=\u001b[m\u001b[K(const SpatialIndex::MovingRegion&)\u001b[m\u001b[K'\n",
      "   66 |                 virtual MovingRegion& \u001b[01;36m\u001b[Koperator\u001b[m\u001b[K=(const MovingRegion& r);\n",
      "      |                                       \u001b[01;36m\u001b[K^~~~~~~~\u001b[m\u001b[K\n",
      "\u001b[01m\u001b[K../../include/spatialindex/TimeRegion.h:46:37:\u001b[m\u001b[K \u001b[01;35m\u001b[Kwarning: \u001b[m\u001b[K'\u001b[01m\u001b[Kvirtual SpatialIndex::TimeRegion& SpatialIndex::TimeRegion::\u001b[01;32m\u001b[Koperator=\u001b[m\u001b[K(const SpatialIndex::TimeRegion&)\u001b[m\u001b[K' was hidden [\u001b[01;35m\u001b[K\u001b]8;;https://gcc.gnu.org/onlinedocs/gcc/Warning-Options.html#index-Woverloaded-virtual=\u0007-Woverloaded-virtual=\u001b]8;;\u0007\u001b[m\u001b[K]\n",
      "   46 |                 virtual TimeRegion& \u001b[01;35m\u001b[Koperator\u001b[m\u001b[K=(const TimeRegion& r);\n",
      "      |                                     \u001b[01;35m\u001b[K^~~~~~~~\u001b[m\u001b[K\n",
      "\u001b[01m\u001b[K../../include/spatialindex/MovingRegion.h:66:39:\u001b[m\u001b[K \u001b[01;36m\u001b[Knote: \u001b[m\u001b[K  by '\u001b[01m\u001b[Kvirtual SpatialIndex::MovingRegion& SpatialIndex::MovingRegion::\u001b[01;32m\u001b[Koperator=\u001b[m\u001b[K(const SpatialIndex::MovingRegion&)\u001b[m\u001b[K'\n",
      "   66 |                 virtual MovingRegion& \u001b[01;36m\u001b[Koperator\u001b[m\u001b[K=(const MovingRegion& r);\n",
      "      |                                       \u001b[01;36m\u001b[K^~~~~~~~\u001b[m\u001b[K\n",
      "\u001b[01m\u001b[K../../include/spatialindex/TimeRegion.h:47:30:\u001b[m\u001b[K \u001b[01;35m\u001b[Kwarning: \u001b[m\u001b[K'\u001b[01m\u001b[Kvirtual bool SpatialIndex::TimeRegion::\u001b[01;32m\u001b[Koperator==\u001b[m\u001b[K(const SpatialIndex::TimeRegion&) const\u001b[m\u001b[K' was hidden [\u001b[01;35m\u001b[K\u001b]8;;https://gcc.gnu.org/onlinedocs/gcc/Warning-Options.html#index-Woverloaded-virtual=\u0007-Woverloaded-virtual=\u001b]8;;\u0007\u001b[m\u001b[K]\n",
      "   47 |                 virtual bool \u001b[01;35m\u001b[Koperator\u001b[m\u001b[K==(const TimeRegion&) const;\n",
      "      |                              \u001b[01;35m\u001b[K^~~~~~~~\u001b[m\u001b[K\n",
      "\u001b[01m\u001b[K../../include/spatialindex/MovingRegion.h:67:30:\u001b[m\u001b[K \u001b[01;36m\u001b[Knote: \u001b[m\u001b[K  by '\u001b[01m\u001b[Kvirtual bool SpatialIndex::MovingRegion::\u001b[01;32m\u001b[Koperator==\u001b[m\u001b[K(const SpatialIndex::MovingRegion&) const\u001b[m\u001b[K'\n",
      "   67 |                 virtual bool \u001b[01;36m\u001b[Koperator\u001b[m\u001b[K==(const MovingRegion&) const;\n",
      "      |                              \u001b[01;36m\u001b[K^~~~~~~~\u001b[m\u001b[K\n",
      "libtool: compile:  g++ -DPACKAGE_NAME=\\\"spatialindex\\\" -DPACKAGE_TARNAME=\\\"spatialindex-src\\\" -DPACKAGE_VERSION=\\\"1.8.5\\\" \"-DPACKAGE_STRING=\\\"spatialindex 1.8.5\\\"\" -DPACKAGE_BUGREPORT=\\\"mhadji@gmail.com\\\" -DPACKAGE_URL=\\\"\\\" -DSTDC_HEADERS=1 -DHAVE_SYS_TYPES_H=1 -DHAVE_SYS_STAT_H=1 -DHAVE_STDLIB_H=1 -DHAVE_STRING_H=1 -DHAVE_MEMORY_H=1 -DHAVE_STRINGS_H=1 -DHAVE_INTTYPES_H=1 -DHAVE_STDINT_H=1 -DHAVE_UNISTD_H=1 -DHAVE_DLFCN_H=1 -DLT_OBJDIR=\\\".libs/\\\" -DPACKAGE=\\\"spatialindex-src\\\" -DVERSION=\\\"1.8.5\\\" -DHAVE_FCNTL_H=1 -DHAVE_UNISTD_H=1 -DHAVE_SYS_TYPES_H=1 -DHAVE_SYS_STAT_H=1 -DHAVE_PTHREAD_H=1 -DHAVE_SYS_RESOURCE_H=1 -DHAVE_SYS_TIME_H=1 -DHAVE_STDINT_H=1 -DHAVE_FEATURES_H=1 -DHAVE_GETTIMEOFDAY=1 -DHAVE_MEMSET=1 -DHAVE_MEMCPY=1 -DHAVE_BCOPY=1 -DHAVE_SRAND48=1 -I. -I../../include -I../../include/capi -Wall -Wno-long-long -pedantic -std=c++98 -O2 -DNDEBUG -MT LeafQuery.lo -MD -MP -MF .deps/LeafQuery.Tpo -c LeafQuery.cc -o LeafQuery.o >/dev/null 2>&1\n",
      "depbase=`echo ObjVisitor.lo | sed 's|[^/]*$|.deps/&|;s|\\.lo$||'`;\\\n",
      "/bin/bash ../../libtool  --tag=CXX   --mode=compile g++ -DPACKAGE_NAME=\\\"spatialindex\\\" -DPACKAGE_TARNAME=\\\"spatialindex-src\\\" -DPACKAGE_VERSION=\\\"1.8.5\\\" -DPACKAGE_STRING=\\\"spatialindex\\ 1.8.5\\\" -DPACKAGE_BUGREPORT=\\\"mhadji@gmail.com\\\" -DPACKAGE_URL=\\\"\\\" -DSTDC_HEADERS=1 -DHAVE_SYS_TYPES_H=1 -DHAVE_SYS_STAT_H=1 -DHAVE_STDLIB_H=1 -DHAVE_STRING_H=1 -DHAVE_MEMORY_H=1 -DHAVE_STRINGS_H=1 -DHAVE_INTTYPES_H=1 -DHAVE_STDINT_H=1 -DHAVE_UNISTD_H=1 -DHAVE_DLFCN_H=1 -DLT_OBJDIR=\\\".libs/\\\" -DPACKAGE=\\\"spatialindex-src\\\" -DVERSION=\\\"1.8.5\\\" -DHAVE_FCNTL_H=1 -DHAVE_UNISTD_H=1 -DHAVE_SYS_TYPES_H=1 -DHAVE_SYS_STAT_H=1 -DHAVE_PTHREAD_H=1 -DHAVE_SYS_RESOURCE_H=1 -DHAVE_SYS_TIME_H=1 -DHAVE_STDINT_H=1 -DHAVE_FEATURES_H=1 -DHAVE_GETTIMEOFDAY=1 -DHAVE_MEMSET=1 -DHAVE_MEMCPY=1 -DHAVE_BCOPY=1 -DHAVE_SRAND48=1 -I. -I../../include -I../../include/capi    -Wall -Wno-long-long -pedantic -std=c++98  -O2 -DNDEBUG -MT ObjVisitor.lo -MD -MP -MF $depbase.Tpo -c -o ObjVisitor.lo ObjVisitor.cc &&\\\n",
      "mv -f $depbase.Tpo $depbase.Plo\n",
      "libtool: compile:  g++ -DPACKAGE_NAME=\\\"spatialindex\\\" -DPACKAGE_TARNAME=\\\"spatialindex-src\\\" -DPACKAGE_VERSION=\\\"1.8.5\\\" \"-DPACKAGE_STRING=\\\"spatialindex 1.8.5\\\"\" -DPACKAGE_BUGREPORT=\\\"mhadji@gmail.com\\\" -DPACKAGE_URL=\\\"\\\" -DSTDC_HEADERS=1 -DHAVE_SYS_TYPES_H=1 -DHAVE_SYS_STAT_H=1 -DHAVE_STDLIB_H=1 -DHAVE_STRING_H=1 -DHAVE_MEMORY_H=1 -DHAVE_STRINGS_H=1 -DHAVE_INTTYPES_H=1 -DHAVE_STDINT_H=1 -DHAVE_UNISTD_H=1 -DHAVE_DLFCN_H=1 -DLT_OBJDIR=\\\".libs/\\\" -DPACKAGE=\\\"spatialindex-src\\\" -DVERSION=\\\"1.8.5\\\" -DHAVE_FCNTL_H=1 -DHAVE_UNISTD_H=1 -DHAVE_SYS_TYPES_H=1 -DHAVE_SYS_STAT_H=1 -DHAVE_PTHREAD_H=1 -DHAVE_SYS_RESOURCE_H=1 -DHAVE_SYS_TIME_H=1 -DHAVE_STDINT_H=1 -DHAVE_FEATURES_H=1 -DHAVE_GETTIMEOFDAY=1 -DHAVE_MEMSET=1 -DHAVE_MEMCPY=1 -DHAVE_BCOPY=1 -DHAVE_SRAND48=1 -I. -I../../include -I../../include/capi -Wall -Wno-long-long -pedantic -std=c++98 -O2 -DNDEBUG -MT ObjVisitor.lo -MD -MP -MF .deps/ObjVisitor.Tpo -c ObjVisitor.cc  -fPIC -DPIC -o .libs/ObjVisitor.o\n",
      "In file included from \u001b[01m\u001b[K../../include/spatialindex/SpatialIndex.h:245\u001b[m\u001b[K,\n",
      "                 from \u001b[01m\u001b[K../../include/spatialindex/capi/sidx_config.h:56\u001b[m\u001b[K,\n",
      "                 from \u001b[01m\u001b[K../../include/spatialindex/capi/sidx_impl.h:36\u001b[m\u001b[K,\n",
      "                 from \u001b[01m\u001b[KObjVisitor.cc:29\u001b[m\u001b[K:\n",
      "\u001b[01m\u001b[K../../include/spatialindex/Point.h:42:32:\u001b[m\u001b[K \u001b[01;35m\u001b[Kwarning: \u001b[m\u001b[K'\u001b[01m\u001b[Kvirtual SpatialIndex::Point& SpatialIndex::Point::\u001b[01;32m\u001b[Koperator=\u001b[m\u001b[K(const SpatialIndex::Point&)\u001b[m\u001b[K' was hidden [\u001b[01;35m\u001b[K\u001b]8;;https://gcc.gnu.org/onlinedocs/gcc/Warning-Options.html#index-Woverloaded-virtual=\u0007-Woverloaded-virtual=\u001b]8;;\u0007\u001b[m\u001b[K]\n",
      "   42 |                 virtual Point& \u001b[01;35m\u001b[Koperator\u001b[m\u001b[K=(const Point& p);\n",
      "      |                                \u001b[01;35m\u001b[K^~~~~~~~\u001b[m\u001b[K\n",
      "In file included from \u001b[01m\u001b[K../../include/spatialindex/SpatialIndex.h:248\u001b[m\u001b[K:\n",
      "\u001b[01m\u001b[K../../include/spatialindex/TimePoint.h:75:43:\u001b[m\u001b[K \u001b[01;36m\u001b[Knote: \u001b[m\u001b[K  by '\u001b[01m\u001b[KSpatialIndex::TimePoint::operator=\u001b[m\u001b[K'\n",
      "   75 |                 virtual Tools::IInterval& \u001b[01;36m\u001b[Koperator\u001b[m\u001b[K=(const Tools::IInterval&);\n",
      "      |                                           \u001b[01;36m\u001b[K^~~~~~~~\u001b[m\u001b[K\n",
      "\u001b[01m\u001b[K../../include/spatialindex/Point.h:43:30:\u001b[m\u001b[K \u001b[01;35m\u001b[Kwarning: \u001b[m\u001b[K'\u001b[01m\u001b[Kvirtual bool SpatialIndex::Point::\u001b[01;32m\u001b[Koperator==\u001b[m\u001b[K(const SpatialIndex::Point&) const\u001b[m\u001b[K' was hidden [\u001b[01;35m\u001b[K\u001b]8;;https://gcc.gnu.org/onlinedocs/gcc/Warning-Options.html#index-Woverloaded-virtual=\u0007-Woverloaded-virtual=\u001b]8;;\u0007\u001b[m\u001b[K]\n",
      "   43 |                 virtual bool \u001b[01;35m\u001b[Koperator\u001b[m\u001b[K==(const Point& p) const;\n",
      "      |                              \u001b[01;35m\u001b[K^~~~~~~~\u001b[m\u001b[K\n",
      "\u001b[01m\u001b[K../../include/spatialindex/TimePoint.h:44:30:\u001b[m\u001b[K \u001b[01;36m\u001b[Knote: \u001b[m\u001b[K  by '\u001b[01m\u001b[Kvirtual bool SpatialIndex::TimePoint::\u001b[01;32m\u001b[Koperator==\u001b[m\u001b[K(const SpatialIndex::TimePoint&) const\u001b[m\u001b[K'\n",
      "   44 |                 virtual bool \u001b[01;36m\u001b[Koperator\u001b[m\u001b[K==(const TimePoint& p) const;\n",
      "      |                              \u001b[01;36m\u001b[K^~~~~~~~\u001b[m\u001b[K\n",
      "In file included from \u001b[01m\u001b[K../../include/spatialindex/SpatialIndex.h:246\u001b[m\u001b[K:\n",
      "\u001b[01m\u001b[K../../include/spatialindex/Region.h:41:33:\u001b[m\u001b[K \u001b[01;35m\u001b[Kwarning: \u001b[m\u001b[K'\u001b[01m\u001b[Kvirtual SpatialIndex::Region& SpatialIndex::Region::\u001b[01;32m\u001b[Koperator=\u001b[m\u001b[K(const SpatialIndex::Region&)\u001b[m\u001b[K' was hidden [\u001b[01;35m\u001b[K\u001b]8;;https://gcc.gnu.org/onlinedocs/gcc/Warning-Options.html#index-Woverloaded-virtual=\u0007-Woverloaded-virtual=\u001b]8;;\u0007\u001b[m\u001b[K]\n",
      "   41 |                 virtual Region& \u001b[01;35m\u001b[Koperator\u001b[m\u001b[K=(const Region& r);\n",
      "      |                                 \u001b[01;35m\u001b[K^~~~~~~~\u001b[m\u001b[K\n",
      "In file included from \u001b[01m\u001b[K../../include/spatialindex/SpatialIndex.h:249\u001b[m\u001b[K:\n",
      "\u001b[01m\u001b[K../../include/spatialindex/TimeRegion.h:88:43:\u001b[m\u001b[K \u001b[01;36m\u001b[Knote: \u001b[m\u001b[K  by '\u001b[01m\u001b[KSpatialIndex::TimeRegion::operator=\u001b[m\u001b[K'\n",
      "   88 |                 virtual Tools::IInterval& \u001b[01;36m\u001b[Koperator\u001b[m\u001b[K=(const Tools::IInterval&);\n",
      "      |                                           \u001b[01;36m\u001b[K^~~~~~~~\u001b[m\u001b[K\n",
      "\u001b[01m\u001b[K../../include/spatialindex/Region.h:42:30:\u001b[m\u001b[K \u001b[01;35m\u001b[Kwarning: \u001b[m\u001b[K'\u001b[01m\u001b[Kvirtual bool SpatialIndex::Region::\u001b[01;32m\u001b[Koperator==\u001b[m\u001b[K(const SpatialIndex::Region&) const\u001b[m\u001b[K' was hidden [\u001b[01;35m\u001b[K\u001b]8;;https://gcc.gnu.org/onlinedocs/gcc/Warning-Options.html#index-Woverloaded-virtual=\u0007-Woverloaded-virtual=\u001b]8;;\u0007\u001b[m\u001b[K]\n",
      "   42 |                 virtual bool \u001b[01;35m\u001b[Koperator\u001b[m\u001b[K==(const Region&) const;\n",
      "      |                              \u001b[01;35m\u001b[K^~~~~~~~\u001b[m\u001b[K\n",
      "\u001b[01m\u001b[K../../include/spatialindex/TimeRegion.h:47:30:\u001b[m\u001b[K \u001b[01;36m\u001b[Knote: \u001b[m\u001b[K  by '\u001b[01m\u001b[Kvirtual bool SpatialIndex::TimeRegion::\u001b[01;32m\u001b[Koperator==\u001b[m\u001b[K(const SpatialIndex::TimeRegion&) const\u001b[m\u001b[K'\n",
      "   47 |                 virtual bool \u001b[01;36m\u001b[Koperator\u001b[m\u001b[K==(const TimeRegion&) const;\n",
      "      |                              \u001b[01;36m\u001b[K^~~~~~~~\u001b[m\u001b[K\n",
      "\u001b[01m\u001b[K../../include/spatialindex/TimePoint.h:75:43:\u001b[m\u001b[K \u001b[01;35m\u001b[Kwarning: \u001b[m\u001b[K'\u001b[01m\u001b[Kvirtual Tools::IInterval& SpatialIndex::TimePoint::\u001b[01;32m\u001b[Koperator=\u001b[m\u001b[K(const Tools::IInterval&)\u001b[m\u001b[K' was hidden [\u001b[01;35m\u001b[K\u001b]8;;https://gcc.gnu.org/onlinedocs/gcc/Warning-Options.html#index-Woverloaded-virtual=\u0007-Woverloaded-virtual=\u001b]8;;\u0007\u001b[m\u001b[K]\n",
      "   75 |                 virtual Tools::IInterval& \u001b[01;35m\u001b[Koperator\u001b[m\u001b[K=(const Tools::IInterval&);\n",
      "      |                                           \u001b[01;35m\u001b[K^~~~~~~~\u001b[m\u001b[K\n",
      "In file included from \u001b[01m\u001b[K../../include/spatialindex/SpatialIndex.h:250\u001b[m\u001b[K:\n",
      "\u001b[01m\u001b[K../../include/spatialindex/MovingPoint.h:43:38:\u001b[m\u001b[K \u001b[01;36m\u001b[Knote: \u001b[m\u001b[K  by '\u001b[01m\u001b[Kvirtual SpatialIndex::MovingPoint& SpatialIndex::MovingPoint::\u001b[01;32m\u001b[Koperator=\u001b[m\u001b[K(const SpatialIndex::MovingPoint&)\u001b[m\u001b[K'\n",
      "   43 |                 virtual MovingPoint& \u001b[01;36m\u001b[Koperator\u001b[m\u001b[K=(const MovingPoint& p);\n",
      "      |                                      \u001b[01;36m\u001b[K^~~~~~~~\u001b[m\u001b[K\n",
      "\u001b[01m\u001b[K../../include/spatialindex/TimePoint.h:43:36:\u001b[m\u001b[K \u001b[01;35m\u001b[Kwarning: \u001b[m\u001b[K'\u001b[01m\u001b[Kvirtual SpatialIndex::TimePoint& SpatialIndex::TimePoint::\u001b[01;32m\u001b[Koperator=\u001b[m\u001b[K(const SpatialIndex::TimePoint&)\u001b[m\u001b[K' was hidden [\u001b[01;35m\u001b[K\u001b]8;;https://gcc.gnu.org/onlinedocs/gcc/Warning-Options.html#index-Woverloaded-virtual=\u0007-Woverloaded-virtual=\u001b]8;;\u0007\u001b[m\u001b[K]\n",
      "   43 |                 virtual TimePoint& \u001b[01;35m\u001b[Koperator\u001b[m\u001b[K=(const TimePoint& p);\n",
      "      |                                    \u001b[01;35m\u001b[K^~~~~~~~\u001b[m\u001b[K\n",
      "\u001b[01m\u001b[K../../include/spatialindex/MovingPoint.h:43:38:\u001b[m\u001b[K \u001b[01;36m\u001b[Knote: \u001b[m\u001b[K  by '\u001b[01m\u001b[Kvirtual SpatialIndex::MovingPoint& SpatialIndex::MovingPoint::\u001b[01;32m\u001b[Koperator=\u001b[m\u001b[K(const SpatialIndex::MovingPoint&)\u001b[m\u001b[K'\n",
      "   43 |                 virtual MovingPoint& \u001b[01;36m\u001b[Koperator\u001b[m\u001b[K=(const MovingPoint& p);\n",
      "      |                                      \u001b[01;36m\u001b[K^~~~~~~~\u001b[m\u001b[K\n",
      "\u001b[01m\u001b[K../../include/spatialindex/TimePoint.h:44:30:\u001b[m\u001b[K \u001b[01;35m\u001b[Kwarning: \u001b[m\u001b[K'\u001b[01m\u001b[Kvirtual bool SpatialIndex::TimePoint::\u001b[01;32m\u001b[Koperator==\u001b[m\u001b[K(const SpatialIndex::TimePoint&) const\u001b[m\u001b[K' was hidden [\u001b[01;35m\u001b[K\u001b]8;;https://gcc.gnu.org/onlinedocs/gcc/Warning-Options.html#index-Woverloaded-virtual=\u0007-Woverloaded-virtual=\u001b]8;;\u0007\u001b[m\u001b[K]\n",
      "   44 |                 virtual bool \u001b[01;35m\u001b[Koperator\u001b[m\u001b[K==(const TimePoint& p) const;\n",
      "      |                              \u001b[01;35m\u001b[K^~~~~~~~\u001b[m\u001b[K\n",
      "\u001b[01m\u001b[K../../include/spatialindex/MovingPoint.h:44:30:\u001b[m\u001b[K \u001b[01;36m\u001b[Knote: \u001b[m\u001b[K  by '\u001b[01m\u001b[Kvirtual bool SpatialIndex::MovingPoint::\u001b[01;32m\u001b[Koperator==\u001b[m\u001b[K(const SpatialIndex::MovingPoint&) const\u001b[m\u001b[K'\n",
      "   44 |                 virtual bool \u001b[01;36m\u001b[Koperator\u001b[m\u001b[K==(const MovingPoint& p) const;\n",
      "      |                              \u001b[01;36m\u001b[K^~~~~~~~\u001b[m\u001b[K\n",
      "\u001b[01m\u001b[K../../include/spatialindex/TimeRegion.h:88:43:\u001b[m\u001b[K \u001b[01;35m\u001b[Kwarning: \u001b[m\u001b[K'\u001b[01m\u001b[Kvirtual Tools::IInterval& SpatialIndex::TimeRegion::\u001b[01;32m\u001b[Koperator=\u001b[m\u001b[K(const Tools::IInterval&)\u001b[m\u001b[K' was hidden [\u001b[01;35m\u001b[K\u001b]8;;https://gcc.gnu.org/onlinedocs/gcc/Warning-Options.html#index-Woverloaded-virtual=\u0007-Woverloaded-virtual=\u001b]8;;\u0007\u001b[m\u001b[K]\n",
      "   88 |                 virtual Tools::IInterval& \u001b[01;35m\u001b[Koperator\u001b[m\u001b[K=(const Tools::IInterval&);\n",
      "      |                                           \u001b[01;35m\u001b[K^~~~~~~~\u001b[m\u001b[K\n",
      "In file included from \u001b[01m\u001b[K../../include/spatialindex/SpatialIndex.h:251\u001b[m\u001b[K:\n",
      "\u001b[01m\u001b[K../../include/spatialindex/MovingRegion.h:66:39:\u001b[m\u001b[K \u001b[01;36m\u001b[Knote: \u001b[m\u001b[K  by '\u001b[01m\u001b[Kvirtual SpatialIndex::MovingRegion& SpatialIndex::MovingRegion::\u001b[01;32m\u001b[Koperator=\u001b[m\u001b[K(const SpatialIndex::MovingRegion&)\u001b[m\u001b[K'\n",
      "   66 |                 virtual MovingRegion& \u001b[01;36m\u001b[Koperator\u001b[m\u001b[K=(const MovingRegion& r);\n",
      "      |                                       \u001b[01;36m\u001b[K^~~~~~~~\u001b[m\u001b[K\n",
      "\u001b[01m\u001b[K../../include/spatialindex/TimeRegion.h:46:37:\u001b[m\u001b[K \u001b[01;35m\u001b[Kwarning: \u001b[m\u001b[K'\u001b[01m\u001b[Kvirtual SpatialIndex::TimeRegion& SpatialIndex::TimeRegion::\u001b[01;32m\u001b[Koperator=\u001b[m\u001b[K(const SpatialIndex::TimeRegion&)\u001b[m\u001b[K' was hidden [\u001b[01;35m\u001b[K\u001b]8;;https://gcc.gnu.org/onlinedocs/gcc/Warning-Options.html#index-Woverloaded-virtual=\u0007-Woverloaded-virtual=\u001b]8;;\u0007\u001b[m\u001b[K]\n",
      "   46 |                 virtual TimeRegion& \u001b[01;35m\u001b[Koperator\u001b[m\u001b[K=(const TimeRegion& r);\n",
      "      |                                     \u001b[01;35m\u001b[K^~~~~~~~\u001b[m\u001b[K\n",
      "\u001b[01m\u001b[K../../include/spatialindex/MovingRegion.h:66:39:\u001b[m\u001b[K \u001b[01;36m\u001b[Knote: \u001b[m\u001b[K  by '\u001b[01m\u001b[Kvirtual SpatialIndex::MovingRegion& SpatialIndex::MovingRegion::\u001b[01;32m\u001b[Koperator=\u001b[m\u001b[K(const SpatialIndex::MovingRegion&)\u001b[m\u001b[K'\n",
      "   66 |                 virtual MovingRegion& \u001b[01;36m\u001b[Koperator\u001b[m\u001b[K=(const MovingRegion& r);\n",
      "      |                                       \u001b[01;36m\u001b[K^~~~~~~~\u001b[m\u001b[K\n",
      "\u001b[01m\u001b[K../../include/spatialindex/TimeRegion.h:47:30:\u001b[m\u001b[K \u001b[01;35m\u001b[Kwarning: \u001b[m\u001b[K'\u001b[01m\u001b[Kvirtual bool SpatialIndex::TimeRegion::\u001b[01;32m\u001b[Koperator==\u001b[m\u001b[K(const SpatialIndex::TimeRegion&) const\u001b[m\u001b[K' was hidden [\u001b[01;35m\u001b[K\u001b]8;;https://gcc.gnu.org/onlinedocs/gcc/Warning-Options.html#index-Woverloaded-virtual=\u0007-Woverloaded-virtual=\u001b]8;;\u0007\u001b[m\u001b[K]\n",
      "   47 |                 virtual bool \u001b[01;35m\u001b[Koperator\u001b[m\u001b[K==(const TimeRegion&) const;\n",
      "      |                              \u001b[01;35m\u001b[K^~~~~~~~\u001b[m\u001b[K\n",
      "\u001b[01m\u001b[K../../include/spatialindex/MovingRegion.h:67:30:\u001b[m\u001b[K \u001b[01;36m\u001b[Knote: \u001b[m\u001b[K  by '\u001b[01m\u001b[Kvirtual bool SpatialIndex::MovingRegion::\u001b[01;32m\u001b[Koperator==\u001b[m\u001b[K(const SpatialIndex::MovingRegion&) const\u001b[m\u001b[K'\n",
      "   67 |                 virtual bool \u001b[01;36m\u001b[Koperator\u001b[m\u001b[K==(const MovingRegion&) const;\n",
      "      |                              \u001b[01;36m\u001b[K^~~~~~~~\u001b[m\u001b[K\n",
      "libtool: compile:  g++ -DPACKAGE_NAME=\\\"spatialindex\\\" -DPACKAGE_TARNAME=\\\"spatialindex-src\\\" -DPACKAGE_VERSION=\\\"1.8.5\\\" \"-DPACKAGE_STRING=\\\"spatialindex 1.8.5\\\"\" -DPACKAGE_BUGREPORT=\\\"mhadji@gmail.com\\\" -DPACKAGE_URL=\\\"\\\" -DSTDC_HEADERS=1 -DHAVE_SYS_TYPES_H=1 -DHAVE_SYS_STAT_H=1 -DHAVE_STDLIB_H=1 -DHAVE_STRING_H=1 -DHAVE_MEMORY_H=1 -DHAVE_STRINGS_H=1 -DHAVE_INTTYPES_H=1 -DHAVE_STDINT_H=1 -DHAVE_UNISTD_H=1 -DHAVE_DLFCN_H=1 -DLT_OBJDIR=\\\".libs/\\\" -DPACKAGE=\\\"spatialindex-src\\\" -DVERSION=\\\"1.8.5\\\" -DHAVE_FCNTL_H=1 -DHAVE_UNISTD_H=1 -DHAVE_SYS_TYPES_H=1 -DHAVE_SYS_STAT_H=1 -DHAVE_PTHREAD_H=1 -DHAVE_SYS_RESOURCE_H=1 -DHAVE_SYS_TIME_H=1 -DHAVE_STDINT_H=1 -DHAVE_FEATURES_H=1 -DHAVE_GETTIMEOFDAY=1 -DHAVE_MEMSET=1 -DHAVE_MEMCPY=1 -DHAVE_BCOPY=1 -DHAVE_SRAND48=1 -I. -I../../include -I../../include/capi -Wall -Wno-long-long -pedantic -std=c++98 -O2 -DNDEBUG -MT ObjVisitor.lo -MD -MP -MF .deps/ObjVisitor.Tpo -c ObjVisitor.cc -o ObjVisitor.o >/dev/null 2>&1\n",
      "depbase=`echo sidx_api.lo | sed 's|[^/]*$|.deps/&|;s|\\.lo$||'`;\\\n",
      "/bin/bash ../../libtool  --tag=CXX   --mode=compile g++ -DPACKAGE_NAME=\\\"spatialindex\\\" -DPACKAGE_TARNAME=\\\"spatialindex-src\\\" -DPACKAGE_VERSION=\\\"1.8.5\\\" -DPACKAGE_STRING=\\\"spatialindex\\ 1.8.5\\\" -DPACKAGE_BUGREPORT=\\\"mhadji@gmail.com\\\" -DPACKAGE_URL=\\\"\\\" -DSTDC_HEADERS=1 -DHAVE_SYS_TYPES_H=1 -DHAVE_SYS_STAT_H=1 -DHAVE_STDLIB_H=1 -DHAVE_STRING_H=1 -DHAVE_MEMORY_H=1 -DHAVE_STRINGS_H=1 -DHAVE_INTTYPES_H=1 -DHAVE_STDINT_H=1 -DHAVE_UNISTD_H=1 -DHAVE_DLFCN_H=1 -DLT_OBJDIR=\\\".libs/\\\" -DPACKAGE=\\\"spatialindex-src\\\" -DVERSION=\\\"1.8.5\\\" -DHAVE_FCNTL_H=1 -DHAVE_UNISTD_H=1 -DHAVE_SYS_TYPES_H=1 -DHAVE_SYS_STAT_H=1 -DHAVE_PTHREAD_H=1 -DHAVE_SYS_RESOURCE_H=1 -DHAVE_SYS_TIME_H=1 -DHAVE_STDINT_H=1 -DHAVE_FEATURES_H=1 -DHAVE_GETTIMEOFDAY=1 -DHAVE_MEMSET=1 -DHAVE_MEMCPY=1 -DHAVE_BCOPY=1 -DHAVE_SRAND48=1 -I. -I../../include -I../../include/capi    -Wall -Wno-long-long -pedantic -std=c++98  -O2 -DNDEBUG -MT sidx_api.lo -MD -MP -MF $depbase.Tpo -c -o sidx_api.lo sidx_api.cc &&\\\n",
      "mv -f $depbase.Tpo $depbase.Plo\n",
      "libtool: compile:  g++ -DPACKAGE_NAME=\\\"spatialindex\\\" -DPACKAGE_TARNAME=\\\"spatialindex-src\\\" -DPACKAGE_VERSION=\\\"1.8.5\\\" \"-DPACKAGE_STRING=\\\"spatialindex 1.8.5\\\"\" -DPACKAGE_BUGREPORT=\\\"mhadji@gmail.com\\\" -DPACKAGE_URL=\\\"\\\" -DSTDC_HEADERS=1 -DHAVE_SYS_TYPES_H=1 -DHAVE_SYS_STAT_H=1 -DHAVE_STDLIB_H=1 -DHAVE_STRING_H=1 -DHAVE_MEMORY_H=1 -DHAVE_STRINGS_H=1 -DHAVE_INTTYPES_H=1 -DHAVE_STDINT_H=1 -DHAVE_UNISTD_H=1 -DHAVE_DLFCN_H=1 -DLT_OBJDIR=\\\".libs/\\\" -DPACKAGE=\\\"spatialindex-src\\\" -DVERSION=\\\"1.8.5\\\" -DHAVE_FCNTL_H=1 -DHAVE_UNISTD_H=1 -DHAVE_SYS_TYPES_H=1 -DHAVE_SYS_STAT_H=1 -DHAVE_PTHREAD_H=1 -DHAVE_SYS_RESOURCE_H=1 -DHAVE_SYS_TIME_H=1 -DHAVE_STDINT_H=1 -DHAVE_FEATURES_H=1 -DHAVE_GETTIMEOFDAY=1 -DHAVE_MEMSET=1 -DHAVE_MEMCPY=1 -DHAVE_BCOPY=1 -DHAVE_SRAND48=1 -I. -I../../include -I../../include/capi -Wall -Wno-long-long -pedantic -std=c++98 -O2 -DNDEBUG -MT sidx_api.lo -MD -MP -MF .deps/sidx_api.Tpo -c sidx_api.cc  -fPIC -DPIC -o .libs/sidx_api.o\n",
      "In file included from \u001b[01m\u001b[K../../include/spatialindex/SpatialIndex.h:245\u001b[m\u001b[K,\n",
      "                 from \u001b[01m\u001b[K../../include/spatialindex/capi/sidx_config.h:56\u001b[m\u001b[K,\n",
      "                 from \u001b[01m\u001b[K../../include/spatialindex/capi/sidx_impl.h:36\u001b[m\u001b[K,\n",
      "                 from \u001b[01m\u001b[Ksidx_api.cc:31\u001b[m\u001b[K:\n",
      "\u001b[01m\u001b[K../../include/spatialindex/Point.h:42:32:\u001b[m\u001b[K \u001b[01;35m\u001b[Kwarning: \u001b[m\u001b[K'\u001b[01m\u001b[Kvirtual SpatialIndex::Point& SpatialIndex::Point::\u001b[01;32m\u001b[Koperator=\u001b[m\u001b[K(const SpatialIndex::Point&)\u001b[m\u001b[K' was hidden [\u001b[01;35m\u001b[K\u001b]8;;https://gcc.gnu.org/onlinedocs/gcc/Warning-Options.html#index-Woverloaded-virtual=\u0007-Woverloaded-virtual=\u001b]8;;\u0007\u001b[m\u001b[K]\n",
      "   42 |                 virtual Point& \u001b[01;35m\u001b[Koperator\u001b[m\u001b[K=(const Point& p);\n",
      "      |                                \u001b[01;35m\u001b[K^~~~~~~~\u001b[m\u001b[K\n",
      "In file included from \u001b[01m\u001b[K../../include/spatialindex/SpatialIndex.h:248\u001b[m\u001b[K:\n",
      "\u001b[01m\u001b[K../../include/spatialindex/TimePoint.h:75:43:\u001b[m\u001b[K \u001b[01;36m\u001b[Knote: \u001b[m\u001b[K  by '\u001b[01m\u001b[KSpatialIndex::TimePoint::operator=\u001b[m\u001b[K'\n",
      "   75 |                 virtual Tools::IInterval& \u001b[01;36m\u001b[Koperator\u001b[m\u001b[K=(const Tools::IInterval&);\n",
      "      |                                           \u001b[01;36m\u001b[K^~~~~~~~\u001b[m\u001b[K\n",
      "\u001b[01m\u001b[K../../include/spatialindex/Point.h:43:30:\u001b[m\u001b[K \u001b[01;35m\u001b[Kwarning: \u001b[m\u001b[K'\u001b[01m\u001b[Kvirtual bool SpatialIndex::Point::\u001b[01;32m\u001b[Koperator==\u001b[m\u001b[K(const SpatialIndex::Point&) const\u001b[m\u001b[K' was hidden [\u001b[01;35m\u001b[K\u001b]8;;https://gcc.gnu.org/onlinedocs/gcc/Warning-Options.html#index-Woverloaded-virtual=\u0007-Woverloaded-virtual=\u001b]8;;\u0007\u001b[m\u001b[K]\n",
      "   43 |                 virtual bool \u001b[01;35m\u001b[Koperator\u001b[m\u001b[K==(const Point& p) const;\n",
      "      |                              \u001b[01;35m\u001b[K^~~~~~~~\u001b[m\u001b[K\n",
      "\u001b[01m\u001b[K../../include/spatialindex/TimePoint.h:44:30:\u001b[m\u001b[K \u001b[01;36m\u001b[Knote: \u001b[m\u001b[K  by '\u001b[01m\u001b[Kvirtual bool SpatialIndex::TimePoint::\u001b[01;32m\u001b[Koperator==\u001b[m\u001b[K(const SpatialIndex::TimePoint&) const\u001b[m\u001b[K'\n",
      "   44 |                 virtual bool \u001b[01;36m\u001b[Koperator\u001b[m\u001b[K==(const TimePoint& p) const;\n",
      "      |                              \u001b[01;36m\u001b[K^~~~~~~~\u001b[m\u001b[K\n",
      "In file included from \u001b[01m\u001b[K../../include/spatialindex/SpatialIndex.h:246\u001b[m\u001b[K:\n",
      "\u001b[01m\u001b[K../../include/spatialindex/Region.h:41:33:\u001b[m\u001b[K \u001b[01;35m\u001b[Kwarning: \u001b[m\u001b[K'\u001b[01m\u001b[Kvirtual SpatialIndex::Region& SpatialIndex::Region::\u001b[01;32m\u001b[Koperator=\u001b[m\u001b[K(const SpatialIndex::Region&)\u001b[m\u001b[K' was hidden [\u001b[01;35m\u001b[K\u001b]8;;https://gcc.gnu.org/onlinedocs/gcc/Warning-Options.html#index-Woverloaded-virtual=\u0007-Woverloaded-virtual=\u001b]8;;\u0007\u001b[m\u001b[K]\n",
      "   41 |                 virtual Region& \u001b[01;35m\u001b[Koperator\u001b[m\u001b[K=(const Region& r);\n",
      "      |                                 \u001b[01;35m\u001b[K^~~~~~~~\u001b[m\u001b[K\n",
      "In file included from \u001b[01m\u001b[K../../include/spatialindex/SpatialIndex.h:249\u001b[m\u001b[K:\n",
      "\u001b[01m\u001b[K../../include/spatialindex/TimeRegion.h:88:43:\u001b[m\u001b[K \u001b[01;36m\u001b[Knote: \u001b[m\u001b[K  by '\u001b[01m\u001b[KSpatialIndex::TimeRegion::operator=\u001b[m\u001b[K'\n",
      "   88 |                 virtual Tools::IInterval& \u001b[01;36m\u001b[Koperator\u001b[m\u001b[K=(const Tools::IInterval&);\n",
      "      |                                           \u001b[01;36m\u001b[K^~~~~~~~\u001b[m\u001b[K\n",
      "\u001b[01m\u001b[K../../include/spatialindex/Region.h:42:30:\u001b[m\u001b[K \u001b[01;35m\u001b[Kwarning: \u001b[m\u001b[K'\u001b[01m\u001b[Kvirtual bool SpatialIndex::Region::\u001b[01;32m\u001b[Koperator==\u001b[m\u001b[K(const SpatialIndex::Region&) const\u001b[m\u001b[K' was hidden [\u001b[01;35m\u001b[K\u001b]8;;https://gcc.gnu.org/onlinedocs/gcc/Warning-Options.html#index-Woverloaded-virtual=\u0007-Woverloaded-virtual=\u001b]8;;\u0007\u001b[m\u001b[K]\n",
      "   42 |                 virtual bool \u001b[01;35m\u001b[Koperator\u001b[m\u001b[K==(const Region&) const;\n",
      "      |                              \u001b[01;35m\u001b[K^~~~~~~~\u001b[m\u001b[K\n",
      "\u001b[01m\u001b[K../../include/spatialindex/TimeRegion.h:47:30:\u001b[m\u001b[K \u001b[01;36m\u001b[Knote: \u001b[m\u001b[K  by '\u001b[01m\u001b[Kvirtual bool SpatialIndex::TimeRegion::\u001b[01;32m\u001b[Koperator==\u001b[m\u001b[K(const SpatialIndex::TimeRegion&) const\u001b[m\u001b[K'\n",
      "   47 |                 virtual bool \u001b[01;36m\u001b[Koperator\u001b[m\u001b[K==(const TimeRegion&) const;\n",
      "      |                              \u001b[01;36m\u001b[K^~~~~~~~\u001b[m\u001b[K\n",
      "\u001b[01m\u001b[K../../include/spatialindex/TimePoint.h:75:43:\u001b[m\u001b[K \u001b[01;35m\u001b[Kwarning: \u001b[m\u001b[K'\u001b[01m\u001b[Kvirtual Tools::IInterval& SpatialIndex::TimePoint::\u001b[01;32m\u001b[Koperator=\u001b[m\u001b[K(const Tools::IInterval&)\u001b[m\u001b[K' was hidden [\u001b[01;35m\u001b[K\u001b]8;;https://gcc.gnu.org/onlinedocs/gcc/Warning-Options.html#index-Woverloaded-virtual=\u0007-Woverloaded-virtual=\u001b]8;;\u0007\u001b[m\u001b[K]\n",
      "   75 |                 virtual Tools::IInterval& \u001b[01;35m\u001b[Koperator\u001b[m\u001b[K=(const Tools::IInterval&);\n",
      "      |                                           \u001b[01;35m\u001b[K^~~~~~~~\u001b[m\u001b[K\n",
      "In file included from \u001b[01m\u001b[K../../include/spatialindex/SpatialIndex.h:250\u001b[m\u001b[K:\n",
      "\u001b[01m\u001b[K../../include/spatialindex/MovingPoint.h:43:38:\u001b[m\u001b[K \u001b[01;36m\u001b[Knote: \u001b[m\u001b[K  by '\u001b[01m\u001b[Kvirtual SpatialIndex::MovingPoint& SpatialIndex::MovingPoint::\u001b[01;32m\u001b[Koperator=\u001b[m\u001b[K(const SpatialIndex::MovingPoint&)\u001b[m\u001b[K'\n",
      "   43 |                 virtual MovingPoint& \u001b[01;36m\u001b[Koperator\u001b[m\u001b[K=(const MovingPoint& p);\n",
      "      |                                      \u001b[01;36m\u001b[K^~~~~~~~\u001b[m\u001b[K\n",
      "\u001b[01m\u001b[K../../include/spatialindex/TimePoint.h:43:36:\u001b[m\u001b[K \u001b[01;35m\u001b[Kwarning: \u001b[m\u001b[K'\u001b[01m\u001b[Kvirtual SpatialIndex::TimePoint& SpatialIndex::TimePoint::\u001b[01;32m\u001b[Koperator=\u001b[m\u001b[K(const SpatialIndex::TimePoint&)\u001b[m\u001b[K' was hidden [\u001b[01;35m\u001b[K\u001b]8;;https://gcc.gnu.org/onlinedocs/gcc/Warning-Options.html#index-Woverloaded-virtual=\u0007-Woverloaded-virtual=\u001b]8;;\u0007\u001b[m\u001b[K]\n",
      "   43 |                 virtual TimePoint& \u001b[01;35m\u001b[Koperator\u001b[m\u001b[K=(const TimePoint& p);\n",
      "      |                                    \u001b[01;35m\u001b[K^~~~~~~~\u001b[m\u001b[K\n",
      "\u001b[01m\u001b[K../../include/spatialindex/MovingPoint.h:43:38:\u001b[m\u001b[K \u001b[01;36m\u001b[Knote: \u001b[m\u001b[K  by '\u001b[01m\u001b[Kvirtual SpatialIndex::MovingPoint& SpatialIndex::MovingPoint::\u001b[01;32m\u001b[Koperator=\u001b[m\u001b[K(const SpatialIndex::MovingPoint&)\u001b[m\u001b[K'\n",
      "   43 |                 virtual MovingPoint& \u001b[01;36m\u001b[Koperator\u001b[m\u001b[K=(const MovingPoint& p);\n",
      "      |                                      \u001b[01;36m\u001b[K^~~~~~~~\u001b[m\u001b[K\n",
      "\u001b[01m\u001b[K../../include/spatialindex/TimePoint.h:44:30:\u001b[m\u001b[K \u001b[01;35m\u001b[Kwarning: \u001b[m\u001b[K'\u001b[01m\u001b[Kvirtual bool SpatialIndex::TimePoint::\u001b[01;32m\u001b[Koperator==\u001b[m\u001b[K(const SpatialIndex::TimePoint&) const\u001b[m\u001b[K' was hidden [\u001b[01;35m\u001b[K\u001b]8;;https://gcc.gnu.org/onlinedocs/gcc/Warning-Options.html#index-Woverloaded-virtual=\u0007-Woverloaded-virtual=\u001b]8;;\u0007\u001b[m\u001b[K]\n",
      "   44 |                 virtual bool \u001b[01;35m\u001b[Koperator\u001b[m\u001b[K==(const TimePoint& p) const;\n",
      "      |                              \u001b[01;35m\u001b[K^~~~~~~~\u001b[m\u001b[K\n",
      "\u001b[01m\u001b[K../../include/spatialindex/MovingPoint.h:44:30:\u001b[m\u001b[K \u001b[01;36m\u001b[Knote: \u001b[m\u001b[K  by '\u001b[01m\u001b[Kvirtual bool SpatialIndex::MovingPoint::\u001b[01;32m\u001b[Koperator==\u001b[m\u001b[K(const SpatialIndex::MovingPoint&) const\u001b[m\u001b[K'\n",
      "   44 |                 virtual bool \u001b[01;36m\u001b[Koperator\u001b[m\u001b[K==(const MovingPoint& p) const;\n",
      "      |                              \u001b[01;36m\u001b[K^~~~~~~~\u001b[m\u001b[K\n",
      "\u001b[01m\u001b[K../../include/spatialindex/TimeRegion.h:88:43:\u001b[m\u001b[K \u001b[01;35m\u001b[Kwarning: \u001b[m\u001b[K'\u001b[01m\u001b[Kvirtual Tools::IInterval& SpatialIndex::TimeRegion::\u001b[01;32m\u001b[Koperator=\u001b[m\u001b[K(const Tools::IInterval&)\u001b[m\u001b[K' was hidden [\u001b[01;35m\u001b[K\u001b]8;;https://gcc.gnu.org/onlinedocs/gcc/Warning-Options.html#index-Woverloaded-virtual=\u0007-Woverloaded-virtual=\u001b]8;;\u0007\u001b[m\u001b[K]\n",
      "   88 |                 virtual Tools::IInterval& \u001b[01;35m\u001b[Koperator\u001b[m\u001b[K=(const Tools::IInterval&);\n",
      "      |                                           \u001b[01;35m\u001b[K^~~~~~~~\u001b[m\u001b[K\n",
      "In file included from \u001b[01m\u001b[K../../include/spatialindex/SpatialIndex.h:251\u001b[m\u001b[K:\n",
      "\u001b[01m\u001b[K../../include/spatialindex/MovingRegion.h:66:39:\u001b[m\u001b[K \u001b[01;36m\u001b[Knote: \u001b[m\u001b[K  by '\u001b[01m\u001b[Kvirtual SpatialIndex::MovingRegion& SpatialIndex::MovingRegion::\u001b[01;32m\u001b[Koperator=\u001b[m\u001b[K(const SpatialIndex::MovingRegion&)\u001b[m\u001b[K'\n",
      "   66 |                 virtual MovingRegion& \u001b[01;36m\u001b[Koperator\u001b[m\u001b[K=(const MovingRegion& r);\n",
      "      |                                       \u001b[01;36m\u001b[K^~~~~~~~\u001b[m\u001b[K\n",
      "\u001b[01m\u001b[K../../include/spatialindex/TimeRegion.h:46:37:\u001b[m\u001b[K \u001b[01;35m\u001b[Kwarning: \u001b[m\u001b[K'\u001b[01m\u001b[Kvirtual SpatialIndex::TimeRegion& SpatialIndex::TimeRegion::\u001b[01;32m\u001b[Koperator=\u001b[m\u001b[K(const SpatialIndex::TimeRegion&)\u001b[m\u001b[K' was hidden [\u001b[01;35m\u001b[K\u001b]8;;https://gcc.gnu.org/onlinedocs/gcc/Warning-Options.html#index-Woverloaded-virtual=\u0007-Woverloaded-virtual=\u001b]8;;\u0007\u001b[m\u001b[K]\n",
      "   46 |                 virtual TimeRegion& \u001b[01;35m\u001b[Koperator\u001b[m\u001b[K=(const TimeRegion& r);\n",
      "      |                                     \u001b[01;35m\u001b[K^~~~~~~~\u001b[m\u001b[K\n",
      "\u001b[01m\u001b[K../../include/spatialindex/MovingRegion.h:66:39:\u001b[m\u001b[K \u001b[01;36m\u001b[Knote: \u001b[m\u001b[K  by '\u001b[01m\u001b[Kvirtual SpatialIndex::MovingRegion& SpatialIndex::MovingRegion::\u001b[01;32m\u001b[Koperator=\u001b[m\u001b[K(const SpatialIndex::MovingRegion&)\u001b[m\u001b[K'\n",
      "   66 |                 virtual MovingRegion& \u001b[01;36m\u001b[Koperator\u001b[m\u001b[K=(const MovingRegion& r);\n",
      "      |                                       \u001b[01;36m\u001b[K^~~~~~~~\u001b[m\u001b[K\n",
      "\u001b[01m\u001b[K../../include/spatialindex/TimeRegion.h:47:30:\u001b[m\u001b[K \u001b[01;35m\u001b[Kwarning: \u001b[m\u001b[K'\u001b[01m\u001b[Kvirtual bool SpatialIndex::TimeRegion::\u001b[01;32m\u001b[Koperator==\u001b[m\u001b[K(const SpatialIndex::TimeRegion&) const\u001b[m\u001b[K' was hidden [\u001b[01;35m\u001b[K\u001b]8;;https://gcc.gnu.org/onlinedocs/gcc/Warning-Options.html#index-Woverloaded-virtual=\u0007-Woverloaded-virtual=\u001b]8;;\u0007\u001b[m\u001b[K]\n",
      "   47 |                 virtual bool \u001b[01;35m\u001b[Koperator\u001b[m\u001b[K==(const TimeRegion&) const;\n",
      "      |                              \u001b[01;35m\u001b[K^~~~~~~~\u001b[m\u001b[K\n",
      "\u001b[01m\u001b[K../../include/spatialindex/MovingRegion.h:67:30:\u001b[m\u001b[K \u001b[01;36m\u001b[Knote: \u001b[m\u001b[K  by '\u001b[01m\u001b[Kvirtual bool SpatialIndex::MovingRegion::\u001b[01;32m\u001b[Koperator==\u001b[m\u001b[K(const SpatialIndex::MovingRegion&) const\u001b[m\u001b[K'\n",
      "   67 |                 virtual bool \u001b[01;36m\u001b[Koperator\u001b[m\u001b[K==(const MovingRegion&) const;\n",
      "      |                              \u001b[01;36m\u001b[K^~~~~~~~\u001b[m\u001b[K\n",
      "libtool: compile:  g++ -DPACKAGE_NAME=\\\"spatialindex\\\" -DPACKAGE_TARNAME=\\\"spatialindex-src\\\" -DPACKAGE_VERSION=\\\"1.8.5\\\" \"-DPACKAGE_STRING=\\\"spatialindex 1.8.5\\\"\" -DPACKAGE_BUGREPORT=\\\"mhadji@gmail.com\\\" -DPACKAGE_URL=\\\"\\\" -DSTDC_HEADERS=1 -DHAVE_SYS_TYPES_H=1 -DHAVE_SYS_STAT_H=1 -DHAVE_STDLIB_H=1 -DHAVE_STRING_H=1 -DHAVE_MEMORY_H=1 -DHAVE_STRINGS_H=1 -DHAVE_INTTYPES_H=1 -DHAVE_STDINT_H=1 -DHAVE_UNISTD_H=1 -DHAVE_DLFCN_H=1 -DLT_OBJDIR=\\\".libs/\\\" -DPACKAGE=\\\"spatialindex-src\\\" -DVERSION=\\\"1.8.5\\\" -DHAVE_FCNTL_H=1 -DHAVE_UNISTD_H=1 -DHAVE_SYS_TYPES_H=1 -DHAVE_SYS_STAT_H=1 -DHAVE_PTHREAD_H=1 -DHAVE_SYS_RESOURCE_H=1 -DHAVE_SYS_TIME_H=1 -DHAVE_STDINT_H=1 -DHAVE_FEATURES_H=1 -DHAVE_GETTIMEOFDAY=1 -DHAVE_MEMSET=1 -DHAVE_MEMCPY=1 -DHAVE_BCOPY=1 -DHAVE_SRAND48=1 -I. -I../../include -I../../include/capi -Wall -Wno-long-long -pedantic -std=c++98 -O2 -DNDEBUG -MT sidx_api.lo -MD -MP -MF .deps/sidx_api.Tpo -c sidx_api.cc -o sidx_api.o >/dev/null 2>&1\n",
      "depbase=`echo Utility.lo | sed 's|[^/]*$|.deps/&|;s|\\.lo$||'`;\\\n",
      "/bin/bash ../../libtool  --tag=CXX   --mode=compile g++ -DPACKAGE_NAME=\\\"spatialindex\\\" -DPACKAGE_TARNAME=\\\"spatialindex-src\\\" -DPACKAGE_VERSION=\\\"1.8.5\\\" -DPACKAGE_STRING=\\\"spatialindex\\ 1.8.5\\\" -DPACKAGE_BUGREPORT=\\\"mhadji@gmail.com\\\" -DPACKAGE_URL=\\\"\\\" -DSTDC_HEADERS=1 -DHAVE_SYS_TYPES_H=1 -DHAVE_SYS_STAT_H=1 -DHAVE_STDLIB_H=1 -DHAVE_STRING_H=1 -DHAVE_MEMORY_H=1 -DHAVE_STRINGS_H=1 -DHAVE_INTTYPES_H=1 -DHAVE_STDINT_H=1 -DHAVE_UNISTD_H=1 -DHAVE_DLFCN_H=1 -DLT_OBJDIR=\\\".libs/\\\" -DPACKAGE=\\\"spatialindex-src\\\" -DVERSION=\\\"1.8.5\\\" -DHAVE_FCNTL_H=1 -DHAVE_UNISTD_H=1 -DHAVE_SYS_TYPES_H=1 -DHAVE_SYS_STAT_H=1 -DHAVE_PTHREAD_H=1 -DHAVE_SYS_RESOURCE_H=1 -DHAVE_SYS_TIME_H=1 -DHAVE_STDINT_H=1 -DHAVE_FEATURES_H=1 -DHAVE_GETTIMEOFDAY=1 -DHAVE_MEMSET=1 -DHAVE_MEMCPY=1 -DHAVE_BCOPY=1 -DHAVE_SRAND48=1 -I. -I../../include -I../../include/capi    -Wall -Wno-long-long -pedantic -std=c++98  -O2 -DNDEBUG -MT Utility.lo -MD -MP -MF $depbase.Tpo -c -o Utility.lo Utility.cc &&\\\n",
      "mv -f $depbase.Tpo $depbase.Plo\n",
      "libtool: compile:  g++ -DPACKAGE_NAME=\\\"spatialindex\\\" -DPACKAGE_TARNAME=\\\"spatialindex-src\\\" -DPACKAGE_VERSION=\\\"1.8.5\\\" \"-DPACKAGE_STRING=\\\"spatialindex 1.8.5\\\"\" -DPACKAGE_BUGREPORT=\\\"mhadji@gmail.com\\\" -DPACKAGE_URL=\\\"\\\" -DSTDC_HEADERS=1 -DHAVE_SYS_TYPES_H=1 -DHAVE_SYS_STAT_H=1 -DHAVE_STDLIB_H=1 -DHAVE_STRING_H=1 -DHAVE_MEMORY_H=1 -DHAVE_STRINGS_H=1 -DHAVE_INTTYPES_H=1 -DHAVE_STDINT_H=1 -DHAVE_UNISTD_H=1 -DHAVE_DLFCN_H=1 -DLT_OBJDIR=\\\".libs/\\\" -DPACKAGE=\\\"spatialindex-src\\\" -DVERSION=\\\"1.8.5\\\" -DHAVE_FCNTL_H=1 -DHAVE_UNISTD_H=1 -DHAVE_SYS_TYPES_H=1 -DHAVE_SYS_STAT_H=1 -DHAVE_PTHREAD_H=1 -DHAVE_SYS_RESOURCE_H=1 -DHAVE_SYS_TIME_H=1 -DHAVE_STDINT_H=1 -DHAVE_FEATURES_H=1 -DHAVE_GETTIMEOFDAY=1 -DHAVE_MEMSET=1 -DHAVE_MEMCPY=1 -DHAVE_BCOPY=1 -DHAVE_SRAND48=1 -I. -I../../include -I../../include/capi -Wall -Wno-long-long -pedantic -std=c++98 -O2 -DNDEBUG -MT Utility.lo -MD -MP -MF .deps/Utility.Tpo -c Utility.cc  -fPIC -DPIC -o .libs/Utility.o\n",
      "In file included from \u001b[01m\u001b[K../../include/spatialindex/SpatialIndex.h:245\u001b[m\u001b[K,\n",
      "                 from \u001b[01m\u001b[K../../include/spatialindex/capi/sidx_config.h:56\u001b[m\u001b[K,\n",
      "                 from \u001b[01m\u001b[K../../include/spatialindex/capi/sidx_impl.h:36\u001b[m\u001b[K,\n",
      "                 from \u001b[01m\u001b[KUtility.cc:29\u001b[m\u001b[K:\n",
      "\u001b[01m\u001b[K../../include/spatialindex/Point.h:42:32:\u001b[m\u001b[K \u001b[01;35m\u001b[Kwarning: \u001b[m\u001b[K'\u001b[01m\u001b[Kvirtual SpatialIndex::Point& SpatialIndex::Point::\u001b[01;32m\u001b[Koperator=\u001b[m\u001b[K(const SpatialIndex::Point&)\u001b[m\u001b[K' was hidden [\u001b[01;35m\u001b[K\u001b]8;;https://gcc.gnu.org/onlinedocs/gcc/Warning-Options.html#index-Woverloaded-virtual=\u0007-Woverloaded-virtual=\u001b]8;;\u0007\u001b[m\u001b[K]\n",
      "   42 |                 virtual Point& \u001b[01;35m\u001b[Koperator\u001b[m\u001b[K=(const Point& p);\n",
      "      |                                \u001b[01;35m\u001b[K^~~~~~~~\u001b[m\u001b[K\n",
      "In file included from \u001b[01m\u001b[K../../include/spatialindex/SpatialIndex.h:248\u001b[m\u001b[K:\n",
      "\u001b[01m\u001b[K../../include/spatialindex/TimePoint.h:75:43:\u001b[m\u001b[K \u001b[01;36m\u001b[Knote: \u001b[m\u001b[K  by '\u001b[01m\u001b[KSpatialIndex::TimePoint::operator=\u001b[m\u001b[K'\n",
      "   75 |                 virtual Tools::IInterval& \u001b[01;36m\u001b[Koperator\u001b[m\u001b[K=(const Tools::IInterval&);\n",
      "      |                                           \u001b[01;36m\u001b[K^~~~~~~~\u001b[m\u001b[K\n",
      "\u001b[01m\u001b[K../../include/spatialindex/Point.h:43:30:\u001b[m\u001b[K \u001b[01;35m\u001b[Kwarning: \u001b[m\u001b[K'\u001b[01m\u001b[Kvirtual bool SpatialIndex::Point::\u001b[01;32m\u001b[Koperator==\u001b[m\u001b[K(const SpatialIndex::Point&) const\u001b[m\u001b[K' was hidden [\u001b[01;35m\u001b[K\u001b]8;;https://gcc.gnu.org/onlinedocs/gcc/Warning-Options.html#index-Woverloaded-virtual=\u0007-Woverloaded-virtual=\u001b]8;;\u0007\u001b[m\u001b[K]\n",
      "   43 |                 virtual bool \u001b[01;35m\u001b[Koperator\u001b[m\u001b[K==(const Point& p) const;\n",
      "      |                              \u001b[01;35m\u001b[K^~~~~~~~\u001b[m\u001b[K\n",
      "\u001b[01m\u001b[K../../include/spatialindex/TimePoint.h:44:30:\u001b[m\u001b[K \u001b[01;36m\u001b[Knote: \u001b[m\u001b[K  by '\u001b[01m\u001b[Kvirtual bool SpatialIndex::TimePoint::\u001b[01;32m\u001b[Koperator==\u001b[m\u001b[K(const SpatialIndex::TimePoint&) const\u001b[m\u001b[K'\n",
      "   44 |                 virtual bool \u001b[01;36m\u001b[Koperator\u001b[m\u001b[K==(const TimePoint& p) const;\n",
      "      |                              \u001b[01;36m\u001b[K^~~~~~~~\u001b[m\u001b[K\n",
      "In file included from \u001b[01m\u001b[K../../include/spatialindex/SpatialIndex.h:246\u001b[m\u001b[K:\n",
      "\u001b[01m\u001b[K../../include/spatialindex/Region.h:41:33:\u001b[m\u001b[K \u001b[01;35m\u001b[Kwarning: \u001b[m\u001b[K'\u001b[01m\u001b[Kvirtual SpatialIndex::Region& SpatialIndex::Region::\u001b[01;32m\u001b[Koperator=\u001b[m\u001b[K(const SpatialIndex::Region&)\u001b[m\u001b[K' was hidden [\u001b[01;35m\u001b[K\u001b]8;;https://gcc.gnu.org/onlinedocs/gcc/Warning-Options.html#index-Woverloaded-virtual=\u0007-Woverloaded-virtual=\u001b]8;;\u0007\u001b[m\u001b[K]\n",
      "   41 |                 virtual Region& \u001b[01;35m\u001b[Koperator\u001b[m\u001b[K=(const Region& r);\n",
      "      |                                 \u001b[01;35m\u001b[K^~~~~~~~\u001b[m\u001b[K\n",
      "In file included from \u001b[01m\u001b[K../../include/spatialindex/SpatialIndex.h:249\u001b[m\u001b[K:\n",
      "\u001b[01m\u001b[K../../include/spatialindex/TimeRegion.h:88:43:\u001b[m\u001b[K \u001b[01;36m\u001b[Knote: \u001b[m\u001b[K  by '\u001b[01m\u001b[KSpatialIndex::TimeRegion::operator=\u001b[m\u001b[K'\n",
      "   88 |                 virtual Tools::IInterval& \u001b[01;36m\u001b[Koperator\u001b[m\u001b[K=(const Tools::IInterval&);\n",
      "      |                                           \u001b[01;36m\u001b[K^~~~~~~~\u001b[m\u001b[K\n",
      "\u001b[01m\u001b[K../../include/spatialindex/Region.h:42:30:\u001b[m\u001b[K \u001b[01;35m\u001b[Kwarning: \u001b[m\u001b[K'\u001b[01m\u001b[Kvirtual bool SpatialIndex::Region::\u001b[01;32m\u001b[Koperator==\u001b[m\u001b[K(const SpatialIndex::Region&) const\u001b[m\u001b[K' was hidden [\u001b[01;35m\u001b[K\u001b]8;;https://gcc.gnu.org/onlinedocs/gcc/Warning-Options.html#index-Woverloaded-virtual=\u0007-Woverloaded-virtual=\u001b]8;;\u0007\u001b[m\u001b[K]\n",
      "   42 |                 virtual bool \u001b[01;35m\u001b[Koperator\u001b[m\u001b[K==(const Region&) const;\n",
      "      |                              \u001b[01;35m\u001b[K^~~~~~~~\u001b[m\u001b[K\n",
      "\u001b[01m\u001b[K../../include/spatialindex/TimeRegion.h:47:30:\u001b[m\u001b[K \u001b[01;36m\u001b[Knote: \u001b[m\u001b[K  by '\u001b[01m\u001b[Kvirtual bool SpatialIndex::TimeRegion::\u001b[01;32m\u001b[Koperator==\u001b[m\u001b[K(const SpatialIndex::TimeRegion&) const\u001b[m\u001b[K'\n",
      "   47 |                 virtual bool \u001b[01;36m\u001b[Koperator\u001b[m\u001b[K==(const TimeRegion&) const;\n",
      "      |                              \u001b[01;36m\u001b[K^~~~~~~~\u001b[m\u001b[K\n",
      "\u001b[01m\u001b[K../../include/spatialindex/TimePoint.h:75:43:\u001b[m\u001b[K \u001b[01;35m\u001b[Kwarning: \u001b[m\u001b[K'\u001b[01m\u001b[Kvirtual Tools::IInterval& SpatialIndex::TimePoint::\u001b[01;32m\u001b[Koperator=\u001b[m\u001b[K(const Tools::IInterval&)\u001b[m\u001b[K' was hidden [\u001b[01;35m\u001b[K\u001b]8;;https://gcc.gnu.org/onlinedocs/gcc/Warning-Options.html#index-Woverloaded-virtual=\u0007-Woverloaded-virtual=\u001b]8;;\u0007\u001b[m\u001b[K]\n",
      "   75 |                 virtual Tools::IInterval& \u001b[01;35m\u001b[Koperator\u001b[m\u001b[K=(const Tools::IInterval&);\n",
      "      |                                           \u001b[01;35m\u001b[K^~~~~~~~\u001b[m\u001b[K\n",
      "In file included from \u001b[01m\u001b[K../../include/spatialindex/SpatialIndex.h:250\u001b[m\u001b[K:\n",
      "\u001b[01m\u001b[K../../include/spatialindex/MovingPoint.h:43:38:\u001b[m\u001b[K \u001b[01;36m\u001b[Knote: \u001b[m\u001b[K  by '\u001b[01m\u001b[Kvirtual SpatialIndex::MovingPoint& SpatialIndex::MovingPoint::\u001b[01;32m\u001b[Koperator=\u001b[m\u001b[K(const SpatialIndex::MovingPoint&)\u001b[m\u001b[K'\n",
      "   43 |                 virtual MovingPoint& \u001b[01;36m\u001b[Koperator\u001b[m\u001b[K=(const MovingPoint& p);\n",
      "      |                                      \u001b[01;36m\u001b[K^~~~~~~~\u001b[m\u001b[K\n",
      "\u001b[01m\u001b[K../../include/spatialindex/TimePoint.h:43:36:\u001b[m\u001b[K \u001b[01;35m\u001b[Kwarning: \u001b[m\u001b[K'\u001b[01m\u001b[Kvirtual SpatialIndex::TimePoint& SpatialIndex::TimePoint::\u001b[01;32m\u001b[Koperator=\u001b[m\u001b[K(const SpatialIndex::TimePoint&)\u001b[m\u001b[K' was hidden [\u001b[01;35m\u001b[K\u001b]8;;https://gcc.gnu.org/onlinedocs/gcc/Warning-Options.html#index-Woverloaded-virtual=\u0007-Woverloaded-virtual=\u001b]8;;\u0007\u001b[m\u001b[K]\n",
      "   43 |                 virtual TimePoint& \u001b[01;35m\u001b[Koperator\u001b[m\u001b[K=(const TimePoint& p);\n",
      "      |                                    \u001b[01;35m\u001b[K^~~~~~~~\u001b[m\u001b[K\n",
      "\u001b[01m\u001b[K../../include/spatialindex/MovingPoint.h:43:38:\u001b[m\u001b[K \u001b[01;36m\u001b[Knote: \u001b[m\u001b[K  by '\u001b[01m\u001b[Kvirtual SpatialIndex::MovingPoint& SpatialIndex::MovingPoint::\u001b[01;32m\u001b[Koperator=\u001b[m\u001b[K(const SpatialIndex::MovingPoint&)\u001b[m\u001b[K'\n",
      "   43 |                 virtual MovingPoint& \u001b[01;36m\u001b[Koperator\u001b[m\u001b[K=(const MovingPoint& p);\n",
      "      |                                      \u001b[01;36m\u001b[K^~~~~~~~\u001b[m\u001b[K\n",
      "\u001b[01m\u001b[K../../include/spatialindex/TimePoint.h:44:30:\u001b[m\u001b[K \u001b[01;35m\u001b[Kwarning: \u001b[m\u001b[K'\u001b[01m\u001b[Kvirtual bool SpatialIndex::TimePoint::\u001b[01;32m\u001b[Koperator==\u001b[m\u001b[K(const SpatialIndex::TimePoint&) const\u001b[m\u001b[K' was hidden [\u001b[01;35m\u001b[K\u001b]8;;https://gcc.gnu.org/onlinedocs/gcc/Warning-Options.html#index-Woverloaded-virtual=\u0007-Woverloaded-virtual=\u001b]8;;\u0007\u001b[m\u001b[K]\n",
      "   44 |                 virtual bool \u001b[01;35m\u001b[Koperator\u001b[m\u001b[K==(const TimePoint& p) const;\n",
      "      |                              \u001b[01;35m\u001b[K^~~~~~~~\u001b[m\u001b[K\n",
      "\u001b[01m\u001b[K../../include/spatialindex/MovingPoint.h:44:30:\u001b[m\u001b[K \u001b[01;36m\u001b[Knote: \u001b[m\u001b[K  by '\u001b[01m\u001b[Kvirtual bool SpatialIndex::MovingPoint::\u001b[01;32m\u001b[Koperator==\u001b[m\u001b[K(const SpatialIndex::MovingPoint&) const\u001b[m\u001b[K'\n",
      "   44 |                 virtual bool \u001b[01;36m\u001b[Koperator\u001b[m\u001b[K==(const MovingPoint& p) const;\n",
      "      |                              \u001b[01;36m\u001b[K^~~~~~~~\u001b[m\u001b[K\n",
      "\u001b[01m\u001b[K../../include/spatialindex/TimeRegion.h:88:43:\u001b[m\u001b[K \u001b[01;35m\u001b[Kwarning: \u001b[m\u001b[K'\u001b[01m\u001b[Kvirtual Tools::IInterval& SpatialIndex::TimeRegion::\u001b[01;32m\u001b[Koperator=\u001b[m\u001b[K(const Tools::IInterval&)\u001b[m\u001b[K' was hidden [\u001b[01;35m\u001b[K\u001b]8;;https://gcc.gnu.org/onlinedocs/gcc/Warning-Options.html#index-Woverloaded-virtual=\u0007-Woverloaded-virtual=\u001b]8;;\u0007\u001b[m\u001b[K]\n",
      "   88 |                 virtual Tools::IInterval& \u001b[01;35m\u001b[Koperator\u001b[m\u001b[K=(const Tools::IInterval&);\n",
      "      |                                           \u001b[01;35m\u001b[K^~~~~~~~\u001b[m\u001b[K\n",
      "In file included from \u001b[01m\u001b[K../../include/spatialindex/SpatialIndex.h:251\u001b[m\u001b[K:\n",
      "\u001b[01m\u001b[K../../include/spatialindex/MovingRegion.h:66:39:\u001b[m\u001b[K \u001b[01;36m\u001b[Knote: \u001b[m\u001b[K  by '\u001b[01m\u001b[Kvirtual SpatialIndex::MovingRegion& SpatialIndex::MovingRegion::\u001b[01;32m\u001b[Koperator=\u001b[m\u001b[K(const SpatialIndex::MovingRegion&)\u001b[m\u001b[K'\n",
      "   66 |                 virtual MovingRegion& \u001b[01;36m\u001b[Koperator\u001b[m\u001b[K=(const MovingRegion& r);\n",
      "      |                                       \u001b[01;36m\u001b[K^~~~~~~~\u001b[m\u001b[K\n",
      "\u001b[01m\u001b[K../../include/spatialindex/TimeRegion.h:46:37:\u001b[m\u001b[K \u001b[01;35m\u001b[Kwarning: \u001b[m\u001b[K'\u001b[01m\u001b[Kvirtual SpatialIndex::TimeRegion& SpatialIndex::TimeRegion::\u001b[01;32m\u001b[Koperator=\u001b[m\u001b[K(const SpatialIndex::TimeRegion&)\u001b[m\u001b[K' was hidden [\u001b[01;35m\u001b[K\u001b]8;;https://gcc.gnu.org/onlinedocs/gcc/Warning-Options.html#index-Woverloaded-virtual=\u0007-Woverloaded-virtual=\u001b]8;;\u0007\u001b[m\u001b[K]\n",
      "   46 |                 virtual TimeRegion& \u001b[01;35m\u001b[Koperator\u001b[m\u001b[K=(const TimeRegion& r);\n",
      "      |                                     \u001b[01;35m\u001b[K^~~~~~~~\u001b[m\u001b[K\n",
      "\u001b[01m\u001b[K../../include/spatialindex/MovingRegion.h:66:39:\u001b[m\u001b[K \u001b[01;36m\u001b[Knote: \u001b[m\u001b[K  by '\u001b[01m\u001b[Kvirtual SpatialIndex::MovingRegion& SpatialIndex::MovingRegion::\u001b[01;32m\u001b[Koperator=\u001b[m\u001b[K(const SpatialIndex::MovingRegion&)\u001b[m\u001b[K'\n",
      "   66 |                 virtual MovingRegion& \u001b[01;36m\u001b[Koperator\u001b[m\u001b[K=(const MovingRegion& r);\n",
      "      |                                       \u001b[01;36m\u001b[K^~~~~~~~\u001b[m\u001b[K\n",
      "\u001b[01m\u001b[K../../include/spatialindex/TimeRegion.h:47:30:\u001b[m\u001b[K \u001b[01;35m\u001b[Kwarning: \u001b[m\u001b[K'\u001b[01m\u001b[Kvirtual bool SpatialIndex::TimeRegion::\u001b[01;32m\u001b[Koperator==\u001b[m\u001b[K(const SpatialIndex::TimeRegion&) const\u001b[m\u001b[K' was hidden [\u001b[01;35m\u001b[K\u001b]8;;https://gcc.gnu.org/onlinedocs/gcc/Warning-Options.html#index-Woverloaded-virtual=\u0007-Woverloaded-virtual=\u001b]8;;\u0007\u001b[m\u001b[K]\n",
      "   47 |                 virtual bool \u001b[01;35m\u001b[Koperator\u001b[m\u001b[K==(const TimeRegion&) const;\n",
      "      |                              \u001b[01;35m\u001b[K^~~~~~~~\u001b[m\u001b[K\n",
      "\u001b[01m\u001b[K../../include/spatialindex/MovingRegion.h:67:30:\u001b[m\u001b[K \u001b[01;36m\u001b[Knote: \u001b[m\u001b[K  by '\u001b[01m\u001b[Kvirtual bool SpatialIndex::MovingRegion::\u001b[01;32m\u001b[Koperator==\u001b[m\u001b[K(const SpatialIndex::MovingRegion&) const\u001b[m\u001b[K'\n",
      "   67 |                 virtual bool \u001b[01;36m\u001b[Koperator\u001b[m\u001b[K==(const MovingRegion&) const;\n",
      "      |                              \u001b[01;36m\u001b[K^~~~~~~~\u001b[m\u001b[K\n",
      "libtool: compile:  g++ -DPACKAGE_NAME=\\\"spatialindex\\\" -DPACKAGE_TARNAME=\\\"spatialindex-src\\\" -DPACKAGE_VERSION=\\\"1.8.5\\\" \"-DPACKAGE_STRING=\\\"spatialindex 1.8.5\\\"\" -DPACKAGE_BUGREPORT=\\\"mhadji@gmail.com\\\" -DPACKAGE_URL=\\\"\\\" -DSTDC_HEADERS=1 -DHAVE_SYS_TYPES_H=1 -DHAVE_SYS_STAT_H=1 -DHAVE_STDLIB_H=1 -DHAVE_STRING_H=1 -DHAVE_MEMORY_H=1 -DHAVE_STRINGS_H=1 -DHAVE_INTTYPES_H=1 -DHAVE_STDINT_H=1 -DHAVE_UNISTD_H=1 -DHAVE_DLFCN_H=1 -DLT_OBJDIR=\\\".libs/\\\" -DPACKAGE=\\\"spatialindex-src\\\" -DVERSION=\\\"1.8.5\\\" -DHAVE_FCNTL_H=1 -DHAVE_UNISTD_H=1 -DHAVE_SYS_TYPES_H=1 -DHAVE_SYS_STAT_H=1 -DHAVE_PTHREAD_H=1 -DHAVE_SYS_RESOURCE_H=1 -DHAVE_SYS_TIME_H=1 -DHAVE_STDINT_H=1 -DHAVE_FEATURES_H=1 -DHAVE_GETTIMEOFDAY=1 -DHAVE_MEMSET=1 -DHAVE_MEMCPY=1 -DHAVE_BCOPY=1 -DHAVE_SRAND48=1 -I. -I../../include -I../../include/capi -Wall -Wno-long-long -pedantic -std=c++98 -O2 -DNDEBUG -MT Utility.lo -MD -MP -MF .deps/Utility.Tpo -c Utility.cc -o Utility.o >/dev/null 2>&1\n",
      "/bin/bash ../../libtool  --tag=CXX   --mode=link g++  -Wall -Wno-long-long -pedantic -std=c++98  -O2 -DNDEBUG   -o libsidxc.la  BoundsQuery.lo CountVisitor.lo CustomStorage.lo DataStream.lo Error.lo IdVisitor.lo Index.lo LeafQuery.lo ObjVisitor.lo sidx_api.lo Utility.lo  -lpthread\n",
      "libtool: link: ar cru .libs/libsidxc.a .libs/BoundsQuery.o .libs/CountVisitor.o .libs/CustomStorage.o .libs/DataStream.o .libs/Error.o .libs/IdVisitor.o .libs/Index.o .libs/LeafQuery.o .libs/ObjVisitor.o .libs/sidx_api.o .libs/Utility.o \n",
      "ar: `u' modifier ignored since `D' is the default (see `U')\n",
      "libtool: link: ranlib .libs/libsidxc.a\n",
      "libtool: link: ( cd \".libs\" && rm -f \"libsidxc.la\" && ln -s \"../libsidxc.la\" \"libsidxc.la\" )\n",
      "make[2]: Leaving directory '/home/joana/git/snow-walk-public/snow-walk-public/spatialindex-src-1.8.5/spatialindex-src-1.8.5/src/capi'\n",
      "make[2]: Entering directory '/home/joana/git/snow-walk-public/snow-walk-public/spatialindex-src-1.8.5/spatialindex-src-1.8.5/src'\n",
      "make[2]: Nothing to be done for 'all-am'.\n",
      "make[2]: Leaving directory '/home/joana/git/snow-walk-public/snow-walk-public/spatialindex-src-1.8.5/spatialindex-src-1.8.5/src'\n",
      "make[1]: Leaving directory '/home/joana/git/snow-walk-public/snow-walk-public/spatialindex-src-1.8.5/spatialindex-src-1.8.5/src'\n",
      "Making all in .\n",
      "make[1]: Entering directory '/home/joana/git/snow-walk-public/snow-walk-public/spatialindex-src-1.8.5/spatialindex-src-1.8.5'\n",
      "/bin/bash ./libtool  --tag=CC   --mode=link gcc  -Wall -Wno-long-long -pedantic  -version-info 4:1:0 -no-undefined -lstdc++  -o libspatialindex.la -rpath /usr/local/lib  src/spatialindex/liblibrary.la src/storagemanager/libstoragemanager.la src/rtree/librtree.la src/mvrtree/libmvrtree.la src/tprtree/libtprtree.la src/tools/libtools.la -lpthread\n",
      "libtool: link: gcc -shared  -fPIC -DPIC  -Wl,--whole-archive src/spatialindex/.libs/liblibrary.a src/storagemanager/.libs/libstoragemanager.a src/rtree/.libs/librtree.a src/mvrtree/.libs/libmvrtree.a src/tprtree/.libs/libtprtree.a src/tools/.libs/libtools.a -Wl,--no-whole-archive  -lstdc++ -lpthread    -Wl,-soname -Wl,libspatialindex.so.4 -o .libs/libspatialindex.so.4.0.1\n",
      "/bin/ld: src/tools/.libs/libtools.a(Tools.o): in function `Tools::TemporaryFile::TemporaryFile()':\n",
      "Tools.cc:(.text+0x446e): warning: the use of `mktemp' is dangerous, better use `mkstemp' or `mkdtemp'\n",
      "libtool: link: (cd \".libs\" && rm -f \"libspatialindex.so.4\" && ln -s \"libspatialindex.so.4.0.1\" \"libspatialindex.so.4\")\n",
      "libtool: link: (cd \".libs\" && rm -f \"libspatialindex.so\" && ln -s \"libspatialindex.so.4.0.1\" \"libspatialindex.so\")\n",
      "libtool: link: (cd .libs/libspatialindex.lax/liblibrary.a && ar x \"/home/joana/git/snow-walk-public/snow-walk-public/spatialindex-src-1.8.5/spatialindex-src-1.8.5/src/spatialindex/.libs/liblibrary.a\")\n",
      "libtool: link: (cd .libs/libspatialindex.lax/libstoragemanager.a && ar x \"/home/joana/git/snow-walk-public/snow-walk-public/spatialindex-src-1.8.5/spatialindex-src-1.8.5/src/storagemanager/.libs/libstoragemanager.a\")\n",
      "libtool: link: (cd .libs/libspatialindex.lax/librtree.a && ar x \"/home/joana/git/snow-walk-public/snow-walk-public/spatialindex-src-1.8.5/spatialindex-src-1.8.5/src/rtree/.libs/librtree.a\")\n",
      "libtool: link: (cd .libs/libspatialindex.lax/libmvrtree.a && ar x \"/home/joana/git/snow-walk-public/snow-walk-public/spatialindex-src-1.8.5/spatialindex-src-1.8.5/src/mvrtree/.libs/libmvrtree.a\")\n",
      "libtool: link: (cd .libs/libspatialindex.lax/libtprtree.a && ar x \"/home/joana/git/snow-walk-public/snow-walk-public/spatialindex-src-1.8.5/spatialindex-src-1.8.5/src/tprtree/.libs/libtprtree.a\")\n",
      "libtool: link: (cd .libs/libspatialindex.lax/libtools.a && ar x \"/home/joana/git/snow-walk-public/snow-walk-public/spatialindex-src-1.8.5/spatialindex-src-1.8.5/src/tools/.libs/libtools.a\")\n",
      "copying selected object files to avoid basename conflicts...\n",
      "libtool: link: ln .libs/libspatialindex.lax/libmvrtree.a/Index.o .libs/libspatialindex.lax/lt1-Index.o || cp .libs/libspatialindex.lax/libmvrtree.a/Index.o .libs/libspatialindex.lax/lt1-Index.o\n",
      "libtool: link: ln .libs/libspatialindex.lax/libmvrtree.a/Leaf.o .libs/libspatialindex.lax/lt2-Leaf.o || cp .libs/libspatialindex.lax/libmvrtree.a/Leaf.o .libs/libspatialindex.lax/lt2-Leaf.o\n",
      "libtool: link: ln .libs/libspatialindex.lax/libmvrtree.a/Node.o .libs/libspatialindex.lax/lt3-Node.o || cp .libs/libspatialindex.lax/libmvrtree.a/Node.o .libs/libspatialindex.lax/lt3-Node.o\n",
      "libtool: link: ln .libs/libspatialindex.lax/libmvrtree.a/Statistics.o .libs/libspatialindex.lax/lt4-Statistics.o || cp .libs/libspatialindex.lax/libmvrtree.a/Statistics.o .libs/libspatialindex.lax/lt4-Statistics.o\n",
      "libtool: link: ln .libs/libspatialindex.lax/libtprtree.a/Index.o .libs/libspatialindex.lax/lt5-Index.o || cp .libs/libspatialindex.lax/libtprtree.a/Index.o .libs/libspatialindex.lax/lt5-Index.o\n",
      "libtool: link: ln .libs/libspatialindex.lax/libtprtree.a/Leaf.o .libs/libspatialindex.lax/lt6-Leaf.o || cp .libs/libspatialindex.lax/libtprtree.a/Leaf.o .libs/libspatialindex.lax/lt6-Leaf.o\n",
      "libtool: link: ln .libs/libspatialindex.lax/libtprtree.a/Node.o .libs/libspatialindex.lax/lt7-Node.o || cp .libs/libspatialindex.lax/libtprtree.a/Node.o .libs/libspatialindex.lax/lt7-Node.o\n",
      "libtool: link: ln .libs/libspatialindex.lax/libtprtree.a/Statistics.o .libs/libspatialindex.lax/lt8-Statistics.o || cp .libs/libspatialindex.lax/libtprtree.a/Statistics.o .libs/libspatialindex.lax/lt8-Statistics.o\n",
      "libtool: link: ar cru .libs/libspatialindex.a .libs/libspatialindex.lax/liblibrary.a/LineSegment.o .libs/libspatialindex.lax/liblibrary.a/MovingPoint.o .libs/libspatialindex.lax/liblibrary.a/MovingRegion.o .libs/libspatialindex.lax/liblibrary.a/Point.o .libs/libspatialindex.lax/liblibrary.a/Region.o .libs/libspatialindex.lax/liblibrary.a/SpatialIndexImpl.o .libs/libspatialindex.lax/liblibrary.a/TimePoint.o .libs/libspatialindex.lax/liblibrary.a/TimeRegion.o .libs/libspatialindex.lax/libstoragemanager.a/Buffer.o .libs/libspatialindex.lax/libstoragemanager.a/DiskStorageManager.o .libs/libspatialindex.lax/libstoragemanager.a/MemoryStorageManager.o .libs/libspatialindex.lax/libstoragemanager.a/RandomEvictionsBuffer.o .libs/libspatialindex.lax/librtree.a/BulkLoader.o .libs/libspatialindex.lax/librtree.a/Index.o .libs/libspatialindex.lax/librtree.a/Leaf.o .libs/libspatialindex.lax/librtree.a/Node.o .libs/libspatialindex.lax/librtree.a/RTree.o .libs/libspatialindex.lax/librtree.a/Statistics.o .libs/libspatialindex.lax/lt1-Index.o .libs/libspatialindex.lax/lt2-Leaf.o .libs/libspatialindex.lax/libmvrtree.a/MVRTree.o .libs/libspatialindex.lax/lt3-Node.o .libs/libspatialindex.lax/lt4-Statistics.o .libs/libspatialindex.lax/lt5-Index.o .libs/libspatialindex.lax/lt6-Leaf.o .libs/libspatialindex.lax/lt7-Node.o .libs/libspatialindex.lax/lt8-Statistics.o .libs/libspatialindex.lax/libtprtree.a/TPRTree.o .libs/libspatialindex.lax/libtools.a/Tools.o .libs/libspatialindex.lax/libtools.a/rand48.o\n",
      "ar: `u' modifier ignored since `D' is the default (see `U')\n",
      "libtool: link: ranlib .libs/libspatialindex.a\n",
      "libtool: link: rm -fr .libs/libspatialindex.lax .libs/libspatialindex.lax\n",
      "libtool: link: ( cd \".libs\" && rm -f \"libspatialindex.la\" && ln -s \"../libspatialindex.la\" \"libspatialindex.la\" )\n",
      "/bin/bash ./libtool  --tag=CC   --mode=link gcc  -Wall -Wno-long-long -pedantic  -version-info 4:1:0 -no-undefined -lstdc++  -o libspatialindex_c.la -rpath /usr/local/lib  libspatialindex.la src/capi/libsidxc.la -lpthread\n",
      "libtool: link: gcc -shared  -fPIC -DPIC  -Wl,--whole-archive src/capi/.libs/libsidxc.a -Wl,--no-whole-archive  -Wl,-rpath -Wl,/home/joana/git/snow-walk-public/snow-walk-public/spatialindex-src-1.8.5/spatialindex-src-1.8.5/.libs -lstdc++ ./.libs/libspatialindex.so -lpthread    -Wl,-soname -Wl,libspatialindex_c.so.4 -o .libs/libspatialindex_c.so.4.0.1\n",
      "libtool: link: (cd \".libs\" && rm -f \"libspatialindex_c.so.4\" && ln -s \"libspatialindex_c.so.4.0.1\" \"libspatialindex_c.so.4\")\n",
      "libtool: link: (cd \".libs\" && rm -f \"libspatialindex_c.so\" && ln -s \"libspatialindex_c.so.4.0.1\" \"libspatialindex_c.so\")\n",
      "libtool: link: (cd .libs/libspatialindex_c.lax/libsidxc.a && ar x \"/home/joana/git/snow-walk-public/snow-walk-public/spatialindex-src-1.8.5/spatialindex-src-1.8.5/src/capi/.libs/libsidxc.a\")\n",
      "libtool: link: ar cru .libs/libspatialindex_c.a   .libs/libspatialindex_c.lax/libsidxc.a/BoundsQuery.o .libs/libspatialindex_c.lax/libsidxc.a/CountVisitor.o .libs/libspatialindex_c.lax/libsidxc.a/CustomStorage.o .libs/libspatialindex_c.lax/libsidxc.a/DataStream.o .libs/libspatialindex_c.lax/libsidxc.a/Error.o .libs/libspatialindex_c.lax/libsidxc.a/IdVisitor.o .libs/libspatialindex_c.lax/libsidxc.a/Index.o .libs/libspatialindex_c.lax/libsidxc.a/LeafQuery.o .libs/libspatialindex_c.lax/libsidxc.a/ObjVisitor.o .libs/libspatialindex_c.lax/libsidxc.a/Utility.o .libs/libspatialindex_c.lax/libsidxc.a/sidx_api.o \n",
      "ar: `u' modifier ignored since `D' is the default (see `U')\n",
      "libtool: link: ranlib .libs/libspatialindex_c.a\n",
      "libtool: link: rm -fr .libs/libspatialindex_c.lax\n",
      "libtool: link: ( cd \".libs\" && rm -f \"libspatialindex_c.la\" && ln -s \"../libspatialindex_c.la\" \"libspatialindex_c.la\" )\n",
      "make[1]: Leaving directory '/home/joana/git/snow-walk-public/snow-walk-public/spatialindex-src-1.8.5/spatialindex-src-1.8.5'\n",
      "Making all in test\n",
      "make[1]: Entering directory '/home/joana/git/snow-walk-public/snow-walk-public/spatialindex-src-1.8.5/spatialindex-src-1.8.5/test'\n",
      "Making all in geometry\n",
      "make[2]: Entering directory '/home/joana/git/snow-walk-public/snow-walk-public/spatialindex-src-1.8.5/spatialindex-src-1.8.5/test/geometry'\n",
      "depbase=`echo Intersection.o | sed 's|[^/]*$|.deps/&|;s|\\.o$||'`;\\\n",
      "g++ -DPACKAGE_NAME=\\\"spatialindex\\\" -DPACKAGE_TARNAME=\\\"spatialindex-src\\\" -DPACKAGE_VERSION=\\\"1.8.5\\\" -DPACKAGE_STRING=\\\"spatialindex\\ 1.8.5\\\" -DPACKAGE_BUGREPORT=\\\"mhadji@gmail.com\\\" -DPACKAGE_URL=\\\"\\\" -DSTDC_HEADERS=1 -DHAVE_SYS_TYPES_H=1 -DHAVE_SYS_STAT_H=1 -DHAVE_STDLIB_H=1 -DHAVE_STRING_H=1 -DHAVE_MEMORY_H=1 -DHAVE_STRINGS_H=1 -DHAVE_INTTYPES_H=1 -DHAVE_STDINT_H=1 -DHAVE_UNISTD_H=1 -DHAVE_DLFCN_H=1 -DLT_OBJDIR=\\\".libs/\\\" -DPACKAGE=\\\"spatialindex-src\\\" -DVERSION=\\\"1.8.5\\\" -DHAVE_FCNTL_H=1 -DHAVE_UNISTD_H=1 -DHAVE_SYS_TYPES_H=1 -DHAVE_SYS_STAT_H=1 -DHAVE_PTHREAD_H=1 -DHAVE_SYS_RESOURCE_H=1 -DHAVE_SYS_TIME_H=1 -DHAVE_STDINT_H=1 -DHAVE_FEATURES_H=1 -DHAVE_GETTIMEOFDAY=1 -DHAVE_MEMSET=1 -DHAVE_MEMCPY=1 -DHAVE_BCOPY=1 -DHAVE_SRAND48=1 -I. -I../../include    -Wall -Wno-long-long -pedantic -std=c++98  -O2 -DNDEBUG -MT Intersection.o -MD -MP -MF $depbase.Tpo -c -o Intersection.o Intersection.cc &&\\\n",
      "mv -f $depbase.Tpo $depbase.Po\n",
      "/bin/bash ../../libtool  --tag=CXX   --mode=link g++  -Wall -Wno-long-long -pedantic -std=c++98  -O2 -DNDEBUG   -o Intersection Intersection.o ../../libspatialindex.la -lpthread\n",
      "libtool: link: g++ -Wall -Wno-long-long -pedantic -std=c++98 -O2 -DNDEBUG -o .libs/Intersection Intersection.o  ../../.libs/libspatialindex.so -lpthread\n",
      "make[2]: Leaving directory '/home/joana/git/snow-walk-public/snow-walk-public/spatialindex-src-1.8.5/spatialindex-src-1.8.5/test/geometry'\n",
      "Making all in rtree\n",
      "make[2]: Entering directory '/home/joana/git/snow-walk-public/snow-walk-public/spatialindex-src-1.8.5/spatialindex-src-1.8.5/test/rtree'\n",
      "depbase=`echo Generator.o | sed 's|[^/]*$|.deps/&|;s|\\.o$||'`;\\\n",
      "g++ -DPACKAGE_NAME=\\\"spatialindex\\\" -DPACKAGE_TARNAME=\\\"spatialindex-src\\\" -DPACKAGE_VERSION=\\\"1.8.5\\\" -DPACKAGE_STRING=\\\"spatialindex\\ 1.8.5\\\" -DPACKAGE_BUGREPORT=\\\"mhadji@gmail.com\\\" -DPACKAGE_URL=\\\"\\\" -DSTDC_HEADERS=1 -DHAVE_SYS_TYPES_H=1 -DHAVE_SYS_STAT_H=1 -DHAVE_STDLIB_H=1 -DHAVE_STRING_H=1 -DHAVE_MEMORY_H=1 -DHAVE_STRINGS_H=1 -DHAVE_INTTYPES_H=1 -DHAVE_STDINT_H=1 -DHAVE_UNISTD_H=1 -DHAVE_DLFCN_H=1 -DLT_OBJDIR=\\\".libs/\\\" -DPACKAGE=\\\"spatialindex-src\\\" -DVERSION=\\\"1.8.5\\\" -DHAVE_FCNTL_H=1 -DHAVE_UNISTD_H=1 -DHAVE_SYS_TYPES_H=1 -DHAVE_SYS_STAT_H=1 -DHAVE_PTHREAD_H=1 -DHAVE_SYS_RESOURCE_H=1 -DHAVE_SYS_TIME_H=1 -DHAVE_STDINT_H=1 -DHAVE_FEATURES_H=1 -DHAVE_GETTIMEOFDAY=1 -DHAVE_MEMSET=1 -DHAVE_MEMCPY=1 -DHAVE_BCOPY=1 -DHAVE_SRAND48=1 -I. -I../../include     -Wall -Wno-long-long -pedantic -std=c++98  -O2 -DNDEBUG -MT Generator.o -MD -MP -MF $depbase.Tpo -c -o Generator.o Generator.cc &&\\\n",
      "mv -f $depbase.Tpo $depbase.Po\n",
      "/bin/bash ../../libtool  --tag=CXX   --mode=link g++  -Wall -Wno-long-long -pedantic -std=c++98  -O2 -DNDEBUG   -o Generator Generator.o ../../libspatialindex.la -lpthread\n",
      "libtool: link: g++ -Wall -Wno-long-long -pedantic -std=c++98 -O2 -DNDEBUG -o .libs/Generator Generator.o  ../../.libs/libspatialindex.so -lpthread\n",
      "depbase=`echo Exhaustive.o | sed 's|[^/]*$|.deps/&|;s|\\.o$||'`;\\\n",
      "g++ -DPACKAGE_NAME=\\\"spatialindex\\\" -DPACKAGE_TARNAME=\\\"spatialindex-src\\\" -DPACKAGE_VERSION=\\\"1.8.5\\\" -DPACKAGE_STRING=\\\"spatialindex\\ 1.8.5\\\" -DPACKAGE_BUGREPORT=\\\"mhadji@gmail.com\\\" -DPACKAGE_URL=\\\"\\\" -DSTDC_HEADERS=1 -DHAVE_SYS_TYPES_H=1 -DHAVE_SYS_STAT_H=1 -DHAVE_STDLIB_H=1 -DHAVE_STRING_H=1 -DHAVE_MEMORY_H=1 -DHAVE_STRINGS_H=1 -DHAVE_INTTYPES_H=1 -DHAVE_STDINT_H=1 -DHAVE_UNISTD_H=1 -DHAVE_DLFCN_H=1 -DLT_OBJDIR=\\\".libs/\\\" -DPACKAGE=\\\"spatialindex-src\\\" -DVERSION=\\\"1.8.5\\\" -DHAVE_FCNTL_H=1 -DHAVE_UNISTD_H=1 -DHAVE_SYS_TYPES_H=1 -DHAVE_SYS_STAT_H=1 -DHAVE_PTHREAD_H=1 -DHAVE_SYS_RESOURCE_H=1 -DHAVE_SYS_TIME_H=1 -DHAVE_STDINT_H=1 -DHAVE_FEATURES_H=1 -DHAVE_GETTIMEOFDAY=1 -DHAVE_MEMSET=1 -DHAVE_MEMCPY=1 -DHAVE_BCOPY=1 -DHAVE_SRAND48=1 -I. -I../../include     -Wall -Wno-long-long -pedantic -std=c++98  -O2 -DNDEBUG -MT Exhaustive.o -MD -MP -MF $depbase.Tpo -c -o Exhaustive.o Exhaustive.cc &&\\\n",
      "mv -f $depbase.Tpo $depbase.Po\n",
      "/bin/bash ../../libtool  --tag=CXX   --mode=link g++  -Wall -Wno-long-long -pedantic -std=c++98  -O2 -DNDEBUG   -o Exhaustive Exhaustive.o ../../libspatialindex.la -lpthread\n",
      "libtool: link: g++ -Wall -Wno-long-long -pedantic -std=c++98 -O2 -DNDEBUG -o .libs/Exhaustive Exhaustive.o  ../../.libs/libspatialindex.so -lpthread\n",
      "depbase=`echo RTreeLoad.o | sed 's|[^/]*$|.deps/&|;s|\\.o$||'`;\\\n",
      "g++ -DPACKAGE_NAME=\\\"spatialindex\\\" -DPACKAGE_TARNAME=\\\"spatialindex-src\\\" -DPACKAGE_VERSION=\\\"1.8.5\\\" -DPACKAGE_STRING=\\\"spatialindex\\ 1.8.5\\\" -DPACKAGE_BUGREPORT=\\\"mhadji@gmail.com\\\" -DPACKAGE_URL=\\\"\\\" -DSTDC_HEADERS=1 -DHAVE_SYS_TYPES_H=1 -DHAVE_SYS_STAT_H=1 -DHAVE_STDLIB_H=1 -DHAVE_STRING_H=1 -DHAVE_MEMORY_H=1 -DHAVE_STRINGS_H=1 -DHAVE_INTTYPES_H=1 -DHAVE_STDINT_H=1 -DHAVE_UNISTD_H=1 -DHAVE_DLFCN_H=1 -DLT_OBJDIR=\\\".libs/\\\" -DPACKAGE=\\\"spatialindex-src\\\" -DVERSION=\\\"1.8.5\\\" -DHAVE_FCNTL_H=1 -DHAVE_UNISTD_H=1 -DHAVE_SYS_TYPES_H=1 -DHAVE_SYS_STAT_H=1 -DHAVE_PTHREAD_H=1 -DHAVE_SYS_RESOURCE_H=1 -DHAVE_SYS_TIME_H=1 -DHAVE_STDINT_H=1 -DHAVE_FEATURES_H=1 -DHAVE_GETTIMEOFDAY=1 -DHAVE_MEMSET=1 -DHAVE_MEMCPY=1 -DHAVE_BCOPY=1 -DHAVE_SRAND48=1 -I. -I../../include     -Wall -Wno-long-long -pedantic -std=c++98  -O2 -DNDEBUG -MT RTreeLoad.o -MD -MP -MF $depbase.Tpo -c -o RTreeLoad.o RTreeLoad.cc &&\\\n",
      "mv -f $depbase.Tpo $depbase.Po\n",
      "/bin/bash ../../libtool  --tag=CXX   --mode=link g++  -Wall -Wno-long-long -pedantic -std=c++98  -O2 -DNDEBUG   -o RTreeLoad RTreeLoad.o ../../libspatialindex.la -lpthread\n",
      "libtool: link: g++ -Wall -Wno-long-long -pedantic -std=c++98 -O2 -DNDEBUG -o .libs/RTreeLoad RTreeLoad.o  ../../.libs/libspatialindex.so -lpthread\n",
      "depbase=`echo RTreeQuery.o | sed 's|[^/]*$|.deps/&|;s|\\.o$||'`;\\\n",
      "g++ -DPACKAGE_NAME=\\\"spatialindex\\\" -DPACKAGE_TARNAME=\\\"spatialindex-src\\\" -DPACKAGE_VERSION=\\\"1.8.5\\\" -DPACKAGE_STRING=\\\"spatialindex\\ 1.8.5\\\" -DPACKAGE_BUGREPORT=\\\"mhadji@gmail.com\\\" -DPACKAGE_URL=\\\"\\\" -DSTDC_HEADERS=1 -DHAVE_SYS_TYPES_H=1 -DHAVE_SYS_STAT_H=1 -DHAVE_STDLIB_H=1 -DHAVE_STRING_H=1 -DHAVE_MEMORY_H=1 -DHAVE_STRINGS_H=1 -DHAVE_INTTYPES_H=1 -DHAVE_STDINT_H=1 -DHAVE_UNISTD_H=1 -DHAVE_DLFCN_H=1 -DLT_OBJDIR=\\\".libs/\\\" -DPACKAGE=\\\"spatialindex-src\\\" -DVERSION=\\\"1.8.5\\\" -DHAVE_FCNTL_H=1 -DHAVE_UNISTD_H=1 -DHAVE_SYS_TYPES_H=1 -DHAVE_SYS_STAT_H=1 -DHAVE_PTHREAD_H=1 -DHAVE_SYS_RESOURCE_H=1 -DHAVE_SYS_TIME_H=1 -DHAVE_STDINT_H=1 -DHAVE_FEATURES_H=1 -DHAVE_GETTIMEOFDAY=1 -DHAVE_MEMSET=1 -DHAVE_MEMCPY=1 -DHAVE_BCOPY=1 -DHAVE_SRAND48=1 -I. -I../../include     -Wall -Wno-long-long -pedantic -std=c++98  -O2 -DNDEBUG -MT RTreeQuery.o -MD -MP -MF $depbase.Tpo -c -o RTreeQuery.o RTreeQuery.cc &&\\\n",
      "mv -f $depbase.Tpo $depbase.Po\n",
      "/bin/bash ../../libtool  --tag=CXX   --mode=link g++  -Wall -Wno-long-long -pedantic -std=c++98  -O2 -DNDEBUG   -o RTreeQuery RTreeQuery.o ../../libspatialindex.la -lpthread\n",
      "libtool: link: g++ -Wall -Wno-long-long -pedantic -std=c++98 -O2 -DNDEBUG -o .libs/RTreeQuery RTreeQuery.o  ../../.libs/libspatialindex.so -lpthread\n",
      "depbase=`echo RTreeBulkLoad.o | sed 's|[^/]*$|.deps/&|;s|\\.o$||'`;\\\n",
      "g++ -DPACKAGE_NAME=\\\"spatialindex\\\" -DPACKAGE_TARNAME=\\\"spatialindex-src\\\" -DPACKAGE_VERSION=\\\"1.8.5\\\" -DPACKAGE_STRING=\\\"spatialindex\\ 1.8.5\\\" -DPACKAGE_BUGREPORT=\\\"mhadji@gmail.com\\\" -DPACKAGE_URL=\\\"\\\" -DSTDC_HEADERS=1 -DHAVE_SYS_TYPES_H=1 -DHAVE_SYS_STAT_H=1 -DHAVE_STDLIB_H=1 -DHAVE_STRING_H=1 -DHAVE_MEMORY_H=1 -DHAVE_STRINGS_H=1 -DHAVE_INTTYPES_H=1 -DHAVE_STDINT_H=1 -DHAVE_UNISTD_H=1 -DHAVE_DLFCN_H=1 -DLT_OBJDIR=\\\".libs/\\\" -DPACKAGE=\\\"spatialindex-src\\\" -DVERSION=\\\"1.8.5\\\" -DHAVE_FCNTL_H=1 -DHAVE_UNISTD_H=1 -DHAVE_SYS_TYPES_H=1 -DHAVE_SYS_STAT_H=1 -DHAVE_PTHREAD_H=1 -DHAVE_SYS_RESOURCE_H=1 -DHAVE_SYS_TIME_H=1 -DHAVE_STDINT_H=1 -DHAVE_FEATURES_H=1 -DHAVE_GETTIMEOFDAY=1 -DHAVE_MEMSET=1 -DHAVE_MEMCPY=1 -DHAVE_BCOPY=1 -DHAVE_SRAND48=1 -I. -I../../include     -Wall -Wno-long-long -pedantic -std=c++98  -O2 -DNDEBUG -MT RTreeBulkLoad.o -MD -MP -MF $depbase.Tpo -c -o RTreeBulkLoad.o RTreeBulkLoad.cc &&\\\n",
      "mv -f $depbase.Tpo $depbase.Po\n",
      "/bin/bash ../../libtool  --tag=CXX   --mode=link g++  -Wall -Wno-long-long -pedantic -std=c++98  -O2 -DNDEBUG   -o RTreeBulkLoad RTreeBulkLoad.o ../../libspatialindex.la -lpthread\n",
      "libtool: link: g++ -Wall -Wno-long-long -pedantic -std=c++98 -O2 -DNDEBUG -o .libs/RTreeBulkLoad RTreeBulkLoad.o  ../../.libs/libspatialindex.so -lpthread\n",
      "make[2]: Leaving directory '/home/joana/git/snow-walk-public/snow-walk-public/spatialindex-src-1.8.5/spatialindex-src-1.8.5/test/rtree'\n",
      "Making all in mvrtree\n",
      "make[2]: Entering directory '/home/joana/git/snow-walk-public/snow-walk-public/spatialindex-src-1.8.5/spatialindex-src-1.8.5/test/mvrtree'\n",
      "depbase=`echo Generator.o | sed 's|[^/]*$|.deps/&|;s|\\.o$||'`;\\\n",
      "g++ -DPACKAGE_NAME=\\\"spatialindex\\\" -DPACKAGE_TARNAME=\\\"spatialindex-src\\\" -DPACKAGE_VERSION=\\\"1.8.5\\\" -DPACKAGE_STRING=\\\"spatialindex\\ 1.8.5\\\" -DPACKAGE_BUGREPORT=\\\"mhadji@gmail.com\\\" -DPACKAGE_URL=\\\"\\\" -DSTDC_HEADERS=1 -DHAVE_SYS_TYPES_H=1 -DHAVE_SYS_STAT_H=1 -DHAVE_STDLIB_H=1 -DHAVE_STRING_H=1 -DHAVE_MEMORY_H=1 -DHAVE_STRINGS_H=1 -DHAVE_INTTYPES_H=1 -DHAVE_STDINT_H=1 -DHAVE_UNISTD_H=1 -DHAVE_DLFCN_H=1 -DLT_OBJDIR=\\\".libs/\\\" -DPACKAGE=\\\"spatialindex-src\\\" -DVERSION=\\\"1.8.5\\\" -DHAVE_FCNTL_H=1 -DHAVE_UNISTD_H=1 -DHAVE_SYS_TYPES_H=1 -DHAVE_SYS_STAT_H=1 -DHAVE_PTHREAD_H=1 -DHAVE_SYS_RESOURCE_H=1 -DHAVE_SYS_TIME_H=1 -DHAVE_STDINT_H=1 -DHAVE_FEATURES_H=1 -DHAVE_GETTIMEOFDAY=1 -DHAVE_MEMSET=1 -DHAVE_MEMCPY=1 -DHAVE_BCOPY=1 -DHAVE_SRAND48=1 -I. -I../../include     -Wall -Wno-long-long -pedantic -std=c++98  -O2 -DNDEBUG -MT Generator.o -MD -MP -MF $depbase.Tpo -c -o Generator.o Generator.cc &&\\\n",
      "mv -f $depbase.Tpo $depbase.Po\n",
      "/bin/bash ../../libtool  --tag=CXX   --mode=link g++  -Wall -Wno-long-long -pedantic -std=c++98  -O2 -DNDEBUG   -o Generator Generator.o ../../libspatialindex.la -lpthread\n",
      "libtool: link: g++ -Wall -Wno-long-long -pedantic -std=c++98 -O2 -DNDEBUG -o .libs/Generator Generator.o  ../../.libs/libspatialindex.so -lpthread\n",
      "depbase=`echo Exhaustive.o | sed 's|[^/]*$|.deps/&|;s|\\.o$||'`;\\\n",
      "g++ -DPACKAGE_NAME=\\\"spatialindex\\\" -DPACKAGE_TARNAME=\\\"spatialindex-src\\\" -DPACKAGE_VERSION=\\\"1.8.5\\\" -DPACKAGE_STRING=\\\"spatialindex\\ 1.8.5\\\" -DPACKAGE_BUGREPORT=\\\"mhadji@gmail.com\\\" -DPACKAGE_URL=\\\"\\\" -DSTDC_HEADERS=1 -DHAVE_SYS_TYPES_H=1 -DHAVE_SYS_STAT_H=1 -DHAVE_STDLIB_H=1 -DHAVE_STRING_H=1 -DHAVE_MEMORY_H=1 -DHAVE_STRINGS_H=1 -DHAVE_INTTYPES_H=1 -DHAVE_STDINT_H=1 -DHAVE_UNISTD_H=1 -DHAVE_DLFCN_H=1 -DLT_OBJDIR=\\\".libs/\\\" -DPACKAGE=\\\"spatialindex-src\\\" -DVERSION=\\\"1.8.5\\\" -DHAVE_FCNTL_H=1 -DHAVE_UNISTD_H=1 -DHAVE_SYS_TYPES_H=1 -DHAVE_SYS_STAT_H=1 -DHAVE_PTHREAD_H=1 -DHAVE_SYS_RESOURCE_H=1 -DHAVE_SYS_TIME_H=1 -DHAVE_STDINT_H=1 -DHAVE_FEATURES_H=1 -DHAVE_GETTIMEOFDAY=1 -DHAVE_MEMSET=1 -DHAVE_MEMCPY=1 -DHAVE_BCOPY=1 -DHAVE_SRAND48=1 -I. -I../../include     -Wall -Wno-long-long -pedantic -std=c++98  -O2 -DNDEBUG -MT Exhaustive.o -MD -MP -MF $depbase.Tpo -c -o Exhaustive.o Exhaustive.cc &&\\\n",
      "mv -f $depbase.Tpo $depbase.Po\n",
      "/bin/bash ../../libtool  --tag=CXX   --mode=link g++  -Wall -Wno-long-long -pedantic -std=c++98  -O2 -DNDEBUG   -o Exhaustive Exhaustive.o ../../libspatialindex.la -lpthread\n",
      "libtool: link: g++ -Wall -Wno-long-long -pedantic -std=c++98 -O2 -DNDEBUG -o .libs/Exhaustive Exhaustive.o  ../../.libs/libspatialindex.so -lpthread\n",
      "depbase=`echo MVRTreeLoad.o | sed 's|[^/]*$|.deps/&|;s|\\.o$||'`;\\\n",
      "g++ -DPACKAGE_NAME=\\\"spatialindex\\\" -DPACKAGE_TARNAME=\\\"spatialindex-src\\\" -DPACKAGE_VERSION=\\\"1.8.5\\\" -DPACKAGE_STRING=\\\"spatialindex\\ 1.8.5\\\" -DPACKAGE_BUGREPORT=\\\"mhadji@gmail.com\\\" -DPACKAGE_URL=\\\"\\\" -DSTDC_HEADERS=1 -DHAVE_SYS_TYPES_H=1 -DHAVE_SYS_STAT_H=1 -DHAVE_STDLIB_H=1 -DHAVE_STRING_H=1 -DHAVE_MEMORY_H=1 -DHAVE_STRINGS_H=1 -DHAVE_INTTYPES_H=1 -DHAVE_STDINT_H=1 -DHAVE_UNISTD_H=1 -DHAVE_DLFCN_H=1 -DLT_OBJDIR=\\\".libs/\\\" -DPACKAGE=\\\"spatialindex-src\\\" -DVERSION=\\\"1.8.5\\\" -DHAVE_FCNTL_H=1 -DHAVE_UNISTD_H=1 -DHAVE_SYS_TYPES_H=1 -DHAVE_SYS_STAT_H=1 -DHAVE_PTHREAD_H=1 -DHAVE_SYS_RESOURCE_H=1 -DHAVE_SYS_TIME_H=1 -DHAVE_STDINT_H=1 -DHAVE_FEATURES_H=1 -DHAVE_GETTIMEOFDAY=1 -DHAVE_MEMSET=1 -DHAVE_MEMCPY=1 -DHAVE_BCOPY=1 -DHAVE_SRAND48=1 -I. -I../../include     -Wall -Wno-long-long -pedantic -std=c++98  -O2 -DNDEBUG -MT MVRTreeLoad.o -MD -MP -MF $depbase.Tpo -c -o MVRTreeLoad.o MVRTreeLoad.cc &&\\\n",
      "mv -f $depbase.Tpo $depbase.Po\n",
      "/bin/bash ../../libtool  --tag=CXX   --mode=link g++  -Wall -Wno-long-long -pedantic -std=c++98  -O2 -DNDEBUG   -o MVRTreeLoad MVRTreeLoad.o ../../libspatialindex.la -lpthread\n",
      "libtool: link: g++ -Wall -Wno-long-long -pedantic -std=c++98 -O2 -DNDEBUG -o .libs/MVRTreeLoad MVRTreeLoad.o  ../../.libs/libspatialindex.so -lpthread\n",
      "depbase=`echo MVRTreeQuery.o | sed 's|[^/]*$|.deps/&|;s|\\.o$||'`;\\\n",
      "g++ -DPACKAGE_NAME=\\\"spatialindex\\\" -DPACKAGE_TARNAME=\\\"spatialindex-src\\\" -DPACKAGE_VERSION=\\\"1.8.5\\\" -DPACKAGE_STRING=\\\"spatialindex\\ 1.8.5\\\" -DPACKAGE_BUGREPORT=\\\"mhadji@gmail.com\\\" -DPACKAGE_URL=\\\"\\\" -DSTDC_HEADERS=1 -DHAVE_SYS_TYPES_H=1 -DHAVE_SYS_STAT_H=1 -DHAVE_STDLIB_H=1 -DHAVE_STRING_H=1 -DHAVE_MEMORY_H=1 -DHAVE_STRINGS_H=1 -DHAVE_INTTYPES_H=1 -DHAVE_STDINT_H=1 -DHAVE_UNISTD_H=1 -DHAVE_DLFCN_H=1 -DLT_OBJDIR=\\\".libs/\\\" -DPACKAGE=\\\"spatialindex-src\\\" -DVERSION=\\\"1.8.5\\\" -DHAVE_FCNTL_H=1 -DHAVE_UNISTD_H=1 -DHAVE_SYS_TYPES_H=1 -DHAVE_SYS_STAT_H=1 -DHAVE_PTHREAD_H=1 -DHAVE_SYS_RESOURCE_H=1 -DHAVE_SYS_TIME_H=1 -DHAVE_STDINT_H=1 -DHAVE_FEATURES_H=1 -DHAVE_GETTIMEOFDAY=1 -DHAVE_MEMSET=1 -DHAVE_MEMCPY=1 -DHAVE_BCOPY=1 -DHAVE_SRAND48=1 -I. -I../../include     -Wall -Wno-long-long -pedantic -std=c++98  -O2 -DNDEBUG -MT MVRTreeQuery.o -MD -MP -MF $depbase.Tpo -c -o MVRTreeQuery.o MVRTreeQuery.cc &&\\\n",
      "mv -f $depbase.Tpo $depbase.Po\n",
      "/bin/bash ../../libtool  --tag=CXX   --mode=link g++  -Wall -Wno-long-long -pedantic -std=c++98  -O2 -DNDEBUG   -o MVRTreeQuery MVRTreeQuery.o ../../libspatialindex.la -lpthread\n",
      "libtool: link: g++ -Wall -Wno-long-long -pedantic -std=c++98 -O2 -DNDEBUG -o .libs/MVRTreeQuery MVRTreeQuery.o  ../../.libs/libspatialindex.so -lpthread\n",
      "make[2]: Leaving directory '/home/joana/git/snow-walk-public/snow-walk-public/spatialindex-src-1.8.5/spatialindex-src-1.8.5/test/mvrtree'\n",
      "Making all in tprtree\n",
      "make[2]: Entering directory '/home/joana/git/snow-walk-public/snow-walk-public/spatialindex-src-1.8.5/spatialindex-src-1.8.5/test/tprtree'\n",
      "depbase=`echo RandomGenerator.o | sed 's|[^/]*$|.deps/&|;s|\\.o$||'`;\\\n",
      "g++ -DPACKAGE_NAME=\\\"spatialindex\\\" -DPACKAGE_TARNAME=\\\"spatialindex-src\\\" -DPACKAGE_VERSION=\\\"1.8.5\\\" -DPACKAGE_STRING=\\\"spatialindex\\ 1.8.5\\\" -DPACKAGE_BUGREPORT=\\\"mhadji@gmail.com\\\" -DPACKAGE_URL=\\\"\\\" -DSTDC_HEADERS=1 -DHAVE_SYS_TYPES_H=1 -DHAVE_SYS_STAT_H=1 -DHAVE_STDLIB_H=1 -DHAVE_STRING_H=1 -DHAVE_MEMORY_H=1 -DHAVE_STRINGS_H=1 -DHAVE_INTTYPES_H=1 -DHAVE_STDINT_H=1 -DHAVE_UNISTD_H=1 -DHAVE_DLFCN_H=1 -DLT_OBJDIR=\\\".libs/\\\" -DPACKAGE=\\\"spatialindex-src\\\" -DVERSION=\\\"1.8.5\\\" -DHAVE_FCNTL_H=1 -DHAVE_UNISTD_H=1 -DHAVE_SYS_TYPES_H=1 -DHAVE_SYS_STAT_H=1 -DHAVE_PTHREAD_H=1 -DHAVE_SYS_RESOURCE_H=1 -DHAVE_SYS_TIME_H=1 -DHAVE_STDINT_H=1 -DHAVE_FEATURES_H=1 -DHAVE_GETTIMEOFDAY=1 -DHAVE_MEMSET=1 -DHAVE_MEMCPY=1 -DHAVE_BCOPY=1 -DHAVE_SRAND48=1 -I. -I../../include     -Wall -Wno-long-long -pedantic -std=c++98  -O2 -DNDEBUG -MT RandomGenerator.o -MD -MP -MF $depbase.Tpo -c -o RandomGenerator.o RandomGenerator.cc &&\\\n",
      "mv -f $depbase.Tpo $depbase.Po\n",
      "In file included from \u001b[01m\u001b[K../../include/spatialindex/SpatialIndex.h:245\u001b[m\u001b[K,\n",
      "                 from \u001b[01m\u001b[KRandomGenerator.h:49\u001b[m\u001b[K,\n",
      "                 from \u001b[01m\u001b[KRandomGenerator.cc:29\u001b[m\u001b[K:\n",
      "\u001b[01m\u001b[K../../include/spatialindex/Point.h:42:32:\u001b[m\u001b[K \u001b[01;35m\u001b[Kwarning: \u001b[m\u001b[K‘\u001b[01m\u001b[Kvirtual SpatialIndex::Point& SpatialIndex::Point::\u001b[01;32m\u001b[Koperator=\u001b[m\u001b[K(const SpatialIndex::Point&)\u001b[m\u001b[K’ was hidden [\u001b[01;35m\u001b[K\u001b]8;;https://gcc.gnu.org/onlinedocs/gcc/Warning-Options.html#index-Woverloaded-virtual=\u0007-Woverloaded-virtual=\u001b]8;;\u0007\u001b[m\u001b[K]\n",
      "   42 |                 virtual Point& \u001b[01;35m\u001b[Koperator\u001b[m\u001b[K=(const Point& p);\n",
      "      |                                \u001b[01;35m\u001b[K^~~~~~~~\u001b[m\u001b[K\n",
      "In file included from \u001b[01m\u001b[K../../include/spatialindex/SpatialIndex.h:248\u001b[m\u001b[K:\n",
      "\u001b[01m\u001b[K../../include/spatialindex/TimePoint.h:75:43:\u001b[m\u001b[K \u001b[01;36m\u001b[Knote: \u001b[m\u001b[K  by ‘\u001b[01m\u001b[KSpatialIndex::TimePoint::operator=\u001b[m\u001b[K’\n",
      "   75 |                 virtual Tools::IInterval& \u001b[01;36m\u001b[Koperator\u001b[m\u001b[K=(const Tools::IInterval&);\n",
      "      |                                           \u001b[01;36m\u001b[K^~~~~~~~\u001b[m\u001b[K\n",
      "\u001b[01m\u001b[K../../include/spatialindex/Point.h:43:30:\u001b[m\u001b[K \u001b[01;35m\u001b[Kwarning: \u001b[m\u001b[K‘\u001b[01m\u001b[Kvirtual bool SpatialIndex::Point::\u001b[01;32m\u001b[Koperator==\u001b[m\u001b[K(const SpatialIndex::Point&) const\u001b[m\u001b[K’ was hidden [\u001b[01;35m\u001b[K\u001b]8;;https://gcc.gnu.org/onlinedocs/gcc/Warning-Options.html#index-Woverloaded-virtual=\u0007-Woverloaded-virtual=\u001b]8;;\u0007\u001b[m\u001b[K]\n",
      "   43 |                 virtual bool \u001b[01;35m\u001b[Koperator\u001b[m\u001b[K==(const Point& p) const;\n",
      "      |                              \u001b[01;35m\u001b[K^~~~~~~~\u001b[m\u001b[K\n",
      "\u001b[01m\u001b[K../../include/spatialindex/TimePoint.h:44:30:\u001b[m\u001b[K \u001b[01;36m\u001b[Knote: \u001b[m\u001b[K  by ‘\u001b[01m\u001b[Kvirtual bool SpatialIndex::TimePoint::\u001b[01;32m\u001b[Koperator==\u001b[m\u001b[K(const SpatialIndex::TimePoint&) const\u001b[m\u001b[K’\n",
      "   44 |                 virtual bool \u001b[01;36m\u001b[Koperator\u001b[m\u001b[K==(const TimePoint& p) const;\n",
      "      |                              \u001b[01;36m\u001b[K^~~~~~~~\u001b[m\u001b[K\n",
      "In file included from \u001b[01m\u001b[K../../include/spatialindex/SpatialIndex.h:246\u001b[m\u001b[K:\n",
      "\u001b[01m\u001b[K../../include/spatialindex/Region.h:41:33:\u001b[m\u001b[K \u001b[01;35m\u001b[Kwarning: \u001b[m\u001b[K‘\u001b[01m\u001b[Kvirtual SpatialIndex::Region& SpatialIndex::Region::\u001b[01;32m\u001b[Koperator=\u001b[m\u001b[K(const SpatialIndex::Region&)\u001b[m\u001b[K’ was hidden [\u001b[01;35m\u001b[K\u001b]8;;https://gcc.gnu.org/onlinedocs/gcc/Warning-Options.html#index-Woverloaded-virtual=\u0007-Woverloaded-virtual=\u001b]8;;\u0007\u001b[m\u001b[K]\n",
      "   41 |                 virtual Region& \u001b[01;35m\u001b[Koperator\u001b[m\u001b[K=(const Region& r);\n",
      "      |                                 \u001b[01;35m\u001b[K^~~~~~~~\u001b[m\u001b[K\n",
      "In file included from \u001b[01m\u001b[K../../include/spatialindex/SpatialIndex.h:249\u001b[m\u001b[K:\n",
      "\u001b[01m\u001b[K../../include/spatialindex/TimeRegion.h:88:43:\u001b[m\u001b[K \u001b[01;36m\u001b[Knote: \u001b[m\u001b[K  by ‘\u001b[01m\u001b[KSpatialIndex::TimeRegion::operator=\u001b[m\u001b[K’\n",
      "   88 |                 virtual Tools::IInterval& \u001b[01;36m\u001b[Koperator\u001b[m\u001b[K=(const Tools::IInterval&);\n",
      "      |                                           \u001b[01;36m\u001b[K^~~~~~~~\u001b[m\u001b[K\n",
      "\u001b[01m\u001b[K../../include/spatialindex/Region.h:42:30:\u001b[m\u001b[K \u001b[01;35m\u001b[Kwarning: \u001b[m\u001b[K‘\u001b[01m\u001b[Kvirtual bool SpatialIndex::Region::\u001b[01;32m\u001b[Koperator==\u001b[m\u001b[K(const SpatialIndex::Region&) const\u001b[m\u001b[K’ was hidden [\u001b[01;35m\u001b[K\u001b]8;;https://gcc.gnu.org/onlinedocs/gcc/Warning-Options.html#index-Woverloaded-virtual=\u0007-Woverloaded-virtual=\u001b]8;;\u0007\u001b[m\u001b[K]\n",
      "   42 |                 virtual bool \u001b[01;35m\u001b[Koperator\u001b[m\u001b[K==(const Region&) const;\n",
      "      |                              \u001b[01;35m\u001b[K^~~~~~~~\u001b[m\u001b[K\n",
      "\u001b[01m\u001b[K../../include/spatialindex/TimeRegion.h:47:30:\u001b[m\u001b[K \u001b[01;36m\u001b[Knote: \u001b[m\u001b[K  by ‘\u001b[01m\u001b[Kvirtual bool SpatialIndex::TimeRegion::\u001b[01;32m\u001b[Koperator==\u001b[m\u001b[K(const SpatialIndex::TimeRegion&) const\u001b[m\u001b[K’\n",
      "   47 |                 virtual bool \u001b[01;36m\u001b[Koperator\u001b[m\u001b[K==(const TimeRegion&) const;\n",
      "      |                              \u001b[01;36m\u001b[K^~~~~~~~\u001b[m\u001b[K\n",
      "\u001b[01m\u001b[K../../include/spatialindex/TimePoint.h:75:43:\u001b[m\u001b[K \u001b[01;35m\u001b[Kwarning: \u001b[m\u001b[K‘\u001b[01m\u001b[Kvirtual Tools::IInterval& SpatialIndex::TimePoint::\u001b[01;32m\u001b[Koperator=\u001b[m\u001b[K(const Tools::IInterval&)\u001b[m\u001b[K’ was hidden [\u001b[01;35m\u001b[K\u001b]8;;https://gcc.gnu.org/onlinedocs/gcc/Warning-Options.html#index-Woverloaded-virtual=\u0007-Woverloaded-virtual=\u001b]8;;\u0007\u001b[m\u001b[K]\n",
      "   75 |                 virtual Tools::IInterval& \u001b[01;35m\u001b[Koperator\u001b[m\u001b[K=(const Tools::IInterval&);\n",
      "      |                                           \u001b[01;35m\u001b[K^~~~~~~~\u001b[m\u001b[K\n",
      "In file included from \u001b[01m\u001b[K../../include/spatialindex/SpatialIndex.h:250\u001b[m\u001b[K:\n",
      "\u001b[01m\u001b[K../../include/spatialindex/MovingPoint.h:43:38:\u001b[m\u001b[K \u001b[01;36m\u001b[Knote: \u001b[m\u001b[K  by ‘\u001b[01m\u001b[Kvirtual SpatialIndex::MovingPoint& SpatialIndex::MovingPoint::\u001b[01;32m\u001b[Koperator=\u001b[m\u001b[K(const SpatialIndex::MovingPoint&)\u001b[m\u001b[K’\n",
      "   43 |                 virtual MovingPoint& \u001b[01;36m\u001b[Koperator\u001b[m\u001b[K=(const MovingPoint& p);\n",
      "      |                                      \u001b[01;36m\u001b[K^~~~~~~~\u001b[m\u001b[K\n",
      "\u001b[01m\u001b[K../../include/spatialindex/TimePoint.h:43:36:\u001b[m\u001b[K \u001b[01;35m\u001b[Kwarning: \u001b[m\u001b[K‘\u001b[01m\u001b[Kvirtual SpatialIndex::TimePoint& SpatialIndex::TimePoint::\u001b[01;32m\u001b[Koperator=\u001b[m\u001b[K(const SpatialIndex::TimePoint&)\u001b[m\u001b[K’ was hidden [\u001b[01;35m\u001b[K\u001b]8;;https://gcc.gnu.org/onlinedocs/gcc/Warning-Options.html#index-Woverloaded-virtual=\u0007-Woverloaded-virtual=\u001b]8;;\u0007\u001b[m\u001b[K]\n",
      "   43 |                 virtual TimePoint& \u001b[01;35m\u001b[Koperator\u001b[m\u001b[K=(const TimePoint& p);\n",
      "      |                                    \u001b[01;35m\u001b[K^~~~~~~~\u001b[m\u001b[K\n",
      "\u001b[01m\u001b[K../../include/spatialindex/MovingPoint.h:43:38:\u001b[m\u001b[K \u001b[01;36m\u001b[Knote: \u001b[m\u001b[K  by ‘\u001b[01m\u001b[Kvirtual SpatialIndex::MovingPoint& SpatialIndex::MovingPoint::\u001b[01;32m\u001b[Koperator=\u001b[m\u001b[K(const SpatialIndex::MovingPoint&)\u001b[m\u001b[K’\n",
      "   43 |                 virtual MovingPoint& \u001b[01;36m\u001b[Koperator\u001b[m\u001b[K=(const MovingPoint& p);\n",
      "      |                                      \u001b[01;36m\u001b[K^~~~~~~~\u001b[m\u001b[K\n",
      "\u001b[01m\u001b[K../../include/spatialindex/TimePoint.h:44:30:\u001b[m\u001b[K \u001b[01;35m\u001b[Kwarning: \u001b[m\u001b[K‘\u001b[01m\u001b[Kvirtual bool SpatialIndex::TimePoint::\u001b[01;32m\u001b[Koperator==\u001b[m\u001b[K(const SpatialIndex::TimePoint&) const\u001b[m\u001b[K’ was hidden [\u001b[01;35m\u001b[K\u001b]8;;https://gcc.gnu.org/onlinedocs/gcc/Warning-Options.html#index-Woverloaded-virtual=\u0007-Woverloaded-virtual=\u001b]8;;\u0007\u001b[m\u001b[K]\n",
      "   44 |                 virtual bool \u001b[01;35m\u001b[Koperator\u001b[m\u001b[K==(const TimePoint& p) const;\n",
      "      |                              \u001b[01;35m\u001b[K^~~~~~~~\u001b[m\u001b[K\n",
      "\u001b[01m\u001b[K../../include/spatialindex/MovingPoint.h:44:30:\u001b[m\u001b[K \u001b[01;36m\u001b[Knote: \u001b[m\u001b[K  by ‘\u001b[01m\u001b[Kvirtual bool SpatialIndex::MovingPoint::\u001b[01;32m\u001b[Koperator==\u001b[m\u001b[K(const SpatialIndex::MovingPoint&) const\u001b[m\u001b[K’\n",
      "   44 |                 virtual bool \u001b[01;36m\u001b[Koperator\u001b[m\u001b[K==(const MovingPoint& p) const;\n",
      "      |                              \u001b[01;36m\u001b[K^~~~~~~~\u001b[m\u001b[K\n",
      "\u001b[01m\u001b[K../../include/spatialindex/TimeRegion.h:88:43:\u001b[m\u001b[K \u001b[01;35m\u001b[Kwarning: \u001b[m\u001b[K‘\u001b[01m\u001b[Kvirtual Tools::IInterval& SpatialIndex::TimeRegion::\u001b[01;32m\u001b[Koperator=\u001b[m\u001b[K(const Tools::IInterval&)\u001b[m\u001b[K’ was hidden [\u001b[01;35m\u001b[K\u001b]8;;https://gcc.gnu.org/onlinedocs/gcc/Warning-Options.html#index-Woverloaded-virtual=\u0007-Woverloaded-virtual=\u001b]8;;\u0007\u001b[m\u001b[K]\n",
      "   88 |                 virtual Tools::IInterval& \u001b[01;35m\u001b[Koperator\u001b[m\u001b[K=(const Tools::IInterval&);\n",
      "      |                                           \u001b[01;35m\u001b[K^~~~~~~~\u001b[m\u001b[K\n",
      "In file included from \u001b[01m\u001b[K../../include/spatialindex/SpatialIndex.h:251\u001b[m\u001b[K:\n",
      "\u001b[01m\u001b[K../../include/spatialindex/MovingRegion.h:66:39:\u001b[m\u001b[K \u001b[01;36m\u001b[Knote: \u001b[m\u001b[K  by ‘\u001b[01m\u001b[Kvirtual SpatialIndex::MovingRegion& SpatialIndex::MovingRegion::\u001b[01;32m\u001b[Koperator=\u001b[m\u001b[K(const SpatialIndex::MovingRegion&)\u001b[m\u001b[K’\n",
      "   66 |                 virtual MovingRegion& \u001b[01;36m\u001b[Koperator\u001b[m\u001b[K=(const MovingRegion& r);\n",
      "      |                                       \u001b[01;36m\u001b[K^~~~~~~~\u001b[m\u001b[K\n",
      "\u001b[01m\u001b[K../../include/spatialindex/TimeRegion.h:46:37:\u001b[m\u001b[K \u001b[01;35m\u001b[Kwarning: \u001b[m\u001b[K‘\u001b[01m\u001b[Kvirtual SpatialIndex::TimeRegion& SpatialIndex::TimeRegion::\u001b[01;32m\u001b[Koperator=\u001b[m\u001b[K(const SpatialIndex::TimeRegion&)\u001b[m\u001b[K’ was hidden [\u001b[01;35m\u001b[K\u001b]8;;https://gcc.gnu.org/onlinedocs/gcc/Warning-Options.html#index-Woverloaded-virtual=\u0007-Woverloaded-virtual=\u001b]8;;\u0007\u001b[m\u001b[K]\n",
      "   46 |                 virtual TimeRegion& \u001b[01;35m\u001b[Koperator\u001b[m\u001b[K=(const TimeRegion& r);\n",
      "      |                                     \u001b[01;35m\u001b[K^~~~~~~~\u001b[m\u001b[K\n",
      "\u001b[01m\u001b[K../../include/spatialindex/MovingRegion.h:66:39:\u001b[m\u001b[K \u001b[01;36m\u001b[Knote: \u001b[m\u001b[K  by ‘\u001b[01m\u001b[Kvirtual SpatialIndex::MovingRegion& SpatialIndex::MovingRegion::\u001b[01;32m\u001b[Koperator=\u001b[m\u001b[K(const SpatialIndex::MovingRegion&)\u001b[m\u001b[K’\n",
      "   66 |                 virtual MovingRegion& \u001b[01;36m\u001b[Koperator\u001b[m\u001b[K=(const MovingRegion& r);\n",
      "      |                                       \u001b[01;36m\u001b[K^~~~~~~~\u001b[m\u001b[K\n",
      "\u001b[01m\u001b[K../../include/spatialindex/TimeRegion.h:47:30:\u001b[m\u001b[K \u001b[01;35m\u001b[Kwarning: \u001b[m\u001b[K‘\u001b[01m\u001b[Kvirtual bool SpatialIndex::TimeRegion::\u001b[01;32m\u001b[Koperator==\u001b[m\u001b[K(const SpatialIndex::TimeRegion&) const\u001b[m\u001b[K’ was hidden [\u001b[01;35m\u001b[K\u001b]8;;https://gcc.gnu.org/onlinedocs/gcc/Warning-Options.html#index-Woverloaded-virtual=\u0007-Woverloaded-virtual=\u001b]8;;\u0007\u001b[m\u001b[K]\n",
      "   47 |                 virtual bool \u001b[01;35m\u001b[Koperator\u001b[m\u001b[K==(const TimeRegion&) const;\n",
      "      |                              \u001b[01;35m\u001b[K^~~~~~~~\u001b[m\u001b[K\n",
      "\u001b[01m\u001b[K../../include/spatialindex/MovingRegion.h:67:30:\u001b[m\u001b[K \u001b[01;36m\u001b[Knote: \u001b[m\u001b[K  by ‘\u001b[01m\u001b[Kvirtual bool SpatialIndex::MovingRegion::\u001b[01;32m\u001b[Koperator==\u001b[m\u001b[K(const SpatialIndex::MovingRegion&) const\u001b[m\u001b[K’\n",
      "   67 |                 virtual bool \u001b[01;36m\u001b[Koperator\u001b[m\u001b[K==(const MovingRegion&) const;\n",
      "      |                              \u001b[01;36m\u001b[K^~~~~~~~\u001b[m\u001b[K\n",
      "depbase=`echo Generator.o | sed 's|[^/]*$|.deps/&|;s|\\.o$||'`;\\\n",
      "g++ -DPACKAGE_NAME=\\\"spatialindex\\\" -DPACKAGE_TARNAME=\\\"spatialindex-src\\\" -DPACKAGE_VERSION=\\\"1.8.5\\\" -DPACKAGE_STRING=\\\"spatialindex\\ 1.8.5\\\" -DPACKAGE_BUGREPORT=\\\"mhadji@gmail.com\\\" -DPACKAGE_URL=\\\"\\\" -DSTDC_HEADERS=1 -DHAVE_SYS_TYPES_H=1 -DHAVE_SYS_STAT_H=1 -DHAVE_STDLIB_H=1 -DHAVE_STRING_H=1 -DHAVE_MEMORY_H=1 -DHAVE_STRINGS_H=1 -DHAVE_INTTYPES_H=1 -DHAVE_STDINT_H=1 -DHAVE_UNISTD_H=1 -DHAVE_DLFCN_H=1 -DLT_OBJDIR=\\\".libs/\\\" -DPACKAGE=\\\"spatialindex-src\\\" -DVERSION=\\\"1.8.5\\\" -DHAVE_FCNTL_H=1 -DHAVE_UNISTD_H=1 -DHAVE_SYS_TYPES_H=1 -DHAVE_SYS_STAT_H=1 -DHAVE_PTHREAD_H=1 -DHAVE_SYS_RESOURCE_H=1 -DHAVE_SYS_TIME_H=1 -DHAVE_STDINT_H=1 -DHAVE_FEATURES_H=1 -DHAVE_GETTIMEOFDAY=1 -DHAVE_MEMSET=1 -DHAVE_MEMCPY=1 -DHAVE_BCOPY=1 -DHAVE_SRAND48=1 -I. -I../../include     -Wall -Wno-long-long -pedantic -std=c++98  -O2 -DNDEBUG -MT Generator.o -MD -MP -MF $depbase.Tpo -c -o Generator.o Generator.cc &&\\\n",
      "mv -f $depbase.Tpo $depbase.Po\n",
      "In file included from \u001b[01m\u001b[K../../include/spatialindex/SpatialIndex.h:245\u001b[m\u001b[K,\n",
      "                 from \u001b[01m\u001b[KRandomGenerator.h:49\u001b[m\u001b[K,\n",
      "                 from \u001b[01m\u001b[KGenerator.cc:33\u001b[m\u001b[K:\n",
      "\u001b[01m\u001b[K../../include/spatialindex/Point.h:42:32:\u001b[m\u001b[K \u001b[01;35m\u001b[Kwarning: \u001b[m\u001b[K‘\u001b[01m\u001b[Kvirtual SpatialIndex::Point& SpatialIndex::Point::\u001b[01;32m\u001b[Koperator=\u001b[m\u001b[K(const SpatialIndex::Point&)\u001b[m\u001b[K’ was hidden [\u001b[01;35m\u001b[K\u001b]8;;https://gcc.gnu.org/onlinedocs/gcc/Warning-Options.html#index-Woverloaded-virtual=\u0007-Woverloaded-virtual=\u001b]8;;\u0007\u001b[m\u001b[K]\n",
      "   42 |                 virtual Point& \u001b[01;35m\u001b[Koperator\u001b[m\u001b[K=(const Point& p);\n",
      "      |                                \u001b[01;35m\u001b[K^~~~~~~~\u001b[m\u001b[K\n",
      "In file included from \u001b[01m\u001b[K../../include/spatialindex/SpatialIndex.h:248\u001b[m\u001b[K:\n",
      "\u001b[01m\u001b[K../../include/spatialindex/TimePoint.h:75:43:\u001b[m\u001b[K \u001b[01;36m\u001b[Knote: \u001b[m\u001b[K  by ‘\u001b[01m\u001b[KSpatialIndex::TimePoint::operator=\u001b[m\u001b[K’\n",
      "   75 |                 virtual Tools::IInterval& \u001b[01;36m\u001b[Koperator\u001b[m\u001b[K=(const Tools::IInterval&);\n",
      "      |                                           \u001b[01;36m\u001b[K^~~~~~~~\u001b[m\u001b[K\n",
      "\u001b[01m\u001b[K../../include/spatialindex/Point.h:43:30:\u001b[m\u001b[K \u001b[01;35m\u001b[Kwarning: \u001b[m\u001b[K‘\u001b[01m\u001b[Kvirtual bool SpatialIndex::Point::\u001b[01;32m\u001b[Koperator==\u001b[m\u001b[K(const SpatialIndex::Point&) const\u001b[m\u001b[K’ was hidden [\u001b[01;35m\u001b[K\u001b]8;;https://gcc.gnu.org/onlinedocs/gcc/Warning-Options.html#index-Woverloaded-virtual=\u0007-Woverloaded-virtual=\u001b]8;;\u0007\u001b[m\u001b[K]\n",
      "   43 |                 virtual bool \u001b[01;35m\u001b[Koperator\u001b[m\u001b[K==(const Point& p) const;\n",
      "      |                              \u001b[01;35m\u001b[K^~~~~~~~\u001b[m\u001b[K\n",
      "\u001b[01m\u001b[K../../include/spatialindex/TimePoint.h:44:30:\u001b[m\u001b[K \u001b[01;36m\u001b[Knote: \u001b[m\u001b[K  by ‘\u001b[01m\u001b[Kvirtual bool SpatialIndex::TimePoint::\u001b[01;32m\u001b[Koperator==\u001b[m\u001b[K(const SpatialIndex::TimePoint&) const\u001b[m\u001b[K’\n",
      "   44 |                 virtual bool \u001b[01;36m\u001b[Koperator\u001b[m\u001b[K==(const TimePoint& p) const;\n",
      "      |                              \u001b[01;36m\u001b[K^~~~~~~~\u001b[m\u001b[K\n",
      "In file included from \u001b[01m\u001b[K../../include/spatialindex/SpatialIndex.h:246\u001b[m\u001b[K:\n",
      "\u001b[01m\u001b[K../../include/spatialindex/Region.h:41:33:\u001b[m\u001b[K \u001b[01;35m\u001b[Kwarning: \u001b[m\u001b[K‘\u001b[01m\u001b[Kvirtual SpatialIndex::Region& SpatialIndex::Region::\u001b[01;32m\u001b[Koperator=\u001b[m\u001b[K(const SpatialIndex::Region&)\u001b[m\u001b[K’ was hidden [\u001b[01;35m\u001b[K\u001b]8;;https://gcc.gnu.org/onlinedocs/gcc/Warning-Options.html#index-Woverloaded-virtual=\u0007-Woverloaded-virtual=\u001b]8;;\u0007\u001b[m\u001b[K]\n",
      "   41 |                 virtual Region& \u001b[01;35m\u001b[Koperator\u001b[m\u001b[K=(const Region& r);\n",
      "      |                                 \u001b[01;35m\u001b[K^~~~~~~~\u001b[m\u001b[K\n",
      "In file included from \u001b[01m\u001b[K../../include/spatialindex/SpatialIndex.h:249\u001b[m\u001b[K:\n",
      "\u001b[01m\u001b[K../../include/spatialindex/TimeRegion.h:88:43:\u001b[m\u001b[K \u001b[01;36m\u001b[Knote: \u001b[m\u001b[K  by ‘\u001b[01m\u001b[KSpatialIndex::TimeRegion::operator=\u001b[m\u001b[K’\n",
      "   88 |                 virtual Tools::IInterval& \u001b[01;36m\u001b[Koperator\u001b[m\u001b[K=(const Tools::IInterval&);\n",
      "      |                                           \u001b[01;36m\u001b[K^~~~~~~~\u001b[m\u001b[K\n",
      "\u001b[01m\u001b[K../../include/spatialindex/Region.h:42:30:\u001b[m\u001b[K \u001b[01;35m\u001b[Kwarning: \u001b[m\u001b[K‘\u001b[01m\u001b[Kvirtual bool SpatialIndex::Region::\u001b[01;32m\u001b[Koperator==\u001b[m\u001b[K(const SpatialIndex::Region&) const\u001b[m\u001b[K’ was hidden [\u001b[01;35m\u001b[K\u001b]8;;https://gcc.gnu.org/onlinedocs/gcc/Warning-Options.html#index-Woverloaded-virtual=\u0007-Woverloaded-virtual=\u001b]8;;\u0007\u001b[m\u001b[K]\n",
      "   42 |                 virtual bool \u001b[01;35m\u001b[Koperator\u001b[m\u001b[K==(const Region&) const;\n",
      "      |                              \u001b[01;35m\u001b[K^~~~~~~~\u001b[m\u001b[K\n",
      "\u001b[01m\u001b[K../../include/spatialindex/TimeRegion.h:47:30:\u001b[m\u001b[K \u001b[01;36m\u001b[Knote: \u001b[m\u001b[K  by ‘\u001b[01m\u001b[Kvirtual bool SpatialIndex::TimeRegion::\u001b[01;32m\u001b[Koperator==\u001b[m\u001b[K(const SpatialIndex::TimeRegion&) const\u001b[m\u001b[K’\n",
      "   47 |                 virtual bool \u001b[01;36m\u001b[Koperator\u001b[m\u001b[K==(const TimeRegion&) const;\n",
      "      |                              \u001b[01;36m\u001b[K^~~~~~~~\u001b[m\u001b[K\n",
      "\u001b[01m\u001b[K../../include/spatialindex/TimePoint.h:75:43:\u001b[m\u001b[K \u001b[01;35m\u001b[Kwarning: \u001b[m\u001b[K‘\u001b[01m\u001b[Kvirtual Tools::IInterval& SpatialIndex::TimePoint::\u001b[01;32m\u001b[Koperator=\u001b[m\u001b[K(const Tools::IInterval&)\u001b[m\u001b[K’ was hidden [\u001b[01;35m\u001b[K\u001b]8;;https://gcc.gnu.org/onlinedocs/gcc/Warning-Options.html#index-Woverloaded-virtual=\u0007-Woverloaded-virtual=\u001b]8;;\u0007\u001b[m\u001b[K]\n",
      "   75 |                 virtual Tools::IInterval& \u001b[01;35m\u001b[Koperator\u001b[m\u001b[K=(const Tools::IInterval&);\n",
      "      |                                           \u001b[01;35m\u001b[K^~~~~~~~\u001b[m\u001b[K\n",
      "In file included from \u001b[01m\u001b[K../../include/spatialindex/SpatialIndex.h:250\u001b[m\u001b[K:\n",
      "\u001b[01m\u001b[K../../include/spatialindex/MovingPoint.h:43:38:\u001b[m\u001b[K \u001b[01;36m\u001b[Knote: \u001b[m\u001b[K  by ‘\u001b[01m\u001b[Kvirtual SpatialIndex::MovingPoint& SpatialIndex::MovingPoint::\u001b[01;32m\u001b[Koperator=\u001b[m\u001b[K(const SpatialIndex::MovingPoint&)\u001b[m\u001b[K’\n",
      "   43 |                 virtual MovingPoint& \u001b[01;36m\u001b[Koperator\u001b[m\u001b[K=(const MovingPoint& p);\n",
      "      |                                      \u001b[01;36m\u001b[K^~~~~~~~\u001b[m\u001b[K\n",
      "\u001b[01m\u001b[K../../include/spatialindex/TimePoint.h:43:36:\u001b[m\u001b[K \u001b[01;35m\u001b[Kwarning: \u001b[m\u001b[K‘\u001b[01m\u001b[Kvirtual SpatialIndex::TimePoint& SpatialIndex::TimePoint::\u001b[01;32m\u001b[Koperator=\u001b[m\u001b[K(const SpatialIndex::TimePoint&)\u001b[m\u001b[K’ was hidden [\u001b[01;35m\u001b[K\u001b]8;;https://gcc.gnu.org/onlinedocs/gcc/Warning-Options.html#index-Woverloaded-virtual=\u0007-Woverloaded-virtual=\u001b]8;;\u0007\u001b[m\u001b[K]\n",
      "   43 |                 virtual TimePoint& \u001b[01;35m\u001b[Koperator\u001b[m\u001b[K=(const TimePoint& p);\n",
      "      |                                    \u001b[01;35m\u001b[K^~~~~~~~\u001b[m\u001b[K\n",
      "\u001b[01m\u001b[K../../include/spatialindex/MovingPoint.h:43:38:\u001b[m\u001b[K \u001b[01;36m\u001b[Knote: \u001b[m\u001b[K  by ‘\u001b[01m\u001b[Kvirtual SpatialIndex::MovingPoint& SpatialIndex::MovingPoint::\u001b[01;32m\u001b[Koperator=\u001b[m\u001b[K(const SpatialIndex::MovingPoint&)\u001b[m\u001b[K’\n",
      "   43 |                 virtual MovingPoint& \u001b[01;36m\u001b[Koperator\u001b[m\u001b[K=(const MovingPoint& p);\n",
      "      |                                      \u001b[01;36m\u001b[K^~~~~~~~\u001b[m\u001b[K\n",
      "\u001b[01m\u001b[K../../include/spatialindex/TimePoint.h:44:30:\u001b[m\u001b[K \u001b[01;35m\u001b[Kwarning: \u001b[m\u001b[K‘\u001b[01m\u001b[Kvirtual bool SpatialIndex::TimePoint::\u001b[01;32m\u001b[Koperator==\u001b[m\u001b[K(const SpatialIndex::TimePoint&) const\u001b[m\u001b[K’ was hidden [\u001b[01;35m\u001b[K\u001b]8;;https://gcc.gnu.org/onlinedocs/gcc/Warning-Options.html#index-Woverloaded-virtual=\u0007-Woverloaded-virtual=\u001b]8;;\u0007\u001b[m\u001b[K]\n",
      "   44 |                 virtual bool \u001b[01;35m\u001b[Koperator\u001b[m\u001b[K==(const TimePoint& p) const;\n",
      "      |                              \u001b[01;35m\u001b[K^~~~~~~~\u001b[m\u001b[K\n",
      "\u001b[01m\u001b[K../../include/spatialindex/MovingPoint.h:44:30:\u001b[m\u001b[K \u001b[01;36m\u001b[Knote: \u001b[m\u001b[K  by ‘\u001b[01m\u001b[Kvirtual bool SpatialIndex::MovingPoint::\u001b[01;32m\u001b[Koperator==\u001b[m\u001b[K(const SpatialIndex::MovingPoint&) const\u001b[m\u001b[K’\n",
      "   44 |                 virtual bool \u001b[01;36m\u001b[Koperator\u001b[m\u001b[K==(const MovingPoint& p) const;\n",
      "      |                              \u001b[01;36m\u001b[K^~~~~~~~\u001b[m\u001b[K\n",
      "\u001b[01m\u001b[K../../include/spatialindex/TimeRegion.h:88:43:\u001b[m\u001b[K \u001b[01;35m\u001b[Kwarning: \u001b[m\u001b[K‘\u001b[01m\u001b[Kvirtual Tools::IInterval& SpatialIndex::TimeRegion::\u001b[01;32m\u001b[Koperator=\u001b[m\u001b[K(const Tools::IInterval&)\u001b[m\u001b[K’ was hidden [\u001b[01;35m\u001b[K\u001b]8;;https://gcc.gnu.org/onlinedocs/gcc/Warning-Options.html#index-Woverloaded-virtual=\u0007-Woverloaded-virtual=\u001b]8;;\u0007\u001b[m\u001b[K]\n",
      "   88 |                 virtual Tools::IInterval& \u001b[01;35m\u001b[Koperator\u001b[m\u001b[K=(const Tools::IInterval&);\n",
      "      |                                           \u001b[01;35m\u001b[K^~~~~~~~\u001b[m\u001b[K\n",
      "In file included from \u001b[01m\u001b[K../../include/spatialindex/SpatialIndex.h:251\u001b[m\u001b[K:\n",
      "\u001b[01m\u001b[K../../include/spatialindex/MovingRegion.h:66:39:\u001b[m\u001b[K \u001b[01;36m\u001b[Knote: \u001b[m\u001b[K  by ‘\u001b[01m\u001b[Kvirtual SpatialIndex::MovingRegion& SpatialIndex::MovingRegion::\u001b[01;32m\u001b[Koperator=\u001b[m\u001b[K(const SpatialIndex::MovingRegion&)\u001b[m\u001b[K’\n",
      "   66 |                 virtual MovingRegion& \u001b[01;36m\u001b[Koperator\u001b[m\u001b[K=(const MovingRegion& r);\n",
      "      |                                       \u001b[01;36m\u001b[K^~~~~~~~\u001b[m\u001b[K\n",
      "\u001b[01m\u001b[K../../include/spatialindex/TimeRegion.h:46:37:\u001b[m\u001b[K \u001b[01;35m\u001b[Kwarning: \u001b[m\u001b[K‘\u001b[01m\u001b[Kvirtual SpatialIndex::TimeRegion& SpatialIndex::TimeRegion::\u001b[01;32m\u001b[Koperator=\u001b[m\u001b[K(const SpatialIndex::TimeRegion&)\u001b[m\u001b[K’ was hidden [\u001b[01;35m\u001b[K\u001b]8;;https://gcc.gnu.org/onlinedocs/gcc/Warning-Options.html#index-Woverloaded-virtual=\u0007-Woverloaded-virtual=\u001b]8;;\u0007\u001b[m\u001b[K]\n",
      "   46 |                 virtual TimeRegion& \u001b[01;35m\u001b[Koperator\u001b[m\u001b[K=(const TimeRegion& r);\n",
      "      |                                     \u001b[01;35m\u001b[K^~~~~~~~\u001b[m\u001b[K\n",
      "\u001b[01m\u001b[K../../include/spatialindex/MovingRegion.h:66:39:\u001b[m\u001b[K \u001b[01;36m\u001b[Knote: \u001b[m\u001b[K  by ‘\u001b[01m\u001b[Kvirtual SpatialIndex::MovingRegion& SpatialIndex::MovingRegion::\u001b[01;32m\u001b[Koperator=\u001b[m\u001b[K(const SpatialIndex::MovingRegion&)\u001b[m\u001b[K’\n",
      "   66 |                 virtual MovingRegion& \u001b[01;36m\u001b[Koperator\u001b[m\u001b[K=(const MovingRegion& r);\n",
      "      |                                       \u001b[01;36m\u001b[K^~~~~~~~\u001b[m\u001b[K\n",
      "\u001b[01m\u001b[K../../include/spatialindex/TimeRegion.h:47:30:\u001b[m\u001b[K \u001b[01;35m\u001b[Kwarning: \u001b[m\u001b[K‘\u001b[01m\u001b[Kvirtual bool SpatialIndex::TimeRegion::\u001b[01;32m\u001b[Koperator==\u001b[m\u001b[K(const SpatialIndex::TimeRegion&) const\u001b[m\u001b[K’ was hidden [\u001b[01;35m\u001b[K\u001b]8;;https://gcc.gnu.org/onlinedocs/gcc/Warning-Options.html#index-Woverloaded-virtual=\u0007-Woverloaded-virtual=\u001b]8;;\u0007\u001b[m\u001b[K]\n",
      "   47 |                 virtual bool \u001b[01;35m\u001b[Koperator\u001b[m\u001b[K==(const TimeRegion&) const;\n",
      "      |                              \u001b[01;35m\u001b[K^~~~~~~~\u001b[m\u001b[K\n",
      "\u001b[01m\u001b[K../../include/spatialindex/MovingRegion.h:67:30:\u001b[m\u001b[K \u001b[01;36m\u001b[Knote: \u001b[m\u001b[K  by ‘\u001b[01m\u001b[Kvirtual bool SpatialIndex::MovingRegion::\u001b[01;32m\u001b[Koperator==\u001b[m\u001b[K(const SpatialIndex::MovingRegion&) const\u001b[m\u001b[K’\n",
      "   67 |                 virtual bool \u001b[01;36m\u001b[Koperator\u001b[m\u001b[K==(const MovingRegion&) const;\n",
      "      |                              \u001b[01;36m\u001b[K^~~~~~~~\u001b[m\u001b[K\n",
      "/bin/bash ../../libtool  --tag=CXX   --mode=link g++  -Wall -Wno-long-long -pedantic -std=c++98  -O2 -DNDEBUG   -o Generator RandomGenerator.o Generator.o ../../libspatialindex.la -lpthread\n",
      "libtool: link: g++ -Wall -Wno-long-long -pedantic -std=c++98 -O2 -DNDEBUG -o .libs/Generator RandomGenerator.o Generator.o  ../../.libs/libspatialindex.so -lpthread\n",
      "depbase=`echo Exhaustive.o | sed 's|[^/]*$|.deps/&|;s|\\.o$||'`;\\\n",
      "g++ -DPACKAGE_NAME=\\\"spatialindex\\\" -DPACKAGE_TARNAME=\\\"spatialindex-src\\\" -DPACKAGE_VERSION=\\\"1.8.5\\\" -DPACKAGE_STRING=\\\"spatialindex\\ 1.8.5\\\" -DPACKAGE_BUGREPORT=\\\"mhadji@gmail.com\\\" -DPACKAGE_URL=\\\"\\\" -DSTDC_HEADERS=1 -DHAVE_SYS_TYPES_H=1 -DHAVE_SYS_STAT_H=1 -DHAVE_STDLIB_H=1 -DHAVE_STRING_H=1 -DHAVE_MEMORY_H=1 -DHAVE_STRINGS_H=1 -DHAVE_INTTYPES_H=1 -DHAVE_STDINT_H=1 -DHAVE_UNISTD_H=1 -DHAVE_DLFCN_H=1 -DLT_OBJDIR=\\\".libs/\\\" -DPACKAGE=\\\"spatialindex-src\\\" -DVERSION=\\\"1.8.5\\\" -DHAVE_FCNTL_H=1 -DHAVE_UNISTD_H=1 -DHAVE_SYS_TYPES_H=1 -DHAVE_SYS_STAT_H=1 -DHAVE_PTHREAD_H=1 -DHAVE_SYS_RESOURCE_H=1 -DHAVE_SYS_TIME_H=1 -DHAVE_STDINT_H=1 -DHAVE_FEATURES_H=1 -DHAVE_GETTIMEOFDAY=1 -DHAVE_MEMSET=1 -DHAVE_MEMCPY=1 -DHAVE_BCOPY=1 -DHAVE_SRAND48=1 -I. -I../../include     -Wall -Wno-long-long -pedantic -std=c++98  -O2 -DNDEBUG -MT Exhaustive.o -MD -MP -MF $depbase.Tpo -c -o Exhaustive.o Exhaustive.cc &&\\\n",
      "mv -f $depbase.Tpo $depbase.Po\n",
      "/bin/bash ../../libtool  --tag=CXX   --mode=link g++  -Wall -Wno-long-long -pedantic -std=c++98  -O2 -DNDEBUG   -o Exhaustive Exhaustive.o ../../libspatialindex.la -lpthread\n",
      "libtool: link: g++ -Wall -Wno-long-long -pedantic -std=c++98 -O2 -DNDEBUG -o .libs/Exhaustive Exhaustive.o  ../../.libs/libspatialindex.so -lpthread\n",
      "depbase=`echo TPRTreeLoad.o | sed 's|[^/]*$|.deps/&|;s|\\.o$||'`;\\\n",
      "g++ -DPACKAGE_NAME=\\\"spatialindex\\\" -DPACKAGE_TARNAME=\\\"spatialindex-src\\\" -DPACKAGE_VERSION=\\\"1.8.5\\\" -DPACKAGE_STRING=\\\"spatialindex\\ 1.8.5\\\" -DPACKAGE_BUGREPORT=\\\"mhadji@gmail.com\\\" -DPACKAGE_URL=\\\"\\\" -DSTDC_HEADERS=1 -DHAVE_SYS_TYPES_H=1 -DHAVE_SYS_STAT_H=1 -DHAVE_STDLIB_H=1 -DHAVE_STRING_H=1 -DHAVE_MEMORY_H=1 -DHAVE_STRINGS_H=1 -DHAVE_INTTYPES_H=1 -DHAVE_STDINT_H=1 -DHAVE_UNISTD_H=1 -DHAVE_DLFCN_H=1 -DLT_OBJDIR=\\\".libs/\\\" -DPACKAGE=\\\"spatialindex-src\\\" -DVERSION=\\\"1.8.5\\\" -DHAVE_FCNTL_H=1 -DHAVE_UNISTD_H=1 -DHAVE_SYS_TYPES_H=1 -DHAVE_SYS_STAT_H=1 -DHAVE_PTHREAD_H=1 -DHAVE_SYS_RESOURCE_H=1 -DHAVE_SYS_TIME_H=1 -DHAVE_STDINT_H=1 -DHAVE_FEATURES_H=1 -DHAVE_GETTIMEOFDAY=1 -DHAVE_MEMSET=1 -DHAVE_MEMCPY=1 -DHAVE_BCOPY=1 -DHAVE_SRAND48=1 -I. -I../../include     -Wall -Wno-long-long -pedantic -std=c++98  -O2 -DNDEBUG -MT TPRTreeLoad.o -MD -MP -MF $depbase.Tpo -c -o TPRTreeLoad.o TPRTreeLoad.cc &&\\\n",
      "mv -f $depbase.Tpo $depbase.Po\n",
      "/bin/bash ../../libtool  --tag=CXX   --mode=link g++  -Wall -Wno-long-long -pedantic -std=c++98  -O2 -DNDEBUG   -o TPRTreeLoad TPRTreeLoad.o ../../libspatialindex.la -lpthread\n",
      "libtool: link: g++ -Wall -Wno-long-long -pedantic -std=c++98 -O2 -DNDEBUG -o .libs/TPRTreeLoad TPRTreeLoad.o  ../../.libs/libspatialindex.so -lpthread\n",
      "depbase=`echo TPRTreeQuery.o | sed 's|[^/]*$|.deps/&|;s|\\.o$||'`;\\\n",
      "g++ -DPACKAGE_NAME=\\\"spatialindex\\\" -DPACKAGE_TARNAME=\\\"spatialindex-src\\\" -DPACKAGE_VERSION=\\\"1.8.5\\\" -DPACKAGE_STRING=\\\"spatialindex\\ 1.8.5\\\" -DPACKAGE_BUGREPORT=\\\"mhadji@gmail.com\\\" -DPACKAGE_URL=\\\"\\\" -DSTDC_HEADERS=1 -DHAVE_SYS_TYPES_H=1 -DHAVE_SYS_STAT_H=1 -DHAVE_STDLIB_H=1 -DHAVE_STRING_H=1 -DHAVE_MEMORY_H=1 -DHAVE_STRINGS_H=1 -DHAVE_INTTYPES_H=1 -DHAVE_STDINT_H=1 -DHAVE_UNISTD_H=1 -DHAVE_DLFCN_H=1 -DLT_OBJDIR=\\\".libs/\\\" -DPACKAGE=\\\"spatialindex-src\\\" -DVERSION=\\\"1.8.5\\\" -DHAVE_FCNTL_H=1 -DHAVE_UNISTD_H=1 -DHAVE_SYS_TYPES_H=1 -DHAVE_SYS_STAT_H=1 -DHAVE_PTHREAD_H=1 -DHAVE_SYS_RESOURCE_H=1 -DHAVE_SYS_TIME_H=1 -DHAVE_STDINT_H=1 -DHAVE_FEATURES_H=1 -DHAVE_GETTIMEOFDAY=1 -DHAVE_MEMSET=1 -DHAVE_MEMCPY=1 -DHAVE_BCOPY=1 -DHAVE_SRAND48=1 -I. -I../../include     -Wall -Wno-long-long -pedantic -std=c++98  -O2 -DNDEBUG -MT TPRTreeQuery.o -MD -MP -MF $depbase.Tpo -c -o TPRTreeQuery.o TPRTreeQuery.cc &&\\\n",
      "mv -f $depbase.Tpo $depbase.Po\n",
      "/bin/bash ../../libtool  --tag=CXX   --mode=link g++  -Wall -Wno-long-long -pedantic -std=c++98  -O2 -DNDEBUG   -o TPRTreeQuery TPRTreeQuery.o ../../libspatialindex.la -lpthread\n",
      "libtool: link: g++ -Wall -Wno-long-long -pedantic -std=c++98 -O2 -DNDEBUG -o .libs/TPRTreeQuery TPRTreeQuery.o  ../../.libs/libspatialindex.so -lpthread\n",
      "make[2]: Leaving directory '/home/joana/git/snow-walk-public/snow-walk-public/spatialindex-src-1.8.5/spatialindex-src-1.8.5/test/tprtree'\n",
      "make[2]: Entering directory '/home/joana/git/snow-walk-public/snow-walk-public/spatialindex-src-1.8.5/spatialindex-src-1.8.5/test'\n",
      "make[2]: Nothing to be done for 'all-am'.\n",
      "make[2]: Leaving directory '/home/joana/git/snow-walk-public/snow-walk-public/spatialindex-src-1.8.5/spatialindex-src-1.8.5/test'\n",
      "make[1]: Leaving directory '/home/joana/git/snow-walk-public/snow-walk-public/spatialindex-src-1.8.5/spatialindex-src-1.8.5/test'\n",
      "Making all in include\n",
      "make[1]: Entering directory '/home/joana/git/snow-walk-public/snow-walk-public/spatialindex-src-1.8.5/spatialindex-src-1.8.5/include'\n",
      "make[1]: Nothing to be done for 'all'.\n",
      "make[1]: Leaving directory '/home/joana/git/snow-walk-public/snow-walk-public/spatialindex-src-1.8.5/spatialindex-src-1.8.5/include'\n"
     ]
    }
   ],
   "source": [
    "!make"
   ]
  },
  {
   "cell_type": "code",
   "execution_count": 37,
   "metadata": {
    "id": "xfAlvjvIDKD9"
   },
   "outputs": [
    {
     "name": "stdout",
     "output_type": "stream",
     "text": [
      "Making install in src\n",
      "make[1]: Entering directory '/home/joana/git/snow-walk-public/snow-walk-public/spatialindex-src-1.8.5/spatialindex-src-1.8.5/src'\n",
      "Making install in storagemanager\n",
      "make[2]: Entering directory '/home/joana/git/snow-walk-public/snow-walk-public/spatialindex-src-1.8.5/spatialindex-src-1.8.5/src/storagemanager'\n",
      "make[3]: Entering directory '/home/joana/git/snow-walk-public/snow-walk-public/spatialindex-src-1.8.5/spatialindex-src-1.8.5/src/storagemanager'\n",
      "make[3]: Nothing to be done for 'install-exec-am'.\n",
      "make[3]: Nothing to be done for 'install-data-am'.\n",
      "make[3]: Leaving directory '/home/joana/git/snow-walk-public/snow-walk-public/spatialindex-src-1.8.5/spatialindex-src-1.8.5/src/storagemanager'\n",
      "make[2]: Leaving directory '/home/joana/git/snow-walk-public/snow-walk-public/spatialindex-src-1.8.5/spatialindex-src-1.8.5/src/storagemanager'\n",
      "Making install in spatialindex\n",
      "make[2]: Entering directory '/home/joana/git/snow-walk-public/snow-walk-public/spatialindex-src-1.8.5/spatialindex-src-1.8.5/src/spatialindex'\n",
      "make[3]: Entering directory '/home/joana/git/snow-walk-public/snow-walk-public/spatialindex-src-1.8.5/spatialindex-src-1.8.5/src/spatialindex'\n",
      "make[3]: Nothing to be done for 'install-exec-am'.\n",
      "make[3]: Nothing to be done for 'install-data-am'.\n",
      "make[3]: Leaving directory '/home/joana/git/snow-walk-public/snow-walk-public/spatialindex-src-1.8.5/spatialindex-src-1.8.5/src/spatialindex'\n",
      "make[2]: Leaving directory '/home/joana/git/snow-walk-public/snow-walk-public/spatialindex-src-1.8.5/spatialindex-src-1.8.5/src/spatialindex'\n",
      "Making install in rtree\n",
      "make[2]: Entering directory '/home/joana/git/snow-walk-public/snow-walk-public/spatialindex-src-1.8.5/spatialindex-src-1.8.5/src/rtree'\n",
      "make[3]: Entering directory '/home/joana/git/snow-walk-public/snow-walk-public/spatialindex-src-1.8.5/spatialindex-src-1.8.5/src/rtree'\n",
      "make[3]: Nothing to be done for 'install-exec-am'.\n",
      "make[3]: Nothing to be done for 'install-data-am'.\n",
      "make[3]: Leaving directory '/home/joana/git/snow-walk-public/snow-walk-public/spatialindex-src-1.8.5/spatialindex-src-1.8.5/src/rtree'\n",
      "make[2]: Leaving directory '/home/joana/git/snow-walk-public/snow-walk-public/spatialindex-src-1.8.5/spatialindex-src-1.8.5/src/rtree'\n",
      "Making install in mvrtree\n",
      "make[2]: Entering directory '/home/joana/git/snow-walk-public/snow-walk-public/spatialindex-src-1.8.5/spatialindex-src-1.8.5/src/mvrtree'\n",
      "make[3]: Entering directory '/home/joana/git/snow-walk-public/snow-walk-public/spatialindex-src-1.8.5/spatialindex-src-1.8.5/src/mvrtree'\n",
      "make[3]: Nothing to be done for 'install-exec-am'.\n",
      "make[3]: Nothing to be done for 'install-data-am'.\n",
      "make[3]: Leaving directory '/home/joana/git/snow-walk-public/snow-walk-public/spatialindex-src-1.8.5/spatialindex-src-1.8.5/src/mvrtree'\n",
      "make[2]: Leaving directory '/home/joana/git/snow-walk-public/snow-walk-public/spatialindex-src-1.8.5/spatialindex-src-1.8.5/src/mvrtree'\n",
      "Making install in tprtree\n",
      "make[2]: Entering directory '/home/joana/git/snow-walk-public/snow-walk-public/spatialindex-src-1.8.5/spatialindex-src-1.8.5/src/tprtree'\n",
      "make[3]: Entering directory '/home/joana/git/snow-walk-public/snow-walk-public/spatialindex-src-1.8.5/spatialindex-src-1.8.5/src/tprtree'\n",
      "make[3]: Nothing to be done for 'install-exec-am'.\n",
      "make[3]: Nothing to be done for 'install-data-am'.\n",
      "make[3]: Leaving directory '/home/joana/git/snow-walk-public/snow-walk-public/spatialindex-src-1.8.5/spatialindex-src-1.8.5/src/tprtree'\n",
      "make[2]: Leaving directory '/home/joana/git/snow-walk-public/snow-walk-public/spatialindex-src-1.8.5/spatialindex-src-1.8.5/src/tprtree'\n",
      "Making install in tools\n",
      "make[2]: Entering directory '/home/joana/git/snow-walk-public/snow-walk-public/spatialindex-src-1.8.5/spatialindex-src-1.8.5/src/tools'\n",
      "make[3]: Entering directory '/home/joana/git/snow-walk-public/snow-walk-public/spatialindex-src-1.8.5/spatialindex-src-1.8.5/src/tools'\n",
      "make[3]: Nothing to be done for 'install-exec-am'.\n",
      "make[3]: Nothing to be done for 'install-data-am'.\n",
      "make[3]: Leaving directory '/home/joana/git/snow-walk-public/snow-walk-public/spatialindex-src-1.8.5/spatialindex-src-1.8.5/src/tools'\n",
      "make[2]: Leaving directory '/home/joana/git/snow-walk-public/snow-walk-public/spatialindex-src-1.8.5/spatialindex-src-1.8.5/src/tools'\n",
      "Making install in capi\n",
      "make[2]: Entering directory '/home/joana/git/snow-walk-public/snow-walk-public/spatialindex-src-1.8.5/spatialindex-src-1.8.5/src/capi'\n",
      "make[3]: Entering directory '/home/joana/git/snow-walk-public/snow-walk-public/spatialindex-src-1.8.5/spatialindex-src-1.8.5/src/capi'\n",
      "make[3]: Nothing to be done for 'install-exec-am'.\n",
      "make[3]: Nothing to be done for 'install-data-am'.\n",
      "make[3]: Leaving directory '/home/joana/git/snow-walk-public/snow-walk-public/spatialindex-src-1.8.5/spatialindex-src-1.8.5/src/capi'\n",
      "make[2]: Leaving directory '/home/joana/git/snow-walk-public/snow-walk-public/spatialindex-src-1.8.5/spatialindex-src-1.8.5/src/capi'\n",
      "make[2]: Entering directory '/home/joana/git/snow-walk-public/snow-walk-public/spatialindex-src-1.8.5/spatialindex-src-1.8.5/src'\n",
      "make[3]: Entering directory '/home/joana/git/snow-walk-public/snow-walk-public/spatialindex-src-1.8.5/spatialindex-src-1.8.5/src'\n",
      "make[3]: Nothing to be done for 'install-exec-am'.\n",
      " /bin/mkdir -p '/usr/local/lib/pkgconfig'\n",
      " /bin/install -c -m 644 libspatialindex.pc '/usr/local/lib/pkgconfig'\n",
      "/bin/install: cannot create regular file '/usr/local/lib/pkgconfig/libspatialindex.pc': Permission denied\n",
      "make[3]: *** [Makefile:369: install-pkgconfigDATA] Error 1\n",
      "make[3]: Leaving directory '/home/joana/git/snow-walk-public/snow-walk-public/spatialindex-src-1.8.5/spatialindex-src-1.8.5/src'\n",
      "make[2]: *** [Makefile:557: install-am] Error 2\n",
      "make[2]: Leaving directory '/home/joana/git/snow-walk-public/snow-walk-public/spatialindex-src-1.8.5/spatialindex-src-1.8.5/src'\n",
      "make[1]: *** [Makefile:396: install-recursive] Error 1\n",
      "make[1]: Leaving directory '/home/joana/git/snow-walk-public/snow-walk-public/spatialindex-src-1.8.5/spatialindex-src-1.8.5/src'\n",
      "make: *** [Makefile:523: install-recursive] Error 1\n"
     ]
    }
   ],
   "source": [
    "!make install"
   ]
  },
  {
   "cell_type": "code",
   "execution_count": 38,
   "metadata": {
    "id": "brpHbyoxDpKx"
   },
   "outputs": [
    {
     "name": "stdout",
     "output_type": "stream",
     "text": [
      "\tlibspatialindex_c.so.6 (libc6,x86-64) => /lib/x86_64-linux-gnu/libspatialindex_c.so.6\n",
      "\tlibspatialindex_c.so (libc6,x86-64) => /lib/x86_64-linux-gnu/libspatialindex_c.so\n",
      "\tlibspatialindex.so.6 (libc6,x86-64) => /lib/x86_64-linux-gnu/libspatialindex.so.6\n",
      "\tlibspatialindex.so (libc6,x86-64) => /lib/x86_64-linux-gnu/libspatialindex.so\n"
     ]
    }
   ],
   "source": [
    "!ldconfig -p | grep spatialindex"
   ]
  },
  {
   "cell_type": "code",
   "execution_count": 39,
   "metadata": {
    "id": "8m6xBYFCE0rN"
   },
   "outputs": [
    {
     "name": "stdout",
     "output_type": "stream",
     "text": [
      "E: Could not open lock file /var/lib/dpkg/lock-frontend - open (13: Permission denied)\n",
      "E: Unable to acquire the dpkg frontend lock (/var/lib/dpkg/lock-frontend), are you root?\n"
     ]
    }
   ],
   "source": [
    "! apt-get install -y libspatialindex-dev"
   ]
  },
  {
   "cell_type": "code",
   "execution_count": 40,
   "metadata": {
    "id": "AhIhDHYPpLuq",
    "scrolled": true
   },
   "outputs": [
    {
     "name": "stdout",
     "output_type": "stream",
     "text": [
      "Collecting rtree\n",
      "  Downloading rtree-1.4.0-py3-none-manylinux2014_x86_64.manylinux_2_17_x86_64.whl.metadata (2.1 kB)\n",
      "Downloading rtree-1.4.0-py3-none-manylinux2014_x86_64.manylinux_2_17_x86_64.whl (541 kB)\n",
      "\u001b[2K   \u001b[38;2;114;156;31m━━━━━━━━━━━━━━━━━━━━━━━━━━━━━━━━━━━━━━━━\u001b[0m \u001b[32m541.1/541.1 kB\u001b[0m \u001b[31m4.9 MB/s\u001b[0m eta \u001b[36m0:00:00\u001b[0m\n",
      "\u001b[?25hInstalling collected packages: rtree\n",
      "Successfully installed rtree-1.4.0\n",
      "Collecting pygeos\n",
      "  Downloading pygeos-0.14.tar.gz (141 kB)\n",
      "  Installing build dependencies ... \u001b[?25ldone\n",
      "\u001b[?25h  Getting requirements to build wheel ... \u001b[?25lerror\n",
      "  \u001b[1;31merror\u001b[0m: \u001b[1msubprocess-exited-with-error\u001b[0m\n",
      "  \n",
      "  \u001b[31m×\u001b[0m \u001b[32mGetting requirements to build wheel\u001b[0m did not run successfully.\n",
      "  \u001b[31m│\u001b[0m exit code: \u001b[1;36m1\u001b[0m\n",
      "  \u001b[31m╰─>\u001b[0m \u001b[31m[34 lines of output]\u001b[0m\n",
      "  \u001b[31m   \u001b[0m <string>:8: UserWarning: pkg_resources is deprecated as an API. See https://setuptools.pypa.io/en/latest/pkg_resources.html. The pkg_resources package is slated for removal as early as 2025-11-30. Refrain from using this package or pin to Setuptools<81.\n",
      "  \u001b[31m   \u001b[0m /tmp/pip-install-8img504c/pygeos_0b5fd00e91c84f2fa5c9463aa67d8071/versioneer.py:421: SyntaxWarning: invalid escape sequence '\\s'\n",
      "  \u001b[31m   \u001b[0m   LONG_VERSION_PY['git'] = '''\n",
      "  \u001b[31m   \u001b[0m Compiling pygeos/_geometry.pyx because it changed.\n",
      "  \u001b[31m   \u001b[0m Compiling pygeos/_geos.pyx because it changed.\n",
      "  \u001b[31m   \u001b[0m [1/2] Cythonizing pygeos/_geometry.pyx\n",
      "  \u001b[31m   \u001b[0m [2/2] Cythonizing pygeos/_geos.pyx\n",
      "  \u001b[31m   \u001b[0m Traceback (most recent call last):\n",
      "  \u001b[31m   \u001b[0m   File \"/home/joana/git/snow-walk-public/lib/python3.12/site-packages/pip/_vendor/pyproject_hooks/_in_process/_in_process.py\", line 389, in <module>\n",
      "  \u001b[31m   \u001b[0m     main()\n",
      "  \u001b[31m   \u001b[0m   File \"/home/joana/git/snow-walk-public/lib/python3.12/site-packages/pip/_vendor/pyproject_hooks/_in_process/_in_process.py\", line 373, in main\n",
      "  \u001b[31m   \u001b[0m     json_out[\"return_val\"] = hook(**hook_input[\"kwargs\"])\n",
      "  \u001b[31m   \u001b[0m                              ^^^^^^^^^^^^^^^^^^^^^^^^^^^^\n",
      "  \u001b[31m   \u001b[0m   File \"/home/joana/git/snow-walk-public/lib/python3.12/site-packages/pip/_vendor/pyproject_hooks/_in_process/_in_process.py\", line 143, in get_requires_for_build_wheel\n",
      "  \u001b[31m   \u001b[0m     return hook(config_settings)\n",
      "  \u001b[31m   \u001b[0m            ^^^^^^^^^^^^^^^^^^^^^\n",
      "  \u001b[31m   \u001b[0m   File \"/tmp/pip-build-env-mvlh9won/overlay/lib/python3.12/site-packages/setuptools/build_meta.py\", line 331, in get_requires_for_build_wheel\n",
      "  \u001b[31m   \u001b[0m     return self._get_build_requires(config_settings, requirements=[])\n",
      "  \u001b[31m   \u001b[0m            ^^^^^^^^^^^^^^^^^^^^^^^^^^^^^^^^^^^^^^^^^^^^^^^^^^^^^^^^^^\n",
      "  \u001b[31m   \u001b[0m   File \"/tmp/pip-build-env-mvlh9won/overlay/lib/python3.12/site-packages/setuptools/build_meta.py\", line 301, in _get_build_requires\n",
      "  \u001b[31m   \u001b[0m     self.run_setup()\n",
      "  \u001b[31m   \u001b[0m   File \"/tmp/pip-build-env-mvlh9won/overlay/lib/python3.12/site-packages/setuptools/build_meta.py\", line 317, in run_setup\n",
      "  \u001b[31m   \u001b[0m     exec(code, locals())\n",
      "  \u001b[31m   \u001b[0m   File \"<string>\", line 214, in <module>\n",
      "  \u001b[31m   \u001b[0m   File \"/tmp/pip-install-8img504c/pygeos_0b5fd00e91c84f2fa5c9463aa67d8071/versioneer.py\", line 1480, in get_version\n",
      "  \u001b[31m   \u001b[0m     return get_versions()[\"version\"]\n",
      "  \u001b[31m   \u001b[0m            ^^^^^^^^^^^^^^\n",
      "  \u001b[31m   \u001b[0m   File \"/tmp/pip-install-8img504c/pygeos_0b5fd00e91c84f2fa5c9463aa67d8071/versioneer.py\", line 1412, in get_versions\n",
      "  \u001b[31m   \u001b[0m     cfg = get_config_from_root(root)\n",
      "  \u001b[31m   \u001b[0m           ^^^^^^^^^^^^^^^^^^^^^^^^^^\n",
      "  \u001b[31m   \u001b[0m   File \"/tmp/pip-install-8img504c/pygeos_0b5fd00e91c84f2fa5c9463aa67d8071/versioneer.py\", line 342, in get_config_from_root\n",
      "  \u001b[31m   \u001b[0m     parser = configparser.SafeConfigParser()\n",
      "  \u001b[31m   \u001b[0m              ^^^^^^^^^^^^^^^^^^^^^^^^^^^^^\n",
      "  \u001b[31m   \u001b[0m AttributeError: module 'configparser' has no attribute 'SafeConfigParser'. Did you mean: 'RawConfigParser'?\n",
      "  \u001b[31m   \u001b[0m \u001b[31m[end of output]\u001b[0m\n",
      "  \n",
      "  \u001b[1;35mnote\u001b[0m: This error originates from a subprocess, and is likely not a problem with pip.\n",
      "\u001b[1;31merror\u001b[0m: \u001b[1msubprocess-exited-with-error\u001b[0m\n",
      "\n",
      "\u001b[31m×\u001b[0m \u001b[32mGetting requirements to build wheel\u001b[0m did not run successfully.\n",
      "\u001b[31m│\u001b[0m exit code: \u001b[1;36m1\u001b[0m\n",
      "\u001b[31m╰─>\u001b[0m See above for output.\n",
      "\n",
      "\u001b[1;35mnote\u001b[0m: This error originates from a subprocess, and is likely not a problem with pip.\n",
      "\u001b[?25h"
     ]
    }
   ],
   "source": [
    "# We are going to overlay the deaths with the new layer, using the intersect function\n",
    "\n",
    "# Install the required packages\n",
    "!pip install rtree\n",
    "!pip install pygeos"
   ]
  },
  {
   "cell_type": "markdown",
   "metadata": {
    "id": "pm-DCCoHpLuq"
   },
   "source": [
    "![](https://geopandas.org/_images/overlay_operations.png)"
   ]
  },
  {
   "cell_type": "markdown",
   "metadata": {
    "id": "VFP2hYQJpLuq"
   },
   "source": [
    "We want to find all the cholera deaths, which **intersect** the pumps buffer."
   ]
  },
  {
   "cell_type": "code",
   "execution_count": 41,
   "metadata": {
    "id": "VjepylqUGJWT"
   },
   "outputs": [],
   "source": [
    "from rtree import index\n",
    "from rtree.index import Rtree"
   ]
  },
  {
   "cell_type": "code",
   "execution_count": 42,
   "metadata": {
    "id": "n0IJKSH7pLur"
   },
   "outputs": [],
   "source": [
    "intersect = geopandas.overlay(Cholera_Deaths, pumps2, how='intersection')"
   ]
  },
  {
   "cell_type": "code",
   "execution_count": null,
   "metadata": {
    "id": "wjs1JJnapLur"
   },
   "outputs": [],
   "source": [
    "intersect.plot()"
   ]
  },
  {
   "cell_type": "code",
   "execution_count": null,
   "metadata": {
    "id": "tsMeEfp7FM7P"
   },
   "outputs": [],
   "source": [
    "intersect"
   ]
  },
  {
   "cell_type": "markdown",
   "metadata": {
    "id": "WBVeyaAuHjAI"
   },
   "source": [
    "Now prepare the results for Kaggle"
   ]
  },
  {
   "cell_type": "code",
   "execution_count": null,
   "metadata": {
    "id": "CFTh0NWEHzRm"
   },
   "outputs": [],
   "source": [
    "# 1 - Groupby Id_2, suming the reported cases."
   ]
  },
  {
   "cell_type": "code",
   "execution_count": null,
   "metadata": {
    "id": "_M_0thw2H5CU"
   },
   "outputs": [],
   "source": [
    "# 2 - Check the results"
   ]
  },
  {
   "cell_type": "code",
   "execution_count": null,
   "metadata": {
    "id": "Lp-DRIaNIARw"
   },
   "outputs": [],
   "source": [
    "# 3 - drop Id_1 column (we only need the ID of the pumps and the count)"
   ]
  },
  {
   "cell_type": "code",
   "execution_count": null,
   "metadata": {
    "id": "1KY-84I0IE6N"
   },
   "outputs": [],
   "source": [
    "# 4 - export the results\n",
    "\n",
    "\n",
    "# Now remember to add the other pumps which contained zero cases!"
   ]
  },
  {
   "cell_type": "code",
   "execution_count": null,
   "metadata": {
    "id": "xRJF2VpHIJTi"
   },
   "outputs": [],
   "source": [
    "# 5 - Submit the results to the Kaggle competition:\n",
    "# https://www.kaggle.com/competitions/snow-cholera-analysis"
   ]
  },
  {
   "cell_type": "code",
   "execution_count": null,
   "metadata": {
    "id": "4QYcAyFdpLut"
   },
   "outputs": [],
   "source": [
    "fig, ax = plt.subplots(figsize=(40, 20))\n",
    "ax.set_aspect('equal')\n",
    "ax.set_title(\"Colera Deaths within 50m of a pump\", fontsize= 30);\n",
    "pumps.plot(ax=ax, alpha=0.2, marker='o', color='blue', markersize=100)\n",
    "\n",
    "intersect.plot(ax=ax, marker='P', color='black', markersize=50)\n",
    "\n",
    "src = rasterio.open(\"https://data-deposit.s3.eu-central-1.amazonaws.com/snow-walk/SnowDSM50CM.tif\")\n",
    "show(src, cmap='Greys', ax=ax)\n",
    "\n",
    "plt.show();\n"
   ]
  },
  {
   "cell_type": "code",
   "execution_count": null,
   "metadata": {
    "id": "SM9oO4wVpLuu"
   },
   "outputs": [],
   "source": [
    "# Save this, to put it into a report :-)\n",
    "fig.savefig('plot.png')"
   ]
  },
  {
   "cell_type": "code",
   "execution_count": null,
   "metadata": {
    "id": "lvOkP6EApLuv"
   },
   "outputs": [],
   "source": [
    "# We could add a context tile map\n",
    "!pip install contextily\n",
    "import contextily as ctx"
   ]
  },
  {
   "cell_type": "markdown",
   "metadata": {
    "id": "_M5m3pH2pLuw"
   },
   "source": [
    "https://leaflet-extras.github.io/leaflet-providers/preview/"
   ]
  },
  {
   "cell_type": "code",
   "execution_count": null,
   "metadata": {
    "id": "xNXZ7k_opLuw"
   },
   "outputs": [],
   "source": [
    "# Reproject the layers to show them on the map\n",
    "intersect = intersect.to_crs(epsg=3857)\n",
    "pumps = pumps.to_crs(epsg=3857)\n",
    "\n",
    "fig, ax = plt.subplots(figsize=(20, 10))\n",
    "ax.set_aspect('equal')\n",
    "ax.set_title(\"Colera Deaths within 50m of a Water Pump\", fontsize= 30);\n",
    "pumps.plot(ax=ax, alpha=0.2, marker='o', color='blue', markersize=100)\n",
    "\n",
    "intersect.plot(ax=ax, marker='P', color='red', markersize=50)\n",
    "\n",
    "# Add your API key to the desired style from contextily providers\n",
    "# provider = ctx.providers.Stadia.StamenWatercolor(api_key=\"YOUR-API-KEY\")\n",
    "\n",
    "# Update the provider URL to include your API key\n",
    "# provider[\"url\"] = provider[\"url\"] + \"?api_key={api_key}\"\n",
    "\n",
    "#ctx.add_basemap(ax, source=provider)\n",
    "\n",
    "ctx.add_basemap(ax, source=ctx.providers.OpenStreetMap.Mapnik)\n",
    "\n",
    "plt.show();\n",
    "\n",
    "# Use stadia maps with contextily https://docs.stadiamaps.com/tutorials/getting-started-with-geopandas-contextily/"
   ]
  },
  {
   "cell_type": "markdown",
   "metadata": {
    "id": "BFPxhZJXooeT"
   },
   "source": [
    "## Voronoi Diagrams"
   ]
  },
  {
   "cell_type": "markdown",
   "metadata": {
    "id": "rmoTNo8ko07u"
   },
   "source": [
    "The buffers are useful to tell us which cases are within certain absolute distance of a water pump, but they don't tell us to which water pump, all the other cases outside the buffers are going. They certainly muts be getting their water somewhere!\n",
    "\n",
    "A Voronoi diagram is a visualisation of an area partitioned into regions that minimise the distance to given point locations. These diagrams are also known variously as Voronoi tessellations, Dirichlet tessellation and Thiessen polygons. An example is shown below.\n",
    "\n",
    "![](https://raw.githubusercontent.com/jamesdamillington/john-snow/deeced0847898db1f7bff2f62565235833b9f449/data/img/Euclidean_Voronoi_diagram.png)\n",
    "\n",
    "Voronoi diagrams are constructed using a similar method to buffers around points (see Operations notebook), but ensure that there are no overlaps between polygons. Voronoi digrams are also useful for thinking about spatial neighbourhoods. There are numerous processes Voronoi diagrams have been used to investigate."
   ]
  },
  {
   "cell_type": "code",
   "execution_count": null,
   "metadata": {
    "id": "FkqFkKnNpN-h"
   },
   "outputs": [],
   "source": [
    "!pip install shapely"
   ]
  },
  {
   "cell_type": "code",
   "execution_count": null,
   "metadata": {
    "id": "W2cWHngzpVwn"
   },
   "outputs": [],
   "source": [
    "!pip install libpysal\n",
    "from libpysal.cg.voronoi import voronoi, voronoi_frames\n",
    "import numpy as np"
   ]
  },
  {
   "cell_type": "code",
   "execution_count": null,
   "metadata": {
    "id": "yla6hsDcpe4s"
   },
   "outputs": [],
   "source": [
    "pumps = geopandas.read_file(\"https://data-deposit.s3.eu-central-1.amazonaws.com/snow-walk/Pumps.shp\")\n",
    "blocks = geopandas.read_file('https://data-deposit.s3.eu-central-1.amazonaws.com/snow-walk/polys.shp')"
   ]
  },
  {
   "cell_type": "code",
   "execution_count": null,
   "metadata": {
    "id": "B77y4RPJpsAV"
   },
   "outputs": [],
   "source": [
    "#extract the geometry into a numerical field\n",
    "pumps['x'] = pumps['geometry'].x\n",
    "pumps['y'] = pumps['geometry'].y"
   ]
  },
  {
   "cell_type": "code",
   "execution_count": null,
   "metadata": {
    "id": "KP5kAselpwMc"
   },
   "outputs": [],
   "source": [
    "pumps"
   ]
  },
  {
   "cell_type": "code",
   "execution_count": null,
   "metadata": {
    "id": "Nq2PwzIip0o2"
   },
   "outputs": [],
   "source": [
    "#stack arrays in sequence vertically (row wise)\n",
    "points = np.vstack([pumps['x'], pumps['y']]).T"
   ]
  },
  {
   "cell_type": "code",
   "execution_count": null,
   "metadata": {
    "id": "erikgtKVp71c"
   },
   "outputs": [],
   "source": [
    "points"
   ]
  },
  {
   "cell_type": "code",
   "execution_count": null,
   "metadata": {
    "id": "0Mn5koBLp_56"
   },
   "outputs": [],
   "source": [
    "regions_df_noclip, vertices_df_noclip = voronoi_frames(points, clip='none')"
   ]
  },
  {
   "cell_type": "code",
   "execution_count": null,
   "metadata": {
    "id": "DusKjdk2qDxP"
   },
   "outputs": [],
   "source": [
    "regions_df_noclip"
   ]
  },
  {
   "cell_type": "code",
   "execution_count": null,
   "metadata": {
    "id": "03HGfbVwqHDP"
   },
   "outputs": [],
   "source": [
    "vertices_df_noclip"
   ]
  },
  {
   "cell_type": "code",
   "execution_count": null,
   "metadata": {
    "id": "GDFuYzJlqOJo"
   },
   "outputs": [],
   "source": [
    "f, ax = plt.subplots(1, figsize=(9, 9))\n",
    "\n",
    "ax.set_xlim(blocks.total_bounds[0],blocks.total_bounds[2])   #use bounding box of blocks\n",
    "ax.set_ylim(blocks.total_bounds[1],blocks.total_bounds[3])   #use bounding box of blocks\n",
    "\n",
    "Cholera_Deaths.plot(ax=ax, marker='o', color='blue', markersize=10)\n",
    "blocks.plot(ax=ax, facecolor='0.9', linewidth=0)\n",
    "regions_df_noclip.plot(ax=ax, color='lightblue',edgecolor='black', alpha=0.3)\n",
    "vertices_df_noclip.plot(ax=ax, color='red')"
   ]
  },
  {
   "cell_type": "code",
   "execution_count": null,
   "metadata": {
    "id": "ZXQJdl2IqRFi"
   },
   "outputs": [],
   "source": [
    "regions_df_noclip['ID'] = range(0, len(regions_df_noclip))"
   ]
  },
  {
   "cell_type": "code",
   "execution_count": null,
   "metadata": {
    "id": "pkptf5WSqW5q"
   },
   "outputs": [],
   "source": [
    "regions_df_noclip = regions_df_noclip.set_geometry('geometry')"
   ]
  },
  {
   "cell_type": "code",
   "execution_count": null,
   "metadata": {
    "id": "4c-1XCf3qaG5"
   },
   "outputs": [],
   "source": [
    "f, ax = plt.subplots(1, figsize=(9, 9))\n",
    "ax.set_xlim(blocks.total_bounds[0],blocks.total_bounds[2])   #use bounding box of blocks\n",
    "ax.set_ylim(blocks.total_bounds[1],blocks.total_bounds[3])   #use bounding box of blocks\n",
    "blocks.plot(ax=ax, facecolor='0.9', linewidth=0)\n",
    "\n",
    "Cholera_Deaths.plot(ax=ax, marker='o', color='black', markersize=10)\n",
    "#use column here with a colourmap\n",
    "regions_df_noclip.plot(ax=ax, column='ID', cmap='Set1', edgecolor='black', alpha=0.3)\n",
    "vertices_df_noclip.plot(ax=ax, color='red')"
   ]
  },
  {
   "cell_type": "markdown",
   "metadata": {
    "id": "3Xbwr5ZnpLuz"
   },
   "source": [
    "## References\n",
    "\n",
    "V. Olaya. Introduction to GIS. CreateSpace Independent Publishing Platform, 2018.\n",
    "https://volaya.github.io/gis-book/en/index.html\n",
    "\n",
    "### Spatial reference systems\n",
    "\n",
    "https://spatialreference.org/\n",
    "\n",
    "https://store.usgs.gov/assets/mod/storefiles/PDF/16573.pdf\n",
    "\n",
    "### John Snow & Classics\n",
    "\n",
    "http://blog.rtwilson.com/john-snows-cholera-data-in-more-formats/\n",
    "\n",
    "https://www.theguardian.com/news/datablog/2013/mar/15/john-snow-cholera-map#data\n",
    "\n",
    "### Thematic Cartography\n",
    "\n",
    "www.geog.ucsb.edu/~kclarke/Geography183/Lecture03.pdf\n",
    "\n",
    "http://www.gitta.info/ThematicCart/en/html/index.html\n",
    "\n",
    "https://www.axismaps.com/guide/\n",
    "\n",
    "https://www.axismaps.com/guide/univariate/choropleth/\n",
    "\n",
    "https://www.axismaps.com/guide/data/data-classification/\n"
   ]
  },
  {
   "cell_type": "code",
   "execution_count": null,
   "metadata": {
    "id": "-Uz7pzeRpLu0"
   },
   "outputs": [],
   "source": []
  },
  {
   "cell_type": "code",
   "execution_count": null,
   "metadata": {},
   "outputs": [],
   "source": []
  }
 ],
 "metadata": {
  "colab": {
   "provenance": [
    {
     "file_id": "1J4_K9zt47_VC616gEiM2BoUFX8Y33BLB",
     "timestamp": 1717755729630
    }
   ]
  },
  "kernelspec": {
   "display_name": "Python 3 (ipykernel)",
   "language": "python",
   "name": "python3"
  },
  "language_info": {
   "codemirror_mode": {
    "name": "ipython",
    "version": 3
   },
   "file_extension": ".py",
   "mimetype": "text/x-python",
   "name": "python",
   "nbconvert_exporter": "python",
   "pygments_lexer": "ipython3",
   "version": "3.12.3"
  }
 },
 "nbformat": 4,
 "nbformat_minor": 4
}
